{
 "cells": [
  {
   "cell_type": "markdown",
   "id": "b59efcd3-fea7-4ff1-9b7a-cd758c06c2fa",
   "metadata": {},
   "source": [
    "# Simulation-based model interpretation with gReLU"
   ]
  },
  {
   "cell_type": "markdown",
   "id": "c0857358-dfba-4c1e-b40a-6a6ce7d0580f",
   "metadata": {},
   "source": [
    "This tutorial demonstrates some of gReLU's functions for making predictions on simulated genomic sequences with specific properties. This allows us to decipher the regulatory grammar and syntax learned by a model."
   ]
  },
  {
   "cell_type": "code",
   "execution_count": 1,
   "id": "aaef40d1-cc4a-4cbf-b5a2-34bb2da9521e",
   "metadata": {},
   "outputs": [],
   "source": [
    "import os\n",
    "import numpy as np\n",
    "import pandas as pd\n",
    "\n",
    "from plotnine import *\n",
    "import seaborn as sns\n",
    "\n",
    "%matplotlib inline\n",
    "os.environ[\"WANDB_SILENT\"] = \"true\""
   ]
  },
  {
   "cell_type": "markdown",
   "id": "a9103029-7315-4588-b39a-9258fd9e28f3",
   "metadata": {},
   "source": [
    "First we demonstrate some simple functions using the CATLAS binary classification model. We begin by loading the model from the model zoo:"
   ]
  },
  {
   "cell_type": "code",
   "execution_count": 2,
   "id": "6b306c4c-6157-44a7-879a-a3440757beb6",
   "metadata": {
    "scrolled": true
   },
   "outputs": [
    {
     "name": "stderr",
     "output_type": "stream",
     "text": [
      "/opt/conda/lib/python3.11/site-packages/tqdm/auto.py:21: TqdmWarning: IProgress not found. Please update jupyter and ipywidgets. See https://ipywidgets.readthedocs.io/en/stable/user_install.html\n",
      "/opt/conda/lib/python3.11/site-packages/lightning_fabric/utilities/cloud_io.py:57: You are using `torch.load` with `weights_only=False` (the current default value), which uses the default pickle module implicitly. It is possible to construct malicious pickle data which will execute arbitrary code during unpickling (See https://github.com/pytorch/pytorch/blob/main/SECURITY.md#untrusted-models for more details). In a future release, the default value for `weights_only` will be flipped to `True`. This limits the functions that could be executed during unpickling. Arbitrary objects will no longer be allowed to be loaded via this mode unless they are explicitly allowlisted by the user via `torch.serialization.add_safe_globals`. We recommend you start setting `weights_only=True` for any use case where you don't have full control of the loaded file. Please open an issue on GitHub for any issues related to this experimental feature.\n",
      "/opt/conda/lib/python3.11/site-packages/pytorch_lightning/utilities/migration/utils.py:56: The loaded checkpoint was produced with Lightning v2.5.0.post0, which is newer than your current Lightning version: v2.3.3\n",
      "/opt/conda/lib/python3.11/site-packages/grelu/model/models.py:771: FutureWarning: You are using `torch.load` with `weights_only=False` (the current default value), which uses the default pickle module implicitly. It is possible to construct malicious pickle data which will execute arbitrary code during unpickling (See https://github.com/pytorch/pytorch/blob/main/SECURITY.md#untrusted-models for more details). In a future release, the default value for `weights_only` will be flipped to `True`. This limits the functions that could be executed during unpickling. Arbitrary objects will no longer be allowed to be loaded via this mode unless they are explicitly allowlisted by the user via `torch.serialization.add_safe_globals`. We recommend you start setting `weights_only=True` for any use case where you don't have full control of the loaded file. Please open an issue on GitHub for any issues related to this experimental feature.\n"
     ]
    }
   ],
   "source": [
    "import grelu.resources\n",
    "\n",
    "catlas = grelu.resources.load_model(\n",
    "    project=\"human-atac-catlas\",\n",
    "    model_name=\"model\",\n",
    ")"
   ]
  },
  {
   "cell_type": "markdown",
   "id": "be83af2c-574d-470a-aa06-dec014085781",
   "metadata": {},
   "source": [
    "Note once again that this object contains the model metadata, so we can extract a dataframe describing the cell types for which the model makes predictions."
   ]
  },
  {
   "cell_type": "code",
   "execution_count": 3,
   "id": "f70b5952-3d4b-41e6-8dcb-4a516d5bcca2",
   "metadata": {},
   "outputs": [
    {
     "name": "stdout",
     "output_type": "stream",
     "text": [
      "204\n"
     ]
    },
    {
     "data": {
      "text/html": [
       "<div>\n",
       "<style scoped>\n",
       "    .dataframe tbody tr th:only-of-type {\n",
       "        vertical-align: middle;\n",
       "    }\n",
       "\n",
       "    .dataframe tbody tr th {\n",
       "        vertical-align: top;\n",
       "    }\n",
       "\n",
       "    .dataframe thead th {\n",
       "        text-align: right;\n",
       "    }\n",
       "</style>\n",
       "<table border=\"1\" class=\"dataframe\">\n",
       "  <thead>\n",
       "    <tr style=\"text-align: right;\">\n",
       "      <th></th>\n",
       "      <th>name</th>\n",
       "      <th>cell type</th>\n",
       "    </tr>\n",
       "  </thead>\n",
       "  <tbody>\n",
       "    <tr>\n",
       "      <th>0</th>\n",
       "      <td>Follicular</td>\n",
       "      <td>Follicular</td>\n",
       "    </tr>\n",
       "    <tr>\n",
       "      <th>1</th>\n",
       "      <td>Fibro General</td>\n",
       "      <td>Fibro General</td>\n",
       "    </tr>\n",
       "    <tr>\n",
       "      <th>2</th>\n",
       "      <td>Acinar</td>\n",
       "      <td>Acinar</td>\n",
       "    </tr>\n",
       "  </tbody>\n",
       "</table>\n",
       "</div>"
      ],
      "text/plain": [
       "            name      cell type\n",
       "0     Follicular     Follicular\n",
       "1  Fibro General  Fibro General\n",
       "2         Acinar         Acinar"
      ]
     },
     "execution_count": 3,
     "metadata": {},
     "output_type": "execute_result"
    }
   ],
   "source": [
    "tasks = pd.DataFrame(catlas.data_params['tasks'])\n",
    "print(len(tasks))\n",
    "tasks.head(3)"
   ]
  },
  {
   "cell_type": "markdown",
   "id": "8e3d9edc-f818-4749-a0c8-198d2631a227",
   "metadata": {},
   "source": [
    "We can also extract genomic intervals that were in the test set of this model:"
   ]
  },
  {
   "cell_type": "code",
   "execution_count": 4,
   "id": "1111a71b-8c89-4dab-b15c-b2e5bed00f73",
   "metadata": {},
   "outputs": [],
   "source": [
    "test_intervals = pd.DataFrame(catlas.data_params['test']['intervals'])"
   ]
  },
  {
   "cell_type": "code",
   "execution_count": 5,
   "id": "1886354c-2f1f-40d4-9d13-d2083c7c99e6",
   "metadata": {},
   "outputs": [
    {
     "data": {
      "text/html": [
       "<div>\n",
       "<style scoped>\n",
       "    .dataframe tbody tr th:only-of-type {\n",
       "        vertical-align: middle;\n",
       "    }\n",
       "\n",
       "    .dataframe tbody tr th {\n",
       "        vertical-align: top;\n",
       "    }\n",
       "\n",
       "    .dataframe thead th {\n",
       "        text-align: right;\n",
       "    }\n",
       "</style>\n",
       "<table border=\"1\" class=\"dataframe\">\n",
       "  <thead>\n",
       "    <tr style=\"text-align: right;\">\n",
       "      <th></th>\n",
       "      <th>chrom</th>\n",
       "      <th>start</th>\n",
       "      <th>end</th>\n",
       "      <th>cre_class</th>\n",
       "      <th>in_fetal</th>\n",
       "      <th>in_adult</th>\n",
       "      <th>cre_module</th>\n",
       "      <th>width</th>\n",
       "      <th>cre_idx</th>\n",
       "      <th>enformer_split</th>\n",
       "      <th>split</th>\n",
       "    </tr>\n",
       "  </thead>\n",
       "  <tbody>\n",
       "    <tr>\n",
       "      <th>0</th>\n",
       "      <td>chr1</td>\n",
       "      <td>143497510</td>\n",
       "      <td>143497710</td>\n",
       "      <td>Promoter Proximal</td>\n",
       "      <td>no</td>\n",
       "      <td>yes</td>\n",
       "      <td>113</td>\n",
       "      <td>400</td>\n",
       "      <td>53530</td>\n",
       "      <td>test</td>\n",
       "      <td>test</td>\n",
       "    </tr>\n",
       "    <tr>\n",
       "      <th>1</th>\n",
       "      <td>chr1</td>\n",
       "      <td>143498052</td>\n",
       "      <td>143498252</td>\n",
       "      <td>Promoter Proximal</td>\n",
       "      <td>no</td>\n",
       "      <td>yes</td>\n",
       "      <td>4</td>\n",
       "      <td>400</td>\n",
       "      <td>53531</td>\n",
       "      <td>test</td>\n",
       "      <td>test</td>\n",
       "    </tr>\n",
       "    <tr>\n",
       "      <th>2</th>\n",
       "      <td>chr1</td>\n",
       "      <td>143498633</td>\n",
       "      <td>143498833</td>\n",
       "      <td>Promoter</td>\n",
       "      <td>yes</td>\n",
       "      <td>no</td>\n",
       "      <td>46</td>\n",
       "      <td>400</td>\n",
       "      <td>53532</td>\n",
       "      <td>test</td>\n",
       "      <td>test</td>\n",
       "    </tr>\n",
       "    <tr>\n",
       "      <th>3</th>\n",
       "      <td>chr1</td>\n",
       "      <td>143563536</td>\n",
       "      <td>143563736</td>\n",
       "      <td>Distal</td>\n",
       "      <td>yes</td>\n",
       "      <td>no</td>\n",
       "      <td>63</td>\n",
       "      <td>400</td>\n",
       "      <td>53533</td>\n",
       "      <td>test</td>\n",
       "      <td>test</td>\n",
       "    </tr>\n",
       "    <tr>\n",
       "      <th>4</th>\n",
       "      <td>chr1</td>\n",
       "      <td>143575231</td>\n",
       "      <td>143575431</td>\n",
       "      <td>Distal</td>\n",
       "      <td>no</td>\n",
       "      <td>yes</td>\n",
       "      <td>28</td>\n",
       "      <td>400</td>\n",
       "      <td>53534</td>\n",
       "      <td>test</td>\n",
       "      <td>test</td>\n",
       "    </tr>\n",
       "  </tbody>\n",
       "</table>\n",
       "</div>"
      ],
      "text/plain": [
       "  chrom      start        end          cre_class in_fetal in_adult  \\\n",
       "0  chr1  143497510  143497710  Promoter Proximal       no      yes   \n",
       "1  chr1  143498052  143498252  Promoter Proximal       no      yes   \n",
       "2  chr1  143498633  143498833           Promoter      yes       no   \n",
       "3  chr1  143563536  143563736             Distal      yes       no   \n",
       "4  chr1  143575231  143575431             Distal       no      yes   \n",
       "\n",
       "   cre_module  width  cre_idx enformer_split split  \n",
       "0         113    400    53530           test  test  \n",
       "1           4    400    53531           test  test  \n",
       "2          46    400    53532           test  test  \n",
       "3          63    400    53533           test  test  \n",
       "4          28    400    53534           test  test  "
      ]
     },
     "execution_count": 5,
     "metadata": {},
     "output_type": "execute_result"
    }
   ],
   "source": [
    "test_intervals.head()"
   ]
  },
  {
   "cell_type": "markdown",
   "id": "71ab760c-ad08-4c6f-aa3c-3b077c053a1e",
   "metadata": {},
   "source": [
    "Let us extract 100 intervals from the test set:"
   ]
  },
  {
   "cell_type": "code",
   "execution_count": 6,
   "id": "8c94f968-692f-43ab-a067-7a6a781a0909",
   "metadata": {},
   "outputs": [],
   "source": [
    "test_intervals = test_intervals.sample(100, random_state=0)"
   ]
  },
  {
   "cell_type": "markdown",
   "id": "bcda442c-33a7-4162-b7d4-74d8d392d885",
   "metadata": {},
   "source": [
    "### Motif marginalization"
   ]
  },
  {
   "cell_type": "markdown",
   "id": "240107b9-91e3-4f54-91e4-8611bcd8c9cd",
   "metadata": {},
   "source": [
    "In order to understand the function of a specific motif, we can insert the motif into shuffled sequences. By making predictions on the shuffled sequences before and after motif insertion, we can compute the extent to which the motif alone increases predicted activity.\n",
    "\n",
    "To demonstrate, we extract a few selected motifs from the HOCOMOCO database."
   ]
  },
  {
   "cell_type": "code",
   "execution_count": 7,
   "id": "52eac256-ccbb-402d-98e1-2090e92bb048",
   "metadata": {},
   "outputs": [],
   "source": [
    "import grelu.io.motifs\n",
    "import grelu.interpret.motifs\n",
    "\n",
    "motif_names = ['CTCF.H12CORE.0.P.B', 'IRF4.H12CORE.0.P.B', 'SPI1.H12CORE.0.P.B',\n",
    "               'HNF1A.H12CORE.0.PS.A']\n",
    "motifs = grelu.io.motifs.read_meme_file(\"hocomoco_v12\", names=motif_names)"
   ]
  },
  {
   "cell_type": "markdown",
   "id": "c5d9e42f-7c10-4cc4-a43f-46d0079df78d",
   "metadata": {},
   "source": [
    "This is a dictionary containing the motifs. We can extract the consensus sequence for each motif:"
   ]
  },
  {
   "cell_type": "code",
   "execution_count": 8,
   "id": "0122a002-d0bd-4fa3-8c79-b96befdffc1f",
   "metadata": {},
   "outputs": [
    {
     "name": "stdout",
     "output_type": "stream",
     "text": [
      "['TGGCCACTAGGGGGCGCTAG', 'AAAGAGGAACTGAAACT', 'AAAAGAGGAAGTGA', 'GGTTAATGATTAACC']\n"
     ]
    }
   ],
   "source": [
    "patterns = grelu.interpret.motifs.motifs_to_strings(motifs)\n",
    "print(patterns)"
   ]
  },
  {
   "cell_type": "markdown",
   "id": "22a76662-297f-43bf-ac86-bd5e14930454",
   "metadata": {},
   "source": [
    "Now, we insert each of these motifs into shuffled sequences and compare the predictions before and after motif insertion. gReLU provides an easy function `marginalize_patterns` to perform this analysis."
   ]
  },
  {
   "cell_type": "code",
   "execution_count": 9,
   "id": "3a7021b6-c317-4faa-ad00-28649d949538",
   "metadata": {},
   "outputs": [
    {
     "name": "stderr",
     "output_type": "stream",
     "text": [
      "GPU available: True (cuda), used: True\n",
      "TPU available: False, using: 0 TPU cores\n",
      "HPU available: False, using: 0 HPUs\n",
      "LOCAL_RANK: 0 - CUDA_VISIBLE_DEVICES: [0,1,2,3,4,5,6,7]\n"
     ]
    },
    {
     "name": "stdout",
     "output_type": "stream",
     "text": [
      "Predicting DataLoader 0: 100%|███████████████████████████████████████████████████████████████████████████████████████████████████████████████████████████████████████████████████████████████████████████████| 3/3 [00:00<00:00,  3.22it/s]\n"
     ]
    }
   ],
   "source": [
    "import grelu.interpret.simulate\n",
    "\n",
    "preds = grelu.interpret.simulate.marginalize_patterns(\n",
    "    model=catlas,\n",
    "    patterns=patterns,\n",
    "    seqs=test_intervals,\n",
    "    genome='hg38',\n",
    "    devices=0,\n",
    "    num_workers=16,\n",
    "    batch_size=512,\n",
    "    n_shuffles=3, # Each test sequence will be shuffled 3 times \n",
    "    seed=0,\n",
    "    augment_aggfunc='mean', # Return mean effect across 3 shuffles for each sequence\n",
    "    compare_func='subtract', # Return the difference in prediction with and without each motif\n",
    ").squeeze()"
   ]
  },
  {
   "cell_type": "code",
   "execution_count": 10,
   "id": "f3d57630-d37c-49cd-87ff-bb4d7c23afa6",
   "metadata": {},
   "outputs": [
    {
     "data": {
      "text/plain": [
       "(100, 4, 204)"
      ]
     },
     "execution_count": 10,
     "metadata": {},
     "output_type": "execute_result"
    }
   ],
   "source": [
    "preds.shape"
   ]
  },
  {
   "cell_type": "markdown",
   "id": "6c1c012c-616c-4532-b440-bc293d2b8e64",
   "metadata": {},
   "source": [
    "The `preds` object has the shape (100, 4, 204) where 100 is the number of background sequences, 4 is the number of motifs, and 204 is the number of cell types."
   ]
  },
  {
   "cell_type": "markdown",
   "id": "00fbe686-7c21-46e0-a490-e068253b3049",
   "metadata": {},
   "source": [
    "We can now subset the results for our cell type of interest. For example, microglia:"
   ]
  },
  {
   "cell_type": "code",
   "execution_count": 11,
   "id": "72971d3f-0242-4d8f-9618-55208150697d",
   "metadata": {},
   "outputs": [
    {
     "data": {
      "text/plain": [
       "(100, 4, 1)"
      ]
     },
     "execution_count": 11,
     "metadata": {},
     "output_type": "execute_result"
    }
   ],
   "source": [
    "microglia_preds = preds[:, :, tasks.name=='Microglia']\n",
    "microglia_preds.shape"
   ]
  },
  {
   "cell_type": "code",
   "execution_count": 12,
   "id": "409fcfcf-ef1c-49a4-b29e-39dadb4cdde2",
   "metadata": {},
   "outputs": [
    {
     "data": {
      "text/html": [
       "<div>\n",
       "<style scoped>\n",
       "    .dataframe tbody tr th:only-of-type {\n",
       "        vertical-align: middle;\n",
       "    }\n",
       "\n",
       "    .dataframe tbody tr th {\n",
       "        vertical-align: top;\n",
       "    }\n",
       "\n",
       "    .dataframe thead th {\n",
       "        text-align: right;\n",
       "    }\n",
       "</style>\n",
       "<table border=\"1\" class=\"dataframe\">\n",
       "  <thead>\n",
       "    <tr style=\"text-align: right;\">\n",
       "      <th></th>\n",
       "      <th>CTCF.H12CORE.0.P.B</th>\n",
       "      <th>IRF4.H12CORE.0.P.B</th>\n",
       "      <th>SPI1.H12CORE.0.P.B</th>\n",
       "      <th>HNF1A.H12CORE.0.PS.A</th>\n",
       "    </tr>\n",
       "  </thead>\n",
       "  <tbody>\n",
       "    <tr>\n",
       "      <th>0</th>\n",
       "      <td>0.030184</td>\n",
       "      <td>0.254681</td>\n",
       "      <td>0.185898</td>\n",
       "      <td>-0.008333</td>\n",
       "    </tr>\n",
       "    <tr>\n",
       "      <th>1</th>\n",
       "      <td>0.007621</td>\n",
       "      <td>0.354401</td>\n",
       "      <td>0.302910</td>\n",
       "      <td>-0.042056</td>\n",
       "    </tr>\n",
       "    <tr>\n",
       "      <th>2</th>\n",
       "      <td>0.052667</td>\n",
       "      <td>0.301145</td>\n",
       "      <td>0.183381</td>\n",
       "      <td>-0.002534</td>\n",
       "    </tr>\n",
       "    <tr>\n",
       "      <th>3</th>\n",
       "      <td>0.198898</td>\n",
       "      <td>0.742519</td>\n",
       "      <td>0.528418</td>\n",
       "      <td>-0.013130</td>\n",
       "    </tr>\n",
       "    <tr>\n",
       "      <th>4</th>\n",
       "      <td>-0.063414</td>\n",
       "      <td>0.257364</td>\n",
       "      <td>0.144984</td>\n",
       "      <td>-0.194069</td>\n",
       "    </tr>\n",
       "  </tbody>\n",
       "</table>\n",
       "</div>"
      ],
      "text/plain": [
       "   CTCF.H12CORE.0.P.B  IRF4.H12CORE.0.P.B  SPI1.H12CORE.0.P.B  \\\n",
       "0            0.030184            0.254681            0.185898   \n",
       "1            0.007621            0.354401            0.302910   \n",
       "2            0.052667            0.301145            0.183381   \n",
       "3            0.198898            0.742519            0.528418   \n",
       "4           -0.063414            0.257364            0.144984   \n",
       "\n",
       "   HNF1A.H12CORE.0.PS.A  \n",
       "0             -0.008333  \n",
       "1             -0.042056  \n",
       "2             -0.002534  \n",
       "3             -0.013130  \n",
       "4             -0.194069  "
      ]
     },
     "execution_count": 12,
     "metadata": {},
     "output_type": "execute_result"
    }
   ],
   "source": [
    "microglia_preds = pd.DataFrame(microglia_preds.squeeze(), columns=motif_names)\n",
    "microglia_preds.head()"
   ]
  },
  {
   "cell_type": "markdown",
   "id": "b288caf8-7ef4-4b0d-9e63-394707386657",
   "metadata": {},
   "source": [
    "We can now visualize the effect of each of these motifs in microglia:"
   ]
  },
  {
   "cell_type": "code",
   "execution_count": 13,
   "id": "382f7a1b-76aa-4f7a-bbbd-27563498640a",
   "metadata": {},
   "outputs": [
    {
     "data": {
      "text/plain": [
       "<Axes: title={'center': 'Increase in predicted probability of\\naccessibility in microglia after inserting motif'}>"
      ]
     },
     "execution_count": 13,
     "metadata": {},
     "output_type": "execute_result"
    },
    {
     "data": {
      "image/png": "[encoded data removed]",
      "text/plain": [
       "<Figure size 600x200 with 1 Axes>"
      ]
     },
     "metadata": {},
     "output_type": "display_data"
    }
   ],
   "source": [
    "microglia_preds.plot.box(rot=45, figsize=(6,2),\n",
    "    title='Increase in predicted probability of\\naccessibility in microglia after inserting motif')"
   ]
  },
  {
   "cell_type": "markdown",
   "id": "6ac8deca-107c-4da7-8292-729fe9bf49bf",
   "metadata": {},
   "source": [
    "We can also compare the average effect of each motifs across all 204 cell types. For this, we first average the effect across all 500 peaks:"
   ]
  },
  {
   "cell_type": "code",
   "execution_count": 14,
   "id": "51274aa6-0b33-4daa-af39-e299d636aa4d",
   "metadata": {},
   "outputs": [
    {
     "name": "stdout",
     "output_type": "stream",
     "text": [
      "(100, 4, 204)\n",
      "(4, 204)\n"
     ]
    }
   ],
   "source": [
    "print(preds.shape)\n",
    "mean_motif_effect = preds.mean(0)\n",
    "print(mean_motif_effect.shape)"
   ]
  },
  {
   "cell_type": "markdown",
   "id": "3a2306ce-59d5-48e4-a331-b74f17b8d3ae",
   "metadata": {},
   "source": [
    "This gives us an array of size (motifs x cell types). We can represent this as a pandas dataframe:"
   ]
  },
  {
   "cell_type": "code",
   "execution_count": 15,
   "id": "80c8918b-37dc-440b-91fc-80289841ed36",
   "metadata": {},
   "outputs": [
    {
     "data": {
      "text/html": [
       "<div>\n",
       "<style scoped>\n",
       "    .dataframe tbody tr th:only-of-type {\n",
       "        vertical-align: middle;\n",
       "    }\n",
       "\n",
       "    .dataframe tbody tr th {\n",
       "        vertical-align: top;\n",
       "    }\n",
       "\n",
       "    .dataframe thead th {\n",
       "        text-align: right;\n",
       "    }\n",
       "</style>\n",
       "<table border=\"1\" class=\"dataframe\">\n",
       "  <thead>\n",
       "    <tr style=\"text-align: right;\">\n",
       "      <th>name</th>\n",
       "      <th>Follicular</th>\n",
       "      <th>Fibro General</th>\n",
       "      <th>Acinar</th>\n",
       "      <th>T Lymphocyte 1 (CD8+)</th>\n",
       "      <th>T lymphocyte 2 (CD4+)</th>\n",
       "    </tr>\n",
       "  </thead>\n",
       "  <tbody>\n",
       "    <tr>\n",
       "      <th>CTCF.H12CORE.0.P.B</th>\n",
       "      <td>0.388247</td>\n",
       "      <td>0.394345</td>\n",
       "      <td>0.432518</td>\n",
       "      <td>0.305757</td>\n",
       "      <td>0.294902</td>\n",
       "    </tr>\n",
       "    <tr>\n",
       "      <th>IRF4.H12CORE.0.P.B</th>\n",
       "      <td>-0.036361</td>\n",
       "      <td>-0.012824</td>\n",
       "      <td>0.002282</td>\n",
       "      <td>0.056297</td>\n",
       "      <td>0.036171</td>\n",
       "    </tr>\n",
       "  </tbody>\n",
       "</table>\n",
       "</div>"
      ],
      "text/plain": [
       "name                Follicular  Fibro General    Acinar  \\\n",
       "CTCF.H12CORE.0.P.B    0.388247       0.394345  0.432518   \n",
       "IRF4.H12CORE.0.P.B   -0.036361      -0.012824  0.002282   \n",
       "\n",
       "name                T Lymphocyte 1 (CD8+)  T lymphocyte 2 (CD4+)  \n",
       "CTCF.H12CORE.0.P.B               0.305757               0.294902  \n",
       "IRF4.H12CORE.0.P.B               0.056297               0.036171  "
      ]
     },
     "execution_count": 15,
     "metadata": {},
     "output_type": "execute_result"
    }
   ],
   "source": [
    "mean_motif_effect = pd.DataFrame(mean_motif_effect, index=motif_names, columns=tasks.name)\n",
    "mean_motif_effect.iloc[:2, :5]"
   ]
  },
  {
   "cell_type": "markdown",
   "id": "6355612c-c728-4a10-ae6c-694ab4c00828",
   "metadata": {},
   "source": [
    "For visualization, let us select the 20 cell types with highest variance:"
   ]
  },
  {
   "cell_type": "code",
   "execution_count": 16,
   "id": "6cd075a6-4c35-45ec-b2e0-a62b67a1d0a5",
   "metadata": {},
   "outputs": [
    {
     "data": {
      "text/plain": [
       "Index(['Fetal Photoreceptor', 'Fetal T Lymphocyte 1 (CD4+)',\n",
       "       'Fetal Enterocyte 3', 'Fetal Enterocyte 1',\n",
       "       'Fetal Retinal Progenitor 1', 'Memory B', 'Fetal Acinar 2',\n",
       "       'Macrophage Gen or Alv', 'Hepatocyte', 'Plasma B',\n",
       "       'Fetal Adrenal Neuron', 'Alpha 1', 'Fetal Adrenal Cortical', 'Acinar',\n",
       "       'Fetal Thymocyte', 'Macrophage General',\n",
       "       'Fetal Syncitio+Cytotrophoblast', 'Fetal B Lymphocyte 1 (SPIB+)',\n",
       "       'Fetal Erythroblast 2', 'Fetal Hepatoblast'],\n",
       "      dtype='object', name='name')"
      ]
     },
     "execution_count": 16,
     "metadata": {},
     "output_type": "execute_result"
    }
   ],
   "source": [
    "variable_cell_types = mean_motif_effect.var(0).sort_values().tail(20).index\n",
    "variable_cell_types"
   ]
  },
  {
   "cell_type": "code",
   "execution_count": 17,
   "id": "f89007b8-a814-4219-84e7-16cc848678df",
   "metadata": {},
   "outputs": [
    {
     "data": {
      "text/plain": [
       "<seaborn.matrix.ClusterGrid at 0x7fd61de8a310>"
      ]
     },
     "execution_count": 17,
     "metadata": {},
     "output_type": "execute_result"
    },
    {
     "data": {
      "image/png": "[encoded data removed]",
      "text/plain": [
       "<Figure size 600x600 with 4 Axes>"
      ]
     },
     "metadata": {},
     "output_type": "display_data"
    }
   ],
   "source": [
    "sns.clustermap(mean_motif_effect.loc[:, variable_cell_types].T, figsize=(6,6))"
   ]
  }
 ],
 "metadata": {
  "kernelspec": {
   "display_name": "Python 3 (ipykernel)",
   "language": "python",
   "name": "python3"
  },
  "language_info": {
   "codemirror_mode": {
    "name": "ipython",
    "version": 3
   },
   "file_extension": ".py",
   "mimetype": "text/x-python",
   "name": "python",
   "nbconvert_exporter": "python",
   "pygments_lexer": "ipython3",
   "version": "3.11.9"
  }
 },
 "nbformat": 4,
 "nbformat_minor": 5
}
