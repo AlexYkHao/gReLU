{
 "cells": [
  {
   "cell_type": "markdown",
   "id": "b9309fd4-f953-4e81-9fd4-bd55ad700ae9",
   "metadata": {},
   "source": [
    "# Predict Effects of Alzheimer's Variants Using ATAC Models"
   ]
  },
  {
   "cell_type": "code",
   "execution_count": 2,
   "id": "bf95ebec-179e-472e-8d1b-a5f81bdb504b",
   "metadata": {},
   "outputs": [],
   "source": [
    "import anndata as ad\n",
    "import pandas as pd\n",
    "import numpy as np"
   ]
  },
  {
   "cell_type": "markdown",
   "id": "70f518c4-4ed6-4557-b5bb-0d0829adf7e6",
   "metadata": {},
   "source": [
    "## Load the CATlas model"
   ]
  },
  {
   "cell_type": "markdown",
   "id": "a62d7b8d-ac0c-43d5-8eae-9229e839e566",
   "metadata": {},
   "source": [
    "This is a binary classification model trained on snATAC-seq data from Catlas (http://catlas.org/humanenhancer/)"
   ]
  },
  {
   "cell_type": "code",
   "execution_count": 3,
   "id": "9ea0a01b-9ca5-46b2-9198-18dc10c533bf",
   "metadata": {},
   "outputs": [
    {
     "name": "stderr",
     "output_type": "stream",
     "text": [
      "/usr/local/lib/python3.11/dist-packages/tqdm/auto.py:21: TqdmWarning: IProgress not found. Please update jupyter and ipywidgets. See https://ipywidgets.readthedocs.io/en/stable/user_install.html\n",
      "  from .autonotebook import tqdm as notebook_tqdm\n",
      "Failed to detect the name of this notebook, you can set it manually with the WANDB_NOTEBOOK_NAME environment variable to enable code saving.\n",
      "\u001b[34m\u001b[1mwandb\u001b[0m: Currently logged in as: \u001b[33mlal-avantika\u001b[0m (\u001b[33mgrelu\u001b[0m). Use \u001b[1m`wandb login --relogin`\u001b[0m to force relogin\n",
      "\u001b[34m\u001b[1mwandb\u001b[0m: Downloading large artifact tutorial_model:latest, 1187.53MB. 1 files... \n",
      "\u001b[34m\u001b[1mwandb\u001b[0m:   1 of 1 files downloaded.  \n",
      "Done. 0:0:2.9\n",
      "\u001b[34m\u001b[1mwandb\u001b[0m: Downloading large artifact human_state_dict:latest, 939.29MB. 1 files... \n",
      "\u001b[34m\u001b[1mwandb\u001b[0m:   1 of 1 files downloaded.  \n",
      "Done. 0:0:3.0\n"
     ]
    }
   ],
   "source": [
    "import grelu.resources\n",
    "model = grelu.resources.load_model(project='human-atac-catlas', model_name='tutorial_model')"
   ]
  },
  {
   "cell_type": "markdown",
   "id": "909b3455-7181-444c-b6ab-f62992ee4115",
   "metadata": {},
   "source": [
    "## View the model's metadata"
   ]
  },
  {
   "cell_type": "markdown",
   "id": "24f508b3-e20a-40cb-8453-4e9e4cd883d2",
   "metadata": {},
   "source": [
    "`model.data_params` is a dictionary containing metadata about the data used to train the model. Let's look at what information is stored:"
   ]
  },
  {
   "cell_type": "code",
   "execution_count": 4,
   "id": "ba6606ea-1f40-41ad-b9ed-11eae96a086c",
   "metadata": {},
   "outputs": [
    {
     "name": "stdout",
     "output_type": "stream",
     "text": [
      "train_n_seqs 982845\n",
      "val_n_seqs 55832\n",
      "train_seq_len 200\n",
      "val_seq_len 200\n",
      "train_rc True\n",
      "val_rc False\n",
      "train_max_shift 0\n",
      "val_max_shift 0\n",
      "train_max_offset 3\n",
      "val_max_offset 0\n",
      "train_n_augmented 14\n",
      "val_n_augmented 1\n",
      "train_chroms ['chr1', 'chr12', 'chr13', 'chr14', 'chr15', 'chr16', 'chr17', 'chr18', 'chr19', 'chr2', 'chr20', 'chr21', 'chr22', 'chr3', 'chr4', 'chr5', 'chr6', 'chr7', 'chr8', 'chr9']\n",
      "val_chroms ['chr10']\n"
     ]
    }
   ],
   "source": [
    "for key in model.data_params.keys():\n",
    "    if key !=\"tasks\":\n",
    "        print(key, model.data_params[key])"
   ]
  },
  {
   "cell_type": "markdown",
   "id": "b12be2e7-e0d1-48c4-970a-c5db200d9938",
   "metadata": {},
   "source": [
    "Note the parameter `train_seq_len`. This tells us that the model was trained on 200 bp long sequences."
   ]
  },
  {
   "cell_type": "markdown",
   "id": "88db153e-e6f7-4ef9-b8e9-a6572509834a",
   "metadata": {
    "scrolled": true
   },
   "source": [
    "`model.data_params['tasks']` is a large dictionary containing metadata about the output tracks that the model predicts. We can collect these into a dataframe called tasks:"
   ]
  },
  {
   "cell_type": "code",
   "execution_count": 5,
   "id": "029c28aa-86e8-4f56-94ee-f4e37bb3f67e",
   "metadata": {},
   "outputs": [
    {
     "data": {
      "text/html": [
       "<div>\n",
       "<style scoped>\n",
       "    .dataframe tbody tr th:only-of-type {\n",
       "        vertical-align: middle;\n",
       "    }\n",
       "\n",
       "    .dataframe tbody tr th {\n",
       "        vertical-align: top;\n",
       "    }\n",
       "\n",
       "    .dataframe thead th {\n",
       "        text-align: right;\n",
       "    }\n",
       "</style>\n",
       "<table border=\"1\" class=\"dataframe\">\n",
       "  <thead>\n",
       "    <tr style=\"text-align: right;\">\n",
       "      <th></th>\n",
       "      <th>name</th>\n",
       "    </tr>\n",
       "  </thead>\n",
       "  <tbody>\n",
       "    <tr>\n",
       "      <th>0</th>\n",
       "      <td>Follicular</td>\n",
       "    </tr>\n",
       "    <tr>\n",
       "      <th>1</th>\n",
       "      <td>Fibro General</td>\n",
       "    </tr>\n",
       "    <tr>\n",
       "      <th>2</th>\n",
       "      <td>Acinar</td>\n",
       "    </tr>\n",
       "  </tbody>\n",
       "</table>\n",
       "</div>"
      ],
      "text/plain": [
       "            name\n",
       "0     Follicular\n",
       "1  Fibro General\n",
       "2         Acinar"
      ]
     },
     "execution_count": 5,
     "metadata": {},
     "output_type": "execute_result"
    }
   ],
   "source": [
    "tasks = pd.DataFrame(model.data_params['tasks'])\n",
    "tasks.head(3)"
   ]
  },
  {
   "cell_type": "markdown",
   "id": "ab8d2331-2f2b-4ec9-902b-b19e6191b540",
   "metadata": {
    "tags": []
   },
   "source": [
    "## Load Alzheimer's Variants from GWAS Catalog (Jansen et al. 2019 meta-analysis)"
   ]
  },
  {
   "cell_type": "markdown",
   "id": "d445482a-8e50-4062-8fce-7dd6eb38a827",
   "metadata": {},
   "source": [
    "Download AD sumstats file from catalog, Jansen et al. 2019 meta analysis. This contains 13,367,299 variants."
   ]
  },
  {
   "cell_type": "code",
   "execution_count": 5,
   "id": "548ccea6-4860-4601-b091-f68d958b6b94",
   "metadata": {},
   "outputs": [],
   "source": [
    "# wget http://ftp.ebi.ac.uk/pub/databases/gwas/summary_statistics/GCST007001-GCST008000/GCST007320/AD_sumstats_Jansenetal_2019sept.txt.gz #hg19"
   ]
  },
  {
   "cell_type": "code",
   "execution_count": 6,
   "id": "30b20968-2e04-4f17-9e5e-88eafa1e5961",
   "metadata": {},
   "outputs": [
    {
     "data": {
      "text/html": [
       "<div>\n",
       "<style scoped>\n",
       "    .dataframe tbody tr th:only-of-type {\n",
       "        vertical-align: middle;\n",
       "    }\n",
       "\n",
       "    .dataframe tbody tr th {\n",
       "        vertical-align: top;\n",
       "    }\n",
       "\n",
       "    .dataframe thead th {\n",
       "        text-align: right;\n",
       "    }\n",
       "</style>\n",
       "<table border=\"1\" class=\"dataframe\">\n",
       "  <thead>\n",
       "    <tr style=\"text-align: right;\">\n",
       "      <th></th>\n",
       "      <th>snpid</th>\n",
       "      <th>chrom</th>\n",
       "      <th>pos</th>\n",
       "      <th>alt</th>\n",
       "      <th>ref</th>\n",
       "      <th>rsid</th>\n",
       "      <th>zscore</th>\n",
       "      <th>pval</th>\n",
       "      <th>nsum</th>\n",
       "      <th>neff</th>\n",
       "      <th>direction</th>\n",
       "      <th>eaf</th>\n",
       "      <th>beta</th>\n",
       "      <th>se</th>\n",
       "    </tr>\n",
       "  </thead>\n",
       "  <tbody>\n",
       "    <tr>\n",
       "      <th>0</th>\n",
       "      <td>1:715265_T_C</td>\n",
       "      <td>chr1</td>\n",
       "      <td>715265</td>\n",
       "      <td>T</td>\n",
       "      <td>C</td>\n",
       "      <td>rs12184267</td>\n",
       "      <td>2.121973</td>\n",
       "      <td>0.03384</td>\n",
       "      <td>359856</td>\n",
       "      <td>359856.0</td>\n",
       "      <td>??+?</td>\n",
       "      <td>0.040807</td>\n",
       "      <td>0.012643</td>\n",
       "      <td>0.005958</td>\n",
       "    </tr>\n",
       "    <tr>\n",
       "      <th>1</th>\n",
       "      <td>1:715367_G_A</td>\n",
       "      <td>chr1</td>\n",
       "      <td>715367</td>\n",
       "      <td>G</td>\n",
       "      <td>A</td>\n",
       "      <td>rs12184277</td>\n",
       "      <td>1.957915</td>\n",
       "      <td>0.05024</td>\n",
       "      <td>360230</td>\n",
       "      <td>360230.0</td>\n",
       "      <td>??+?</td>\n",
       "      <td>0.041069</td>\n",
       "      <td>0.011624</td>\n",
       "      <td>0.005937</td>\n",
       "    </tr>\n",
       "    <tr>\n",
       "      <th>2</th>\n",
       "      <td>1:717485_A_C</td>\n",
       "      <td>chr1</td>\n",
       "      <td>717485</td>\n",
       "      <td>A</td>\n",
       "      <td>C</td>\n",
       "      <td>rs12184279</td>\n",
       "      <td>1.912438</td>\n",
       "      <td>0.05582</td>\n",
       "      <td>360257</td>\n",
       "      <td>360257.0</td>\n",
       "      <td>??+?</td>\n",
       "      <td>0.040576</td>\n",
       "      <td>0.011419</td>\n",
       "      <td>0.005971</td>\n",
       "    </tr>\n",
       "  </tbody>\n",
       "</table>\n",
       "</div>"
      ],
      "text/plain": [
       "          snpid chrom     pos alt ref        rsid    zscore     pval    nsum  \\\n",
       "0  1:715265_T_C  chr1  715265   T   C  rs12184267  2.121973  0.03384  359856   \n",
       "1  1:715367_G_A  chr1  715367   G   A  rs12184277  1.957915  0.05024  360230   \n",
       "2  1:717485_A_C  chr1  717485   A   C  rs12184279  1.912438  0.05582  360257   \n",
       "\n",
       "       neff direction       eaf      beta        se  \n",
       "0  359856.0      ??+?  0.040807  0.012643  0.005958  \n",
       "1  360230.0      ??+?  0.041069  0.011624  0.005937  \n",
       "2  360257.0      ??+?  0.040576  0.011419  0.005971  "
      ]
     },
     "execution_count": 6,
     "metadata": {},
     "output_type": "execute_result"
    }
   ],
   "source": [
    "snps = pd.read_table('AD_sumstats_Jansenetal_2019sept.txt.gz') \n",
    "snps.columns = ['snpid', 'chrom', 'pos', 'alt', 'ref', 'rsid', 'zscore', 'pval', 'nsum', 'neff', 'direction', 'eaf', 'beta', 'se']\n",
    "\n",
    "snps.chrom = 'chr' + snps.chrom.astype(str)\n",
    "snps.head(3)"
   ]
  },
  {
   "cell_type": "markdown",
   "id": "a7eef8d4-87f1-4308-9b0d-3f07c6f9e8d4",
   "metadata": {},
   "source": [
    "## Filter variants"
   ]
  },
  {
   "cell_type": "markdown",
   "id": "08e01ea3-a0fb-4bc2-b096-e8e3393af764",
   "metadata": {},
   "source": [
    "We don't want to predict variant effects for all these, so let's apply a lenient pval cutoff (e.g. 1e-4) to reduce number while taking subthreshold variants into account too."
   ]
  },
  {
   "cell_type": "code",
   "execution_count": 7,
   "id": "c51cf5b8-325c-4116-a7da-1f19983a8da1",
   "metadata": {},
   "outputs": [
    {
     "data": {
      "text/plain": [
       "9989"
      ]
     },
     "execution_count": 7,
     "metadata": {},
     "output_type": "execute_result"
    }
   ],
   "source": [
    "snps = snps[(snps.beta.abs()>0) & (snps.pval<1e-4)]\n",
    "len(snps)"
   ]
  },
  {
   "cell_type": "code",
   "execution_count": 8,
   "id": "2343b85c-ec67-41c6-bd53-b85c8c0d0b2a",
   "metadata": {},
   "outputs": [],
   "source": [
    "from grelu.data.preprocess import filter_blacklist, filter_chromosomes\n",
    "from grelu.variant import filter_variants"
   ]
  },
  {
   "cell_type": "markdown",
   "id": "7ea66543-428c-4833-bb71-e571cd7877e8",
   "metadata": {},
   "source": [
    "Remove indels, since we don't support them for now. We also remove variants where one of the alleles contains Ns."
   ]
  },
  {
   "cell_type": "code",
   "execution_count": 9,
   "id": "13058822-9ab5-4675-8336-211b8376849e",
   "metadata": {},
   "outputs": [
    {
     "name": "stdout",
     "output_type": "stream",
     "text": [
      "Initial number of variants: 9989\n",
      "Final number of variants: 9801\n"
     ]
    }
   ],
   "source": [
    "snps = filter_variants(snps, max_del_len=0, max_insert_len=0, standard_bases=True)"
   ]
  },
  {
   "cell_type": "markdown",
   "id": "961ef902-1eda-4131-a6c3-1cf17347e532",
   "metadata": {},
   "source": [
    "Remove non-standard chromosomes"
   ]
  },
  {
   "cell_type": "code",
   "execution_count": 10,
   "id": "229b0dc6-0ad1-43cd-84ad-bcbce74a48ea",
   "metadata": {},
   "outputs": [
    {
     "name": "stdout",
     "output_type": "stream",
     "text": [
      "Keeping 9801 intervals\n"
     ]
    }
   ],
   "source": [
    "snps = filter_chromosomes(snps, include='autosomesXY')"
   ]
  },
  {
   "cell_type": "markdown",
   "id": "4d7001a8-bcfe-44fd-8623-d9b13606d5f3",
   "metadata": {},
   "source": [
    "Remove SNPs from unmappable regions"
   ]
  },
  {
   "cell_type": "code",
   "execution_count": 11,
   "id": "263be71f-e7bb-45f5-90cc-aaa4a56f7f3f",
   "metadata": {},
   "outputs": [
    {
     "name": "stdout",
     "output_type": "stream",
     "text": [
      "Keeping 9786 intervals\n"
     ]
    }
   ],
   "source": [
    "snps = filter_blacklist(snps, genome=\"hg19\", window=100).reset_index(drop=True)"
   ]
  },
  {
   "cell_type": "code",
   "execution_count": 12,
   "id": "f903891c-ea61-46b1-b996-7094d572ff15",
   "metadata": {},
   "outputs": [
    {
     "data": {
      "text/html": [
       "<div>\n",
       "<style scoped>\n",
       "    .dataframe tbody tr th:only-of-type {\n",
       "        vertical-align: middle;\n",
       "    }\n",
       "\n",
       "    .dataframe tbody tr th {\n",
       "        vertical-align: top;\n",
       "    }\n",
       "\n",
       "    .dataframe thead th {\n",
       "        text-align: right;\n",
       "    }\n",
       "</style>\n",
       "<table border=\"1\" class=\"dataframe\">\n",
       "  <thead>\n",
       "    <tr style=\"text-align: right;\">\n",
       "      <th></th>\n",
       "      <th>chrom</th>\n",
       "      <th>pos</th>\n",
       "      <th>alt</th>\n",
       "      <th>ref</th>\n",
       "      <th>rsid</th>\n",
       "      <th>zscore</th>\n",
       "      <th>pval</th>\n",
       "      <th>nsum</th>\n",
       "      <th>neff</th>\n",
       "      <th>direction</th>\n",
       "      <th>eaf</th>\n",
       "      <th>beta</th>\n",
       "      <th>se</th>\n",
       "    </tr>\n",
       "    <tr>\n",
       "      <th>snpid</th>\n",
       "      <th></th>\n",
       "      <th></th>\n",
       "      <th></th>\n",
       "      <th></th>\n",
       "      <th></th>\n",
       "      <th></th>\n",
       "      <th></th>\n",
       "      <th></th>\n",
       "      <th></th>\n",
       "      <th></th>\n",
       "      <th></th>\n",
       "      <th></th>\n",
       "      <th></th>\n",
       "    </tr>\n",
       "  </thead>\n",
       "  <tbody>\n",
       "    <tr>\n",
       "      <th>1:906769_A_C</th>\n",
       "      <td>chr1</td>\n",
       "      <td>906769</td>\n",
       "      <td>A</td>\n",
       "      <td>C</td>\n",
       "      <td>rs78850589</td>\n",
       "      <td>4.060775</td>\n",
       "      <td>0.000049</td>\n",
       "      <td>364859</td>\n",
       "      <td>364859.0</td>\n",
       "      <td>??+?</td>\n",
       "      <td>0.001725</td>\n",
       "      <td>0.114563</td>\n",
       "      <td>0.028212</td>\n",
       "    </tr>\n",
       "    <tr>\n",
       "      <th>1:985377_T_C</th>\n",
       "      <td>chr1</td>\n",
       "      <td>985377</td>\n",
       "      <td>T</td>\n",
       "      <td>C</td>\n",
       "      <td>rs113020870</td>\n",
       "      <td>3.991380</td>\n",
       "      <td>0.000066</td>\n",
       "      <td>364185</td>\n",
       "      <td>364185.0</td>\n",
       "      <td>??+?</td>\n",
       "      <td>0.002895</td>\n",
       "      <td>0.087045</td>\n",
       "      <td>0.021808</td>\n",
       "    </tr>\n",
       "    <tr>\n",
       "      <th>1:5175897_T_C</th>\n",
       "      <td>chr1</td>\n",
       "      <td>5175897</td>\n",
       "      <td>T</td>\n",
       "      <td>C</td>\n",
       "      <td>rs4949167</td>\n",
       "      <td>-3.920242</td>\n",
       "      <td>0.000088</td>\n",
       "      <td>17477</td>\n",
       "      <td>17477.0</td>\n",
       "      <td>???-</td>\n",
       "      <td>0.460200</td>\n",
       "      <td>-0.042052</td>\n",
       "      <td>0.010727</td>\n",
       "    </tr>\n",
       "  </tbody>\n",
       "</table>\n",
       "</div>"
      ],
      "text/plain": [
       "              chrom      pos alt ref         rsid    zscore      pval    nsum  \\\n",
       "snpid                                                                           \n",
       "1:906769_A_C   chr1   906769   A   C   rs78850589  4.060775  0.000049  364859   \n",
       "1:985377_T_C   chr1   985377   T   C  rs113020870  3.991380  0.000066  364185   \n",
       "1:5175897_T_C  chr1  5175897   T   C    rs4949167 -3.920242  0.000088   17477   \n",
       "\n",
       "                   neff direction       eaf      beta        se  \n",
       "snpid                                                            \n",
       "1:906769_A_C   364859.0      ??+?  0.001725  0.114563  0.028212  \n",
       "1:985377_T_C   364185.0      ??+?  0.002895  0.087045  0.021808  \n",
       "1:5175897_T_C   17477.0      ???-  0.460200 -0.042052  0.010727  "
      ]
     },
     "execution_count": 12,
     "metadata": {},
     "output_type": "execute_result"
    }
   ],
   "source": [
    "snps.set_index('snpid', inplace=True)\n",
    "snps.head(3)"
   ]
  },
  {
   "cell_type": "markdown",
   "id": "8c7ed84f-edd0-4234-a1b6-d518638eb793",
   "metadata": {
    "tags": []
   },
   "source": [
    "## Predict variant effects"
   ]
  },
  {
   "cell_type": "markdown",
   "id": "c820d4a0-e3e8-41ef-aa5e-937593f72328",
   "metadata": {},
   "source": [
    "The `grelu.variant` module contains several functions related to analysis of variants. The `predict_variant_effects` function takes a model and a dataframe of variants, and uses the model to predict the activity of the genomic regions containing both the ref and alt alleles. It can then compare the two predictions and return an effect size for each variant. We can also apply data augmentation, i.e. make predictions for several versions of the sequence and average them together."
   ]
  },
  {
   "cell_type": "code",
   "execution_count": 15,
   "id": "488f6ebe-4cdc-4d4b-8be5-df6111707a84",
   "metadata": {},
   "outputs": [
    {
     "name": "stdout",
     "output_type": "stream",
     "text": [
      "making dataset\n"
     ]
    },
    {
     "name": "stderr",
     "output_type": "stream",
     "text": [
      "GPU available: True (cuda), used: True\n",
      "TPU available: False, using: 0 TPU cores\n",
      "IPU available: False, using: 0 IPUs\n",
      "HPU available: False, using: 0 HPUs\n",
      "LOCAL_RANK: 0 - CUDA_VISIBLE_DEVICES: [0,1,2,3,4,5,6,7]\n"
     ]
    },
    {
     "name": "stdout",
     "output_type": "stream",
     "text": [
      "Predicting DataLoader 0: 100%|████████████████████████████████████████████████████████████████████████████████████| 77/77 [00:05<00:00, 15.32it/s]\n"
     ]
    }
   ],
   "source": [
    "import grelu.variant\n",
    "\n",
    "odds = grelu.variant.predict_variant_effects(\n",
    "    variants=snps,\n",
    "    model=model, \n",
    "    devices=0, # Run on GPU 0\n",
    "    num_workers=8,\n",
    "    batch_size=512,\n",
    "    genome=\"hg19\",\n",
    "    compare_func=\"log2FC\", # Return the log2 fold change between alt and ref predictions\n",
    "    return_ad=True, # Return an anndata object.\n",
    "    rc = True, # Reverse complement the ref/alt predictions and average them.\n",
    ")"
   ]
  },
  {
   "cell_type": "markdown",
   "id": "af9d7bfe-4c1c-484a-9ff1-82c0a3b1a810",
   "metadata": {},
   "source": [
    "Now this (odds) is an AnnData object (similar to `SingleCellExperiment` in R but in Python). Might be a good point to pause here and learn more about it: <https://anndata.readthedocs.io/en/latest/>."
   ]
  },
  {
   "cell_type": "code",
   "execution_count": 16,
   "id": "fb4e14b0-e8e9-4792-9d42-a335c88f96f7",
   "metadata": {
    "tags": []
   },
   "outputs": [
    {
     "data": {
      "text/plain": [
       "AnnData object with n_obs × n_vars = 9786 × 203\n",
       "    obs: 'chrom', 'pos', 'alt', 'ref', 'rsid', 'zscore', 'pval', 'nsum', 'neff', 'direction', 'eaf', 'beta', 'se'"
      ]
     },
     "execution_count": 16,
     "metadata": {},
     "output_type": "execute_result"
    }
   ],
   "source": [
    "odds"
   ]
  },
  {
   "cell_type": "code",
   "execution_count": 17,
   "id": "2a3dcd22-4542-4087-b09f-55083d31471e",
   "metadata": {},
   "outputs": [
    {
     "data": {
      "text/html": [
       "<div>\n",
       "<style scoped>\n",
       "    .dataframe tbody tr th:only-of-type {\n",
       "        vertical-align: middle;\n",
       "    }\n",
       "\n",
       "    .dataframe tbody tr th {\n",
       "        vertical-align: top;\n",
       "    }\n",
       "\n",
       "    .dataframe thead th {\n",
       "        text-align: right;\n",
       "    }\n",
       "</style>\n",
       "<table border=\"1\" class=\"dataframe\">\n",
       "  <thead>\n",
       "    <tr style=\"text-align: right;\">\n",
       "      <th></th>\n",
       "    </tr>\n",
       "    <tr>\n",
       "      <th>name</th>\n",
       "    </tr>\n",
       "  </thead>\n",
       "  <tbody>\n",
       "    <tr>\n",
       "      <th>Follicular</th>\n",
       "    </tr>\n",
       "    <tr>\n",
       "      <th>Fibro General</th>\n",
       "    </tr>\n",
       "    <tr>\n",
       "      <th>Acinar</th>\n",
       "    </tr>\n",
       "  </tbody>\n",
       "</table>\n",
       "</div>"
      ],
      "text/plain": [
       "Empty DataFrame\n",
       "Columns: []\n",
       "Index: [Follicular, Fibro General, Acinar]"
      ]
     },
     "execution_count": 17,
     "metadata": {},
     "output_type": "execute_result"
    }
   ],
   "source": [
    "# var contains the tasks\n",
    "odds.var.head(3)"
   ]
  },
  {
   "cell_type": "code",
   "execution_count": 18,
   "id": "264d02d6-65ef-41e9-ba37-29b386c396e2",
   "metadata": {},
   "outputs": [
    {
     "data": {
      "text/html": [
       "<div>\n",
       "<style scoped>\n",
       "    .dataframe tbody tr th:only-of-type {\n",
       "        vertical-align: middle;\n",
       "    }\n",
       "\n",
       "    .dataframe tbody tr th {\n",
       "        vertical-align: top;\n",
       "    }\n",
       "\n",
       "    .dataframe thead th {\n",
       "        text-align: right;\n",
       "    }\n",
       "</style>\n",
       "<table border=\"1\" class=\"dataframe\">\n",
       "  <thead>\n",
       "    <tr style=\"text-align: right;\">\n",
       "      <th></th>\n",
       "      <th>chrom</th>\n",
       "      <th>pos</th>\n",
       "      <th>alt</th>\n",
       "      <th>ref</th>\n",
       "      <th>rsid</th>\n",
       "      <th>zscore</th>\n",
       "      <th>pval</th>\n",
       "      <th>nsum</th>\n",
       "      <th>neff</th>\n",
       "      <th>direction</th>\n",
       "      <th>eaf</th>\n",
       "      <th>beta</th>\n",
       "      <th>se</th>\n",
       "    </tr>\n",
       "    <tr>\n",
       "      <th>snpid</th>\n",
       "      <th></th>\n",
       "      <th></th>\n",
       "      <th></th>\n",
       "      <th></th>\n",
       "      <th></th>\n",
       "      <th></th>\n",
       "      <th></th>\n",
       "      <th></th>\n",
       "      <th></th>\n",
       "      <th></th>\n",
       "      <th></th>\n",
       "      <th></th>\n",
       "      <th></th>\n",
       "    </tr>\n",
       "  </thead>\n",
       "  <tbody>\n",
       "    <tr>\n",
       "      <th>1:906769_A_C</th>\n",
       "      <td>chr1</td>\n",
       "      <td>906769</td>\n",
       "      <td>A</td>\n",
       "      <td>C</td>\n",
       "      <td>rs78850589</td>\n",
       "      <td>4.060775</td>\n",
       "      <td>0.000049</td>\n",
       "      <td>364859</td>\n",
       "      <td>364859.0</td>\n",
       "      <td>??+?</td>\n",
       "      <td>0.001725</td>\n",
       "      <td>0.114563</td>\n",
       "      <td>0.028212</td>\n",
       "    </tr>\n",
       "    <tr>\n",
       "      <th>1:985377_T_C</th>\n",
       "      <td>chr1</td>\n",
       "      <td>985377</td>\n",
       "      <td>T</td>\n",
       "      <td>C</td>\n",
       "      <td>rs113020870</td>\n",
       "      <td>3.991380</td>\n",
       "      <td>0.000066</td>\n",
       "      <td>364185</td>\n",
       "      <td>364185.0</td>\n",
       "      <td>??+?</td>\n",
       "      <td>0.002895</td>\n",
       "      <td>0.087045</td>\n",
       "      <td>0.021808</td>\n",
       "    </tr>\n",
       "    <tr>\n",
       "      <th>1:5175897_T_C</th>\n",
       "      <td>chr1</td>\n",
       "      <td>5175897</td>\n",
       "      <td>T</td>\n",
       "      <td>C</td>\n",
       "      <td>rs4949167</td>\n",
       "      <td>-3.920242</td>\n",
       "      <td>0.000088</td>\n",
       "      <td>17477</td>\n",
       "      <td>17477.0</td>\n",
       "      <td>???-</td>\n",
       "      <td>0.460200</td>\n",
       "      <td>-0.042052</td>\n",
       "      <td>0.010727</td>\n",
       "    </tr>\n",
       "  </tbody>\n",
       "</table>\n",
       "</div>"
      ],
      "text/plain": [
       "              chrom      pos alt ref         rsid    zscore      pval    nsum  \\\n",
       "snpid                                                                           \n",
       "1:906769_A_C   chr1   906769   A   C   rs78850589  4.060775  0.000049  364859   \n",
       "1:985377_T_C   chr1   985377   T   C  rs113020870  3.991380  0.000066  364185   \n",
       "1:5175897_T_C  chr1  5175897   T   C    rs4949167 -3.920242  0.000088   17477   \n",
       "\n",
       "                   neff direction       eaf      beta        se  \n",
       "snpid                                                            \n",
       "1:906769_A_C   364859.0      ??+?  0.001725  0.114563  0.028212  \n",
       "1:985377_T_C   364185.0      ??+?  0.002895  0.087045  0.021808  \n",
       "1:5175897_T_C   17477.0      ???-  0.460200 -0.042052  0.010727  "
      ]
     },
     "execution_count": 18,
     "metadata": {},
     "output_type": "execute_result"
    }
   ],
   "source": [
    "# obs contains the \n",
    "odds.obs.head(3)"
   ]
  },
  {
   "cell_type": "markdown",
   "id": "f1c588af-cfce-428a-ad5b-bd84715bdda7",
   "metadata": {},
   "source": [
    "## Select a variant with effect specific to microglia"
   ]
  },
  {
   "cell_type": "markdown",
   "id": "f5a4307b-a868-4d35-bae4-183d37934bfc",
   "metadata": {},
   "source": [
    "As an example, we search for variants that strongly disrupt accessibility in microglia but not in all cell types.\n",
    "\n",
    "We set some arbitrary thresholds; The log2 fold change of the alt allele w.r.t the ref allele should be < -3, and the average log2 fold change of the alt allele w.r.t the ref allele should be nonnegative.\n",
    "\n",
    "This implies that the alt allele should decrease accessibility in microglia to < 1/8 of its reference\n",
    "value, but should not decrease accessibility across all cell types on average."
   ]
  },
  {
   "cell_type": "code",
   "execution_count": 20,
   "id": "b8fc6f83-2481-4863-b8c4-b8824c8317b9",
   "metadata": {},
   "outputs": [],
   "source": [
    "# Calculate the mean variant effect across all cell types\n",
    "mean_variant_effect = odds.X.mean(1) "
   ]
  },
  {
   "cell_type": "code",
   "execution_count": 21,
   "id": "64783a3f-8571-40d8-8f72-db690ec043a3",
   "metadata": {},
   "outputs": [],
   "source": [
    "# Calculate the variant effect only in microglia\n",
    "microglia_effect = odds[:, 'Microglia'].X.squeeze() "
   ]
  },
  {
   "cell_type": "code",
   "execution_count": 22,
   "id": "54055424-c16c-4190-83f8-2585fcd31ec8",
   "metadata": {},
   "outputs": [
    {
     "data": {
      "text/plain": [
       "View of AnnData object with n_obs × n_vars = 2 × 203\n",
       "    obs: 'chrom', 'pos', 'alt', 'ref', 'rsid', 'zscore', 'pval', 'nsum', 'neff', 'direction', 'eaf', 'beta', 'se'"
      ]
     },
     "execution_count": 22,
     "metadata": {},
     "output_type": "execute_result"
    }
   ],
   "source": [
    "microglia_specific_variants = odds[np.where(\n",
    "    (microglia_effect < -3) & (mean_variant_effect >= 0) \n",
    ")[0], :]\n",
    "\n",
    "microglia_specific_variants"
   ]
  },
  {
   "cell_type": "code",
   "execution_count": 23,
   "id": "ef1537a4-98a3-4a55-9033-7047e9600aaa",
   "metadata": {},
   "outputs": [
    {
     "data": {
      "text/html": [
       "<div>\n",
       "<style scoped>\n",
       "    .dataframe tbody tr th:only-of-type {\n",
       "        vertical-align: middle;\n",
       "    }\n",
       "\n",
       "    .dataframe tbody tr th {\n",
       "        vertical-align: top;\n",
       "    }\n",
       "\n",
       "    .dataframe thead th {\n",
       "        text-align: right;\n",
       "    }\n",
       "</style>\n",
       "<table border=\"1\" class=\"dataframe\">\n",
       "  <thead>\n",
       "    <tr style=\"text-align: right;\">\n",
       "      <th></th>\n",
       "      <th>chrom</th>\n",
       "      <th>pos</th>\n",
       "      <th>alt</th>\n",
       "      <th>ref</th>\n",
       "      <th>rsid</th>\n",
       "      <th>zscore</th>\n",
       "      <th>pval</th>\n",
       "      <th>nsum</th>\n",
       "      <th>neff</th>\n",
       "      <th>direction</th>\n",
       "      <th>eaf</th>\n",
       "      <th>beta</th>\n",
       "      <th>se</th>\n",
       "    </tr>\n",
       "    <tr>\n",
       "      <th>snpid</th>\n",
       "      <th></th>\n",
       "      <th></th>\n",
       "      <th></th>\n",
       "      <th></th>\n",
       "      <th></th>\n",
       "      <th></th>\n",
       "      <th></th>\n",
       "      <th></th>\n",
       "      <th></th>\n",
       "      <th></th>\n",
       "      <th></th>\n",
       "      <th></th>\n",
       "      <th></th>\n",
       "    </tr>\n",
       "  </thead>\n",
       "  <tbody>\n",
       "    <tr>\n",
       "      <th>4:112976517_T_C</th>\n",
       "      <td>chr4</td>\n",
       "      <td>112976517</td>\n",
       "      <td>T</td>\n",
       "      <td>C</td>\n",
       "      <td>rs7692142</td>\n",
       "      <td>4.852056</td>\n",
       "      <td>0.000001</td>\n",
       "      <td>434177</td>\n",
       "      <td>427660.96</td>\n",
       "      <td>?+++</td>\n",
       "      <td>0.298691</td>\n",
       "      <td>0.011463</td>\n",
       "      <td>0.002362</td>\n",
       "    </tr>\n",
       "    <tr>\n",
       "      <th>6:76659840_T_G</th>\n",
       "      <td>chr6</td>\n",
       "      <td>76659840</td>\n",
       "      <td>T</td>\n",
       "      <td>G</td>\n",
       "      <td>rs138940043</td>\n",
       "      <td>4.009219</td>\n",
       "      <td>0.000061</td>\n",
       "      <td>363637</td>\n",
       "      <td>363637.00</td>\n",
       "      <td>??+?</td>\n",
       "      <td>0.006560</td>\n",
       "      <td>0.058235</td>\n",
       "      <td>0.014525</td>\n",
       "    </tr>\n",
       "  </tbody>\n",
       "</table>\n",
       "</div>"
      ],
      "text/plain": [
       "                chrom        pos alt ref         rsid    zscore      pval  \\\n",
       "snpid                                                                       \n",
       "4:112976517_T_C  chr4  112976517   T   C    rs7692142  4.852056  0.000001   \n",
       "6:76659840_T_G   chr6   76659840   T   G  rs138940043  4.009219  0.000061   \n",
       "\n",
       "                   nsum       neff direction       eaf      beta        se  \n",
       "snpid                                                                       \n",
       "4:112976517_T_C  434177  427660.96      ?+++  0.298691  0.011463  0.002362  \n",
       "6:76659840_T_G   363637  363637.00      ??+?  0.006560  0.058235  0.014525  "
      ]
     },
     "execution_count": 23,
     "metadata": {},
     "output_type": "execute_result"
    }
   ],
   "source": [
    "microglia_specific_variants.obs"
   ]
  },
  {
   "cell_type": "markdown",
   "id": "0d0ba156-1543-4bbf-95af-9647bc754e17",
   "metadata": {},
   "source": [
    "We will pick one of these microglia specific variants to analyze further."
   ]
  },
  {
   "cell_type": "code",
   "execution_count": 24,
   "id": "9c89865e-0a6c-4a4b-84b6-b693d8507bf5",
   "metadata": {},
   "outputs": [
    {
     "data": {
      "text/html": [
       "<div>\n",
       "<style scoped>\n",
       "    .dataframe tbody tr th:only-of-type {\n",
       "        vertical-align: middle;\n",
       "    }\n",
       "\n",
       "    .dataframe tbody tr th {\n",
       "        vertical-align: top;\n",
       "    }\n",
       "\n",
       "    .dataframe thead th {\n",
       "        text-align: right;\n",
       "    }\n",
       "</style>\n",
       "<table border=\"1\" class=\"dataframe\">\n",
       "  <thead>\n",
       "    <tr style=\"text-align: right;\">\n",
       "      <th></th>\n",
       "      <th>chrom</th>\n",
       "      <th>pos</th>\n",
       "      <th>alt</th>\n",
       "      <th>ref</th>\n",
       "      <th>rsid</th>\n",
       "      <th>zscore</th>\n",
       "      <th>pval</th>\n",
       "      <th>nsum</th>\n",
       "      <th>neff</th>\n",
       "      <th>direction</th>\n",
       "      <th>eaf</th>\n",
       "      <th>beta</th>\n",
       "      <th>se</th>\n",
       "    </tr>\n",
       "    <tr>\n",
       "      <th>snpid</th>\n",
       "      <th></th>\n",
       "      <th></th>\n",
       "      <th></th>\n",
       "      <th></th>\n",
       "      <th></th>\n",
       "      <th></th>\n",
       "      <th></th>\n",
       "      <th></th>\n",
       "      <th></th>\n",
       "      <th></th>\n",
       "      <th></th>\n",
       "      <th></th>\n",
       "      <th></th>\n",
       "    </tr>\n",
       "  </thead>\n",
       "  <tbody>\n",
       "    <tr>\n",
       "      <th>6:76659840_T_G</th>\n",
       "      <td>chr6</td>\n",
       "      <td>76659840</td>\n",
       "      <td>T</td>\n",
       "      <td>G</td>\n",
       "      <td>rs138940043</td>\n",
       "      <td>4.009219</td>\n",
       "      <td>0.000061</td>\n",
       "      <td>363637</td>\n",
       "      <td>363637.0</td>\n",
       "      <td>??+?</td>\n",
       "      <td>0.00656</td>\n",
       "      <td>0.058235</td>\n",
       "      <td>0.014525</td>\n",
       "    </tr>\n",
       "  </tbody>\n",
       "</table>\n",
       "</div>"
      ],
      "text/plain": [
       "               chrom       pos alt ref         rsid    zscore      pval  \\\n",
       "snpid                                                                     \n",
       "6:76659840_T_G  chr6  76659840   T   G  rs138940043  4.009219  0.000061   \n",
       "\n",
       "                  nsum      neff direction      eaf      beta        se  \n",
       "snpid                                                                    \n",
       "6:76659840_T_G  363637  363637.0      ??+?  0.00656  0.058235  0.014525  "
      ]
     },
     "execution_count": 24,
     "metadata": {},
     "output_type": "execute_result"
    }
   ],
   "source": [
    "variant = microglia_specific_variants.obs.iloc[[1], :]\n",
    "variant"
   ]
  },
  {
   "cell_type": "markdown",
   "id": "c3b05fa7-5576-431b-b1c2-a8ed7b9ed451",
   "metadata": {},
   "source": [
    "Let's look at the effect size (log2FC) for this variant:"
   ]
  },
  {
   "cell_type": "code",
   "execution_count": 25,
   "id": "ab29e1ec-36c2-4a5e-afd8-17c0f9cb737a",
   "metadata": {},
   "outputs": [
    {
     "data": {
      "text/plain": [
       "ArrayView([[-3.0267072]], dtype=float32)"
      ]
     },
     "execution_count": 25,
     "metadata": {},
     "output_type": "execute_result"
    }
   ],
   "source": [
    "variant_effect_size = microglia_specific_variants[1, \"Microglia\"].X\n",
    "variant_effect_size"
   ]
  },
  {
   "cell_type": "markdown",
   "id": "cd730660-aedc-48e4-abf5-a4db02c81783",
   "metadata": {},
   "source": [
    "## View importance scores in microglia for the bases surrounding the selected variant"
   ]
  },
  {
   "cell_type": "markdown",
   "id": "6737e40a-f414-48fb-9578-db60529822ec",
   "metadata": {},
   "source": [
    "We can use DeepSHAP to calculate attributions for each base in the reference and alternate sequence. However, we want to score each base specifically by its importance to the model's prediction in microglia and not the model's predictions on other tasks.\n",
    "\n",
    "To do this we define a transform that operates on the model's predictions and selects only the predictions in Microglia."
   ]
  },
  {
   "cell_type": "code",
   "execution_count": 27,
   "id": "068917f0-a731-48c0-9a52-7da3a31ef47d",
   "metadata": {},
   "outputs": [],
   "source": [
    "from grelu.transforms.prediction_transforms import Aggregate\n",
    "microglia_score = Aggregate(tasks=[\"Microglia\"], model=model)"
   ]
  },
  {
   "cell_type": "markdown",
   "id": "057b35a2-7761-4079-969e-c544b5bbceb2",
   "metadata": {},
   "source": [
    "Next, we extract the 200 bp long genomic sequences containing the reference and alternate alleles."
   ]
  },
  {
   "cell_type": "code",
   "execution_count": 28,
   "id": "16c8bc65-f479-41b2-a74e-314c5a92f110",
   "metadata": {
    "tags": []
   },
   "outputs": [
    {
     "data": {
      "text/plain": [
       "('CAAAGATATATGTCATAATAATTATCTTTTCACTTTCTTTGTTAGGGACCAGGAATGATAAACCACTTAGTCATTTTTTAGGTTTACAAGAACTTAAGGGGAACTAAGAAAGGAACCCTTACTCCTGAACTCTCAGCCTCATCTGTGCTGGACCATTCTAACTTTGTACCCTTTCATGAGATTGATATAATTTAGAAAAT',\n",
       " 'CAAAGATATATGTCATAATAATTATCTTTTCACTTTCTTTGTTAGGGACCAGGAATGATAAACCACTTAGTCATTTTTTAGGTTTACAAGAACTTAAGGTGAACTAAGAAAGGAACCCTTACTCCTGAACTCTCAGCCTCATCTGTGCTGGACCATTCTAACTTTGTACCCTTTCATGAGATTGATATAATTTAGAAAAT')"
      ]
     },
     "execution_count": 28,
     "metadata": {},
     "output_type": "execute_result"
    }
   ],
   "source": [
    "ref_seq, alt_seq = grelu.variant.variant_to_seqs(\n",
    "    seq_len=model.data_params['train_seq_len'],\n",
    "    genome='hg19',\n",
    "    **variant.iloc[0][[\"chrom\", \"pos\", \"ref\", \"alt\"]]\n",
    ")\n",
    "\n",
    "ref_seq, alt_seq"
   ]
  },
  {
   "cell_type": "markdown",
   "id": "0691bea3-d07e-4dc5-a648-165fba7ddad6",
   "metadata": {},
   "source": [
    "We are now ready to calculate the per-base attribution scores. For this, we use the `grelu.interpret.score` module, which contains functions related to scoring the importance of each base in a sequence."
   ]
  },
  {
   "cell_type": "code",
   "execution_count": 29,
   "id": "99ee2774-d1f3-4827-af93-9b668e3a749f",
   "metadata": {
    "tags": []
   },
   "outputs": [],
   "source": [
    "import grelu.interpret.score\n",
    "\n",
    "ref_attrs = grelu.interpret.score.get_attributions(\n",
    "    model, ref_seq, prediction_transform=microglia_score, device=0, seed=0\n",
    ")\n",
    "\n",
    "alt_attrs = grelu.interpret.score.get_attributions(\n",
    "    model, alt_seq, prediction_transform=microglia_score, device=0, seed=0\n",
    ")"
   ]
  },
  {
   "cell_type": "markdown",
   "id": "059d0439-b639-42b5-937b-15f856ed4507",
   "metadata": {},
   "source": [
    "We can visualize the attribution scores for the center of the sequence, highlighting the bases near the variant."
   ]
  },
  {
   "cell_type": "code",
   "execution_count": 30,
   "id": "cd16fc8c-1d5f-4aba-9561-abd09cb63dbc",
   "metadata": {
    "tags": []
   },
   "outputs": [
    {
     "data": {
      "text/plain": [
       "<logomaker.src.Logo.Logo at 0x7f3d47246d90>"
      ]
     },
     "execution_count": 30,
     "metadata": {},
     "output_type": "execute_result"
    },
    {
     "data": {
      "image/png": "[encoded data removed]",
      "text/plain": [
       "<Figure size 2000x200 with 1 Axes>"
      ]
     },
     "metadata": {},
     "output_type": "display_data"
    }
   ],
   "source": [
    "import grelu.visualize\n",
    "grelu.visualize.plot_attributions(\n",
    "    ref_attrs, start_pos=50, end_pos=150,\n",
    "    highlight_centers=[100], highlight_width=7, ticks=5\n",
    ")"
   ]
  },
  {
   "cell_type": "code",
   "execution_count": 31,
   "id": "919c92a9-9686-4dfc-957e-4dda152376de",
   "metadata": {
    "tags": []
   },
   "outputs": [
    {
     "data": {
      "text/plain": [
       "<logomaker.src.Logo.Logo at 0x7f3d2ef12090>"
      ]
     },
     "execution_count": 31,
     "metadata": {},
     "output_type": "execute_result"
    },
    {
     "data": {
      "image/png": "[encoded data removed]",
      "text/plain": [
       "<Figure size 2000x200 with 1 Axes>"
      ]
     },
     "metadata": {},
     "output_type": "display_data"
    }
   ],
   "source": [
    "grelu.visualize.plot_attributions(\n",
    "    alt_attrs, start_pos=50, end_pos=150,\n",
    "    highlight_centers=[100], highlight_width=7, ticks=5\n",
    ")"
   ]
  },
  {
   "cell_type": "markdown",
   "id": "84e58ea7-bbe6-46c4-b5de-40338881062a",
   "metadata": {},
   "source": [
    "## ISM"
   ]
  },
  {
   "cell_type": "markdown",
   "id": "9277de95-36ee-461e-822a-1a3cadbcedf0",
   "metadata": {},
   "source": [
    "We can also perform ISM (In silico mutagenesis) of the bases surrounding the variant to see what the effect would be if we mutated the reference allele to any other base. The `ISM_predict` function in `grelu.interpret.score` performs every possible single-base substitution on the given sequence, predicts the effect of each substitution, and optionally compares these predictions to the reference sequence to return an effect size for each substitution. \n",
    "\n",
    "Once again, since we are interested in how important each base is to the model's prediction in microglia,\n",
    "we use the `microglia_score` transform. This ensures that ISM will score each base's importance to the\n",
    "microglial prediction only."
   ]
  },
  {
   "cell_type": "code",
   "execution_count": 32,
   "id": "42996ad5-349e-43ed-94ef-26cdd2b7a1a0",
   "metadata": {},
   "outputs": [
    {
     "name": "stderr",
     "output_type": "stream",
     "text": [
      "GPU available: True (cuda), used: True\n",
      "TPU available: False, using: 0 TPU cores\n",
      "IPU available: False, using: 0 IPUs\n",
      "HPU available: False, using: 0 HPUs\n",
      "LOCAL_RANK: 0 - CUDA_VISIBLE_DEVICES: [0,1,2,3,4,5,6,7]\n"
     ]
    },
    {
     "name": "stdout",
     "output_type": "stream",
     "text": [
      "Predicting DataLoader 0: 100%|████████████████████████████████████████████████████████████████████████████████████| 13/13 [00:00<00:00, 13.68it/s]\n"
     ]
    }
   ],
   "source": [
    "ism = grelu.interpret.score.ISM_predict(\n",
    "    ref_seq,\n",
    "    model,\n",
    "    prediction_transform=microglia_score, # Focus on the prediction in microglia\n",
    "    compare_func = \"log2FC\", # Return the log2FC of the mutated sequence prediction w.r.t the reference sequence\n",
    "    devices=0, # Index of the GPU to use\n",
    "    num_workers=8,\n",
    ")"
   ]
  },
  {
   "cell_type": "code",
   "execution_count": 33,
   "id": "a6450240-3ef7-4d76-95d2-1a31b4db8d5d",
   "metadata": {},
   "outputs": [
    {
     "data": {
      "text/html": [
       "<div>\n",
       "<style scoped>\n",
       "    .dataframe tbody tr th:only-of-type {\n",
       "        vertical-align: middle;\n",
       "    }\n",
       "\n",
       "    .dataframe tbody tr th {\n",
       "        vertical-align: top;\n",
       "    }\n",
       "\n",
       "    .dataframe thead th {\n",
       "        text-align: right;\n",
       "    }\n",
       "</style>\n",
       "<table border=\"1\" class=\"dataframe\">\n",
       "  <thead>\n",
       "    <tr style=\"text-align: right;\">\n",
       "      <th></th>\n",
       "      <th>C</th>\n",
       "      <th>A</th>\n",
       "      <th>A</th>\n",
       "      <th>A</th>\n",
       "      <th>G</th>\n",
       "      <th>A</th>\n",
       "      <th>T</th>\n",
       "      <th>A</th>\n",
       "      <th>T</th>\n",
       "      <th>A</th>\n",
       "      <th>...</th>\n",
       "      <th>T</th>\n",
       "      <th>T</th>\n",
       "      <th>T</th>\n",
       "      <th>A</th>\n",
       "      <th>G</th>\n",
       "      <th>A</th>\n",
       "      <th>A</th>\n",
       "      <th>A</th>\n",
       "      <th>A</th>\n",
       "      <th>T</th>\n",
       "    </tr>\n",
       "  </thead>\n",
       "  <tbody>\n",
       "    <tr>\n",
       "      <th>A</th>\n",
       "      <td>0.021837</td>\n",
       "      <td>0.000000</td>\n",
       "      <td>0.000000</td>\n",
       "      <td>0.000000</td>\n",
       "      <td>0.064612</td>\n",
       "      <td>0.000000</td>\n",
       "      <td>0.074665</td>\n",
       "      <td>0.000000</td>\n",
       "      <td>0.141144</td>\n",
       "      <td>0.000000</td>\n",
       "      <td>...</td>\n",
       "      <td>0.024487</td>\n",
       "      <td>0.240718</td>\n",
       "      <td>-0.071944</td>\n",
       "      <td>-0.001468</td>\n",
       "      <td>0.079579</td>\n",
       "      <td>-0.001468</td>\n",
       "      <td>-0.001468</td>\n",
       "      <td>-0.001468</td>\n",
       "      <td>-0.001468</td>\n",
       "      <td>0.031891</td>\n",
       "    </tr>\n",
       "    <tr>\n",
       "      <th>C</th>\n",
       "      <td>0.000000</td>\n",
       "      <td>0.054875</td>\n",
       "      <td>0.060171</td>\n",
       "      <td>-0.006697</td>\n",
       "      <td>0.100235</td>\n",
       "      <td>0.011247</td>\n",
       "      <td>-0.081919</td>\n",
       "      <td>0.229981</td>\n",
       "      <td>0.048716</td>\n",
       "      <td>0.078175</td>\n",
       "      <td>...</td>\n",
       "      <td>0.015034</td>\n",
       "      <td>-0.062364</td>\n",
       "      <td>-0.053532</td>\n",
       "      <td>0.006155</td>\n",
       "      <td>-0.068569</td>\n",
       "      <td>-0.023276</td>\n",
       "      <td>-0.060475</td>\n",
       "      <td>-0.029509</td>\n",
       "      <td>0.013227</td>\n",
       "      <td>-0.022191</td>\n",
       "    </tr>\n",
       "    <tr>\n",
       "      <th>G</th>\n",
       "      <td>0.008266</td>\n",
       "      <td>0.038188</td>\n",
       "      <td>0.081425</td>\n",
       "      <td>-0.067932</td>\n",
       "      <td>0.000000</td>\n",
       "      <td>-0.229953</td>\n",
       "      <td>0.079916</td>\n",
       "      <td>0.106205</td>\n",
       "      <td>0.191925</td>\n",
       "      <td>-0.116608</td>\n",
       "      <td>...</td>\n",
       "      <td>0.022168</td>\n",
       "      <td>0.002151</td>\n",
       "      <td>-0.070838</td>\n",
       "      <td>-0.094638</td>\n",
       "      <td>-0.001468</td>\n",
       "      <td>0.094412</td>\n",
       "      <td>-0.058587</td>\n",
       "      <td>-0.011603</td>\n",
       "      <td>-0.022865</td>\n",
       "      <td>0.009309</td>\n",
       "    </tr>\n",
       "    <tr>\n",
       "      <th>T</th>\n",
       "      <td>0.072648</td>\n",
       "      <td>0.033402</td>\n",
       "      <td>0.077830</td>\n",
       "      <td>-0.216194</td>\n",
       "      <td>0.104233</td>\n",
       "      <td>0.080246</td>\n",
       "      <td>0.000000</td>\n",
       "      <td>-0.113641</td>\n",
       "      <td>0.000000</td>\n",
       "      <td>0.175164</td>\n",
       "      <td>...</td>\n",
       "      <td>0.000000</td>\n",
       "      <td>0.000000</td>\n",
       "      <td>-0.001468</td>\n",
       "      <td>-0.178753</td>\n",
       "      <td>0.111556</td>\n",
       "      <td>0.017715</td>\n",
       "      <td>-0.178771</td>\n",
       "      <td>0.042552</td>\n",
       "      <td>0.009940</td>\n",
       "      <td>-0.001468</td>\n",
       "    </tr>\n",
       "  </tbody>\n",
       "</table>\n",
       "<p>4 rows × 200 columns</p>\n",
       "</div>"
      ],
      "text/plain": [
       "          C         A         A         A         G         A         T  \\\n",
       "A  0.021837  0.000000  0.000000  0.000000  0.064612  0.000000  0.074665   \n",
       "C  0.000000  0.054875  0.060171 -0.006697  0.100235  0.011247 -0.081919   \n",
       "G  0.008266  0.038188  0.081425 -0.067932  0.000000 -0.229953  0.079916   \n",
       "T  0.072648  0.033402  0.077830 -0.216194  0.104233  0.080246  0.000000   \n",
       "\n",
       "          A         T         A  ...         T         T         T         A  \\\n",
       "A  0.000000  0.141144  0.000000  ...  0.024487  0.240718 -0.071944 -0.001468   \n",
       "C  0.229981  0.048716  0.078175  ...  0.015034 -0.062364 -0.053532  0.006155   \n",
       "G  0.106205  0.191925 -0.116608  ...  0.022168  0.002151 -0.070838 -0.094638   \n",
       "T -0.113641  0.000000  0.175164  ...  0.000000  0.000000 -0.001468 -0.178753   \n",
       "\n",
       "          G         A         A         A         A         T  \n",
       "A  0.079579 -0.001468 -0.001468 -0.001468 -0.001468  0.031891  \n",
       "C -0.068569 -0.023276 -0.060475 -0.029509  0.013227 -0.022191  \n",
       "G -0.001468  0.094412 -0.058587 -0.011603 -0.022865  0.009309  \n",
       "T  0.111556  0.017715 -0.178771  0.042552  0.009940 -0.001468  \n",
       "\n",
       "[4 rows x 200 columns]"
      ]
     },
     "execution_count": 33,
     "metadata": {},
     "output_type": "execute_result"
    }
   ],
   "source": [
    "ism"
   ]
  },
  {
   "cell_type": "code",
   "execution_count": 34,
   "id": "ec7c4de2-6ae2-4559-9979-f736031c6646",
   "metadata": {},
   "outputs": [
    {
     "data": {
      "text/plain": [
       "<Axes: >"
      ]
     },
     "execution_count": 34,
     "metadata": {},
     "output_type": "execute_result"
    },
    {
     "data": {
      "image/png": "[encoded data removed]",
      "text/plain": [
       "<Figure size 2000x150 with 2 Axes>"
      ]
     },
     "metadata": {},
     "output_type": "display_data"
    }
   ],
   "source": [
    "grelu.visualize.plot_ISM(ism, method=\"heatmap\", center=0, figsize=(20, 1.5))"
   ]
  },
  {
   "cell_type": "code",
   "execution_count": 35,
   "id": "a1397564-d4ba-457f-a52d-b4bf85ab599c",
   "metadata": {},
   "outputs": [
    {
     "data": {
      "text/plain": [
       "<logomaker.src.Logo.Logo at 0x7f3d29696c90>"
      ]
     },
     "execution_count": 35,
     "metadata": {},
     "output_type": "execute_result"
    },
    {
     "data": {
      "image/png": "[encoded data removed]",
      "text/plain": [
       "<Figure size 2000x150 with 1 Axes>"
      ]
     },
     "metadata": {},
     "output_type": "display_data"
    }
   ],
   "source": [
    "grelu.visualize.plot_ISM(ism, method='logo', figsize=(20, 1.5))"
   ]
  },
  {
   "cell_type": "markdown",
   "id": "9a0fa29a-37c4-4890-aab7-5eaa87dbfba6",
   "metadata": {},
   "source": [
    "## Scan variant with JASPAR consensus motifs"
   ]
  },
  {
   "cell_type": "markdown",
   "id": "2b9e89d0-fee6-477e-8ba9-09bb35b51f31",
   "metadata": {},
   "source": [
    "We now scan the sequences immediately around the variant to identify known TF motifs that may have been disrupted by the variant."
   ]
  },
  {
   "cell_type": "code",
   "execution_count": 36,
   "id": "9ffd7e02-8fd1-4120-90aa-05e50765af97",
   "metadata": {
    "tags": []
   },
   "outputs": [
    {
     "data": {
      "text/plain": [
       "('AACTTAAGGGGAACTAAGAA', 'AACTTAAGGTGAACTAAGAA')"
      ]
     },
     "execution_count": 36,
     "metadata": {},
     "output_type": "execute_result"
    }
   ],
   "source": [
    "# Select the central bases of the sequence\n",
    "central_ref_seq = grelu.sequence.utils.resize(ref_seq, 20)\n",
    "central_alt_seq = grelu.sequence.utils.resize(alt_seq, 20)\n",
    "\n",
    "central_ref_seq, central_alt_seq"
   ]
  },
  {
   "cell_type": "markdown",
   "id": "3b837992-3e2d-4eb3-a931-572d4c842e6a",
   "metadata": {},
   "source": [
    "We can use the `grelu.interpret.motifs` module to scan these sequences with TF motifs. Here, we use a reference set of non-redundant motifs (https://www.vierstra.org/resources/motif_clustering) that are provided with gReLU as `consensus`."
   ]
  },
  {
   "cell_type": "code",
   "execution_count": 37,
   "id": "e7030c99-174f-4fcb-b21e-6e89e1f6ee4d",
   "metadata": {},
   "outputs": [
    {
     "name": "stdout",
     "output_type": "stream",
     "text": [
      "Read 637 motifs from file.\n"
     ]
    },
    {
     "data": {
      "text/html": [
       "<div>\n",
       "<style scoped>\n",
       "    .dataframe tbody tr th:only-of-type {\n",
       "        vertical-align: middle;\n",
       "    }\n",
       "\n",
       "    .dataframe tbody tr th {\n",
       "        vertical-align: top;\n",
       "    }\n",
       "\n",
       "    .dataframe thead th {\n",
       "        text-align: right;\n",
       "    }\n",
       "</style>\n",
       "<table border=\"1\" class=\"dataframe\">\n",
       "  <thead>\n",
       "    <tr style=\"text-align: right;\">\n",
       "      <th></th>\n",
       "      <th>motif</th>\n",
       "      <th>sequence</th>\n",
       "      <th>start</th>\n",
       "      <th>end</th>\n",
       "      <th>strand</th>\n",
       "      <th>score</th>\n",
       "      <th>pval</th>\n",
       "    </tr>\n",
       "  </thead>\n",
       "  <tbody>\n",
       "    <tr>\n",
       "      <th>0</th>\n",
       "      <td>AC0076:OVOL:C2H2_ZF</td>\n",
       "      <td>ref</td>\n",
       "      <td>17</td>\n",
       "      <td>9</td>\n",
       "      <td>-</td>\n",
       "      <td>7.370000</td>\n",
       "      <td>0.000706</td>\n",
       "    </tr>\n",
       "    <tr>\n",
       "      <th>1</th>\n",
       "      <td>AC0079:ZNF:C2H2_ZF</td>\n",
       "      <td>alt</td>\n",
       "      <td>15</td>\n",
       "      <td>2</td>\n",
       "      <td>-</td>\n",
       "      <td>1.918367</td>\n",
       "      <td>0.000258</td>\n",
       "    </tr>\n",
       "    <tr>\n",
       "      <th>2</th>\n",
       "      <td>AC0144:IKZF_NFKB:C2H2_ZF</td>\n",
       "      <td>ref</td>\n",
       "      <td>13</td>\n",
       "      <td>9</td>\n",
       "      <td>-</td>\n",
       "      <td>9.795918</td>\n",
       "      <td>0.000782</td>\n",
       "    </tr>\n",
       "    <tr>\n",
       "      <th>3</th>\n",
       "      <td>AC0175:MZF:C2H2_ZF</td>\n",
       "      <td>ref</td>\n",
       "      <td>13</td>\n",
       "      <td>6</td>\n",
       "      <td>-</td>\n",
       "      <td>8.070707</td>\n",
       "      <td>0.000656</td>\n",
       "    </tr>\n",
       "    <tr>\n",
       "      <th>4</th>\n",
       "      <td>AC0175:MZF:C2H2_ZF</td>\n",
       "      <td>ref</td>\n",
       "      <td>12</td>\n",
       "      <td>5</td>\n",
       "      <td>-</td>\n",
       "      <td>7.515152</td>\n",
       "      <td>0.000915</td>\n",
       "    </tr>\n",
       "  </tbody>\n",
       "</table>\n",
       "</div>"
      ],
      "text/plain": [
       "                      motif sequence  start  end strand     score      pval\n",
       "0       AC0076:OVOL:C2H2_ZF      ref     17    9      -  7.370000  0.000706\n",
       "1        AC0079:ZNF:C2H2_ZF      alt     15    2      -  1.918367  0.000258\n",
       "2  AC0144:IKZF_NFKB:C2H2_ZF      ref     13    9      -  9.795918  0.000782\n",
       "3        AC0175:MZF:C2H2_ZF      ref     13    6      -  8.070707  0.000656\n",
       "4        AC0175:MZF:C2H2_ZF      ref     12    5      -  7.515152  0.000915"
      ]
     },
     "execution_count": 37,
     "metadata": {},
     "output_type": "execute_result"
    }
   ],
   "source": [
    "# Scan with motifs\n",
    "import grelu.interpret.motifs\n",
    "\n",
    "scan = grelu.interpret.motifs.scan_sequences(\n",
    "    seqs=[central_ref_seq, central_alt_seq],\n",
    "    motifs='consensus',\n",
    "    seq_ids=['ref', 'alt'],\n",
    "    pthresh=1e-3,\n",
    "    rc=True # Scan both strands\n",
    ")\n",
    "scan.head()"
   ]
  },
  {
   "cell_type": "code",
   "execution_count": 38,
   "id": "b77442d6-35e1-4378-a980-2e715b216436",
   "metadata": {
    "tags": []
   },
   "outputs": [
    {
     "data": {
      "text/html": [
       "<div>\n",
       "<style scoped>\n",
       "    .dataframe tbody tr th:only-of-type {\n",
       "        vertical-align: middle;\n",
       "    }\n",
       "\n",
       "    .dataframe tbody tr th {\n",
       "        vertical-align: top;\n",
       "    }\n",
       "\n",
       "    .dataframe thead th {\n",
       "        text-align: right;\n",
       "    }\n",
       "</style>\n",
       "<table border=\"1\" class=\"dataframe\">\n",
       "  <thead>\n",
       "    <tr style=\"text-align: right;\">\n",
       "      <th>sequence</th>\n",
       "      <th>motif</th>\n",
       "      <th>start</th>\n",
       "      <th>end</th>\n",
       "      <th>strand</th>\n",
       "      <th>alt</th>\n",
       "      <th>ref</th>\n",
       "      <th>foldChange</th>\n",
       "    </tr>\n",
       "  </thead>\n",
       "  <tbody>\n",
       "    <tr>\n",
       "      <th>0</th>\n",
       "      <td>AC0076:OVOL:C2H2_ZF</td>\n",
       "      <td>17</td>\n",
       "      <td>9</td>\n",
       "      <td>-</td>\n",
       "      <td>0.000000</td>\n",
       "      <td>7.370000</td>\n",
       "      <td>0.000000</td>\n",
       "    </tr>\n",
       "    <tr>\n",
       "      <th>1</th>\n",
       "      <td>AC0079:ZNF:C2H2_ZF</td>\n",
       "      <td>15</td>\n",
       "      <td>2</td>\n",
       "      <td>-</td>\n",
       "      <td>1.918367</td>\n",
       "      <td>0.000000</td>\n",
       "      <td>inf</td>\n",
       "    </tr>\n",
       "    <tr>\n",
       "      <th>2</th>\n",
       "      <td>AC0144:IKZF_NFKB:C2H2_ZF</td>\n",
       "      <td>13</td>\n",
       "      <td>9</td>\n",
       "      <td>-</td>\n",
       "      <td>0.000000</td>\n",
       "      <td>9.795918</td>\n",
       "      <td>0.000000</td>\n",
       "    </tr>\n",
       "    <tr>\n",
       "      <th>3</th>\n",
       "      <td>AC0175:MZF:C2H2_ZF</td>\n",
       "      <td>12</td>\n",
       "      <td>5</td>\n",
       "      <td>-</td>\n",
       "      <td>0.000000</td>\n",
       "      <td>7.515152</td>\n",
       "      <td>0.000000</td>\n",
       "    </tr>\n",
       "    <tr>\n",
       "      <th>4</th>\n",
       "      <td>AC0175:MZF:C2H2_ZF</td>\n",
       "      <td>13</td>\n",
       "      <td>6</td>\n",
       "      <td>-</td>\n",
       "      <td>0.000000</td>\n",
       "      <td>8.070707</td>\n",
       "      <td>0.000000</td>\n",
       "    </tr>\n",
       "    <tr>\n",
       "      <th>5</th>\n",
       "      <td>AC0176:MZF:C2H2_ZF</td>\n",
       "      <td>14</td>\n",
       "      <td>7</td>\n",
       "      <td>-</td>\n",
       "      <td>0.000000</td>\n",
       "      <td>9.000000</td>\n",
       "      <td>0.000000</td>\n",
       "    </tr>\n",
       "    <tr>\n",
       "      <th>6</th>\n",
       "      <td>AC0177:ZNF_MZF:C2H2_ZF</td>\n",
       "      <td>17</td>\n",
       "      <td>6</td>\n",
       "      <td>-</td>\n",
       "      <td>0.000000</td>\n",
       "      <td>8.431193</td>\n",
       "      <td>0.000000</td>\n",
       "    </tr>\n",
       "    <tr>\n",
       "      <th>7</th>\n",
       "      <td>AC0186:ZNF:C2H2_ZF</td>\n",
       "      <td>17</td>\n",
       "      <td>8</td>\n",
       "      <td>-</td>\n",
       "      <td>0.000000</td>\n",
       "      <td>6.064220</td>\n",
       "      <td>0.000000</td>\n",
       "    </tr>\n",
       "    <tr>\n",
       "      <th>8</th>\n",
       "      <td>AC0227:SPI_BCL11A:Ets</td>\n",
       "      <td>6</td>\n",
       "      <td>17</td>\n",
       "      <td>+</td>\n",
       "      <td>5.727273</td>\n",
       "      <td>11.954545</td>\n",
       "      <td>0.479087</td>\n",
       "    </tr>\n",
       "    <tr>\n",
       "      <th>9</th>\n",
       "      <td>AC0477:ZNF:C2H2_ZF</td>\n",
       "      <td>16</td>\n",
       "      <td>3</td>\n",
       "      <td>-</td>\n",
       "      <td>0.000000</td>\n",
       "      <td>5.397959</td>\n",
       "      <td>0.000000</td>\n",
       "    </tr>\n",
       "    <tr>\n",
       "      <th>10</th>\n",
       "      <td>AC0606:SNAI_ZEB:C2H2_ZF</td>\n",
       "      <td>11</td>\n",
       "      <td>6</td>\n",
       "      <td>-</td>\n",
       "      <td>7.357798</td>\n",
       "      <td>0.000000</td>\n",
       "      <td>inf</td>\n",
       "    </tr>\n",
       "    <tr>\n",
       "      <th>11</th>\n",
       "      <td>AC0622:ELF_SPIB:Ets</td>\n",
       "      <td>6</td>\n",
       "      <td>15</td>\n",
       "      <td>+</td>\n",
       "      <td>0.000000</td>\n",
       "      <td>8.308943</td>\n",
       "      <td>0.000000</td>\n",
       "    </tr>\n",
       "    <tr>\n",
       "      <th>12</th>\n",
       "      <td>AC0624:ZBTB:C2H2_ZF</td>\n",
       "      <td>13</td>\n",
       "      <td>5</td>\n",
       "      <td>-</td>\n",
       "      <td>0.000000</td>\n",
       "      <td>5.693878</td>\n",
       "      <td>0.000000</td>\n",
       "    </tr>\n",
       "  </tbody>\n",
       "</table>\n",
       "</div>"
      ],
      "text/plain": [
       "sequence                     motif  start  end strand       alt        ref  \\\n",
       "0              AC0076:OVOL:C2H2_ZF     17    9      -  0.000000   7.370000   \n",
       "1               AC0079:ZNF:C2H2_ZF     15    2      -  1.918367   0.000000   \n",
       "2         AC0144:IKZF_NFKB:C2H2_ZF     13    9      -  0.000000   9.795918   \n",
       "3               AC0175:MZF:C2H2_ZF     12    5      -  0.000000   7.515152   \n",
       "4               AC0175:MZF:C2H2_ZF     13    6      -  0.000000   8.070707   \n",
       "5               AC0176:MZF:C2H2_ZF     14    7      -  0.000000   9.000000   \n",
       "6           AC0177:ZNF_MZF:C2H2_ZF     17    6      -  0.000000   8.431193   \n",
       "7               AC0186:ZNF:C2H2_ZF     17    8      -  0.000000   6.064220   \n",
       "8            AC0227:SPI_BCL11A:Ets      6   17      +  5.727273  11.954545   \n",
       "9               AC0477:ZNF:C2H2_ZF     16    3      -  0.000000   5.397959   \n",
       "10         AC0606:SNAI_ZEB:C2H2_ZF     11    6      -  7.357798   0.000000   \n",
       "11             AC0622:ELF_SPIB:Ets      6   15      +  0.000000   8.308943   \n",
       "12             AC0624:ZBTB:C2H2_ZF     13    5      -  0.000000   5.693878   \n",
       "\n",
       "sequence  foldChange  \n",
       "0           0.000000  \n",
       "1                inf  \n",
       "2           0.000000  \n",
       "3           0.000000  \n",
       "4           0.000000  \n",
       "5           0.000000  \n",
       "6           0.000000  \n",
       "7           0.000000  \n",
       "8           0.479087  \n",
       "9           0.000000  \n",
       "10               inf  \n",
       "11          0.000000  \n",
       "12          0.000000  "
      ]
     },
     "execution_count": 38,
     "metadata": {},
     "output_type": "execute_result"
    }
   ],
   "source": [
    "# Compare the results for alt and ref sequences\n",
    "scan = scan.pivot_table(index=['motif', 'start', 'end', 'strand'], columns=['sequence'],\n",
    "                 values='score').fillna(0).reset_index()\n",
    "scan['foldChange'] = scan.alt/scan.ref\n",
    "\n",
    "scan"
   ]
  },
  {
   "cell_type": "markdown",
   "id": "76d54bf3-dbcc-4a07-9b8d-e85a33a37a99",
   "metadata": {},
   "source": [
    "Note that the `AC0622:ELF_SPIB:Ets` motif is lost in the alternate allele-containing sequence."
   ]
  },
  {
   "cell_type": "markdown",
   "id": "0eeb24c2-a420-4523-82be-164ed1f1d56b",
   "metadata": {},
   "source": [
    "## Compare the variant impact to a background distribution"
   ]
  },
  {
   "cell_type": "markdown",
   "id": "5dd53e30-ebbd-48c2-a3ab-92d9eb905b12",
   "metadata": {},
   "source": [
    "We saw that the variant has a strong effect size (log2 fold change). To place this effect size in context, we create a set of background sequences by shuffling the sequence surrounding the variant while conserving dinucleotide frequency. We then insert the reference and alternate alleles in each shuffled sequence, and compute the variant effect size again. "
   ]
  },
  {
   "cell_type": "code",
   "execution_count": 42,
   "id": "d8100fda-1bf3-496b-8730-d5f4933c81cb",
   "metadata": {},
   "outputs": [
    {
     "name": "stderr",
     "output_type": "stream",
     "text": [
      "GPU available: True (cuda), used: False\n",
      "TPU available: False, using: 0 TPU cores\n",
      "IPU available: False, using: 0 IPUs\n",
      "HPU available: False, using: 0 HPUs\n"
     ]
    },
    {
     "name": "stdout",
     "output_type": "stream",
     "text": [
      "Predicting variant effects\n",
      "Predicting DataLoader 0: 100%|██████████████████████████████████████████████████████████████████████████████████████| 1/1 [00:00<00:00,  1.47it/s]"
     ]
    },
    {
     "name": "stderr",
     "output_type": "stream",
     "text": [
      "GPU available: True (cuda), used: False\n",
      "TPU available: False, using: 0 TPU cores\n",
      "IPU available: False, using: 0 IPUs\n",
      "HPU available: False, using: 0 HPUs\n"
     ]
    },
    {
     "name": "stdout",
     "output_type": "stream",
     "text": [
      "\n",
      "Predicting variant effects in background sequences\n",
      "Predicting DataLoader 0: 100%|██████████████████████████████████████████████████████████████████████████████████████| 4/4 [00:02<00:00,  1.90it/s]\n",
      "Calculating background distributions\n",
      "Performing 2-sided test\n"
     ]
    }
   ],
   "source": [
    "test = grelu.variant.marginalize_variants(\n",
    "    model=model,\n",
    "    variants=variant,\n",
    "    genome=\"hg19\",\n",
    "    prediction_transform=microglia_score,\n",
    "    seed=0,\n",
    "    n_shuffles=100,\n",
    "    compare_func=\"log2FC\",\n",
    ")"
   ]
  },
  {
   "cell_type": "code",
   "execution_count": 43,
   "id": "9733cae2-5f17-4e40-8597-ac985eefee3a",
   "metadata": {},
   "outputs": [
    {
     "data": {
      "text/plain": [
       "{'effect_size': [-2.9125452041625977],\n",
       " 'mean': [-0.038239285349845886],\n",
       " 'sd': [0.42197421193122864],\n",
       " 'pvalue': [9.654079002785028e-12]}"
      ]
     },
     "execution_count": 43,
     "metadata": {},
     "output_type": "execute_result"
    }
   ],
   "source": [
    "test"
   ]
  },
  {
   "cell_type": "code",
   "execution_count": null,
   "id": "b611157a-45ae-4a30-a902-593092abdf11",
   "metadata": {},
   "outputs": [],
   "source": []
  }
 ],
 "metadata": {
  "kernelspec": {
   "display_name": "Python 3 (ipykernel)",
   "language": "python",
   "name": "python3"
  },
  "language_info": {
   "codemirror_mode": {
    "name": "ipython",
    "version": 3
   },
   "file_extension": ".py",
   "mimetype": "text/x-python",
   "name": "python",
   "nbconvert_exporter": "python",
   "pygments_lexer": "ipython3",
   "version": "3.11.8"
  }
 },
 "nbformat": 4,
 "nbformat_minor": 5
}
