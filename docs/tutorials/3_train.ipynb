{
 "cells": [
  {
   "cell_type": "markdown",
   "id": "9b5fb36a-bc93-4f66-b91f-8cc586c56e87",
   "metadata": {},
   "source": [
    "# Train a single-task regression model from scratch"
   ]
  },
  {
   "cell_type": "markdown",
   "id": "f945eb76-8120-48cc-8983-073f70905d28",
   "metadata": {},
   "source": [
    "In this tutorial, we train a single-task convolutional regression model to predict total coverage over ATAC-seq peaks, starting from an ATAC-seq fragment file."
   ]
  },
  {
   "cell_type": "code",
   "execution_count": 1,
   "id": "d79a359c-ed31-4ab7-84dd-ed859ba7fa83",
   "metadata": {},
   "outputs": [],
   "source": [
    "import os\n",
    "import numpy as np\n",
    "import pandas as pd\n",
    "import torch"
   ]
  },
  {
   "cell_type": "markdown",
   "id": "bf7b4807-a380-4bc8-ab66-1946e70643cf",
   "metadata": {},
   "source": [
    "## Set experiment parameters"
   ]
  },
  {
   "cell_type": "code",
   "execution_count": 2,
   "id": "e3fa1a08-6375-4f98-b473-a089885ec59e",
   "metadata": {},
   "outputs": [],
   "source": [
    "experiment='tutorial_3'\n",
    "if not os.path.exists(experiment):\n",
    "    os.makedirs(experiment)"
   ]
  },
  {
   "cell_type": "markdown",
   "id": "d5d89c0d-6b4c-47d2-9568-1617586bea2f",
   "metadata": {},
   "source": [
    "## Peak and fragment files"
   ]
  },
  {
   "cell_type": "markdown",
   "id": "311d0d2c-acda-435b-a29f-f82c3b799395",
   "metadata": {},
   "source": [
    "We downloaded pseudobulk scATAC data for human microglia from Corces et al. (2020): `https://www.nature.com/articles/s41588-020-00721-x`. Here, we use the `grelu.resources` module to download the fragment file and peak file from the model zoo:"
   ]
  },
  {
   "cell_type": "code",
   "execution_count": 3,
   "id": "3cf7e397-bba3-4b7f-99b0-f3d73b8db086",
   "metadata": {},
   "outputs": [
    {
     "name": "stderr",
     "output_type": "stream",
     "text": [
      "/opt/conda/lib/python3.11/site-packages/tqdm/auto.py:21: TqdmWarning: IProgress not found. Please update jupyter and ipywidgets. See https://ipywidgets.readthedocs.io/en/stable/user_install.html\n",
      "  from .autonotebook import tqdm as notebook_tqdm\n"
     ]
    }
   ],
   "source": [
    "import grelu.resources"
   ]
  },
  {
   "cell_type": "code",
   "execution_count": 4,
   "id": "1e30a103-e5b9-4044-921a-7536a606d356",
   "metadata": {},
   "outputs": [
    {
     "name": "stderr",
     "output_type": "stream",
     "text": [
      "Failed to detect the name of this notebook, you can set it manually with the WANDB_NOTEBOOK_NAME environment variable to enable code saving.\n",
      "\u001b[34m\u001b[1mwandb\u001b[0m: Using wandb-core as the SDK backend. Please refer to https://wandb.me/wandb-core for more information.\n",
      "\u001b[34m\u001b[1mwandb\u001b[0m: Currently logged in as: \u001b[33manony-mouse-180959755991866352\u001b[0m. Use \u001b[1m`wandb login --relogin`\u001b[0m to force relogin\n",
      "\u001b[34m\u001b[1mwandb\u001b[0m: Downloading large artifact fragment_file:latest, 2203.42MB. 1 files... \n",
      "\u001b[34m\u001b[1mwandb\u001b[0m:   1 of 1 files downloaded.  \n",
      "Done. 0:0:3.7\n",
      "\u001b[34m\u001b[1mwandb\u001b[0m:   1 of 1 files downloaded.  \n"
     ]
    }
   ],
   "source": [
    "# Download these datasets into local directories\n",
    "\n",
    "fragment_file_dir = grelu.resources.get_artifact(\n",
    "    project='microglia-scatac-tutorial', name='fragment_file').download()\n",
    "\n",
    "peak_file_dir = grelu.resources.get_artifact(\n",
    "    project='microglia-scatac-tutorial', name='peak_file').download()"
   ]
  },
  {
   "cell_type": "code",
   "execution_count": 5,
   "id": "a7e75053-b64c-4b6a-a52a-2c15102638da",
   "metadata": {},
   "outputs": [],
   "source": [
    "# Paths to files\n",
    "frag_file = os.path.join(fragment_file_dir, \"Microglia_full.bed\")\n",
    "peak_file = os.path.join(peak_file_dir, \"Microglia_full_peaks.narrowPeak\")"
   ]
  },
  {
   "cell_type": "markdown",
   "id": "a593fce2-1d82-4d19-83b2-63e32bd14f68",
   "metadata": {},
   "source": [
    "## Set parameters"
   ]
  },
  {
   "cell_type": "code",
   "execution_count": 6,
   "id": "2b471ef2-e124-4a36-bcbb-78bd51edb661",
   "metadata": {},
   "outputs": [],
   "source": [
    "seq_len=2114 # Length of the input sequence\n",
    "label_len=1000 # Length over which we calculate total coverage\n",
    "val_chroms=[\"chr10\"]\n",
    "test_chroms=[\"chr11\"]\n",
    "genome=\"hg38\""
   ]
  },
  {
   "cell_type": "markdown",
   "id": "9af5ff0c-d2f9-4f02-8ca4-5c969e9c3f34",
   "metadata": {},
   "source": [
    "## Read peak file"
   ]
  },
  {
   "cell_type": "markdown",
   "id": "bc12c4cf-0a89-4418-8cf0-6ee4313854ab",
   "metadata": {},
   "source": [
    "We read peak coordinates from the narrowPeak file."
   ]
  },
  {
   "cell_type": "code",
   "execution_count": 7,
   "id": "048626a4-9e37-44e6-a3c0-75246456e8f9",
   "metadata": {},
   "outputs": [
    {
     "data": {
      "text/html": [
       "<div>\n",
       "<style scoped>\n",
       "    .dataframe tbody tr th:only-of-type {\n",
       "        vertical-align: middle;\n",
       "    }\n",
       "\n",
       "    .dataframe tbody tr th {\n",
       "        vertical-align: top;\n",
       "    }\n",
       "\n",
       "    .dataframe thead th {\n",
       "        text-align: right;\n",
       "    }\n",
       "</style>\n",
       "<table border=\"1\" class=\"dataframe\">\n",
       "  <thead>\n",
       "    <tr style=\"text-align: right;\">\n",
       "      <th></th>\n",
       "      <th>chrom</th>\n",
       "      <th>start</th>\n",
       "      <th>end</th>\n",
       "      <th>name</th>\n",
       "      <th>score</th>\n",
       "      <th>strand</th>\n",
       "      <th>signal</th>\n",
       "      <th>pvalue</th>\n",
       "      <th>qvalue</th>\n",
       "      <th>summit</th>\n",
       "    </tr>\n",
       "  </thead>\n",
       "  <tbody>\n",
       "    <tr>\n",
       "      <th>83316</th>\n",
       "      <td>chrY</td>\n",
       "      <td>56870777</td>\n",
       "      <td>56870983</td>\n",
       "      <td>Microglia_full_peak_83318</td>\n",
       "      <td>94</td>\n",
       "      <td>.</td>\n",
       "      <td>3.83352</td>\n",
       "      <td>11.58170</td>\n",
       "      <td>9.41381</td>\n",
       "      <td>116</td>\n",
       "    </tr>\n",
       "    <tr>\n",
       "      <th>83317</th>\n",
       "      <td>chrY</td>\n",
       "      <td>56873629</td>\n",
       "      <td>56873811</td>\n",
       "      <td>Microglia_full_peak_83319</td>\n",
       "      <td>49</td>\n",
       "      <td>.</td>\n",
       "      <td>3.01171</td>\n",
       "      <td>7.02098</td>\n",
       "      <td>4.99754</td>\n",
       "      <td>105</td>\n",
       "    </tr>\n",
       "    <tr>\n",
       "      <th>83318</th>\n",
       "      <td>chrY</td>\n",
       "      <td>56874075</td>\n",
       "      <td>56874225</td>\n",
       "      <td>Microglia_full_peak_83320</td>\n",
       "      <td>42</td>\n",
       "      <td>.</td>\n",
       "      <td>2.86533</td>\n",
       "      <td>6.19767</td>\n",
       "      <td>4.20704</td>\n",
       "      <td>17</td>\n",
       "    </tr>\n",
       "  </tbody>\n",
       "</table>\n",
       "</div>"
      ],
      "text/plain": [
       "      chrom     start       end                       name  score strand  \\\n",
       "83316  chrY  56870777  56870983  Microglia_full_peak_83318     94      .   \n",
       "83317  chrY  56873629  56873811  Microglia_full_peak_83319     49      .   \n",
       "83318  chrY  56874075  56874225  Microglia_full_peak_83320     42      .   \n",
       "\n",
       "        signal    pvalue   qvalue  summit  \n",
       "83316  3.83352  11.58170  9.41381     116  \n",
       "83317  3.01171   7.02098  4.99754     105  \n",
       "83318  2.86533   6.19767  4.20704      17  "
      ]
     },
     "execution_count": 7,
     "metadata": {},
     "output_type": "execute_result"
    }
   ],
   "source": [
    "import grelu.io.bed\n",
    "\n",
    "peaks = grelu.io.bed.read_narrowpeak(peak_file)\n",
    "peaks.tail(3)"
   ]
  },
  {
   "cell_type": "markdown",
   "id": "8605162d-5dd1-4c91-884f-b6ed710bdb72",
   "metadata": {},
   "source": [
    "## Summit-center peaks"
   ]
  },
  {
   "cell_type": "markdown",
   "id": "86098be0-04d4-4468-a397-31eb47f40d5f",
   "metadata": {},
   "source": [
    "We extract the genomic coordinates for the 2114 bases surrounding the summit of each peak."
   ]
  },
  {
   "cell_type": "code",
   "execution_count": 8,
   "id": "6620e13f-9d66-4b59-8f05-ea6a5106ca5c",
   "metadata": {},
   "outputs": [
    {
     "data": {
      "text/html": [
       "<div>\n",
       "<style scoped>\n",
       "    .dataframe tbody tr th:only-of-type {\n",
       "        vertical-align: middle;\n",
       "    }\n",
       "\n",
       "    .dataframe tbody tr th {\n",
       "        vertical-align: top;\n",
       "    }\n",
       "\n",
       "    .dataframe thead th {\n",
       "        text-align: right;\n",
       "    }\n",
       "</style>\n",
       "<table border=\"1\" class=\"dataframe\">\n",
       "  <thead>\n",
       "    <tr style=\"text-align: right;\">\n",
       "      <th></th>\n",
       "      <th>chrom</th>\n",
       "      <th>start</th>\n",
       "      <th>end</th>\n",
       "    </tr>\n",
       "  </thead>\n",
       "  <tbody>\n",
       "    <tr>\n",
       "      <th>83316</th>\n",
       "      <td>chrY</td>\n",
       "      <td>56869836</td>\n",
       "      <td>56871950</td>\n",
       "    </tr>\n",
       "    <tr>\n",
       "      <th>83317</th>\n",
       "      <td>chrY</td>\n",
       "      <td>56872677</td>\n",
       "      <td>56874791</td>\n",
       "    </tr>\n",
       "    <tr>\n",
       "      <th>83318</th>\n",
       "      <td>chrY</td>\n",
       "      <td>56873035</td>\n",
       "      <td>56875149</td>\n",
       "    </tr>\n",
       "  </tbody>\n",
       "</table>\n",
       "</div>"
      ],
      "text/plain": [
       "      chrom     start       end\n",
       "83316  chrY  56869836  56871950\n",
       "83317  chrY  56872677  56874791\n",
       "83318  chrY  56873035  56875149"
      ]
     },
     "execution_count": 8,
     "metadata": {},
     "output_type": "execute_result"
    }
   ],
   "source": [
    "import grelu.data.preprocess\n",
    "\n",
    "peaks = grelu.data.preprocess.extend_from_coord(\n",
    "    peaks,\n",
    "    seq_len=seq_len,\n",
    "    center_col=\"summit\"\n",
    ")\n",
    "peaks.tail(3)"
   ]
  },
  {
   "cell_type": "markdown",
   "id": "c3286073-1270-4f3f-9289-4461504c2407",
   "metadata": {},
   "source": [
    "## Filter peaks"
   ]
  },
  {
   "cell_type": "markdown",
   "id": "492e326b-7432-4be4-8030-87d8f65f3d4b",
   "metadata": {},
   "source": [
    "We filter the peaks to include only those within autosomes. You can also use \"autosomesX\" or \"autosomesXY\" to include sex chromosomes."
   ]
  },
  {
   "cell_type": "code",
   "execution_count": 9,
   "id": "eeac5047-f85b-4ff8-b4b5-f528e0a4bcc1",
   "metadata": {},
   "outputs": [
    {
     "name": "stdout",
     "output_type": "stream",
     "text": [
      "Keeping 80823 intervals\n"
     ]
    }
   ],
   "source": [
    "peaks = grelu.data.preprocess.filter_chromosomes(peaks, 'autosomes')"
   ]
  },
  {
   "cell_type": "markdown",
   "id": "16004bf4-a1d8-41d4-a8a2-635f9b30a9c2",
   "metadata": {},
   "source": [
    "We drop peaks that are close to ENCODE hg38 blacklist regions."
   ]
  },
  {
   "cell_type": "code",
   "execution_count": 10,
   "id": "79bccf2a-2e25-471f-951e-1f50eb523d8a",
   "metadata": {},
   "outputs": [
    {
     "name": "stdout",
     "output_type": "stream",
     "text": [
      "Keeping 80028 intervals\n"
     ]
    }
   ],
   "source": [
    "peaks = grelu.data.preprocess.filter_blacklist(\n",
    "    peaks,\n",
    "    genome=genome,\n",
    "    window=50 # Remove peaks if they are within 50 bp of a blacklist region\n",
    ")"
   ]
  },
  {
   "cell_type": "markdown",
   "id": "37922eb5-4bf7-4136-8b14-1d6907884a35",
   "metadata": {},
   "source": [
    "## Get GC matched negative regions"
   ]
  },
  {
   "cell_type": "markdown",
   "id": "c38fe88d-54c4-4afd-97f0-de7986baaca6",
   "metadata": {},
   "source": [
    "To ensure that the model also learns to recognize regions that are not peaks, we will include a set of \"negative\" (non-peak) regions with similar GC content to the peaks."
   ]
  },
  {
   "cell_type": "code",
   "execution_count": 11,
   "id": "0ad3c925-162b-4bca-a8e6-6a9b99fe8a15",
   "metadata": {
    "scrolled": true
   },
   "outputs": [
    {
     "name": "stdout",
     "output_type": "stream",
     "text": [
      "Extracting matching intervals\n",
      "Filtering blacklist\n",
      "Keeping 77148 intervals\n"
     ]
    },
    {
     "data": {
      "text/html": [
       "<div>\n",
       "<style scoped>\n",
       "    .dataframe tbody tr th:only-of-type {\n",
       "        vertical-align: middle;\n",
       "    }\n",
       "\n",
       "    .dataframe tbody tr th {\n",
       "        vertical-align: top;\n",
       "    }\n",
       "\n",
       "    .dataframe thead th {\n",
       "        text-align: right;\n",
       "    }\n",
       "</style>\n",
       "<table border=\"1\" class=\"dataframe\">\n",
       "  <thead>\n",
       "    <tr style=\"text-align: right;\">\n",
       "      <th></th>\n",
       "      <th>chrom</th>\n",
       "      <th>start</th>\n",
       "      <th>end</th>\n",
       "    </tr>\n",
       "  </thead>\n",
       "  <tbody>\n",
       "    <tr>\n",
       "      <th>39048</th>\n",
       "      <td>chr1</td>\n",
       "      <td>801206</td>\n",
       "      <td>803320</td>\n",
       "    </tr>\n",
       "    <tr>\n",
       "      <th>13936</th>\n",
       "      <td>chr1</td>\n",
       "      <td>813890</td>\n",
       "      <td>816004</td>\n",
       "    </tr>\n",
       "    <tr>\n",
       "      <th>20216</th>\n",
       "      <td>chr1</td>\n",
       "      <td>858284</td>\n",
       "      <td>860398</td>\n",
       "    </tr>\n",
       "  </tbody>\n",
       "</table>\n",
       "</div>"
      ],
      "text/plain": [
       "      chrom   start     end\n",
       "39048  chr1  801206  803320\n",
       "13936  chr1  813890  816004\n",
       "20216  chr1  858284  860398"
      ]
     },
     "execution_count": 11,
     "metadata": {},
     "output_type": "execute_result"
    }
   ],
   "source": [
    "negatives = grelu.data.preprocess.get_gc_matched_intervals(\n",
    "    peaks,\n",
    "    binwidth=0.02, # resolution of measuring GC content\n",
    "    genome=genome,\n",
    "    chroms=\"autosomes\", # negative regions will also be chosen from autosomes\n",
    "    blacklist=genome, # negative regions overlapping the blacklist will be dropped\n",
    "    seed=0,\n",
    ")\n",
    "negatives.head(3)"
   ]
  },
  {
   "cell_type": "markdown",
   "id": "5d2cb38f-5529-4c8f-92fe-bfba0a9ea3f2",
   "metadata": {},
   "source": [
    "We can visualize a histogram of GC content in the peaks and negative regions to verify that they are similar."
   ]
  },
  {
   "cell_type": "code",
   "execution_count": 12,
   "id": "b551d1e0-bac0-4d96-953c-d2cee89eefea",
   "metadata": {},
   "outputs": [
    {
     "data": {
      "image/png": "[encoded data removed]"
     },
     "metadata": {
      "image/png": {
       "height": 300,
       "width": 400
      }
     },
     "output_type": "display_data"
    }
   ],
   "source": [
    "import grelu.visualize\n",
    "grelu.visualize.plot_gc_match(\n",
    "    positives=peaks, negatives=negatives, binwidth=0.02, genome=\"hg38\", figsize=(4, 3)\n",
    ")"
   ]
  },
  {
   "cell_type": "markdown",
   "id": "41a643e0-60bc-4d07-b362-ff50b7e56e91",
   "metadata": {},
   "source": [
    "## Combine peaks and negative regions"
   ]
  },
  {
   "cell_type": "markdown",
   "id": "786fd409-66a1-4c71-a893-45e67e9904c6",
   "metadata": {},
   "source": [
    "The full dataset includes both peaks and negative regions."
   ]
  },
  {
   "cell_type": "code",
   "execution_count": 13,
   "id": "8f174ef8-4f59-47c5-9b9b-2df0c7b15c05",
   "metadata": {},
   "outputs": [
    {
     "data": {
      "text/plain": [
       "157176"
      ]
     },
     "execution_count": 13,
     "metadata": {},
     "output_type": "execute_result"
    }
   ],
   "source": [
    "regions = pd.concat([peaks, negatives])\n",
    "len(regions)"
   ]
  },
  {
   "cell_type": "markdown",
   "id": "41676a4d-1bb9-4860-bce6-22f32c3dc794",
   "metadata": {},
   "source": [
    "## Make BigWig file"
   ]
  },
  {
   "cell_type": "markdown",
   "id": "d6245933-1f08-4c50-8433-19caeec22c85",
   "metadata": {},
   "source": [
    "We convert the ATAC-seq fragment file into a bigWig file which contains the number of Tn5 insertions at each position."
   ]
  },
  {
   "cell_type": "code",
   "execution_count": null,
   "id": "31fea354-97e5-48af-a16f-d67a825ca33e",
   "metadata": {},
   "outputs": [],
   "source": [
    "bw_file = grelu.data.preprocess.make_insertion_bigwig(\n",
    "    frag_file = frag_file,\n",
    "    plus_shift=0,\n",
    "    minus_shift=1, # This corrects the +4/-5 Tn5 shift to a +4/-4 shift\n",
    "    genome=genome,\n",
    "    chroms=\"autosomes\", # The output bigWig file contains coverage over autosomes.\n",
    ")"
   ]
  },
  {
   "cell_type": "markdown",
   "id": "be9758a9-dc40-4ed4-8b40-8dd895cc9dc2",
   "metadata": {},
   "source": [
    "## Split data by chromosome"
   ]
  },
  {
   "cell_type": "markdown",
   "id": "d8803810-9a23-4e15-9abe-466c166a0e3b",
   "metadata": {},
   "source": [
    "We now split the dataset by chromosome to create separate datasets for training, validation and testing."
   ]
  },
  {
   "cell_type": "code",
   "execution_count": 16,
   "id": "4235d849-e46c-4dde-9fe5-a800fdbdd3df",
   "metadata": {},
   "outputs": [
    {
     "name": "stdout",
     "output_type": "stream",
     "text": [
      "Selecting training samples\n",
      "Keeping 140654 intervals\n",
      "\n",
      "\n",
      "Selecting validation samples\n",
      "Keeping 8115 intervals\n",
      "\n",
      "\n",
      "Selecting test samples\n",
      "Keeping 8407 intervals\n",
      "Final sizes: train: (126394, 3), val: (699, 3), test: (791, 3)\n"
     ]
    }
   ],
   "source": [
    "train, val, test = grelu.data.preprocess.split(\n",
    "    regions, val_chroms=val_chroms, test_chroms=test_chroms)"
   ]
  },
  {
   "cell_type": "markdown",
   "id": "1b4f21ef-c6ee-4ca5-89c3-99981eedc69d",
   "metadata": {},
   "source": [
    "## Make labeled datasets"
   ]
  },
  {
   "cell_type": "markdown",
   "id": "1aadc7b1-f465-4ef5-8e44-587a2acee662",
   "metadata": {},
   "source": [
    "We now make pytorch dataset objects in order to load paired sequences and coverage values from the genome and the bigWig file. We use the `BigWigSeqDataset` class."
   ]
  },
  {
   "cell_type": "markdown",
   "id": "04cb619b-337b-4fcb-b18c-f51a99bd98a6",
   "metadata": {},
   "source": [
    "We first make the training dataset. To increase model robustness we use several forms of data augmentation here: `rc=True` (reverse complementing the input sequence), `max_seq_shift=2` (shifting the coordinates of the input sequence by upto 2 bp in either direction; also known as jitter), and `max_pair_shift=20` (shifting both the input sequence and the region for which to calculate coverage by upto 20 bp in either direction).\n",
    "\n",
    "Further, we use `label_aggfunc=\"sum\"` which means that the label will be the summed coverage over the central region of the interval."
   ]
  },
  {
   "cell_type": "code",
   "execution_count": 17,
   "id": "de620fd0-deb1-4d33-8543-9993cb1cd304",
   "metadata": {},
   "outputs": [],
   "source": [
    "import grelu.data.dataset"
   ]
  },
  {
   "cell_type": "code",
   "execution_count": 18,
   "id": "44ed7a4d-aebd-4160-bd38-bb7dfe73aab5",
   "metadata": {},
   "outputs": [],
   "source": [
    "train_ds = grelu.data.dataset.BigWigSeqDataset(\n",
    "    intervals = train,\n",
    "    bw_files=[bw_file],\n",
    "    label_len=label_len,\n",
    "    label_aggfunc=\"sum\",\n",
    "    rc=True, # reverse complement\n",
    "    max_seq_shift=2, # Shift the sequence\n",
    "    max_pair_shift=20, # Shift both sequence and label\n",
    "    augment_mode=\"random\",\n",
    "    seed=0,\n",
    "    genome=genome,\n",
    ")"
   ]
  },
  {
   "cell_type": "markdown",
   "id": "d0bee1f6-d2f0-430f-a5bb-588f05f43fa4",
   "metadata": {},
   "source": [
    "We do not apply any augmentations to the validation and test datasets (although it is possible to do so)."
   ]
  },
  {
   "cell_type": "code",
   "execution_count": 19,
   "id": "4f432723-08c6-4504-9911-1a11911e0272",
   "metadata": {},
   "outputs": [
    {
     "data": {
      "text/plain": [
       "(126394, 699, 791)"
      ]
     },
     "execution_count": 19,
     "metadata": {},
     "output_type": "execute_result"
    }
   ],
   "source": [
    "val_ds = grelu.data.dataset.BigWigSeqDataset(\n",
    "    intervals = val,\n",
    "    bw_files=[bw_file],\n",
    "    label_len=label_len,\n",
    "    label_aggfunc=\"sum\", \n",
    "    genome=genome,\n",
    ")\n",
    "\n",
    "test_ds = grelu.data.dataset.BigWigSeqDataset(\n",
    "    intervals = test,\n",
    "    bw_files=[bw_file],\n",
    "    label_len=label_len,\n",
    "    label_aggfunc=\"sum\",\n",
    "    genome=genome,\n",
    ")\n",
    "\n",
    "len(train_ds), len(val_ds), len(test_ds)"
   ]
  },
  {
   "cell_type": "markdown",
   "id": "f7c1abdb-00e7-4ebe-8d27-40e44ee4e69d",
   "metadata": {},
   "source": [
    "## Build model"
   ]
  },
  {
   "cell_type": "markdown",
   "id": "227325a7-6e0f-4dd4-8c7d-a232d42be045",
   "metadata": {},
   "source": [
    "We can now define our model architecture. gReLU offers a variety of model architectures in the `grelu.model.models` module, many of which can be customized to our task."
   ]
  },
  {
   "cell_type": "code",
   "execution_count": 21,
   "id": "f20030c5-3461-46aa-8945-af9ab1a34489",
   "metadata": {},
   "outputs": [
    {
     "data": {
      "text/plain": [
       "['BaseModel',\n",
       " 'BorzoiModel',\n",
       " 'BorzoiPretrainedModel',\n",
       " 'ConvGRUModel',\n",
       " 'ConvMLPModel',\n",
       " 'ConvModel',\n",
       " 'ConvTransformerModel',\n",
       " 'DilatedConvModel',\n",
       " 'EnformerModel',\n",
       " 'EnformerPretrainedModel',\n",
       " 'ExplaiNNModel']"
      ]
     },
     "execution_count": 21,
     "metadata": {},
     "output_type": "execute_result"
    }
   ],
   "source": [
    "import grelu.model.models\n",
    "[x for x in dir(grelu.model.models) if x.endswith('Model')]"
   ]
  },
  {
   "cell_type": "markdown",
   "id": "7576be7e-e440-457c-9475-87c026c85505",
   "metadata": {},
   "source": [
    "Here, we are going to use the `DilatedConvModel` architecture. You can learn more about it:"
   ]
  },
  {
   "cell_type": "code",
   "execution_count": 46,
   "id": "a48cee71-b7d4-4545-b497-2142354b3033",
   "metadata": {},
   "outputs": [
    {
     "data": {
      "text/plain": [
       "\u001b[0;31mInit signature:\u001b[0m\n",
       "\u001b[0mgrelu\u001b[0m\u001b[0;34m.\u001b[0m\u001b[0mmodel\u001b[0m\u001b[0;34m.\u001b[0m\u001b[0mmodels\u001b[0m\u001b[0;34m.\u001b[0m\u001b[0mDilatedConvModel\u001b[0m\u001b[0;34m(\u001b[0m\u001b[0;34m\u001b[0m\n",
       "\u001b[0;34m\u001b[0m    \u001b[0mn_tasks\u001b[0m\u001b[0;34m:\u001b[0m \u001b[0mint\u001b[0m\u001b[0;34m,\u001b[0m\u001b[0;34m\u001b[0m\n",
       "\u001b[0;34m\u001b[0m    \u001b[0mchannels\u001b[0m\u001b[0;34m:\u001b[0m \u001b[0mint\u001b[0m \u001b[0;34m=\u001b[0m \u001b[0;36m64\u001b[0m\u001b[0;34m,\u001b[0m\u001b[0;34m\u001b[0m\n",
       "\u001b[0;34m\u001b[0m    \u001b[0mstem_kernel_size\u001b[0m\u001b[0;34m:\u001b[0m \u001b[0mint\u001b[0m \u001b[0;34m=\u001b[0m \u001b[0;36m21\u001b[0m\u001b[0;34m,\u001b[0m\u001b[0;34m\u001b[0m\n",
       "\u001b[0;34m\u001b[0m    \u001b[0mkernel_size\u001b[0m\u001b[0;34m:\u001b[0m \u001b[0mint\u001b[0m \u001b[0;34m=\u001b[0m \u001b[0;36m3\u001b[0m\u001b[0;34m,\u001b[0m\u001b[0;34m\u001b[0m\n",
       "\u001b[0;34m\u001b[0m    \u001b[0mdilation_mult\u001b[0m\u001b[0;34m:\u001b[0m \u001b[0mfloat\u001b[0m \u001b[0;34m=\u001b[0m \u001b[0;36m2\u001b[0m\u001b[0;34m,\u001b[0m\u001b[0;34m\u001b[0m\n",
       "\u001b[0;34m\u001b[0m    \u001b[0mact_func\u001b[0m\u001b[0;34m:\u001b[0m \u001b[0mstr\u001b[0m \u001b[0;34m=\u001b[0m \u001b[0;34m'relu'\u001b[0m\u001b[0;34m,\u001b[0m\u001b[0;34m\u001b[0m\n",
       "\u001b[0;34m\u001b[0m    \u001b[0mn_conv\u001b[0m\u001b[0;34m:\u001b[0m \u001b[0mint\u001b[0m \u001b[0;34m=\u001b[0m \u001b[0;36m8\u001b[0m\u001b[0;34m,\u001b[0m\u001b[0;34m\u001b[0m\n",
       "\u001b[0;34m\u001b[0m    \u001b[0mcrop_len\u001b[0m\u001b[0;34m:\u001b[0m \u001b[0mUnion\u001b[0m\u001b[0;34m[\u001b[0m\u001b[0mstr\u001b[0m\u001b[0;34m,\u001b[0m \u001b[0mint\u001b[0m\u001b[0;34m]\u001b[0m \u001b[0;34m=\u001b[0m \u001b[0;34m'auto'\u001b[0m\u001b[0;34m,\u001b[0m\u001b[0;34m\u001b[0m\n",
       "\u001b[0;34m\u001b[0m    \u001b[0mfinal_pool_func\u001b[0m\u001b[0;34m:\u001b[0m \u001b[0mstr\u001b[0m \u001b[0;34m=\u001b[0m \u001b[0;34m'avg'\u001b[0m\u001b[0;34m,\u001b[0m\u001b[0;34m\u001b[0m\n",
       "\u001b[0;34m\u001b[0m    \u001b[0mdtype\u001b[0m\u001b[0;34m=\u001b[0m\u001b[0;32mNone\u001b[0m\u001b[0;34m,\u001b[0m\u001b[0;34m\u001b[0m\n",
       "\u001b[0;34m\u001b[0m    \u001b[0mdevice\u001b[0m\u001b[0;34m=\u001b[0m\u001b[0;32mNone\u001b[0m\u001b[0;34m,\u001b[0m\u001b[0;34m\u001b[0m\n",
       "\u001b[0;34m\u001b[0m\u001b[0;34m)\u001b[0m \u001b[0;34m->\u001b[0m \u001b[0;32mNone\u001b[0m\u001b[0;34m\u001b[0m\u001b[0;34m\u001b[0m\u001b[0m\n",
       "\u001b[0;31mDocstring:\u001b[0m     \n",
       "A model architecture based on dilated convolutional layers with residual connections.\n",
       "Inspired by the ChromBPnet model architecture.\n",
       "\n",
       "Args:\n",
       "    n_tasks: Number of channels in the output\n",
       "    channels: Number of channels for all convolutional layers\n",
       "    stem_kernel_size: Kernel width for the stem\n",
       "    n_blocks: Number of convolutional blocks, not including the stem\n",
       "    kernel_size: Convolutional kernel width\n",
       "    dilation_mult: Factor by which to multiply the dilation in each block\n",
       "    act_func: Name of the activation function\n",
       "    crop_len: Number of positions to crop at either end of the output\n",
       "    final_pool_func: Name of the pooling function to apply to the final output.\n",
       "        If None, no pooling will be applied at the end.\n",
       "    dtype: Data type for the layers.\n",
       "    device: Device for the layers.\n",
       "\u001b[0;31mInit docstring:\u001b[0m Initialize internal Module state, shared by both nn.Module and ScriptModule.\n",
       "\u001b[0;31mFile:\u001b[0m           /opt/conda/lib/python3.11/site-packages/grelu/model/models.py\n",
       "\u001b[0;31mType:\u001b[0m           type\n",
       "\u001b[0;31mSubclasses:\u001b[0m     "
      ]
     },
     "metadata": {},
     "output_type": "display_data"
    }
   ],
   "source": [
    "grelu.model.models.DilatedConvModel?"
   ]
  },
  {
   "cell_type": "markdown",
   "id": "325b8006-fb3e-4eb3-9660-438c52606cb8",
   "metadata": {},
   "source": [
    "Now, we define the model architecture and training parameters, and initialize our model object:"
   ]
  },
  {
   "cell_type": "code",
   "execution_count": 62,
   "id": "eb8ae740-cfce-4832-a2c4-b6c62eaec31f",
   "metadata": {},
   "outputs": [],
   "source": [
    "model_params = {\n",
    "    'model_type':'DilatedConvModel',\n",
    "    'crop_len':(seq_len-label_len)//2,\n",
    "    'n_tasks':1,\n",
    "    'channels':512,\n",
    "    'n_conv':8,\n",
    "}\n",
    "\n",
    "train_params = {\n",
    "    'task':'regression',\n",
    "    'loss': 'poisson', # Poisson loss. Other regression loss functions are \"mse\" and \"poisson_multinomial\"\n",
    "    'logger':'csv', # Write logs in CSV format\n",
    "    'lr':1e-4,\n",
    "    'batch_size':256,\n",
    "    'max_epochs':10,\n",
    "    'devices':0,\n",
    "    'num_workers':16,\n",
    "    'save_dir':experiment,\n",
    "}\n",
    "\n",
    "import grelu.lightning\n",
    "model = grelu.lightning.LightningModel(model_params, train_params)"
   ]
  },
  {
   "cell_type": "markdown",
   "id": "59dfb4db-1297-4b9c-b62d-2beb9b969eb2",
   "metadata": {},
   "source": [
    "## Train model"
   ]
  },
  {
   "cell_type": "code",
   "execution_count": 63,
   "id": "ac4d52b7-b73b-4302-b747-78c52ba06712",
   "metadata": {
    "scrolled": true
   },
   "outputs": [
    {
     "name": "stderr",
     "output_type": "stream",
     "text": [
      "GPU available: True (cuda), used: True\n",
      "TPU available: False, using: 0 TPU cores\n",
      "HPU available: False, using: 0 HPUs\n",
      "LOCAL_RANK: 0 - CUDA_VISIBLE_DEVICES: [0,1,2,3,4,5,6,7]\n"
     ]
    },
    {
     "name": "stdout",
     "output_type": "stream",
     "text": [
      "Validation DataLoader 0: 100%|███████████████████████████████████████████████████████████████████████████████████████████████████████████████████████████████████████████████████████████████████████████████| 3/3 [00:00<00:00, 10.09it/s]\n"
     ]
    },
    {
     "data": {
      "text/html": [
       "<pre style=\"white-space:pre;overflow-x:auto;line-height:normal;font-family:Menlo,'DejaVu Sans Mono',consolas,'Courier New',monospace\">┏━━━━━━━━━━━━━━━━━━━━━━━━━━━┳━━━━━━━━━━━━━━━━━━━━━━━━━━━┓\n",
       "┃<span style=\"font-weight: bold\">      Validate metric      </span>┃<span style=\"font-weight: bold\">       DataLoader 0        </span>┃\n",
       "┡━━━━━━━━━━━━━━━━━━━━━━━━━━━╇━━━━━━━━━━━━━━━━━━━━━━━━━━━┩\n",
       "│<span style=\"color: #008080; text-decoration-color: #008080\">         val_loss          </span>│<span style=\"color: #800080; text-decoration-color: #800080\">     1460.890380859375     </span>│\n",
       "│<span style=\"color: #008080; text-decoration-color: #008080\">          val_mse          </span>│<span style=\"color: #800080; text-decoration-color: #800080\">       228983.46875        </span>│\n",
       "│<span style=\"color: #008080; text-decoration-color: #008080\">        val_pearson        </span>│<span style=\"color: #800080; text-decoration-color: #800080\">    0.4221198558807373     </span>│\n",
       "└───────────────────────────┴───────────────────────────┘\n",
       "</pre>\n"
      ],
      "text/plain": [
       "┏━━━━━━━━━━━━━━━━━━━━━━━━━━━┳━━━━━━━━━━━━━━━━━━━━━━━━━━━┓\n",
       "┃\u001b[1m \u001b[0m\u001b[1m     Validate metric     \u001b[0m\u001b[1m \u001b[0m┃\u001b[1m \u001b[0m\u001b[1m      DataLoader 0       \u001b[0m\u001b[1m \u001b[0m┃\n",
       "┡━━━━━━━━━━━━━━━━━━━━━━━━━━━╇━━━━━━━━━━━━━━━━━━━━━━━━━━━┩\n",
       "│\u001b[36m \u001b[0m\u001b[36m        val_loss         \u001b[0m\u001b[36m \u001b[0m│\u001b[35m \u001b[0m\u001b[35m    1460.890380859375    \u001b[0m\u001b[35m \u001b[0m│\n",
       "│\u001b[36m \u001b[0m\u001b[36m         val_mse         \u001b[0m\u001b[36m \u001b[0m│\u001b[35m \u001b[0m\u001b[35m      228983.46875       \u001b[0m\u001b[35m \u001b[0m│\n",
       "│\u001b[36m \u001b[0m\u001b[36m       val_pearson       \u001b[0m\u001b[36m \u001b[0m│\u001b[35m \u001b[0m\u001b[35m   0.4221198558807373    \u001b[0m\u001b[35m \u001b[0m│\n",
       "└───────────────────────────┴───────────────────────────┘\n"
      ]
     },
     "metadata": {},
     "output_type": "display_data"
    },
    {
     "name": "stderr",
     "output_type": "stream",
     "text": [
      "LOCAL_RANK: 0 - CUDA_VISIBLE_DEVICES: [0,1,2,3,4,5,6,7]\n",
      "\n",
      "  | Name         | Type             | Params | Mode \n",
      "----------------------------------------------------------\n",
      "0 | model        | DilatedConvModel | 5.6 M  | train\n",
      "1 | loss         | PoissonNLLLoss   | 0      | train\n",
      "2 | val_metrics  | MetricCollection | 0      | train\n",
      "3 | test_metrics | MetricCollection | 0      | train\n",
      "4 | transform    | Identity         | 0      | train\n",
      "----------------------------------------------------------\n",
      "5.6 M     Trainable params\n",
      "0         Non-trainable params\n",
      "5.6 M     Total params\n",
      "22.211    Total estimated model params size (MB)\n",
      "118       Modules in train mode\n",
      "0         Modules in eval mode\n"
     ]
    },
    {
     "name": "stdout",
     "output_type": "stream",
     "text": [
      "                                                                                                                                                                                                                                           \r"
     ]
    },
    {
     "name": "stderr",
     "output_type": "stream",
     "text": [
      "/opt/conda/lib/python3.11/site-packages/torchmetrics/utilities/prints.py:43: UserWarning: The variance of predictions or target is close to zero. This can cause instability in Pearson correlationcoefficient, leading to wrong results. Consider re-scaling the input if possible or computing using alarger dtype (currently using torch.float32).\n"
     ]
    },
    {
     "name": "stdout",
     "output_type": "stream",
     "text": [
      "Epoch 0: 100%|███████████████████████████████████████████████████████████████████████████████████████████████████████████████████████████████████████████████████████████| 494/494 [02:12<00:00,  3.74it/s, v_num=0, train_loss_step=129.0]\n",
      "Validation: |                                                                                                                                                                                                        | 0/? [00:00<?, ?it/s]\u001b[A\n",
      "Validation:   0%|                                                                                                                                                                                                    | 0/3 [00:00<?, ?it/s]\u001b[A\n",
      "Validation DataLoader 0:   0%|                                                                                                                                                                                       | 0/3 [00:00<?, ?it/s]\u001b[A\n",
      "Validation DataLoader 0:  33%|██████████████████████████████████████████████████████████▎                                                                                                                    | 1/3 [00:00<00:00, 10.47it/s]\u001b[A\n",
      "Validation DataLoader 0:  67%|████████████████████████████████████████████████████████████████████████████████████████████████████████████████████▋                                                          | 2/3 [00:00<00:00, 10.30it/s]\u001b[A\n",
      "Validation DataLoader 0: 100%|███████████████████████████████████████████████████████████████████████████████████████████████████████████████████████████████████████████████████████████████████████████████| 3/3 [00:00<00:00, 11.24it/s]\u001b[A\n",
      "Epoch 1: 100%|███████████████████████████████████████████████████████████████████████████████████████████████████████████████████████████████████| 494/494 [02:13<00:00,  3.69it/s, v_num=0, train_loss_step=152.0, train_loss_epoch=178.0]\u001b[A\n",
      "Validation: |                                                                                                                                                                                                        | 0/? [00:00<?, ?it/s]\u001b[A\n",
      "Validation:   0%|                                                                                                                                                                                                    | 0/3 [00:00<?, ?it/s]\u001b[A\n",
      "Validation DataLoader 0:   0%|                                                                                                                                                                                       | 0/3 [00:00<?, ?it/s]\u001b[A\n",
      "Validation DataLoader 0:  33%|██████████████████████████████████████████████████████████▎                                                                                                                    | 1/3 [00:00<00:00, 10.45it/s]\u001b[A\n",
      "Validation DataLoader 0:  67%|████████████████████████████████████████████████████████████████████████████████████████████████████████████████████▋                                                          | 2/3 [00:00<00:00, 10.33it/s]\u001b[A\n",
      "Validation DataLoader 0: 100%|███████████████████████████████████████████████████████████████████████████████████████████████████████████████████████████████████████████████████████████████████████████████| 3/3 [00:00<00:00, 11.28it/s]\u001b[A\n",
      "Epoch 2: 100%|███████████████████████████████████████████████████████████████████████████████████████████████████████████████████████████████████| 494/494 [02:13<00:00,  3.71it/s, v_num=0, train_loss_step=110.0, train_loss_epoch=159.0]\u001b[A\n",
      "Validation: |                                                                                                                                                                                                        | 0/? [00:00<?, ?it/s]\u001b[A\n",
      "Validation:   0%|                                                                                                                                                                                                    | 0/3 [00:00<?, ?it/s]\u001b[A\n",
      "Validation DataLoader 0:   0%|                                                                                                                                                                                       | 0/3 [00:00<?, ?it/s]\u001b[A\n",
      "Validation DataLoader 0:  33%|██████████████████████████████████████████████████████████▎                                                                                                                    | 1/3 [00:00<00:00, 10.49it/s]\u001b[A\n",
      "Validation DataLoader 0:  67%|████████████████████████████████████████████████████████████████████████████████████████████████████████████████████▋                                                          | 2/3 [00:00<00:00, 10.35it/s]\u001b[A\n",
      "Validation DataLoader 0: 100%|███████████████████████████████████████████████████████████████████████████████████████████████████████████████████████████████████████████████████████████████████████████████| 3/3 [00:00<00:00, 11.27it/s]\u001b[A\n",
      "Epoch 3: 100%|███████████████████████████████████████████████████████████████████████████████████████████████████████████████████████████████████| 494/494 [02:13<00:00,  3.71it/s, v_num=0, train_loss_step=138.0, train_loss_epoch=139.0]\u001b[A\n",
      "Validation: |                                                                                                                                                                                                        | 0/? [00:00<?, ?it/s]\u001b[A\n",
      "Validation:   0%|                                                                                                                                                                                                    | 0/3 [00:00<?, ?it/s]\u001b[A\n",
      "Validation DataLoader 0:   0%|                                                                                                                                                                                       | 0/3 [00:00<?, ?it/s]\u001b[A\n",
      "Validation DataLoader 0:  33%|██████████████████████████████████████████████████████████▎                                                                                                                    | 1/3 [00:00<00:00, 10.48it/s]\u001b[A\n",
      "Validation DataLoader 0:  67%|████████████████████████████████████████████████████████████████████████████████████████████████████████████████████▋                                                          | 2/3 [00:00<00:00, 10.35it/s]\u001b[A\n",
      "Validation DataLoader 0: 100%|███████████████████████████████████████████████████████████████████████████████████████████████████████████████████████████████████████████████████████████████████████████████| 3/3 [00:00<00:00, 11.32it/s]\u001b[A\n",
      "Epoch 4: 100%|███████████████████████████████████████████████████████████████████████████████████████████████████████████████████████████████████| 494/494 [02:12<00:00,  3.72it/s, v_num=0, train_loss_step=134.0, train_loss_epoch=132.0]\u001b[A\n",
      "Validation: |                                                                                                                                                                                                        | 0/? [00:00<?, ?it/s]\u001b[A\n",
      "Validation:   0%|                                                                                                                                                                                                    | 0/3 [00:00<?, ?it/s]\u001b[A\n",
      "Validation DataLoader 0:   0%|                                                                                                                                                                                       | 0/3 [00:00<?, ?it/s]\u001b[A\n",
      "Validation DataLoader 0:  33%|██████████████████████████████████████████████████████████▎                                                                                                                    | 1/3 [00:00<00:00, 10.49it/s]\u001b[A\n",
      "Validation DataLoader 0:  67%|████████████████████████████████████████████████████████████████████████████████████████████████████████████████████▋                                                          | 2/3 [00:00<00:00,  9.99it/s]\u001b[A\n",
      "Validation DataLoader 0: 100%|███████████████████████████████████████████████████████████████████████████████████████████████████████████████████████████████████████████████████████████████████████████████| 3/3 [00:00<00:00, 10.90it/s]\u001b[A\n",
      "Epoch 5: 100%|███████████████████████████████████████████████████████████████████████████████████████████████████████████████████████████████████| 494/494 [02:13<00:00,  3.71it/s, v_num=0, train_loss_step=99.90, train_loss_epoch=128.0]\u001b[A\n",
      "Validation: |                                                                                                                                                                                                        | 0/? [00:00<?, ?it/s]\u001b[A\n",
      "Validation:   0%|                                                                                                                                                                                                    | 0/3 [00:00<?, ?it/s]\u001b[A\n",
      "Validation DataLoader 0:   0%|                                                                                                                                                                                       | 0/3 [00:00<?, ?it/s]\u001b[A\n",
      "Validation DataLoader 0:  33%|██████████████████████████████████████████████████████████▎                                                                                                                    | 1/3 [00:00<00:00, 10.57it/s]\u001b[A\n",
      "Validation DataLoader 0:  67%|████████████████████████████████████████████████████████████████████████████████████████████████████████████████████▋                                                          | 2/3 [00:00<00:00, 10.35it/s]\u001b[A\n",
      "Validation DataLoader 0: 100%|███████████████████████████████████████████████████████████████████████████████████████████████████████████████████████████████████████████████████████████████████████████████| 3/3 [00:00<00:00, 11.29it/s]\u001b[A\n",
      "Epoch 6: 100%|███████████████████████████████████████████████████████████████████████████████████████████████████████████████████████████████████| 494/494 [02:13<00:00,  3.71it/s, v_num=0, train_loss_step=130.0, train_loss_epoch=126.0]\u001b[A\n",
      "Validation: |                                                                                                                                                                                                        | 0/? [00:00<?, ?it/s]\u001b[A\n",
      "Validation:   0%|                                                                                                                                                                                                    | 0/3 [00:00<?, ?it/s]\u001b[A\n",
      "Validation DataLoader 0:   0%|                                                                                                                                                                                       | 0/3 [00:00<?, ?it/s]\u001b[A\n",
      "Validation DataLoader 0:  33%|██████████████████████████████████████████████████████████▎                                                                                                                    | 1/3 [00:00<00:00, 10.48it/s]\u001b[A\n",
      "Validation DataLoader 0:  67%|████████████████████████████████████████████████████████████████████████████████████████████████████████████████████▋                                                          | 2/3 [00:00<00:00, 10.32it/s]\u001b[A\n",
      "Validation DataLoader 0: 100%|███████████████████████████████████████████████████████████████████████████████████████████████████████████████████████████████████████████████████████████████████████████████| 3/3 [00:00<00:00, 11.25it/s]\u001b[A\n",
      "Epoch 7: 100%|███████████████████████████████████████████████████████████████████████████████████████████████████████████████████████████████████| 494/494 [02:12<00:00,  3.72it/s, v_num=0, train_loss_step=96.20, train_loss_epoch=125.0]\u001b[A\n",
      "Validation: |                                                                                                                                                                                                        | 0/? [00:00<?, ?it/s]\u001b[A\n",
      "Validation:   0%|                                                                                                                                                                                                    | 0/3 [00:00<?, ?it/s]\u001b[A\n",
      "Validation DataLoader 0:   0%|                                                                                                                                                                                       | 0/3 [00:00<?, ?it/s]\u001b[A\n",
      "Validation DataLoader 0:  33%|██████████████████████████████████████████████████████████▎                                                                                                                    | 1/3 [00:00<00:00, 10.54it/s]\u001b[A\n",
      "Validation DataLoader 0:  67%|████████████████████████████████████████████████████████████████████████████████████████████████████████████████████▋                                                          | 2/3 [00:00<00:00, 10.40it/s]\u001b[A\n",
      "Validation DataLoader 0: 100%|███████████████████████████████████████████████████████████████████████████████████████████████████████████████████████████████████████████████████████████████████████████████| 3/3 [00:00<00:00, 11.35it/s]\u001b[A\n",
      "Epoch 8: 100%|███████████████████████████████████████████████████████████████████████████████████████████████████████████████████████████████████| 494/494 [02:12<00:00,  3.72it/s, v_num=0, train_loss_step=104.0, train_loss_epoch=122.0]\u001b[A\n",
      "Validation: |                                                                                                                                                                                                        | 0/? [00:00<?, ?it/s]\u001b[A\n",
      "Validation:   0%|                                                                                                                                                                                                    | 0/3 [00:00<?, ?it/s]\u001b[A\n",
      "Validation DataLoader 0:   0%|                                                                                                                                                                                       | 0/3 [00:00<?, ?it/s]\u001b[A\n",
      "Validation DataLoader 0:  33%|██████████████████████████████████████████████████████████▎                                                                                                                    | 1/3 [00:00<00:00, 10.55it/s]\u001b[A\n",
      "Validation DataLoader 0:  67%|████████████████████████████████████████████████████████████████████████████████████████████████████████████████████▋                                                          | 2/3 [00:00<00:00, 10.39it/s]\u001b[A\n",
      "Validation DataLoader 0: 100%|███████████████████████████████████████████████████████████████████████████████████████████████████████████████████████████████████████████████████████████████████████████████| 3/3 [00:00<00:00, 11.34it/s]\u001b[A\n",
      "Epoch 9: 100%|███████████████████████████████████████████████████████████████████████████████████████████████████████████████████████████████████| 494/494 [02:12<00:00,  3.72it/s, v_num=0, train_loss_step=135.0, train_loss_epoch=120.0]\u001b[A\n",
      "Validation: |                                                                                                                                                                                                        | 0/? [00:00<?, ?it/s]\u001b[A\n",
      "Validation:   0%|                                                                                                                                                                                                    | 0/3 [00:00<?, ?it/s]\u001b[A\n",
      "Validation DataLoader 0:   0%|                                                                                                                                                                                       | 0/3 [00:00<?, ?it/s]\u001b[A\n",
      "Validation DataLoader 0:  33%|██████████████████████████████████████████████████████████▎                                                                                                                    | 1/3 [00:00<00:00, 10.54it/s]\u001b[A\n",
      "Validation DataLoader 0:  67%|████████████████████████████████████████████████████████████████████████████████████████████████████████████████████▋                                                          | 2/3 [00:00<00:00, 10.40it/s]\u001b[A\n",
      "Validation DataLoader 0: 100%|███████████████████████████████████████████████████████████████████████████████████████████████████████████████████████████████████████████████████████████████████████████████| 3/3 [00:00<00:00, 11.33it/s]\u001b[A\n",
      "Epoch 9: 100%|███████████████████████████████████████████████████████████████████████████████████████████████████████████████████████████████████| 494/494 [02:14<00:00,  3.68it/s, v_num=0, train_loss_step=135.0, train_loss_epoch=118.0]\u001b[A"
     ]
    },
    {
     "name": "stderr",
     "output_type": "stream",
     "text": [
      "`Trainer.fit` stopped: `max_epochs=10` reached.\n"
     ]
    },
    {
     "name": "stdout",
     "output_type": "stream",
     "text": [
      "Epoch 9: 100%|███████████████████████████████████████████████████████████████████████████████████████████████████████████████████████████████████| 494/494 [02:14<00:00,  3.67it/s, v_num=0, train_loss_step=135.0, train_loss_epoch=118.0]\n"
     ]
    }
   ],
   "source": [
    "# See the tutorial_3 folder for logs.\n",
    "trainer = model.train_on_dataset(train_ds, val_ds)"
   ]
  },
  {
   "cell_type": "markdown",
   "id": "c9572c3f-004e-45bd-ab44-03ac1a40149e",
   "metadata": {},
   "source": [
    "## Load the best model version"
   ]
  },
  {
   "cell_type": "code",
   "execution_count": 64,
   "id": "ff970be1-4048-401d-86df-208e26f5c235",
   "metadata": {},
   "outputs": [
    {
     "name": "stdout",
     "output_type": "stream",
     "text": [
      "tutorial_3/2025_26_02_00_30/version_0/checkpoints/epoch=7-step=3952.ckpt\n"
     ]
    }
   ],
   "source": [
    "best_checkpoint = trainer.checkpoint_callback.best_model_path\n",
    "print(best_checkpoint)"
   ]
  },
  {
   "cell_type": "code",
   "execution_count": 66,
   "id": "3810704c-eec4-4e11-a163-7a0d69154d31",
   "metadata": {},
   "outputs": [],
   "source": [
    "model = grelu.lightning.LightningModel.load_from_checkpoint(best_checkpoint)"
   ]
  },
  {
   "cell_type": "markdown",
   "id": "043e1071-5f5d-4cf1-8d76-72822a3130f1",
   "metadata": {},
   "source": [
    "## Evaluate model"
   ]
  },
  {
   "cell_type": "markdown",
   "id": "09317c76-0bc8-4099-ab65-d8428c8bc8fc",
   "metadata": {},
   "source": [
    "We now evaluate the model's performance by computing performance metrics on the test dataset. We will also update the checkpoint with the results."
   ]
  },
  {
   "cell_type": "code",
   "execution_count": 68,
   "id": "2623f43e-5cd3-4751-a5f0-3416687be01e",
   "metadata": {},
   "outputs": [
    {
     "name": "stderr",
     "output_type": "stream",
     "text": [
      "GPU available: True (cuda), used: True\n",
      "TPU available: False, using: 0 TPU cores\n",
      "HPU available: False, using: 0 HPUs\n",
      "LOCAL_RANK: 0 - CUDA_VISIBLE_DEVICES: [0,1,2,3,4,5,6,7]\n"
     ]
    },
    {
     "name": "stdout",
     "output_type": "stream",
     "text": [
      "Epoch 0:  19%|████████████████████████████▉                                                                                                                           | 94/494 [1:04:05<4:32:43,  0.02it/s, v_num=0, train_loss_step=165.0]\n",
      "Epoch 4:  58%|████████████████████████████████████████████████████████████████████████████▎                                                      | 288/494 [35:33<25:25,  0.14it/s, v_num=0, train_loss_step=117.0, train_loss_epoch=135.0]\n",
      "Testing DataLoader 0: 100%|██████████████████████████████████████████████████████████████████████████████████████████████████████████████████████████████████████████████████████████████████████████████████| 4/4 [00:00<00:00, 11.75it/s]\n"
     ]
    },
    {
     "data": {
      "text/html": [
       "<pre style=\"white-space:pre;overflow-x:auto;line-height:normal;font-family:Menlo,'DejaVu Sans Mono',consolas,'Courier New',monospace\">┏━━━━━━━━━━━━━━━━━━━━━━━━━━━┳━━━━━━━━━━━━━━━━━━━━━━━━━━━┓\n",
       "┃<span style=\"font-weight: bold\">        Test metric        </span>┃<span style=\"font-weight: bold\">       DataLoader 0        </span>┃\n",
       "┡━━━━━━━━━━━━━━━━━━━━━━━━━━━╇━━━━━━━━━━━━━━━━━━━━━━━━━━━┩\n",
       "│<span style=\"color: #008080; text-decoration-color: #008080\">         test_loss         </span>│<span style=\"color: #800080; text-decoration-color: #800080\">    114.33853149414062     </span>│\n",
       "│<span style=\"color: #008080; text-decoration-color: #008080\">         test_mse          </span>│<span style=\"color: #800080; text-decoration-color: #800080\">       98036.3046875       </span>│\n",
       "│<span style=\"color: #008080; text-decoration-color: #008080\">       test_pearson        </span>│<span style=\"color: #800080; text-decoration-color: #800080\">    0.6978867650032043     </span>│\n",
       "└───────────────────────────┴───────────────────────────┘\n",
       "</pre>\n"
      ],
      "text/plain": [
       "┏━━━━━━━━━━━━━━━━━━━━━━━━━━━┳━━━━━━━━━━━━━━━━━━━━━━━━━━━┓\n",
       "┃\u001b[1m \u001b[0m\u001b[1m       Test metric       \u001b[0m\u001b[1m \u001b[0m┃\u001b[1m \u001b[0m\u001b[1m      DataLoader 0       \u001b[0m\u001b[1m \u001b[0m┃\n",
       "┡━━━━━━━━━━━━━━━━━━━━━━━━━━━╇━━━━━━━━━━━━━━━━━━━━━━━━━━━┩\n",
       "│\u001b[36m \u001b[0m\u001b[36m        test_loss        \u001b[0m\u001b[36m \u001b[0m│\u001b[35m \u001b[0m\u001b[35m   114.33853149414062    \u001b[0m\u001b[35m \u001b[0m│\n",
       "│\u001b[36m \u001b[0m\u001b[36m        test_mse         \u001b[0m\u001b[36m \u001b[0m│\u001b[35m \u001b[0m\u001b[35m      98036.3046875      \u001b[0m\u001b[35m \u001b[0m│\n",
       "│\u001b[36m \u001b[0m\u001b[36m      test_pearson       \u001b[0m\u001b[36m \u001b[0m│\u001b[35m \u001b[0m\u001b[35m   0.6978867650032043    \u001b[0m\u001b[35m \u001b[0m│\n",
       "└───────────────────────────┴───────────────────────────┘\n"
      ]
     },
     "metadata": {},
     "output_type": "display_data"
    },
    {
     "data": {
      "text/html": [
       "<div>\n",
       "<style scoped>\n",
       "    .dataframe tbody tr th:only-of-type {\n",
       "        vertical-align: middle;\n",
       "    }\n",
       "\n",
       "    .dataframe tbody tr th {\n",
       "        vertical-align: top;\n",
       "    }\n",
       "\n",
       "    .dataframe thead th {\n",
       "        text-align: right;\n",
       "    }\n",
       "</style>\n",
       "<table border=\"1\" class=\"dataframe\">\n",
       "  <thead>\n",
       "    <tr style=\"text-align: right;\">\n",
       "      <th></th>\n",
       "      <th>test_mse</th>\n",
       "      <th>test_pearson</th>\n",
       "    </tr>\n",
       "  </thead>\n",
       "  <tbody>\n",
       "    <tr>\n",
       "      <th>Microglia_full</th>\n",
       "      <td>98036.304688</td>\n",
       "      <td>0.697887</td>\n",
       "    </tr>\n",
       "  </tbody>\n",
       "</table>\n",
       "</div>"
      ],
      "text/plain": [
       "                    test_mse  test_pearson\n",
       "Microglia_full  98036.304688      0.697887"
      ]
     },
     "execution_count": 68,
     "metadata": {},
     "output_type": "execute_result"
    }
   ],
   "source": [
    "test_metrics = model.test_on_dataset(\n",
    "    test_ds,\n",
    "    batch_size=256,\n",
    "    devices=0,\n",
    "    num_workers=8,\n",
    "    write_path = best_checkpoint # Update the checkpoint with the results\n",
    ")\n",
    "\n",
    "test_metrics"
   ]
  },
  {
   "cell_type": "markdown",
   "id": "6290200b-98ad-4ba2-a082-761c5aeaa648",
   "metadata": {},
   "source": [
    "## Run inference on held out sequences"
   ]
  },
  {
   "cell_type": "markdown",
   "id": "1397399f-94f2-4e6d-81c0-8171d65b252e",
   "metadata": {},
   "source": [
    "We can now get the predicted total coverage for each sequence in the test set."
   ]
  },
  {
   "cell_type": "code",
   "execution_count": 69,
   "id": "e963879f-80c7-4d34-a24b-ec8742ba6a05",
   "metadata": {},
   "outputs": [
    {
     "name": "stderr",
     "output_type": "stream",
     "text": [
      "GPU available: True (cuda), used: True\n",
      "TPU available: False, using: 0 TPU cores\n",
      "HPU available: False, using: 0 HPUs\n",
      "LOCAL_RANK: 0 - CUDA_VISIBLE_DEVICES: [0,1,2,3,4,5,6,7]\n"
     ]
    },
    {
     "name": "stdout",
     "output_type": "stream",
     "text": [
      "Predicting DataLoader 0: 100%|███████████████████████████████████████████████████████████████████████████████████████████████████████████████████████████████████████████████████████████████████████████████| 4/4 [00:00<00:00, 12.39it/s]\n"
     ]
    },
    {
     "data": {
      "text/plain": [
       "(791, 1, 1)"
      ]
     },
     "execution_count": 69,
     "metadata": {},
     "output_type": "execute_result"
    }
   ],
   "source": [
    "preds = model.predict_on_dataset(\n",
    "    test_ds, devices=0, num_workers=8\n",
    "    )\n",
    "preds.shape"
   ]
  },
  {
   "cell_type": "markdown",
   "id": "eabbf4de-aded-44e0-b4cd-8e87e10b397b",
   "metadata": {},
   "source": [
    "We can visualize a scatter plot of predicted vs. true coverage values"
   ]
  },
  {
   "cell_type": "code",
   "execution_count": 70,
   "id": "a89ff769-870a-48b7-9e87-3f7609275e26",
   "metadata": {},
   "outputs": [
    {
     "name": "stderr",
     "output_type": "stream",
     "text": [
      "/tmp/ipykernel_2916063/723997811.py:3: RuntimeWarning: divide by zero encountered in log\n",
      "/opt/conda/lib/python3.11/site-packages/plotnine/layer.py:284: PlotnineWarning: stat_pointdensity : Removed 2 rows containing non-finite values.\n"
     ]
    },
    {
     "data": {
      "image/png": "[encoded data removed]"
     },
     "metadata": {
      "image/png": {
       "height": 250,
       "width": 300
      }
     },
     "output_type": "display_data"
    }
   ],
   "source": [
    "grelu.visualize.plot_pred_scatter(\n",
    "    preds=np.log(preds),\n",
    "    labels=np.log(test_ds.get_labels()),\n",
    "    density=True, # Color points by local density\n",
    "    figsize=(3, 2.5), # width, height\n",
    "    size=.5\n",
    ")"
   ]
  },
  {
   "cell_type": "markdown",
   "id": "6f8e13a2-b494-4cce-a89d-1525a80893b2",
   "metadata": {},
   "source": [
    "## Perform a marginalization experiment"
   ]
  },
  {
   "cell_type": "markdown",
   "id": "220e7a9a-fa3c-4850-956b-42846f0c4de3",
   "metadata": {},
   "source": [
    "See tutorial 2 for an example of interpreting the model using ISM and TF-modisco, which discovers motifs that contribute to the model's predictions. Here, we instead study the learned effect of a single specific motif."
   ]
  },
  {
   "cell_type": "markdown",
   "id": "41e1ee1b-ee93-41d5-9e19-264bc100f64b",
   "metadata": {},
   "source": [
    "To understand the effect of the `SPI1.H12CORE.0.P.B` motif in HOCOMOCO v12, we perform a marginalization experiment. In this, we take the `SPI1.H12CORE.0.P.B` motif and insert it into shuffled background sequences, and compare the predictions of the model before and after inserting this motif.\n",
    "\n",
    "First, we read this motif from the MEME file and extract the consensus sequence."
   ]
  },
  {
   "cell_type": "code",
   "execution_count": 71,
   "id": "d6ed3e54-d9df-4a6c-8ecb-9a1723f71adf",
   "metadata": {},
   "outputs": [
    {
     "name": "stdout",
     "output_type": "stream",
     "text": [
      "['AAAAGAGGAAGTGA']\n"
     ]
    }
   ],
   "source": [
    "import grelu.io.motifs\n",
    "import grelu.interpret.motifs\n",
    "motifs = grelu.io.motifs.read_meme_file(\"hocomoco_v12\", names=[\"SPI1.H12CORE.0.P.B\"])\n",
    "patterns = grelu.interpret.motifs.motifs_to_strings(motifs)\n",
    "\n",
    "print(patterns)"
   ]
  },
  {
   "cell_type": "markdown",
   "id": "8e91ddbf-dc54-4a41-919d-e26f17c20466",
   "metadata": {},
   "source": [
    "We will select some peaks from the test set to shuffle and use as the background."
   ]
  },
  {
   "cell_type": "code",
   "execution_count": 82,
   "id": "1efa04a3-05ae-472f-8f9a-a5dc2bfafed8",
   "metadata": {},
   "outputs": [
    {
     "name": "stderr",
     "output_type": "stream",
     "text": [
      "GPU available: True (cuda), used: True\n",
      "TPU available: False, using: 0 TPU cores\n",
      "HPU available: False, using: 0 HPUs\n",
      "LOCAL_RANK: 0 - CUDA_VISIBLE_DEVICES: [0,1,2,3,4,5,6,7]\n"
     ]
    },
    {
     "name": "stdout",
     "output_type": "stream",
     "text": [
      "Predicting DataLoader 0: 100%|███████████████████████████████████████████████████████████████████████████████████████████████████████████████████████████████████████████████████████████████████████████████| 1/1 [00:00<00:00, 12.10it/s]\n"
     ]
    }
   ],
   "source": [
    "result = grelu.interpret.motifs.marginalize_patterns(\n",
    "    model=model,\n",
    "    patterns=patterns,\n",
    "    seqs = test.head(100), # First 10 peaks\n",
    "    genome = \"hg38\",\n",
    "    devices = 0,\n",
    "    num_workers = 8,\n",
    "    batch_size = 512,\n",
    "    n_shuffles = 1, # Each peak will be shuffled 1 time, conserving dinucleotide frequency\n",
    "    seed = 0,\n",
    "    compare_func = \"subtract\", # Return the change in the prediction after inserting the pattern\n",
    ")"
   ]
  },
  {
   "cell_type": "code",
   "execution_count": 83,
   "id": "4d44c080-906e-4ccb-afb9-dae964be5f77",
   "metadata": {
    "scrolled": true
   },
   "outputs": [
    {
     "data": {
      "text/plain": [
       "15.954595"
      ]
     },
     "execution_count": 83,
     "metadata": {},
     "output_type": "execute_result"
    }
   ],
   "source": [
    "result.squeeze().mean()"
   ]
  },
  {
   "cell_type": "markdown",
   "id": "9ca19be7-d378-4ef5-a4ce-59d841f5e81b",
   "metadata": {},
   "source": [
    "We see that on average, inserting this motif into a shuffled peak sequence increases the coverage predicted by the model."
   ]
  },
  {
   "cell_type": "markdown",
   "id": "58834c4e-dbd8-4cb3-8b81-7de5c6fc9951",
   "metadata": {},
   "source": [
    "## Interacting with a gReLU checkpoint"
   ]
  },
  {
   "cell_type": "markdown",
   "id": "8ddd5bc4-2f08-4051-b60c-ef7dea039313",
   "metadata": {},
   "source": [
    "Remember that we wrote a final model checkpoint after evaluating the model on the test set. Let's reload the model from that checkpoint and see what the checkpoint contains."
   ]
  },
  {
   "cell_type": "code",
   "execution_count": 74,
   "id": "873bb6f6-3bda-45db-9d06-af611239efa4",
   "metadata": {},
   "outputs": [],
   "source": [
    "model = grelu.lightning.LightningModel.load_from_checkpoint(best_checkpoint)"
   ]
  },
  {
   "cell_type": "markdown",
   "id": "22160da4-23dd-4f2d-9117-16e5300626da",
   "metadata": {},
   "source": [
    "This object now contains an attribute `data_params`, which contains details of the output tasks as well as the data used for training, validation and testing."
   ]
  },
  {
   "cell_type": "code",
   "execution_count": 84,
   "id": "e1f8ee1b-0961-4054-be97-d0a9ea662818",
   "metadata": {},
   "outputs": [
    {
     "data": {
      "text/plain": [
       "dict_keys(['tasks', 'train', 'val', 'test'])"
      ]
     },
     "execution_count": 84,
     "metadata": {},
     "output_type": "execute_result"
    }
   ],
   "source": [
    "model.data_params.keys()"
   ]
  },
  {
   "cell_type": "markdown",
   "id": "4e5b874f-ee42-4941-9ec8-7bcfaec37eb0",
   "metadata": {},
   "source": [
    "`tasks` contains details of the model output:"
   ]
  },
  {
   "cell_type": "code",
   "execution_count": 85,
   "id": "a849adca-b91c-4fde-843b-49c6cbf6adfd",
   "metadata": {},
   "outputs": [
    {
     "data": {
      "text/html": [
       "<div>\n",
       "<style scoped>\n",
       "    .dataframe tbody tr th:only-of-type {\n",
       "        vertical-align: middle;\n",
       "    }\n",
       "\n",
       "    .dataframe tbody tr th {\n",
       "        vertical-align: top;\n",
       "    }\n",
       "\n",
       "    .dataframe thead th {\n",
       "        text-align: right;\n",
       "    }\n",
       "</style>\n",
       "<table border=\"1\" class=\"dataframe\">\n",
       "  <thead>\n",
       "    <tr style=\"text-align: right;\">\n",
       "      <th></th>\n",
       "      <th>name</th>\n",
       "    </tr>\n",
       "  </thead>\n",
       "  <tbody>\n",
       "    <tr>\n",
       "      <th>0</th>\n",
       "      <td>Microglia_full</td>\n",
       "    </tr>\n",
       "  </tbody>\n",
       "</table>\n",
       "</div>"
      ],
      "text/plain": [
       "             name\n",
       "0  Microglia_full"
      ]
     },
     "execution_count": 85,
     "metadata": {},
     "output_type": "execute_result"
    }
   ],
   "source": [
    "pd.DataFrame(model.data_params['tasks'])"
   ]
  },
  {
   "cell_type": "markdown",
   "id": "b84217a9-1a0f-458e-9481-a30e88c8fee4",
   "metadata": {},
   "source": [
    "While `train`, `val` and `test` contain data about the train, validation and test sets respectively."
   ]
  },
  {
   "cell_type": "code",
   "execution_count": 86,
   "id": "e1b0a115-1551-4145-ab4d-7bcd738d0394",
   "metadata": {},
   "outputs": [
    {
     "data": {
      "text/plain": [
       "dict_keys(['bin_size', 'end', 'genome', 'intervals', 'label_len', 'label_transform_func', 'max_label_clip', 'max_pair_shift', 'max_seq_shift', 'min_label_clip', 'n_alleles', 'n_augmented', 'n_seqs', 'n_tasks', 'padded_label_len', 'padded_seq_len', 'predict', 'rc', 'seq_len'])"
      ]
     },
     "execution_count": 86,
     "metadata": {},
     "output_type": "execute_result"
    }
   ],
   "source": [
    "model.data_params['train'].keys()"
   ]
  },
  {
   "cell_type": "markdown",
   "id": "4a6cb093-e38f-4722-a4cb-4af05ea94646",
   "metadata": {},
   "source": [
    "You can see that the `train` dictionary contains details about all the hyperparameters and augmentations that were applied during training. It also contains the genomic intervals:"
   ]
  },
  {
   "cell_type": "code",
   "execution_count": 87,
   "id": "d46e5d2e-ee24-4267-9338-83a48c5335fc",
   "metadata": {},
   "outputs": [
    {
     "data": {
      "text/html": [
       "<div>\n",
       "<style scoped>\n",
       "    .dataframe tbody tr th:only-of-type {\n",
       "        vertical-align: middle;\n",
       "    }\n",
       "\n",
       "    .dataframe tbody tr th {\n",
       "        vertical-align: top;\n",
       "    }\n",
       "\n",
       "    .dataframe thead th {\n",
       "        text-align: right;\n",
       "    }\n",
       "</style>\n",
       "<table border=\"1\" class=\"dataframe\">\n",
       "  <thead>\n",
       "    <tr style=\"text-align: right;\">\n",
       "      <th></th>\n",
       "      <th>chrom</th>\n",
       "      <th>start</th>\n",
       "      <th>end</th>\n",
       "    </tr>\n",
       "  </thead>\n",
       "  <tbody>\n",
       "    <tr>\n",
       "      <th>0</th>\n",
       "      <td>chr11</td>\n",
       "      <td>307056</td>\n",
       "      <td>309170</td>\n",
       "    </tr>\n",
       "    <tr>\n",
       "      <th>1</th>\n",
       "      <td>chr11</td>\n",
       "      <td>415793</td>\n",
       "      <td>417907</td>\n",
       "    </tr>\n",
       "    <tr>\n",
       "      <th>2</th>\n",
       "      <td>chr11</td>\n",
       "      <td>534551</td>\n",
       "      <td>536665</td>\n",
       "    </tr>\n",
       "    <tr>\n",
       "      <th>3</th>\n",
       "      <td>chr11</td>\n",
       "      <td>628308</td>\n",
       "      <td>630422</td>\n",
       "    </tr>\n",
       "    <tr>\n",
       "      <th>4</th>\n",
       "      <td>chr11</td>\n",
       "      <td>701944</td>\n",
       "      <td>704058</td>\n",
       "    </tr>\n",
       "  </tbody>\n",
       "</table>\n",
       "</div>"
      ],
      "text/plain": [
       "   chrom   start     end\n",
       "0  chr11  307056  309170\n",
       "1  chr11  415793  417907\n",
       "2  chr11  534551  536665\n",
       "3  chr11  628308  630422\n",
       "4  chr11  701944  704058"
      ]
     },
     "execution_count": 87,
     "metadata": {},
     "output_type": "execute_result"
    }
   ],
   "source": [
    "pd.DataFrame(model.data_params['test']['intervals']).head()"
   ]
  },
  {
   "cell_type": "markdown",
   "id": "78d2dbe1-2094-4d6d-a1ed-2f57c2f1b1a9",
   "metadata": {},
   "source": [
    "Similarly, the genomic intervals used for validation and testing are also available under `model.data_params`. Finally, the performance metrics for the model are under `model.performance`:"
   ]
  },
  {
   "cell_type": "code",
   "execution_count": 88,
   "id": "0b4ea068-3be4-42d3-8e7e-bc5ef3660e39",
   "metadata": {},
   "outputs": [
    {
     "data": {
      "text/plain": [
       "{'val': {'val_mse': array(91199.375, dtype=float32),\n",
       "  'val_pearson': array(0.61705315, dtype=float32)},\n",
       " 'test': {'test_mse': array(98036.305, dtype=float32),\n",
       "  'test_pearson': array(0.69788677, dtype=float32)}}"
      ]
     },
     "execution_count": 88,
     "metadata": {},
     "output_type": "execute_result"
    }
   ],
   "source": [
    "model.performance"
   ]
  },
  {
   "cell_type": "code",
   "execution_count": null,
   "id": "4636cf99-5539-4da9-bc5a-628f873ce9a9",
   "metadata": {},
   "outputs": [],
   "source": []
  }
 ],
 "metadata": {
  "kernelspec": {
   "display_name": "Python 3 (ipykernel)",
   "language": "python",
   "name": "python3"
  },
  "language_info": {
   "codemirror_mode": {
    "name": "ipython",
    "version": 3
   },
   "file_extension": ".py",
   "mimetype": "text/x-python",
   "name": "python",
   "nbconvert_exporter": "python",
   "pygments_lexer": "ipython3",
   "version": "3.11.9"
  }
 },
 "nbformat": 4,
 "nbformat_minor": 5
}
