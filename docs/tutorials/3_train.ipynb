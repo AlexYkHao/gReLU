{
 "cells": [
  {
   "cell_type": "markdown",
   "id": "9b5fb36a-bc93-4f66-b91f-8cc586c56e87",
   "metadata": {},
   "source": [
    "# Train a single-task regression model from scratch"
   ]
  },
  {
   "cell_type": "code",
   "execution_count": 1,
   "id": "d79a359c-ed31-4ab7-84dd-ed859ba7fa83",
   "metadata": {},
   "outputs": [],
   "source": [
    "import os\n",
    "import numpy as np\n",
    "import pandas as pd\n",
    "import torch"
   ]
  },
  {
   "cell_type": "markdown",
   "id": "bf7b4807-a380-4bc8-ab66-1946e70643cf",
   "metadata": {},
   "source": [
    "## Set experiment parameters"
   ]
  },
  {
   "cell_type": "code",
   "execution_count": 2,
   "id": "e3fa1a08-6375-4f98-b473-a089885ec59e",
   "metadata": {},
   "outputs": [],
   "source": [
    "experiment='tutorial_3'\n",
    "if not os.path.exists(experiment):\n",
    "    os.makedirs(experiment)"
   ]
  },
  {
   "cell_type": "markdown",
   "id": "d5d89c0d-6b4c-47d2-9568-1617586bea2f",
   "metadata": {},
   "source": [
    "## Peak and fragment files"
   ]
  },
  {
   "cell_type": "markdown",
   "id": "311d0d2c-acda-435b-a29f-f82c3b799395",
   "metadata": {},
   "source": [
    "We downloaded pseudobulk scATAC data for human microglia from Corces et al. (2020): `https://www.nature.com/articles/s41588-020-00721-x`. Here, we use the `grelu.resources` module to download the fragment file and peak file from the model zoo:"
   ]
  },
  {
   "cell_type": "code",
   "execution_count": 3,
   "id": "1e30a103-e5b9-4044-921a-7536a606d356",
   "metadata": {},
   "outputs": [
    {
     "name": "stderr",
     "output_type": "stream",
     "text": [
      "/usr/local/lib/python3.11/dist-packages/tqdm/auto.py:21: TqdmWarning: IProgress not found. Please update jupyter and ipywidgets. See https://ipywidgets.readthedocs.io/en/stable/user_install.html\n",
      "  from .autonotebook import tqdm as notebook_tqdm\n",
      "\u001b[34m\u001b[1mwandb\u001b[0m: Currently logged in as: \u001b[33mlal-avantika\u001b[0m (\u001b[33mgrelu\u001b[0m). Use \u001b[1m`wandb login --relogin`\u001b[0m to force relogin\n",
      "\u001b[34m\u001b[1mwandb\u001b[0m: Downloading large artifact fragment_file:latest, 2203.42MB. 1 files... \n",
      "\u001b[34m\u001b[1mwandb\u001b[0m:   1 of 1 files downloaded.  \n",
      "Done. 0:0:3.7\n",
      "\u001b[34m\u001b[1mwandb\u001b[0m:   1 of 1 files downloaded.  \n"
     ]
    }
   ],
   "source": [
    "# Load dataset to train the model\n",
    "import grelu.resources\n",
    "\n",
    "fragment_file_dir = grelu.resources.get_artifact(project='microglia-scatac-tutorial', name='fragment_file').download()\n",
    "peak_file_dir = grelu.resources.get_artifact(project='microglia-scatac-tutorial', name='peak_file').download()"
   ]
  },
  {
   "cell_type": "code",
   "execution_count": 4,
   "id": "a7e75053-b64c-4b6a-a52a-2c15102638da",
   "metadata": {},
   "outputs": [],
   "source": [
    "# Paths to files\n",
    "frag_file = os.path.join(fragment_file_dir, \"Microglia_full.bed\")\n",
    "peak_file = os.path.join(peak_file_dir, \"Microglia_full_peaks.narrowPeak\")"
   ]
  },
  {
   "cell_type": "markdown",
   "id": "a593fce2-1d82-4d19-83b2-63e32bd14f68",
   "metadata": {},
   "source": [
    "## Set parameters"
   ]
  },
  {
   "cell_type": "code",
   "execution_count": 5,
   "id": "2b471ef2-e124-4a36-bcbb-78bd51edb661",
   "metadata": {},
   "outputs": [],
   "source": [
    "seq_len=2114\n",
    "label_len=1000\n",
    "val_chroms=[\"chr10\"]\n",
    "test_chroms=[\"chr11\"]\n",
    "genome=\"hg38\""
   ]
  },
  {
   "cell_type": "markdown",
   "id": "9af5ff0c-d2f9-4f02-8ca4-5c969e9c3f34",
   "metadata": {},
   "source": [
    "## Read peak file"
   ]
  },
  {
   "cell_type": "code",
   "execution_count": 6,
   "id": "048626a4-9e37-44e6-a3c0-75246456e8f9",
   "metadata": {},
   "outputs": [
    {
     "data": {
      "text/html": [
       "<div>\n",
       "<style scoped>\n",
       "    .dataframe tbody tr th:only-of-type {\n",
       "        vertical-align: middle;\n",
       "    }\n",
       "\n",
       "    .dataframe tbody tr th {\n",
       "        vertical-align: top;\n",
       "    }\n",
       "\n",
       "    .dataframe thead th {\n",
       "        text-align: right;\n",
       "    }\n",
       "</style>\n",
       "<table border=\"1\" class=\"dataframe\">\n",
       "  <thead>\n",
       "    <tr style=\"text-align: right;\">\n",
       "      <th></th>\n",
       "      <th>chrom</th>\n",
       "      <th>start</th>\n",
       "      <th>end</th>\n",
       "      <th>3</th>\n",
       "      <th>4</th>\n",
       "      <th>5</th>\n",
       "      <th>6</th>\n",
       "      <th>7</th>\n",
       "      <th>8</th>\n",
       "      <th>9</th>\n",
       "    </tr>\n",
       "  </thead>\n",
       "  <tbody>\n",
       "    <tr>\n",
       "      <th>83317</th>\n",
       "      <td>chrY</td>\n",
       "      <td>56870777</td>\n",
       "      <td>56870983</td>\n",
       "      <td>Microglia_full_peak_83318</td>\n",
       "      <td>94</td>\n",
       "      <td>.</td>\n",
       "      <td>3.83352</td>\n",
       "      <td>11.58170</td>\n",
       "      <td>9.41381</td>\n",
       "      <td>116</td>\n",
       "    </tr>\n",
       "    <tr>\n",
       "      <th>83318</th>\n",
       "      <td>chrY</td>\n",
       "      <td>56873629</td>\n",
       "      <td>56873811</td>\n",
       "      <td>Microglia_full_peak_83319</td>\n",
       "      <td>49</td>\n",
       "      <td>.</td>\n",
       "      <td>3.01171</td>\n",
       "      <td>7.02098</td>\n",
       "      <td>4.99754</td>\n",
       "      <td>105</td>\n",
       "    </tr>\n",
       "    <tr>\n",
       "      <th>83319</th>\n",
       "      <td>chrY</td>\n",
       "      <td>56874075</td>\n",
       "      <td>56874225</td>\n",
       "      <td>Microglia_full_peak_83320</td>\n",
       "      <td>42</td>\n",
       "      <td>.</td>\n",
       "      <td>2.86533</td>\n",
       "      <td>6.19767</td>\n",
       "      <td>4.20704</td>\n",
       "      <td>17</td>\n",
       "    </tr>\n",
       "  </tbody>\n",
       "</table>\n",
       "</div>"
      ],
      "text/plain": [
       "      chrom     start       end                          3   4  5        6  \\\n",
       "83317  chrY  56870777  56870983  Microglia_full_peak_83318  94  .  3.83352   \n",
       "83318  chrY  56873629  56873811  Microglia_full_peak_83319  49  .  3.01171   \n",
       "83319  chrY  56874075  56874225  Microglia_full_peak_83320  42  .  2.86533   \n",
       "\n",
       "              7        8    9  \n",
       "83317  11.58170  9.41381  116  \n",
       "83318   7.02098  4.99754  105  \n",
       "83319   6.19767  4.20704   17  "
      ]
     },
     "execution_count": 6,
     "metadata": {},
     "output_type": "execute_result"
    }
   ],
   "source": [
    "import grelu.io.bed\n",
    "peaks = grelu.io.bed.read_bed(peak_file)\n",
    "peaks.tail(3)"
   ]
  },
  {
   "cell_type": "markdown",
   "id": "8605162d-5dd1-4c91-884f-b6ed710bdb72",
   "metadata": {},
   "source": [
    "## Summit-center peaks"
   ]
  },
  {
   "cell_type": "code",
   "execution_count": 7,
   "id": "6620e13f-9d66-4b59-8f05-ea6a5106ca5c",
   "metadata": {},
   "outputs": [
    {
     "data": {
      "text/html": [
       "<div>\n",
       "<style scoped>\n",
       "    .dataframe tbody tr th:only-of-type {\n",
       "        vertical-align: middle;\n",
       "    }\n",
       "\n",
       "    .dataframe tbody tr th {\n",
       "        vertical-align: top;\n",
       "    }\n",
       "\n",
       "    .dataframe thead th {\n",
       "        text-align: right;\n",
       "    }\n",
       "</style>\n",
       "<table border=\"1\" class=\"dataframe\">\n",
       "  <thead>\n",
       "    <tr style=\"text-align: right;\">\n",
       "      <th></th>\n",
       "      <th>chrom</th>\n",
       "      <th>start</th>\n",
       "      <th>end</th>\n",
       "    </tr>\n",
       "  </thead>\n",
       "  <tbody>\n",
       "    <tr>\n",
       "      <th>83317</th>\n",
       "      <td>chrY</td>\n",
       "      <td>56869836</td>\n",
       "      <td>56871950</td>\n",
       "    </tr>\n",
       "    <tr>\n",
       "      <th>83318</th>\n",
       "      <td>chrY</td>\n",
       "      <td>56872677</td>\n",
       "      <td>56874791</td>\n",
       "    </tr>\n",
       "    <tr>\n",
       "      <th>83319</th>\n",
       "      <td>chrY</td>\n",
       "      <td>56873035</td>\n",
       "      <td>56875149</td>\n",
       "    </tr>\n",
       "  </tbody>\n",
       "</table>\n",
       "</div>"
      ],
      "text/plain": [
       "      chrom     start       end\n",
       "83317  chrY  56869836  56871950\n",
       "83318  chrY  56872677  56874791\n",
       "83319  chrY  56873035  56875149"
      ]
     },
     "execution_count": 7,
     "metadata": {},
     "output_type": "execute_result"
    }
   ],
   "source": [
    "import grelu.data.preprocess\n",
    "peaks = grelu.data.preprocess.extend_from_summit(peaks, seq_len=seq_len)\n",
    "peaks.tail(3)"
   ]
  },
  {
   "cell_type": "markdown",
   "id": "c3286073-1270-4f3f-9289-4461504c2407",
   "metadata": {},
   "source": [
    "## Filter peaks"
   ]
  },
  {
   "cell_type": "code",
   "execution_count": 8,
   "id": "eeac5047-f85b-4ff8-b4b5-f528e0a4bcc1",
   "metadata": {},
   "outputs": [
    {
     "name": "stdout",
     "output_type": "stream",
     "text": [
      "Keeping 80823 intervals\n"
     ]
    }
   ],
   "source": [
    "# Filter peaks outside autosomes\n",
    "peaks = grelu.data.preprocess.filter_chromosomes(peaks, 'autosomes')"
   ]
  },
  {
   "cell_type": "code",
   "execution_count": 9,
   "id": "79bccf2a-2e25-471f-951e-1f50eb523d8a",
   "metadata": {},
   "outputs": [
    {
     "name": "stdout",
     "output_type": "stream",
     "text": [
      "Keeping 80823 intervals\n"
     ]
    }
   ],
   "source": [
    "# Filter peaks close to blacklist regions\n",
    "peaks = grelu.data.preprocess.filter_blacklist(peaks, genome=genome, window=50)"
   ]
  },
  {
   "cell_type": "markdown",
   "id": "37922eb5-4bf7-4136-8b14-1d6907884a35",
   "metadata": {},
   "source": [
    "## Get GC matched negative regions"
   ]
  },
  {
   "cell_type": "code",
   "execution_count": 10,
   "id": "0ad3c925-162b-4bca-a8e6-6a9b99fe8a15",
   "metadata": {
    "scrolled": true
   },
   "outputs": [
    {
     "name": "stdout",
     "output_type": "stream",
     "text": [
      "Extracting matching intervals\n"
     ]
    },
    {
     "name": "stderr",
     "output_type": "stream",
     "text": [
      "100%|███████████████████████████████████████████████████████████████████████████| 80823/80823 [00:11<00:00, 7021.23it/s]\n",
      "Choosing loci...: 100%|█████████████████████████████████████████████████████████████████| 22/22 [05:30<00:00, 15.02s/it]\n",
      "100%|███████████████████████████████████████████████████████████████████████████| 80823/80823 [00:11<00:00, 6936.42it/s]\n"
     ]
    },
    {
     "name": "stdout",
     "output_type": "stream",
     "text": [
      "GC paired t-test: 0.0274, 8.42e-27\n",
      "Filtering blacklist\n",
      "Keeping 78343 intervals\n"
     ]
    },
    {
     "data": {
      "text/html": [
       "<div>\n",
       "<style scoped>\n",
       "    .dataframe tbody tr th:only-of-type {\n",
       "        vertical-align: middle;\n",
       "    }\n",
       "\n",
       "    .dataframe tbody tr th {\n",
       "        vertical-align: top;\n",
       "    }\n",
       "\n",
       "    .dataframe thead th {\n",
       "        text-align: right;\n",
       "    }\n",
       "</style>\n",
       "<table border=\"1\" class=\"dataframe\">\n",
       "  <thead>\n",
       "    <tr style=\"text-align: right;\">\n",
       "      <th></th>\n",
       "      <th>chrom</th>\n",
       "      <th>start</th>\n",
       "      <th>end</th>\n",
       "    </tr>\n",
       "  </thead>\n",
       "  <tbody>\n",
       "    <tr>\n",
       "      <th>0</th>\n",
       "      <td>chr7</td>\n",
       "      <td>18637503</td>\n",
       "      <td>18639617</td>\n",
       "    </tr>\n",
       "    <tr>\n",
       "      <th>1</th>\n",
       "      <td>chr1</td>\n",
       "      <td>3162382</td>\n",
       "      <td>3164496</td>\n",
       "    </tr>\n",
       "    <tr>\n",
       "      <th>2</th>\n",
       "      <td>chr1</td>\n",
       "      <td>3376140</td>\n",
       "      <td>3378254</td>\n",
       "    </tr>\n",
       "  </tbody>\n",
       "</table>\n",
       "</div>"
      ],
      "text/plain": [
       "  chrom     start       end\n",
       "0  chr7  18637503  18639617\n",
       "1  chr1   3162382   3164496\n",
       "2  chr1   3376140   3378254"
      ]
     },
     "execution_count": 10,
     "metadata": {},
     "output_type": "execute_result"
    }
   ],
   "source": [
    "negatives = grelu.data.preprocess.get_gc_matched_intervals(\n",
    "    peaks,\n",
    "    binwidth=0.02, # resolution of measuring GC content\n",
    "    genome=genome,\n",
    "    chroms=\"autosomes\", # negative regions will also be chosen from autosomes\n",
    "    #gc_bw_file='gc_hg38_2114.bw',\n",
    "    blacklist=genome, # negative regions overlapping blacklist will be dropped\n",
    ")\n",
    "negatives.head(3)"
   ]
  },
  {
   "cell_type": "code",
   "execution_count": 11,
   "id": "b551d1e0-bac0-4d96-953c-d2cee89eefea",
   "metadata": {},
   "outputs": [
    {
     "data": {
      "image/png": "[encoded data removed]"
     },
     "metadata": {
      "image/png": {
       "height": 300,
       "width": 400
      }
     },
     "output_type": "display_data"
    }
   ],
   "source": [
    "import grelu.visualize\n",
    "grelu.visualize.plot_gc_match(positives=peaks, negatives=negatives, binwidth=0.02, genome=\"hg38\")"
   ]
  },
  {
   "cell_type": "markdown",
   "id": "41a643e0-60bc-4d07-b362-ff50b7e56e91",
   "metadata": {},
   "source": [
    "## Combine peaks and negative regions"
   ]
  },
  {
   "cell_type": "code",
   "execution_count": 12,
   "id": "8f174ef8-4f59-47c5-9b9b-2df0c7b15c05",
   "metadata": {},
   "outputs": [],
   "source": [
    "regions = pd.concat([peaks, negatives])"
   ]
  },
  {
   "cell_type": "markdown",
   "id": "41676a4d-1bb9-4860-bce6-22f32c3dc794",
   "metadata": {},
   "source": [
    "## Make BigWig file"
   ]
  },
  {
   "cell_type": "markdown",
   "id": "d6245933-1f08-4c50-8433-19caeec22c85",
   "metadata": {},
   "source": [
    "We convert the ATAC-seq fragment file into a bigWig file which contains the number of Tn5 insertions at each position."
   ]
  },
  {
   "cell_type": "code",
   "execution_count": null,
   "id": "d2971af5-542b-43a7-beb8-40722580dbe8",
   "metadata": {},
   "outputs": [
    {
     "name": "stdout",
     "output_type": "stream",
     "text": [
      "Making bedgraph file\n",
      "cat /code/grelu/docs/tutorials/artifacts/fragment_file:v1/Microglia_full.bed | awk -v OFS=\"\\t\" '{print $1,$2+0,$3,1000,0,\"+\";\n",
      "    print $1,$2,$3+1,1000,0,\"-\"}' | sort -k1,1 | grep -e ^chr1 -e ^chr2 -e ^chr3 -e ^chr4 -e ^chr5 -e ^chr6 -e ^chr7 -e ^chr8 -e ^chr9 -e ^chr10 -e ^chr11 -e ^chr12 -e ^chr13 -e ^chr14 -e ^chr15 -e ^chr16 -e ^chr17 -e ^chr18 -e ^chr19 -e ^chr20 -e ^chr21 -e ^chr22  | bedtools genomecov -bg -5 -i stdin -g /root/.local/share/genomes/hg38/hg38.fa.sizes | bedtools sort -i stdin > ./Microglia_full.bedGraph\n"
     ]
    }
   ],
   "source": [
    "bw_file = grelu.data.preprocess.make_insertion_bigwig(\n",
    "    frag_file = frag_file,\n",
    "    plus_shift=0, minus_shift=1,\n",
    "    genome=genome,\n",
    "    chroms=\"autosomes\",\n",
    ")"
   ]
  },
  {
   "cell_type": "markdown",
   "id": "be9758a9-dc40-4ed4-8b40-8dd895cc9dc2",
   "metadata": {},
   "source": [
    "## Split data by chromosome"
   ]
  },
  {
   "cell_type": "code",
   "execution_count": null,
   "id": "4235d849-e46c-4dde-9fe5-a800fdbdd3df",
   "metadata": {},
   "outputs": [],
   "source": [
    "train, val, test = grelu.data.preprocess.split(\n",
    "    regions, val_chroms=val_chroms, test_chroms=test_chroms)"
   ]
  },
  {
   "cell_type": "markdown",
   "id": "1b4f21ef-c6ee-4ca5-89c3-99981eedc69d",
   "metadata": {},
   "source": [
    "## Make labeled datasets"
   ]
  },
  {
   "cell_type": "code",
   "execution_count": null,
   "id": "4f432723-08c6-4504-9911-1a11911e0272",
   "metadata": {},
   "outputs": [],
   "source": [
    "import grelu.data.dataset\n",
    "\n",
    "train_ds = grelu.data.dataset.BigWigSeqDataset(\n",
    "    intervals = train,\n",
    "    bw_files=[bw_file],\n",
    "    label_len=label_len,\n",
    "    label_aggfunc=\"sum\",\n",
    "    rc=True, # reverse complement\n",
    "    max_seq_shift=3, # Shift the sequence\n",
    "    max_pair_shift=50, # Shift both sequence and label\n",
    "    augment_mode=\"random\",\n",
    "    seed=0,\n",
    ")\n",
    "val_ds = grelu.data.dataset.BigWigSeqDataset(\n",
    "    intervals = val,\n",
    "    bw_files=[bw_file],\n",
    "    label_len=label_len,\n",
    "    label_aggfunc=\"sum\", \n",
    "    max_seq_shift=3,\n",
    "    max_pair_shift=50,\n",
    "    augment_mode=\"random\",\n",
    "    seed=0,\n",
    ")\n",
    "\n",
    "# No augmentation in the test set\n",
    "test_ds = grelu.data.dataset.BigWigSeqDataset(\n",
    "    intervals = test,\n",
    "    bw_files=[bw_file],\n",
    "    label_len=label_len,\n",
    "    label_aggfunc=\"sum\",\n",
    "    augment_mode=\"serial\",\n",
    "    seed=0,\n",
    ")\n",
    "\n",
    "len(train_ds), len(val_ds), len(test_ds)"
   ]
  },
  {
   "cell_type": "markdown",
   "id": "f7c1abdb-00e7-4ebe-8d27-40e44ee4e69d",
   "metadata": {},
   "source": [
    "## Build model"
   ]
  },
  {
   "cell_type": "code",
   "execution_count": null,
   "id": "eb8ae740-cfce-4832-a2c4-b6c62eaec31f",
   "metadata": {},
   "outputs": [],
   "source": [
    "model_params = {\n",
    "    'model_type':'DilatedConvModel',\n",
    "    'crop_len':(seq_len-label_len)//2,\n",
    "    'n_tasks':1,\n",
    "    'channels':512,\n",
    "    'n_conv':8,\n",
    "}\n",
    "\n",
    "train_params = {\n",
    "    'task':'regression',\n",
    "    'loss': 'poisson',\n",
    "    'logger':'csv',\n",
    "    'lr':1e-4,\n",
    "    'batch_size':512,\n",
    "    'max_epochs':10,\n",
    "    'devices':1,\n",
    "    'num_workers':16,\n",
    "    'save_dir':experiment,\n",
    "}\n",
    "\n",
    "import grelu.lightning\n",
    "model = grelu.lightning.LightningModel(model_params, train_params)"
   ]
  },
  {
   "cell_type": "markdown",
   "id": "59dfb4db-1297-4b9c-b62d-2beb9b969eb2",
   "metadata": {},
   "source": [
    "## Train model"
   ]
  },
  {
   "cell_type": "code",
   "execution_count": null,
   "id": "ac4d52b7-b73b-4302-b747-78c52ba06712",
   "metadata": {
    "scrolled": true
   },
   "outputs": [],
   "source": [
    "trainer = model.train_on_dataset(train_ds, val_ds)"
   ]
  },
  {
   "cell_type": "markdown",
   "id": "c9572c3f-004e-45bd-ab44-03ac1a40149e",
   "metadata": {},
   "source": [
    "## Load the best model"
   ]
  },
  {
   "cell_type": "code",
   "execution_count": null,
   "id": "ff970be1-4048-401d-86df-208e26f5c235",
   "metadata": {},
   "outputs": [],
   "source": [
    "best_checkpoint = trainer.checkpoint_callback.best_model_path\n",
    "print(best_checkpoint)"
   ]
  },
  {
   "cell_type": "code",
   "execution_count": null,
   "id": "3810704c-eec4-4e11-a163-7a0d69154d31",
   "metadata": {},
   "outputs": [],
   "source": [
    "model = grelu.lightning.LightningModel.load_from_checkpoint(best_checkpoint)"
   ]
  },
  {
   "cell_type": "markdown",
   "id": "043e1071-5f5d-4cf1-8d76-72822a3130f1",
   "metadata": {},
   "source": [
    "## Evaluate model"
   ]
  },
  {
   "cell_type": "code",
   "execution_count": null,
   "id": "bb60f2de-56d1-49b6-a502-98596aa950d9",
   "metadata": {},
   "outputs": [],
   "source": [
    "test_metrics = model.test_on_dataset(test_ds, batch_size=512, devices=0, num_workers=8)\n",
    "test_metrics"
   ]
  },
  {
   "cell_type": "markdown",
   "id": "6290200b-98ad-4ba2-a082-761c5aeaa648",
   "metadata": {},
   "source": [
    "## Run inference on held out sequences"
   ]
  },
  {
   "cell_type": "code",
   "execution_count": null,
   "id": "e963879f-80c7-4d34-a24b-ec8742ba6a05",
   "metadata": {},
   "outputs": [],
   "source": [
    "preds = model.predict_on_dataset(\n",
    "    test_ds, devices=0, num_workers=8\n",
    "    )\n",
    "preds.shape"
   ]
  },
  {
   "cell_type": "code",
   "execution_count": null,
   "id": "a89ff769-870a-48b7-9e87-3f7609275e26",
   "metadata": {},
   "outputs": [],
   "source": [
    "grelu.visualize.plot_pred_scatter(\n",
    "    preds=preds, labels=test_ds.get_labels(), density=True\n",
    ")"
   ]
  },
  {
   "cell_type": "markdown",
   "id": "57a442e0-480a-4c30-b0da-938412c6c0d7",
   "metadata": {},
   "source": [
    "## Run modisco"
   ]
  },
  {
   "cell_type": "markdown",
   "id": "7cc22caa-b11e-462e-99b6-f02b92c9cec7",
   "metadata": {},
   "source": [
    "We now run TF-Modisco on the test set peaks. TF-modisco identifies motifs that consistently contribute to the model's output. Since we are using the microglia filter to limit the model's prediction to microglia, we will only get motifs relevant to this cell type. We also use TOMTOM to match the Modisco motifs to a set of reference motifs. Here, we use a reference set of non-redundant motifs (https://www.vierstra.org/resources/motif_clustering) that are provided with gReLU as `consensus`."
   ]
  },
  {
   "cell_type": "code",
   "execution_count": null,
   "id": "b258bd4f-1b42-41bd-8cd2-475f6a820abe",
   "metadata": {},
   "outputs": [],
   "source": [
    "import grelu.interpret.score\n",
    "\n",
    "grelu.interpret.score.run_modisco(\n",
    "    model,\n",
    "    seqs=test.iloc[:2000, :],\n",
    "    genome=\"hg38\",\n",
    "    method=\"ism\",\n",
    "    meme_file=\"consensus\",\n",
    "    out_dir=experiment,\n",
    "    devices=0,\n",
    "    window=400,\n",
    "    batch_size=512,\n",
    "    num_workers=16,\n",
    ")"
   ]
  },
  {
   "cell_type": "markdown",
   "id": "70e9992f-e274-48b8-9f79-944d3fcd97c2",
   "metadata": {},
   "source": [
    "## Extract TOMTOM matches from modisco"
   ]
  },
  {
   "cell_type": "markdown",
   "id": "e6ecf626-79bb-4538-a1e8-6befa79a5bda",
   "metadata": {},
   "source": [
    "The full output of TF-Modisco can be found in the experiment folder. Here, we list the significant TOMTOM matches, i.e. known TF motifs that are similar to those found by TF-MoDISco."
   ]
  },
  {
   "cell_type": "code",
   "execution_count": null,
   "id": "f92a8ce2-bf16-43b4-93bc-7e1d4ebf0daa",
   "metadata": {},
   "outputs": [],
   "source": [
    "tomtom_dir = os.path.join(experiment, 'tomtom')\n",
    "tomtom = grelu.io.read_tomtom(tomtom_dir, qthresh=.01)\n",
    "tomtom.head()"
   ]
  },
  {
   "cell_type": "code",
   "execution_count": null,
   "id": "3002d45c-1534-41ae-812b-e5769ee62e18",
   "metadata": {},
   "outputs": [],
   "source": [
    "tomtom.groupby('Query_ID').Target_ID.agg(list)"
   ]
  },
  {
   "cell_type": "markdown",
   "id": "6f8e13a2-b494-4cce-a89d-1525a80893b2",
   "metadata": {},
   "source": [
    "## Perform a marginalization experiment"
   ]
  },
  {
   "cell_type": "markdown",
   "id": "41e1ee1b-ee93-41d5-9e19-264bc100f64b",
   "metadata": {},
   "source": [
    "To understand the effect of the `AC0622:ELF_SPIB:Ets` motif, we perform a marginalization experiment. Here, we take the `AC0622:ELF_SPIB:Ets` motif and insert it into shuffled background sequences, and compare the predictions of the model before and after inserting this motif.\n",
    "\n",
    "First, we read this motif from the MEME file and extract the consensus sequence."
   ]
  },
  {
   "cell_type": "code",
   "execution_count": null,
   "id": "d6ed3e54-d9df-4a6c-8ecb-9a1723f71adf",
   "metadata": {},
   "outputs": [],
   "source": [
    "import grelu.io.meme\n",
    "import grelu.interpret.motifs\n",
    "\n",
    "motifs, _ = grelu.io.meme.read_meme_file(\"consensus\", names=[\"AC0622:ELF_SPIB:Ets\"])\n",
    "patterns = grelu.interpret.motifs.motifs_to_strings(motifs)\n",
    "\n",
    "print(patterns)"
   ]
  },
  {
   "cell_type": "markdown",
   "id": "8e91ddbf-dc54-4a41-919d-e26f17c20466",
   "metadata": {},
   "source": [
    "We will select some peaks from the test set to shuffle and use as the background."
   ]
  },
  {
   "cell_type": "code",
   "execution_count": null,
   "id": "1efa04a3-05ae-472f-8f9a-a5dc2bfafed8",
   "metadata": {},
   "outputs": [],
   "source": [
    "result = grelu.interpret.motifs.marginalize_patterns(\n",
    "    model=model,\n",
    "    patterns=patterns,\n",
    "    seqs = test.head(100),\n",
    "    genome = \"hg38\",\n",
    "    devices = 0,\n",
    "    num_workers = 8,\n",
    "    batch_size = 512,\n",
    "    n_shuffles = 1, # Each peak will be shuffled 1 time, conserving dinucleotide frequency\n",
    "    seed = 0,\n",
    "    compare_func = \"subtract\", # Return the change in the prediction after inserting the pattern\n",
    ")"
   ]
  },
  {
   "cell_type": "code",
   "execution_count": null,
   "id": "4d44c080-906e-4ccb-afb9-dae964be5f77",
   "metadata": {},
   "outputs": [],
   "source": [
    "result.squeeze().mean()"
   ]
  },
  {
   "cell_type": "markdown",
   "id": "9ca19be7-d378-4ef5-a4ce-59d841f5e81b",
   "metadata": {},
   "source": [
    "We see that on average, inserting this motif into a shuffled peak sequence increases the model's prediction."
   ]
  },
  {
   "cell_type": "code",
   "execution_count": null,
   "id": "2e09639b-951e-4083-a643-38bdd72b179a",
   "metadata": {},
   "outputs": [],
   "source": []
  }
 ],
 "metadata": {
  "kernelspec": {
   "display_name": "Python 3 (ipykernel)",
   "language": "python",
   "name": "python3"
  },
  "language_info": {
   "codemirror_mode": {
    "name": "ipython",
    "version": 3
   },
   "file_extension": ".py",
   "mimetype": "text/x-python",
   "name": "python",
   "nbconvert_exporter": "python",
   "pygments_lexer": "ipython3",
   "version": "3.11.8"
  }
 },
 "nbformat": 4,
 "nbformat_minor": 5
}
