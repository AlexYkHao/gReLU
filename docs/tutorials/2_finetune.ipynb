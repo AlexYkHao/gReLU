{
 "cells": [
  {
   "cell_type": "markdown",
   "id": "7c8027c6-9237-4175-91a9-280f04ff94ed",
   "metadata": {},
   "source": [
    "# Fine-tune Enformer to perform binary classification on human snATAC-seq data"
   ]
  },
  {
   "cell_type": "markdown",
   "id": "d9a30dbd-7857-40f4-9397-986924b92c97",
   "metadata": {},
   "source": [
    "In this tutorial, we learn how to fine-tune the Enformer model (https://www.nature.com/articles/s41592-021-01252-x) on the CATLAS single-nucleus ATAC-seq dataset from human tissues (http://catlas.org/humanenhancer/). \n",
    "\n",
    "We will perform binary classification, in which the model learns to predict the probability that a given sequence is accessible in the different cell types of the dataset. For an example of regression modeling, see the next tutorial."
   ]
  },
  {
   "cell_type": "code",
   "execution_count": 1,
   "id": "afeac1a1-acaa-4bcb-9cd0-0d1fbec126b3",
   "metadata": {
    "tags": []
   },
   "outputs": [],
   "source": [
    "import anndata\n",
    "import os\n",
    "import importlib\n",
    "import pandas as pd\n",
    "import numpy as np\n",
    "\n",
    "%matplotlib inline"
   ]
  },
  {
   "cell_type": "markdown",
   "id": "f657f2a3-af79-4aa6-aa9c-32754b345563",
   "metadata": {},
   "source": [
    "## Set experiment parameters"
   ]
  },
  {
   "cell_type": "code",
   "execution_count": 2,
   "id": "c00eda6b-13c7-4ff6-b879-c6d66e048172",
   "metadata": {
    "tags": []
   },
   "outputs": [],
   "source": [
    "experiment='tutorial_2'\n",
    "if not os.path.exists(experiment):\n",
    "    os.makedirs(experiment)"
   ]
  },
  {
   "cell_type": "markdown",
   "id": "44ca3c03-b538-4a38-8b4e-c8e42d8da539",
   "metadata": {},
   "source": [
    "## Download data"
   ]
  },
  {
   "cell_type": "markdown",
   "id": "2ed3d293-be8c-4aeb-8f78-e56f52efcf6f",
   "metadata": {},
   "source": [
    "We download the CATlas ATAC-seq binary cell type x peak matrix from the gReLU model zoo. For more details on downloading models and datasets from the zoo, see Tutorial 6. The original source of this data is https://decoder-genetics.wustl.edu/catlasv1/humanenhancer/data/cCRE_by_cell_type/. For more details, see https://decoder-genetics.wustl.edu/catlasv1/catlas_humanenhancer/#!/."
   ]
  },
  {
   "cell_type": "code",
   "execution_count": 3,
   "id": "7edc1b8f-c807-4c76-9961-37ce68c6dc91",
   "metadata": {},
   "outputs": [
    {
     "name": "stderr",
     "output_type": "stream",
     "text": [
      "/opt/conda/lib/python3.11/site-packages/tqdm/auto.py:21: TqdmWarning: IProgress not found. Please update jupyter and ipywidgets. See https://ipywidgets.readthedocs.io/en/stable/user_install.html\n",
      "  from .autonotebook import tqdm as notebook_tqdm\n",
      "\u001b[34m\u001b[1mwandb\u001b[0m: Currently logged in as: \u001b[33mavantikalal\u001b[0m (\u001b[33mgrelu\u001b[0m) to \u001b[32mhttps://api.wandb.ai\u001b[0m. Use \u001b[1m`wandb login --relogin`\u001b[0m to force relogin\n",
      "\u001b[34m\u001b[1mwandb\u001b[0m: Downloading large artifact dataset:latest, 206.94MB. 1 files... \n",
      "\u001b[34m\u001b[1mwandb\u001b[0m:   1 of 1 files downloaded.  \n",
      "Done. 0:0:0.5 (442.7MB/s)\n"
     ]
    },
    {
     "data": {
      "text/plain": [
       "['data.h5ad']"
      ]
     },
     "execution_count": 3,
     "metadata": {},
     "output_type": "execute_result"
    }
   ],
   "source": [
    "import grelu.resources\n",
    "artifact = grelu.resources.get_artifact(\n",
    "    name=\"dataset\",\n",
    "    project = 'tutorial-2',\n",
    ")\n",
    "artifact_dir = artifact.download()\n",
    "os.listdir(artifact_dir)"
   ]
  },
  {
   "cell_type": "markdown",
   "id": "1a361958-d147-4561-ac3c-015251425775",
   "metadata": {},
   "source": [
    "## Load data"
   ]
  },
  {
   "cell_type": "markdown",
   "id": "95853034-94c2-4178-872f-a5a369b93028",
   "metadata": {},
   "source": [
    "As you see above, we downloaded an h5ad file `data.h5ad` containing the binaized chromatin accessibility data for multiple human cell types. We now load this as an anndata object."
   ]
  },
  {
   "cell_type": "code",
   "execution_count": 4,
   "id": "44df90bc-5704-43aa-98e2-fbf20e2d4170",
   "metadata": {},
   "outputs": [
    {
     "data": {
      "text/plain": [
       "AnnData object with n_obs × n_vars = 222 × 1154611\n",
       "    obs: 'cell type'\n",
       "    var: 'chrom', 'start', 'end', 'Class', 'Present in fetal tissues', 'Present in adult tissues', 'CRE module', 'width'"
      ]
     },
     "execution_count": 4,
     "metadata": {},
     "output_type": "execute_result"
    }
   ],
   "source": [
    "ad = anndata.read_h5ad(os.path.join(artifact_dir, 'data.h5ad'))\n",
    "ad"
   ]
  },
  {
   "cell_type": "markdown",
   "id": "978bb4ae-78e2-44e0-93fc-858e466e5cf7",
   "metadata": {},
   "source": [
    "This contains a binary matrix representing the accessibility of 1154611 CREs measured in 222 cell types. Let us look at the components of this object:"
   ]
  },
  {
   "cell_type": "code",
   "execution_count": 5,
   "id": "7f6d0fff-0422-4df5-951c-29626a6d68b2",
   "metadata": {},
   "outputs": [
    {
     "data": {
      "text/html": [
       "<div>\n",
       "<style scoped>\n",
       "    .dataframe tbody tr th:only-of-type {\n",
       "        vertical-align: middle;\n",
       "    }\n",
       "\n",
       "    .dataframe tbody tr th {\n",
       "        vertical-align: top;\n",
       "    }\n",
       "\n",
       "    .dataframe thead th {\n",
       "        text-align: right;\n",
       "    }\n",
       "</style>\n",
       "<table border=\"1\" class=\"dataframe\">\n",
       "  <thead>\n",
       "    <tr style=\"text-align: right;\">\n",
       "      <th></th>\n",
       "      <th>chrom</th>\n",
       "      <th>start</th>\n",
       "      <th>end</th>\n",
       "      <th>Class</th>\n",
       "      <th>Present in fetal tissues</th>\n",
       "      <th>Present in adult tissues</th>\n",
       "      <th>CRE module</th>\n",
       "      <th>width</th>\n",
       "    </tr>\n",
       "  </thead>\n",
       "  <tbody>\n",
       "    <tr>\n",
       "      <th>0</th>\n",
       "      <td>chr1</td>\n",
       "      <td>9955</td>\n",
       "      <td>10355</td>\n",
       "      <td>Promoter Proximal</td>\n",
       "      <td>yes</td>\n",
       "      <td>yes</td>\n",
       "      <td>146</td>\n",
       "      <td>400</td>\n",
       "    </tr>\n",
       "    <tr>\n",
       "      <th>1</th>\n",
       "      <td>chr1</td>\n",
       "      <td>29163</td>\n",
       "      <td>29563</td>\n",
       "      <td>Promoter</td>\n",
       "      <td>yes</td>\n",
       "      <td>yes</td>\n",
       "      <td>37</td>\n",
       "      <td>400</td>\n",
       "    </tr>\n",
       "    <tr>\n",
       "      <th>2</th>\n",
       "      <td>chr1</td>\n",
       "      <td>79215</td>\n",
       "      <td>79615</td>\n",
       "      <td>Distal</td>\n",
       "      <td>no</td>\n",
       "      <td>yes</td>\n",
       "      <td>75</td>\n",
       "      <td>400</td>\n",
       "    </tr>\n",
       "    <tr>\n",
       "      <th>3</th>\n",
       "      <td>chr1</td>\n",
       "      <td>102755</td>\n",
       "      <td>103155</td>\n",
       "      <td>Distal</td>\n",
       "      <td>no</td>\n",
       "      <td>yes</td>\n",
       "      <td>51</td>\n",
       "      <td>400</td>\n",
       "    </tr>\n",
       "    <tr>\n",
       "      <th>4</th>\n",
       "      <td>chr1</td>\n",
       "      <td>115530</td>\n",
       "      <td>115930</td>\n",
       "      <td>Distal</td>\n",
       "      <td>yes</td>\n",
       "      <td>no</td>\n",
       "      <td>36</td>\n",
       "      <td>400</td>\n",
       "    </tr>\n",
       "  </tbody>\n",
       "</table>\n",
       "</div>"
      ],
      "text/plain": [
       "  chrom   start     end              Class Present in fetal tissues  \\\n",
       "0  chr1    9955   10355  Promoter Proximal                      yes   \n",
       "1  chr1   29163   29563           Promoter                      yes   \n",
       "2  chr1   79215   79615             Distal                       no   \n",
       "3  chr1  102755  103155             Distal                       no   \n",
       "4  chr1  115530  115930             Distal                      yes   \n",
       "\n",
       "  Present in adult tissues  CRE module  width  \n",
       "0                      yes         146    400  \n",
       "1                      yes          37    400  \n",
       "2                      yes          75    400  \n",
       "3                      yes          51    400  \n",
       "4                       no          36    400  "
      ]
     },
     "execution_count": 5,
     "metadata": {},
     "output_type": "execute_result"
    }
   ],
   "source": [
    "ad.var.head()"
   ]
  },
  {
   "cell_type": "code",
   "execution_count": 6,
   "id": "ed3ad337-477d-4f5b-9c6d-4acb554f6cd3",
   "metadata": {},
   "outputs": [
    {
     "data": {
      "text/html": [
       "<div>\n",
       "<style scoped>\n",
       "    .dataframe tbody tr th:only-of-type {\n",
       "        vertical-align: middle;\n",
       "    }\n",
       "\n",
       "    .dataframe tbody tr th {\n",
       "        vertical-align: top;\n",
       "    }\n",
       "\n",
       "    .dataframe thead th {\n",
       "        text-align: right;\n",
       "    }\n",
       "</style>\n",
       "<table border=\"1\" class=\"dataframe\">\n",
       "  <thead>\n",
       "    <tr style=\"text-align: right;\">\n",
       "      <th></th>\n",
       "      <th>cell type</th>\n",
       "    </tr>\n",
       "    <tr>\n",
       "      <th>cell type</th>\n",
       "      <th></th>\n",
       "    </tr>\n",
       "  </thead>\n",
       "  <tbody>\n",
       "    <tr>\n",
       "      <th>Follicular</th>\n",
       "      <td>Follicular</td>\n",
       "    </tr>\n",
       "    <tr>\n",
       "      <th>Fibro General</th>\n",
       "      <td>Fibro General</td>\n",
       "    </tr>\n",
       "    <tr>\n",
       "      <th>Acinar</th>\n",
       "      <td>Acinar</td>\n",
       "    </tr>\n",
       "    <tr>\n",
       "      <th>T Lymphocyte 1 (CD8+)</th>\n",
       "      <td>T Lymphocyte 1 (CD8+)</td>\n",
       "    </tr>\n",
       "    <tr>\n",
       "      <th>T lymphocyte 2 (CD4+)</th>\n",
       "      <td>T lymphocyte 2 (CD4+)</td>\n",
       "    </tr>\n",
       "  </tbody>\n",
       "</table>\n",
       "</div>"
      ],
      "text/plain": [
       "                                   cell type\n",
       "cell type                                   \n",
       "Follicular                        Follicular\n",
       "Fibro General                  Fibro General\n",
       "Acinar                                Acinar\n",
       "T Lymphocyte 1 (CD8+)  T Lymphocyte 1 (CD8+)\n",
       "T lymphocyte 2 (CD4+)  T lymphocyte 2 (CD4+)"
      ]
     },
     "execution_count": 6,
     "metadata": {},
     "output_type": "execute_result"
    }
   ],
   "source": [
    "ad.obs.head()"
   ]
  },
  {
   "cell_type": "markdown",
   "id": "da4bafb4-1284-4bbc-8786-6badb57495f4",
   "metadata": {},
   "source": [
    "The contents of this anndata object are binary values (0 or 1). 1 indicates accessibility of the peak in the cell type."
   ]
  },
  {
   "cell_type": "code",
   "execution_count": 7,
   "id": "09433609-4f30-4316-a2e2-453ce72efdb8",
   "metadata": {},
   "outputs": [
    {
     "data": {
      "text/plain": [
       "matrix([[1., 0., 0., 0., 0.],\n",
       "        [1., 0., 0., 0., 0.],\n",
       "        [1., 0., 0., 0., 0.],\n",
       "        [1., 0., 0., 0., 0.],\n",
       "        [1., 0., 0., 0., 0.]], dtype=float32)"
      ]
     },
     "execution_count": 7,
     "metadata": {},
     "output_type": "execute_result"
    }
   ],
   "source": [
    "ad.X[:5, :5].todense()"
   ]
  },
  {
   "cell_type": "markdown",
   "id": "b6d8ae4e-6c31-4044-a546-8814bedbde6c",
   "metadata": {},
   "source": [
    "## Filter peaks"
   ]
  },
  {
   "cell_type": "markdown",
   "id": "06af7256-35ad-4299-bd48-d48daddc0ade",
   "metadata": {},
   "source": [
    "We will perform filtering of this dataset using the `grelu.data.preprocess` module."
   ]
  },
  {
   "cell_type": "markdown",
   "id": "aaa8c2bb-20ad-4a99-aedf-8e4bb0daaa80",
   "metadata": {},
   "source": [
    "First, we filter peaks within autosomes (chromosomes 1-22) or chromsomes X/Y. You can also supply `autosomes` or `autosomesX` to further restrict the chromosomes."
   ]
  },
  {
   "cell_type": "code",
   "execution_count": 8,
   "id": "d8d52a31-61ce-4bc4-ba35-f6d23410e2eb",
   "metadata": {
    "tags": []
   },
   "outputs": [
    {
     "name": "stdout",
     "output_type": "stream",
     "text": [
      "Keeping 1154464 intervals\n"
     ]
    }
   ],
   "source": [
    "import grelu.data.preprocess\n",
    "\n",
    "ad = grelu.data.preprocess.filter_chromosomes(ad, 'autosomesXY')"
   ]
  },
  {
   "cell_type": "markdown",
   "id": "1f75ad2f-0bd7-4b0e-a50e-31b1524aeb75",
   "metadata": {},
   "source": [
    "Next, we drop peaks overlapping with the ENCODE blacklist regions for the hg38 genome."
   ]
  },
  {
   "cell_type": "code",
   "execution_count": 9,
   "id": "92c7e1ba-d2f6-49f2-b5e4-f468567739f0",
   "metadata": {
    "tags": []
   },
   "outputs": [
    {
     "name": "stdout",
     "output_type": "stream",
     "text": [
      "Keeping 1154464 intervals\n"
     ]
    }
   ],
   "source": [
    "ad = grelu.data.preprocess.filter_blacklist(ad, genome='hg38')"
   ]
  },
  {
   "cell_type": "markdown",
   "id": "fa558158-7f60-4046-9aff-3dac019fd9b7",
   "metadata": {},
   "source": [
    "## Visualize data"
   ]
  },
  {
   "cell_type": "markdown",
   "id": "89330dcf-4daa-4c6c-8f0c-ba1a2609de40",
   "metadata": {},
   "source": [
    "Next, we can plot the distribution of the data in various ways."
   ]
  },
  {
   "cell_type": "code",
   "execution_count": 10,
   "id": "a19a4814-a42d-4b53-ac99-5f1d5e0b3c76",
   "metadata": {},
   "outputs": [],
   "source": [
    "import grelu.visualize\n",
    "%matplotlib inline"
   ]
  },
  {
   "cell_type": "markdown",
   "id": "e3a205e1-5448-46f7-804a-1484bb9e1ebb",
   "metadata": {},
   "source": [
    "In how many accessible cell types is each peak accessible?"
   ]
  },
  {
   "cell_type": "code",
   "execution_count": 11,
   "id": "6c29623b-2cee-4a53-911b-4741a7f81911",
   "metadata": {},
   "outputs": [
    {
     "data": {
      "image/png": "[encoded data removed]"
     },
     "metadata": {
      "image/png": {
       "height": 200,
       "width": 360
      }
     },
     "output_type": "display_data"
    }
   ],
   "source": [
    "cell_types_per_peak = np.array(np.sum(ad.X > 0, axis=0))\n",
    "\n",
    "grelu.visualize.plot_distribution(\n",
    "    cell_types_per_peak,\n",
    "    title='number of cell types per peak',\n",
    "    method='density', # Alternative: histogram\n",
    "    figsize=(3.6, 2), # width, height\n",
    ")"
   ]
  },
  {
   "cell_type": "markdown",
   "id": "2cc5055c-1f71-4de7-996b-588435e2b5d4",
   "metadata": {},
   "source": [
    "How many peaks are accessible in each cell type?"
   ]
  },
  {
   "cell_type": "code",
   "execution_count": 12,
   "id": "06fb8de1-107f-4cfe-8243-6f46e4a65c4e",
   "metadata": {},
   "outputs": [
    {
     "data": {
      "image/png": "[encoded data removed]"
     },
     "metadata": {
      "image/png": {
       "height": 200,
       "width": 360
      }
     },
     "output_type": "display_data"
    }
   ],
   "source": [
    "fraction_accessible_per_cell_type = np.array(np.mean(ad.X > 0, axis=1))\n",
    "\n",
    "grelu.visualize.plot_distribution(\n",
    "    fraction_accessible_per_cell_type,\n",
    "    title='Fraction of peaks accessible per cell type',\n",
    "    method='histogram', # alternative: density\n",
    "    binwidth=0.005,\n",
    "    figsize=(3.6, 2), # width, height\n",
    ")"
   ]
  },
  {
   "cell_type": "markdown",
   "id": "ec6aeb54-c846-4425-afd1-6d2fce4215ec",
   "metadata": {},
   "source": [
    "It seems that some cell types have very few accessible peaks. We will drop these cell types from the dataset."
   ]
  },
  {
   "cell_type": "code",
   "execution_count": 13,
   "id": "b17c85f8-a2d5-47d7-bb2e-4e4bf8337e46",
   "metadata": {},
   "outputs": [
    {
     "name": "stdout",
     "output_type": "stream",
     "text": [
      "(222, 1154464)\n",
      "(203, 1154464)\n"
     ]
    }
   ],
   "source": [
    "print(ad.shape)\n",
    "ad = ad[ad.X.mean(axis=1) > .03, :]\n",
    "print(ad.shape)"
   ]
  },
  {
   "cell_type": "markdown",
   "id": "01fb8d15-abea-4f32-bbbd-3f567ff6b841",
   "metadata": {},
   "source": [
    "We can plot the distribution once again to see the effect of this filtering:"
   ]
  },
  {
   "cell_type": "code",
   "execution_count": 14,
   "id": "8f84cbda-d1fb-47c9-a303-14d534f9764c",
   "metadata": {},
   "outputs": [
    {
     "data": {
      "image/png": "[encoded data removed]"
     },
     "metadata": {
      "image/png": {
       "height": 200,
       "width": 360
      }
     },
     "output_type": "display_data"
    }
   ],
   "source": [
    "fraction_accessible_per_cell_type = np.array(np.mean(ad.X > 0, axis=1))\n",
    "\n",
    "grelu.visualize.plot_distribution(\n",
    "    fraction_accessible_per_cell_type,\n",
    "    title='Fraction of peaks accessible per cell type',\n",
    "    method='histogram', # alternative: density\n",
    "    binwidth=0.005,\n",
    "    figsize=(3.6, 2), # width, height\n",
    ")"
   ]
  },
  {
   "cell_type": "markdown",
   "id": "a095924f-e1bc-454e-9193-18674bb2c90e",
   "metadata": {},
   "source": [
    "## Resize peaks"
   ]
  },
  {
   "cell_type": "markdown",
   "id": "0dcf39fe-fef0-454b-99a1-a4ac4a087133",
   "metadata": {},
   "source": [
    "Finally, since the ATAC-seq peaks can have different lengths, we resize all of them to a constant length in order to train the model. Here, we take 200 bp. We can use the `resize` function in `grelu.sequence.utils`, which contains functions to manipulate DNA sequences."
   ]
  },
  {
   "cell_type": "code",
   "execution_count": 15,
   "id": "42e218fa-c6ee-457a-ac84-f3c15741ae70",
   "metadata": {
    "tags": []
   },
   "outputs": [
    {
     "data": {
      "text/html": [
       "<div>\n",
       "<style scoped>\n",
       "    .dataframe tbody tr th:only-of-type {\n",
       "        vertical-align: middle;\n",
       "    }\n",
       "\n",
       "    .dataframe tbody tr th {\n",
       "        vertical-align: top;\n",
       "    }\n",
       "\n",
       "    .dataframe thead th {\n",
       "        text-align: right;\n",
       "    }\n",
       "</style>\n",
       "<table border=\"1\" class=\"dataframe\">\n",
       "  <thead>\n",
       "    <tr style=\"text-align: right;\">\n",
       "      <th></th>\n",
       "      <th>chrom</th>\n",
       "      <th>start</th>\n",
       "      <th>end</th>\n",
       "      <th>Class</th>\n",
       "      <th>Present in fetal tissues</th>\n",
       "      <th>Present in adult tissues</th>\n",
       "      <th>CRE module</th>\n",
       "      <th>width</th>\n",
       "    </tr>\n",
       "  </thead>\n",
       "  <tbody>\n",
       "    <tr>\n",
       "      <th>0</th>\n",
       "      <td>chr1</td>\n",
       "      <td>10055</td>\n",
       "      <td>10255</td>\n",
       "      <td>Promoter Proximal</td>\n",
       "      <td>yes</td>\n",
       "      <td>yes</td>\n",
       "      <td>146</td>\n",
       "      <td>400</td>\n",
       "    </tr>\n",
       "    <tr>\n",
       "      <th>1</th>\n",
       "      <td>chr1</td>\n",
       "      <td>29263</td>\n",
       "      <td>29463</td>\n",
       "      <td>Promoter</td>\n",
       "      <td>yes</td>\n",
       "      <td>yes</td>\n",
       "      <td>37</td>\n",
       "      <td>400</td>\n",
       "    </tr>\n",
       "    <tr>\n",
       "      <th>2</th>\n",
       "      <td>chr1</td>\n",
       "      <td>79315</td>\n",
       "      <td>79515</td>\n",
       "      <td>Distal</td>\n",
       "      <td>no</td>\n",
       "      <td>yes</td>\n",
       "      <td>75</td>\n",
       "      <td>400</td>\n",
       "    </tr>\n",
       "  </tbody>\n",
       "</table>\n",
       "</div>"
      ],
      "text/plain": [
       "  chrom  start    end              Class Present in fetal tissues  \\\n",
       "0  chr1  10055  10255  Promoter Proximal                      yes   \n",
       "1  chr1  29263  29463           Promoter                      yes   \n",
       "2  chr1  79315  79515             Distal                       no   \n",
       "\n",
       "  Present in adult tissues  CRE module  width  \n",
       "0                      yes         146    400  \n",
       "1                      yes          37    400  \n",
       "2                      yes          75    400  "
      ]
     },
     "execution_count": 15,
     "metadata": {},
     "output_type": "execute_result"
    }
   ],
   "source": [
    "import grelu.sequence.utils\n",
    "seq_len = 200\n",
    "\n",
    "ad.var = grelu.sequence.utils.resize(ad.var, seq_len)\n",
    "ad.var.head(3)"
   ]
  },
  {
   "cell_type": "markdown",
   "id": "3940acf0-7946-43cf-a8f7-674f7a641a5f",
   "metadata": {},
   "source": [
    "## Split data"
   ]
  },
  {
   "cell_type": "markdown",
   "id": "fe4a4d06-8de3-43c9-acc9-d73f8a568095",
   "metadata": {},
   "source": [
    "We will split the peaks by chromosome to create separate sets for training, validation and testing."
   ]
  },
  {
   "cell_type": "code",
   "execution_count": 16,
   "id": "9da14097-1613-44b8-bb73-8fd90d0e3c33",
   "metadata": {
    "tags": []
   },
   "outputs": [
    {
     "name": "stdout",
     "output_type": "stream",
     "text": [
      "Selecting training samples\n",
      "Keeping 1007912 intervals\n",
      "\n",
      "\n",
      "Selecting validation samples\n",
      "Keeping 56974 intervals\n",
      "\n",
      "\n",
      "Selecting test samples\n",
      "Keeping 56433 intervals\n",
      "Final sizes: train: (203, 1007912), val: (203, 56974), test: (203, 56433)\n"
     ]
    }
   ],
   "source": [
    "train_chroms='autosomes'\n",
    "val_chroms=['chr10']\n",
    "test_chroms=['chr11']\n",
    "\n",
    "ad_train, ad_val, ad_test = grelu.data.preprocess.split(\n",
    "    ad,\n",
    "    train_chroms=train_chroms, val_chroms=val_chroms, test_chroms=test_chroms,\n",
    ")"
   ]
  },
  {
   "cell_type": "markdown",
   "id": "529595fc-83cd-4565-9bd4-4b06341c6026",
   "metadata": {},
   "source": [
    "## Make labeled sequence datasets"
   ]
  },
  {
   "cell_type": "markdown",
   "id": "a925bc3c-7a64-48f2-862b-50c060819cc6",
   "metadata": {},
   "source": [
    "`grelu.data.dataset` contains PyTorch Dataset classes that can load and process genomic data for training a deep learning model. Here, we use the `AnnDataSeqDataset` class which loads data from an AnnData object. Other available dataset classes include `DFSeqDataset` and `BigWigSeqDataset`."
   ]
  },
  {
   "cell_type": "markdown",
   "id": "056918bc-8c28-4722-b14e-b00a50af1ad3",
   "metadata": {},
   "source": [
    "We first make the training dataset. To increase model robustness we use several forms of data augmentation here: `rc=True` (reverse complementing the input sequence), and `max_seq_shift=1` (shifting the coordinates of the input sequence by upto 1 bp in either direction; also known as jitter). We use `augmentation_mode=\"random\"` which means that at each iteration, the model sees a randomly selected augmented version for each sequence."
   ]
  },
  {
   "cell_type": "code",
   "execution_count": 17,
   "id": "fb7f2391-9643-42d9-9011-1d820c03c02d",
   "metadata": {},
   "outputs": [],
   "source": [
    "import grelu.data.dataset"
   ]
  },
  {
   "cell_type": "code",
   "execution_count": 18,
   "id": "9768643e-30e3-4d45-9fb6-877bf77e660e",
   "metadata": {},
   "outputs": [],
   "source": [
    "train_dataset = grelu.data.dataset.AnnDataSeqDataset(\n",
    "    ad_train.copy(),\n",
    "    genome='hg38',\n",
    "    rc=True, # reverse complement\n",
    "    max_seq_shift=1, # Shift the sequence\n",
    "    augment_mode=\"random\", # Randomly select which augmentations to apply\n",
    ")"
   ]
  },
  {
   "cell_type": "markdown",
   "id": "26030a1f-309d-4334-bf38-452219a3200c",
   "metadata": {},
   "source": [
    "We do not apply any augmentations to the validation and test datasets (although it is possible to do so)."
   ]
  },
  {
   "cell_type": "code",
   "execution_count": 19,
   "id": "85220261-3de4-4693-9e96-513f0687ce98",
   "metadata": {},
   "outputs": [],
   "source": [
    "val_dataset = grelu.data.dataset.AnnDataSeqDataset(ad_val.copy(), genome='hg38')\n",
    "test_dataset = grelu.data.dataset.AnnDataSeqDataset(ad_test.copy(), genome='hg38')"
   ]
  },
  {
   "cell_type": "markdown",
   "id": "b4af1e79-2a84-4356-bf16-577376960914",
   "metadata": {},
   "source": [
    "## Build the enformer model"
   ]
  },
  {
   "cell_type": "markdown",
   "id": "3e9a9eba-9727-42ed-8212-9643fd77ea5d",
   "metadata": {},
   "source": [
    "gReLU contains many model architectures. One of these is a class called `EnformerPretrainedModel`. This class creates a model identical to the published Enformer model and initialized with the trained weights, but where you can change the number of transformer layers and the output head.\n",
    "\n",
    "Models are created using the `grelu.lightning` module. In order to instantiate a model, we need to specify `model_params` (parameters for the model architecture) and `train_params` (parameters for training)."
   ]
  },
  {
   "cell_type": "code",
   "execution_count": 20,
   "id": "ffdf67f9-305e-47cc-bba1-ca140b402aed",
   "metadata": {
    "scrolled": true
   },
   "outputs": [
    {
     "name": "stderr",
     "output_type": "stream",
     "text": [
      "\u001b[34m\u001b[1mwandb\u001b[0m: Downloading large artifact human_state_dict:latest, 939.29MB. 1 files... \n",
      "\u001b[34m\u001b[1mwandb\u001b[0m:   1 of 1 files downloaded.  \n",
      "Done. 0:0:1.4 (674.9MB/s)\n",
      "/opt/conda/lib/python3.11/site-packages/grelu/model/models.py:772: FutureWarning: You are using `torch.load` with `weights_only=False` (the current default value), which uses the default pickle module implicitly. It is possible to construct malicious pickle data which will execute arbitrary code during unpickling (See https://github.com/pytorch/pytorch/blob/main/SECURITY.md#untrusted-models for more details). In a future release, the default value for `weights_only` will be flipped to `True`. This limits the functions that could be executed during unpickling. Arbitrary objects will no longer be allowed to be loaded via this mode unless they are explicitly allowlisted by the user via `torch.serialization.add_safe_globals`. We recommend you start setting `weights_only=True` for any use case where you don't have full control of the loaded file. Please open an issue on GitHub for any issues related to this experimental feature.\n"
     ]
    }
   ],
   "source": [
    "model_params = {\n",
    "    'model_type':'EnformerPretrainedModel', # Type of model\n",
    "    'n_tasks': ad.shape[0], # Number of cell types to predict\n",
    "    'crop_len':0, # No cropping of the model output\n",
    "    'n_transformers': 1, # Number of transformer layers; the published Enformer model has 11\n",
    "}\n",
    "\n",
    "train_params = {\n",
    "    'task':'binary', # binary classification\n",
    "    'lr':1e-4, # learning rate\n",
    "    'logger': 'csv', # Logs will be written to a CSV file\n",
    "    'batch_size': 1024,\n",
    "    'num_workers': 8,\n",
    "    'devices': 0, # GPU index\n",
    "    'save_dir': experiment,\n",
    "    'optimizer': 'adam',\n",
    "    'max_epochs': 10,\n",
    "    'checkpoint': True, # Save checkpoints\n",
    "}\n",
    "\n",
    "import grelu.lightning\n",
    "model = grelu.lightning.LightningModel(model_params=model_params, train_params=train_params)"
   ]
  },
  {
   "cell_type": "markdown",
   "id": "563d739e-ec56-4909-902c-49365034ecbf",
   "metadata": {},
   "source": [
    "## Train the model"
   ]
  },
  {
   "cell_type": "markdown",
   "id": "d6bfc201-a86b-4dd1-83d1-1686c834fe65",
   "metadata": {},
   "source": [
    "We train the model on the new training dataset using the `train_on_dataset` method. Note that here, we update the weights of the entire model during training. If you want to hold the enformer weights fixed and only learn a linear layer from the enformer embedding to the outputs, see the `tune_on_dataset` method."
   ]
  },
  {
   "cell_type": "code",
   "execution_count": 21,
   "id": "c9e926e3-008c-45a0-9290-8e5ddfff031a",
   "metadata": {
    "scrolled": true,
    "tags": []
   },
   "outputs": [
    {
     "name": "stderr",
     "output_type": "stream",
     "text": [
      "GPU available: True (cuda), used: True\n",
      "TPU available: False, using: 0 TPU cores\n",
      "HPU available: False, using: 0 HPUs\n",
      "LOCAL_RANK: 0 - CUDA_VISIBLE_DEVICES: [0,1,2,3,4,5,6,7]\n"
     ]
    },
    {
     "name": "stdout",
     "output_type": "stream",
     "text": [
      "Validation DataLoader 0: 100%|█████████████████████████████████████████████████████████| 56/56 [00:07<00:00,  7.77it/s]\n",
      "────────────────────────────────────────────────────────────────────────────────────────────────────────────────────────\n",
      "     Validate metric           DataLoader 0\n",
      "────────────────────────────────────────────────────────────────────────────────────────────────────────────────────────\n",
      "      val_accuracy          0.4918079078197479\n",
      "        val_auroc           0.4963972568511963\n",
      "       val_avgprec          0.10177120566368103\n",
      "       val_best_f1          0.16681580245494843\n",
      "        val_loss            0.6952610611915588\n",
      "────────────────────────────────────────────────────────────────────────────────────────────────────────────────────────\n"
     ]
    },
    {
     "name": "stderr",
     "output_type": "stream",
     "text": [
      "LOCAL_RANK: 0 - CUDA_VISIBLE_DEVICES: [0,1,2,3,4,5,6,7]\n",
      "\n",
      "  | Name         | Type                    | Params | Mode \n",
      "-----------------------------------------------------------------\n",
      "0 | model        | EnformerPretrainedModel | 72.1 M | train\n",
      "1 | loss         | BCEWithLogitsLoss       | 0      | train\n",
      "2 | val_metrics  | MetricCollection        | 0      | train\n",
      "3 | test_metrics | MetricCollection        | 0      | train\n",
      "4 | transform    | Identity                | 0      | train\n",
      "-----------------------------------------------------------------\n",
      "72.1 M    Trainable params\n",
      "0         Non-trainable params\n",
      "72.1 M    Total params\n",
      "288.267   Total estimated model params size (MB)\n",
      "240       Modules in train mode\n",
      "0         Modules in eval mode\n"
     ]
    },
    {
     "name": "stdout",
     "output_type": "stream",
     "text": [
      "Epoch 0: 100%|███████████████████████████████████████| 985/985 [03:13<00:00,  5.09it/s, v_num=0, train_loss_step=0.156]\n",
      "Validation: |                                                                                    | 0/? [00:00<?, ?it/s]\u001b[A\n",
      "Validation:   0%|                                                                               | 0/56 [00:00<?, ?it/s]\u001b[A\n",
      "Validation DataLoader 0:   0%|                                                                  | 0/56 [00:00<?, ?it/s]\u001b[A\n",
      "Validation DataLoader 0:   2%|█                                                         | 1/56 [00:00<00:04, 13.46it/s]\u001b[A\n",
      "Validation DataLoader 0:   4%|██                                                        | 2/56 [00:00<00:04, 13.41it/s]\u001b[A\n",
      "Validation DataLoader 0:   5%|███                                                       | 3/56 [00:00<00:03, 13.45it/s]\u001b[A\n",
      "Validation DataLoader 0:   7%|████▏                                                     | 4/56 [00:00<00:03, 13.49it/s]\u001b[A\n",
      "Validation DataLoader 0:   9%|█████▏                                                    | 5/56 [00:00<00:03, 13.42it/s]\u001b[A\n",
      "Validation DataLoader 0:  11%|██████▏                                                   | 6/56 [00:00<00:03, 13.42it/s]\u001b[A\n",
      "Validation DataLoader 0:  12%|███████▎                                                  | 7/56 [00:00<00:03, 13.43it/s]\u001b[A\n",
      "Validation DataLoader 0:  14%|████████▎                                                 | 8/56 [00:00<00:03, 13.43it/s]\u001b[A\n",
      "Validation DataLoader 0:  16%|█████████▎                                                | 9/56 [00:00<00:03, 13.38it/s]\u001b[A\n",
      "Validation DataLoader 0:  18%|██████████▏                                              | 10/56 [00:00<00:03, 13.35it/s]\u001b[A\n",
      "Validation DataLoader 0:  20%|███████████▏                                             | 11/56 [00:00<00:03, 13.37it/s]\u001b[A\n",
      "Validation DataLoader 0:  21%|████████████▏                                            | 12/56 [00:00<00:03, 13.35it/s]\u001b[A\n",
      "Validation DataLoader 0:  23%|█████████████▏                                           | 13/56 [00:00<00:03, 13.33it/s]\u001b[A\n",
      "Validation DataLoader 0:  25%|██████████████▎                                          | 14/56 [00:01<00:03, 13.34it/s]\u001b[A\n",
      "Validation DataLoader 0:  27%|███████████████▎                                         | 15/56 [00:01<00:03, 13.35it/s]\u001b[A\n",
      "Validation DataLoader 0:  29%|████████████████▎                                        | 16/56 [00:01<00:02, 13.34it/s]\u001b[A\n",
      "Validation DataLoader 0:  30%|█████████████████▎                                       | 17/56 [00:01<00:02, 13.35it/s]\u001b[A\n",
      "Validation DataLoader 0:  32%|██████████████████▎                                      | 18/56 [00:01<00:02, 13.35it/s]\u001b[A\n",
      "Validation DataLoader 0:  34%|███████████████████▎                                     | 19/56 [00:01<00:02, 13.35it/s]\u001b[A\n",
      "Validation DataLoader 0:  36%|████████████████████▎                                    | 20/56 [00:01<00:02, 13.34it/s]\u001b[A\n",
      "Validation DataLoader 0:  38%|█████████████████████▍                                   | 21/56 [00:01<00:02, 13.35it/s]\u001b[A\n",
      "Validation DataLoader 0:  39%|██████████████████████▍                                  | 22/56 [00:01<00:02, 13.34it/s]\u001b[A\n",
      "Validation DataLoader 0:  41%|███████████████████████▍                                 | 23/56 [00:01<00:02, 13.34it/s]\u001b[A\n",
      "Validation DataLoader 0:  43%|████████████████████████▍                                | 24/56 [00:01<00:02, 13.33it/s]\u001b[A\n",
      "Validation DataLoader 0:  45%|█████████████████████████▍                               | 25/56 [00:01<00:02, 13.33it/s]\u001b[A\n",
      "Validation DataLoader 0:  46%|██████████████████████████▍                              | 26/56 [00:01<00:02, 13.32it/s]\u001b[A\n",
      "Validation DataLoader 0:  48%|███████████████████████████▍                             | 27/56 [00:02<00:02, 13.33it/s]\u001b[A\n",
      "Validation DataLoader 0:  50%|████████████████████████████▌                            | 28/56 [00:02<00:02, 13.32it/s]\u001b[A\n",
      "Validation DataLoader 0:  52%|█████████████████████████████▌                           | 29/56 [00:02<00:02, 13.32it/s]\u001b[A\n",
      "Validation DataLoader 0:  54%|██████████████████████████████▌                          | 30/56 [00:02<00:01, 13.32it/s]\u001b[A\n",
      "Validation DataLoader 0:  55%|███████████████████████████████▌                         | 31/56 [00:02<00:01, 13.31it/s]\u001b[A\n",
      "Validation DataLoader 0:  57%|████████████████████████████████▌                        | 32/56 [00:02<00:01, 13.31it/s]\u001b[A\n",
      "Validation DataLoader 0:  59%|█████████████████████████████████▌                       | 33/56 [00:02<00:01, 13.31it/s]\u001b[A\n",
      "Validation DataLoader 0:  61%|██████████████████████████████████▌                      | 34/56 [00:02<00:01, 13.31it/s]\u001b[A\n",
      "Validation DataLoader 0:  62%|███████████████████████████████████▋                     | 35/56 [00:02<00:01, 13.32it/s]\u001b[A\n",
      "Validation DataLoader 0:  64%|████████████████████████████████████▋                    | 36/56 [00:02<00:01, 13.30it/s]\u001b[A\n",
      "Validation DataLoader 0:  66%|█████████████████████████████████████▋                   | 37/56 [00:02<00:01, 13.31it/s]\u001b[A\n",
      "Validation DataLoader 0:  68%|██████████████████████████████████████▋                  | 38/56 [00:02<00:01, 13.31it/s]\u001b[A\n",
      "Validation DataLoader 0:  70%|███████████████████████████████████████▋                 | 39/56 [00:02<00:01, 13.31it/s]\u001b[A\n",
      "Validation DataLoader 0:  71%|████████████████████████████████████████▋                | 40/56 [00:03<00:01, 13.30it/s]\u001b[A\n",
      "Validation DataLoader 0:  73%|█████████████████████████████████████████▋               | 41/56 [00:03<00:01, 13.31it/s]\u001b[A\n",
      "Validation DataLoader 0:  75%|██████████████████████████████████████████▊              | 42/56 [00:03<00:01, 13.31it/s]\u001b[A\n",
      "Validation DataLoader 0:  77%|███████████████████████████████████████████▊             | 43/56 [00:03<00:00, 13.31it/s]\u001b[A\n",
      "Validation DataLoader 0:  79%|████████████████████████████████████████████▊            | 44/56 [00:03<00:00, 13.31it/s]\u001b[A\n",
      "Validation DataLoader 0:  80%|█████████████████████████████████████████████▊           | 45/56 [00:03<00:00, 13.32it/s]\u001b[A\n",
      "Validation DataLoader 0:  82%|██████████████████████████████████████████████▊          | 46/56 [00:03<00:00, 13.32it/s]\u001b[A\n",
      "Validation DataLoader 0:  84%|███████████████████████████████████████████████▊         | 47/56 [00:03<00:00, 13.32it/s]\u001b[A\n",
      "Validation DataLoader 0:  86%|████████████████████████████████████████████████▊        | 48/56 [00:03<00:00, 13.32it/s]\u001b[A\n",
      "Validation DataLoader 0:  88%|█████████████████████████████████████████████████▉       | 49/56 [00:03<00:00, 13.32it/s]\u001b[A\n",
      "Validation DataLoader 0:  89%|██████████████████████████████████████████████████▉      | 50/56 [00:03<00:00, 13.32it/s]\u001b[A\n",
      "Validation DataLoader 0:  91%|███████████████████████████████████████████████████▉     | 51/56 [00:03<00:00, 13.33it/s]\u001b[A\n",
      "Validation DataLoader 0:  93%|████████████████████████████████████████████████████▉    | 52/56 [00:03<00:00, 13.33it/s]\u001b[A\n",
      "Validation DataLoader 0:  95%|█████████████████████████████████████████████████████▉   | 53/56 [00:03<00:00, 13.33it/s]\u001b[A\n",
      "Validation DataLoader 0:  96%|██████████████████████████████████████████████████████▉  | 54/56 [00:04<00:00, 13.33it/s]\u001b[A\n",
      "Validation DataLoader 0:  98%|███████████████████████████████████████████████████████▉ | 55/56 [00:04<00:00, 13.34it/s]\u001b[A\n",
      "Validation DataLoader 0: 100%|█████████████████████████████████████████████████████████| 56/56 [00:04<00:00, 13.42it/s]\u001b[A\n",
      "Epoch 1: 100%|███████████████| 985/985 [03:14<00:00,  5.06it/s, v_num=0, train_loss_step=0.170, train_loss_epoch=0.170]\u001b[A\n",
      "Validation: |                                                                                    | 0/? [00:00<?, ?it/s]\u001b[A\n",
      "Validation:   0%|                                                                               | 0/56 [00:00<?, ?it/s]\u001b[A\n",
      "Validation DataLoader 0:   0%|                                                                  | 0/56 [00:00<?, ?it/s]\u001b[A\n",
      "Validation DataLoader 0:   2%|█                                                         | 1/56 [00:00<00:04, 13.72it/s]\u001b[A\n",
      "Validation DataLoader 0:   4%|██                                                        | 2/56 [00:00<00:03, 13.65it/s]\u001b[A\n",
      "Validation DataLoader 0:   5%|███                                                       | 3/56 [00:00<00:03, 13.62it/s]\u001b[A\n",
      "Validation DataLoader 0:   7%|████▏                                                     | 4/56 [00:00<00:03, 13.44it/s]\u001b[A\n",
      "Validation DataLoader 0:   9%|█████▏                                                    | 5/56 [00:00<00:03, 13.46it/s]\u001b[A\n",
      "Validation DataLoader 0:  11%|██████▏                                                   | 6/56 [00:00<00:03, 13.46it/s]\u001b[A\n",
      "Validation DataLoader 0:  12%|███████▎                                                  | 7/56 [00:00<00:03, 13.44it/s]\u001b[A\n",
      "Validation DataLoader 0:  14%|████████▎                                                 | 8/56 [00:00<00:03, 13.44it/s]\u001b[A\n",
      "Validation DataLoader 0:  16%|█████████▎                                                | 9/56 [00:00<00:03, 13.42it/s]\u001b[A\n",
      "Validation DataLoader 0:  18%|██████████▏                                              | 10/56 [00:00<00:03, 13.44it/s]\u001b[A\n",
      "Validation DataLoader 0:  20%|███████████▏                                             | 11/56 [00:00<00:03, 13.45it/s]\u001b[A\n",
      "Validation DataLoader 0:  21%|████████████▏                                            | 12/56 [00:00<00:03, 13.43it/s]\u001b[A\n",
      "Validation DataLoader 0:  23%|█████████████▏                                           | 13/56 [00:00<00:03, 13.43it/s]\u001b[A\n",
      "Validation DataLoader 0:  25%|██████████████▎                                          | 14/56 [00:01<00:03, 13.43it/s]\u001b[A\n",
      "Validation DataLoader 0:  27%|███████████████▎                                         | 15/56 [00:01<00:03, 13.43it/s]\u001b[A\n",
      "Validation DataLoader 0:  29%|████████████████▎                                        | 16/56 [00:01<00:02, 13.43it/s]\u001b[A\n",
      "Validation DataLoader 0:  30%|█████████████████▎                                       | 17/56 [00:01<00:02, 13.42it/s]\u001b[A\n",
      "Validation DataLoader 0:  32%|██████████████████▎                                      | 18/56 [00:01<00:02, 13.42it/s]\u001b[A\n",
      "Validation DataLoader 0:  34%|███████████████████▎                                     | 19/56 [00:01<00:02, 13.42it/s]\u001b[A\n",
      "Validation DataLoader 0:  36%|████████████████████▎                                    | 20/56 [00:01<00:02, 13.41it/s]\u001b[A\n",
      "Validation DataLoader 0:  38%|█████████████████████▍                                   | 21/56 [00:01<00:02, 13.41it/s]\u001b[A\n",
      "Validation DataLoader 0:  39%|██████████████████████▍                                  | 22/56 [00:01<00:02, 13.41it/s]\u001b[A\n",
      "Validation DataLoader 0:  41%|███████████████████████▍                                 | 23/56 [00:01<00:02, 13.41it/s]\u001b[A\n",
      "Validation DataLoader 0:  43%|████████████████████████▍                                | 24/56 [00:01<00:02, 13.42it/s]\u001b[A\n",
      "Validation DataLoader 0:  45%|█████████████████████████▍                               | 25/56 [00:01<00:02, 13.41it/s]\u001b[A\n",
      "Validation DataLoader 0:  46%|██████████████████████████▍                              | 26/56 [00:01<00:02, 13.41it/s]\u001b[A\n",
      "Validation DataLoader 0:  48%|███████████████████████████▍                             | 27/56 [00:02<00:02, 13.41it/s]\u001b[A\n",
      "Validation DataLoader 0:  50%|████████████████████████████▌                            | 28/56 [00:02<00:02, 13.41it/s]\u001b[A\n",
      "Validation DataLoader 0:  52%|█████████████████████████████▌                           | 29/56 [00:02<00:02, 13.41it/s]\u001b[A\n",
      "Validation DataLoader 0:  54%|██████████████████████████████▌                          | 30/56 [00:02<00:01, 13.41it/s]\u001b[A\n",
      "Validation DataLoader 0:  55%|███████████████████████████████▌                         | 31/56 [00:02<00:01, 13.41it/s]\u001b[A\n",
      "Validation DataLoader 0:  57%|████████████████████████████████▌                        | 32/56 [00:02<00:01, 13.41it/s]\u001b[A\n",
      "Validation DataLoader 0:  59%|█████████████████████████████████▌                       | 33/56 [00:02<00:01, 13.41it/s]\u001b[A\n",
      "Validation DataLoader 0:  61%|██████████████████████████████████▌                      | 34/56 [00:02<00:01, 13.41it/s]\u001b[A\n",
      "Validation DataLoader 0:  62%|███████████████████████████████████▋                     | 35/56 [00:02<00:01, 13.41it/s]\u001b[A\n",
      "Validation DataLoader 0:  64%|████████████████████████████████████▋                    | 36/56 [00:02<00:01, 13.41it/s]\u001b[A\n",
      "Validation DataLoader 0:  66%|█████████████████████████████████████▋                   | 37/56 [00:02<00:01, 13.41it/s]\u001b[A\n",
      "Validation DataLoader 0:  68%|██████████████████████████████████████▋                  | 38/56 [00:02<00:01, 13.41it/s]\u001b[A\n",
      "Validation DataLoader 0:  70%|███████████████████████████████████████▋                 | 39/56 [00:02<00:01, 13.41it/s]\u001b[A\n",
      "Validation DataLoader 0:  71%|████████████████████████████████████████▋                | 40/56 [00:02<00:01, 13.41it/s]\u001b[A\n",
      "Validation DataLoader 0:  73%|█████████████████████████████████████████▋               | 41/56 [00:03<00:01, 13.41it/s]\u001b[A\n",
      "Validation DataLoader 0:  75%|██████████████████████████████████████████▊              | 42/56 [00:03<00:01, 13.41it/s]\u001b[A\n",
      "Validation DataLoader 0:  77%|███████████████████████████████████████████▊             | 43/56 [00:03<00:00, 13.41it/s]\u001b[A\n",
      "Validation DataLoader 0:  79%|████████████████████████████████████████████▊            | 44/56 [00:03<00:00, 13.41it/s]\u001b[A\n",
      "Validation DataLoader 0:  80%|█████████████████████████████████████████████▊           | 45/56 [00:03<00:00, 13.42it/s]\u001b[A\n",
      "Validation DataLoader 0:  82%|██████████████████████████████████████████████▊          | 46/56 [00:03<00:00, 13.42it/s]\u001b[A\n",
      "Validation DataLoader 0:  84%|███████████████████████████████████████████████▊         | 47/56 [00:03<00:00, 13.42it/s]\u001b[A\n",
      "Validation DataLoader 0:  86%|████████████████████████████████████████████████▊        | 48/56 [00:03<00:00, 13.42it/s]\u001b[A\n",
      "Validation DataLoader 0:  88%|█████████████████████████████████████████████████▉       | 49/56 [00:03<00:00, 13.42it/s]\u001b[A\n",
      "Validation DataLoader 0:  89%|██████████████████████████████████████████████████▉      | 50/56 [00:03<00:00, 13.42it/s]\u001b[A\n",
      "Validation DataLoader 0:  91%|███████████████████████████████████████████████████▉     | 51/56 [00:03<00:00, 13.42it/s]\u001b[A\n",
      "Validation DataLoader 0:  93%|████████████████████████████████████████████████████▉    | 52/56 [00:03<00:00, 13.42it/s]\u001b[A\n",
      "Validation DataLoader 0:  95%|█████████████████████████████████████████████████████▉   | 53/56 [00:03<00:00, 13.42it/s]\u001b[A\n",
      "Validation DataLoader 0:  96%|██████████████████████████████████████████████████████▉  | 54/56 [00:04<00:00, 13.43it/s]\u001b[A\n",
      "Validation DataLoader 0:  98%|███████████████████████████████████████████████████████▉ | 55/56 [00:04<00:00, 13.43it/s]\u001b[A\n",
      "Validation DataLoader 0: 100%|█████████████████████████████████████████████████████████| 56/56 [00:04<00:00, 13.51it/s]\u001b[A\n",
      "Epoch 2: 100%|███████████████| 985/985 [03:14<00:00,  5.06it/s, v_num=0, train_loss_step=0.158, train_loss_epoch=0.151]\u001b[A\n",
      "Validation: |                                                                                    | 0/? [00:00<?, ?it/s]\u001b[A\n",
      "Validation:   0%|                                                                               | 0/56 [00:00<?, ?it/s]\u001b[A\n",
      "Validation DataLoader 0:   0%|                                                                  | 0/56 [00:00<?, ?it/s]\u001b[A\n",
      "Validation DataLoader 0:   2%|█                                                         | 1/56 [00:00<00:03, 13.89it/s]\u001b[A\n",
      "Validation DataLoader 0:   4%|██                                                        | 2/56 [00:00<00:03, 13.65it/s]\u001b[A\n",
      "Validation DataLoader 0:   5%|███                                                       | 3/56 [00:00<00:03, 13.59it/s]\u001b[A\n",
      "Validation DataLoader 0:   7%|████▏                                                     | 4/56 [00:00<00:03, 13.58it/s]\u001b[A\n",
      "Validation DataLoader 0:   9%|█████▏                                                    | 5/56 [00:00<00:03, 13.58it/s]\u001b[A\n",
      "Validation DataLoader 0:  11%|██████▏                                                   | 6/56 [00:00<00:03, 13.53it/s]\u001b[A\n",
      "Validation DataLoader 0:  12%|███████▎                                                  | 7/56 [00:00<00:03, 13.52it/s]\u001b[A\n",
      "Validation DataLoader 0:  14%|████████▎                                                 | 8/56 [00:00<00:03, 13.51it/s]\u001b[A\n",
      "Validation DataLoader 0:  16%|█████████▎                                                | 9/56 [00:00<00:03, 13.43it/s]\u001b[A\n",
      "Validation DataLoader 0:  18%|██████████▏                                              | 10/56 [00:00<00:03, 13.45it/s]\u001b[A\n",
      "Validation DataLoader 0:  20%|███████████▏                                             | 11/56 [00:00<00:03, 13.46it/s]\u001b[A\n",
      "Validation DataLoader 0:  21%|████████████▏                                            | 12/56 [00:00<00:03, 13.45it/s]\u001b[A\n",
      "Validation DataLoader 0:  23%|█████████████▏                                           | 13/56 [00:00<00:03, 13.45it/s]\u001b[A\n",
      "Validation DataLoader 0:  25%|██████████████▎                                          | 14/56 [00:01<00:03, 13.45it/s]\u001b[A\n",
      "Validation DataLoader 0:  27%|███████████████▎                                         | 15/56 [00:01<00:03, 13.46it/s]\u001b[A\n",
      "Validation DataLoader 0:  29%|████████████████▎                                        | 16/56 [00:01<00:02, 13.45it/s]\u001b[A\n",
      "Validation DataLoader 0:  30%|█████████████████▎                                       | 17/56 [00:01<00:02, 13.46it/s]\u001b[A\n",
      "Validation DataLoader 0:  32%|██████████████████▎                                      | 18/56 [00:01<00:02, 13.45it/s]\u001b[A\n",
      "Validation DataLoader 0:  34%|███████████████████▎                                     | 19/56 [00:01<00:02, 13.44it/s]\u001b[A\n",
      "Validation DataLoader 0:  36%|████████████████████▎                                    | 20/56 [00:01<00:02, 13.44it/s]\u001b[A\n",
      "Validation DataLoader 0:  38%|█████████████████████▍                                   | 21/56 [00:01<00:02, 13.43it/s]\u001b[A\n",
      "Validation DataLoader 0:  39%|██████████████████████▍                                  | 22/56 [00:01<00:02, 13.43it/s]\u001b[A\n",
      "Validation DataLoader 0:  41%|███████████████████████▍                                 | 23/56 [00:01<00:02, 13.42it/s]\u001b[A\n",
      "Validation DataLoader 0:  43%|████████████████████████▍                                | 24/56 [00:01<00:02, 13.42it/s]\u001b[A\n",
      "Validation DataLoader 0:  45%|█████████████████████████▍                               | 25/56 [00:01<00:02, 13.42it/s]\u001b[A\n",
      "Validation DataLoader 0:  46%|██████████████████████████▍                              | 26/56 [00:01<00:02, 13.42it/s]\u001b[A\n",
      "Validation DataLoader 0:  48%|███████████████████████████▍                             | 27/56 [00:02<00:02, 13.42it/s]\u001b[A\n",
      "Validation DataLoader 0:  50%|████████████████████████████▌                            | 28/56 [00:02<00:02, 13.41it/s]\u001b[A\n",
      "Validation DataLoader 0:  52%|█████████████████████████████▌                           | 29/56 [00:02<00:02, 13.41it/s]\u001b[A\n",
      "Validation DataLoader 0:  54%|██████████████████████████████▌                          | 30/56 [00:02<00:01, 13.41it/s]\u001b[A\n",
      "Validation DataLoader 0:  55%|███████████████████████████████▌                         | 31/56 [00:02<00:01, 13.41it/s]\u001b[A\n",
      "Validation DataLoader 0:  57%|████████████████████████████████▌                        | 32/56 [00:02<00:01, 13.41it/s]\u001b[A\n",
      "Validation DataLoader 0:  59%|█████████████████████████████████▌                       | 33/56 [00:02<00:01, 13.41it/s]\u001b[A\n",
      "Validation DataLoader 0:  61%|██████████████████████████████████▌                      | 34/56 [00:02<00:01, 13.41it/s]\u001b[A\n",
      "Validation DataLoader 0:  62%|███████████████████████████████████▋                     | 35/56 [00:02<00:01, 13.41it/s]\u001b[A\n",
      "Validation DataLoader 0:  64%|████████████████████████████████████▋                    | 36/56 [00:02<00:01, 13.41it/s]\u001b[A\n",
      "Validation DataLoader 0:  66%|█████████████████████████████████████▋                   | 37/56 [00:02<00:01, 13.41it/s]\u001b[A\n",
      "Validation DataLoader 0:  68%|██████████████████████████████████████▋                  | 38/56 [00:02<00:01, 13.41it/s]\u001b[A\n",
      "Validation DataLoader 0:  70%|███████████████████████████████████████▋                 | 39/56 [00:02<00:01, 13.41it/s]\u001b[A\n",
      "Validation DataLoader 0:  71%|████████████████████████████████████████▋                | 40/56 [00:02<00:01, 13.41it/s]\u001b[A\n",
      "Validation DataLoader 0:  73%|█████████████████████████████████████████▋               | 41/56 [00:03<00:01, 13.41it/s]\u001b[A\n",
      "Validation DataLoader 0:  75%|██████████████████████████████████████████▊              | 42/56 [00:03<00:01, 13.41it/s]\u001b[A\n",
      "Validation DataLoader 0:  77%|███████████████████████████████████████████▊             | 43/56 [00:03<00:00, 13.42it/s]\u001b[A\n",
      "Validation DataLoader 0:  79%|████████████████████████████████████████████▊            | 44/56 [00:03<00:00, 13.42it/s]\u001b[A\n",
      "Validation DataLoader 0:  80%|█████████████████████████████████████████████▊           | 45/56 [00:03<00:00, 13.42it/s]\u001b[A\n",
      "Validation DataLoader 0:  82%|██████████████████████████████████████████████▊          | 46/56 [00:03<00:00, 13.42it/s]\u001b[A\n",
      "Validation DataLoader 0:  84%|███████████████████████████████████████████████▊         | 47/56 [00:03<00:00, 13.42it/s]\u001b[A\n",
      "Validation DataLoader 0:  86%|████████████████████████████████████████████████▊        | 48/56 [00:03<00:00, 13.42it/s]\u001b[A\n",
      "Validation DataLoader 0:  88%|█████████████████████████████████████████████████▉       | 49/56 [00:03<00:00, 13.42it/s]\u001b[A\n",
      "Validation DataLoader 0:  89%|██████████████████████████████████████████████████▉      | 50/56 [00:03<00:00, 13.42it/s]\u001b[A\n",
      "Validation DataLoader 0:  91%|███████████████████████████████████████████████████▉     | 51/56 [00:03<00:00, 13.42it/s]\u001b[A\n",
      "Validation DataLoader 0:  93%|████████████████████████████████████████████████████▉    | 52/56 [00:03<00:00, 13.42it/s]\u001b[A\n",
      "Validation DataLoader 0:  95%|█████████████████████████████████████████████████████▉   | 53/56 [00:03<00:00, 13.42it/s]\u001b[A\n",
      "Validation DataLoader 0:  96%|██████████████████████████████████████████████████████▉  | 54/56 [00:04<00:00, 13.42it/s]\u001b[A\n",
      "Validation DataLoader 0:  98%|███████████████████████████████████████████████████████▉ | 55/56 [00:04<00:00, 13.42it/s]\u001b[A\n",
      "Validation DataLoader 0: 100%|█████████████████████████████████████████████████████████| 56/56 [00:04<00:00, 13.51it/s]\u001b[A\n",
      "Epoch 3:  11%|█▌             | 105/985 [00:21<03:00,  4.88it/s, v_num=0, train_loss_step=0.142, train_loss_epoch=0.148]\u001b[A"
     ]
    },
    {
     "name": "stderr",
     "output_type": "stream",
     "text": [
      "IOPub message rate exceeded.\n",
      "The Jupyter server will temporarily stop sending output\n",
      "to the client in order to avoid crashing it.\n",
      "To change this limit, set the config variable\n",
      "`--ServerApp.iopub_msg_rate_limit`.\n",
      "\n",
      "Current values:\n",
      "ServerApp.iopub_msg_rate_limit=1000.0 (msgs/sec)\n",
      "ServerApp.rate_limit_window=3.0 (secs)\n",
      "\n"
     ]
    }
   ],
   "source": [
    "# See the 'tutorial_2' folder for logs\n",
    "trainer = model.train_on_dataset(\n",
    "    train_dataset=train_dataset,\n",
    "    val_dataset=val_dataset,\n",
    ")"
   ]
  },
  {
   "cell_type": "markdown",
   "id": "b639ec73-0715-44d8-b1b3-5957882e88f3",
   "metadata": {},
   "source": [
    "## Load best model from checkpoint"
   ]
  },
  {
   "cell_type": "markdown",
   "id": "27057163-354f-409a-91a5-76cba662c1e5",
   "metadata": {},
   "source": [
    "During training, the performance of the model on the validation set is checked after each epoch. We will load the version of the model that had the best validation set performance."
   ]
  },
  {
   "cell_type": "code",
   "execution_count": 22,
   "id": "ae44103e-63ec-4f9f-83e5-24a3b89ebcee",
   "metadata": {
    "tags": []
   },
   "outputs": [
    {
     "name": "stdout",
     "output_type": "stream",
     "text": [
      "tutorial_2/2025_09_06_21_47/version_0/checkpoints/epoch=5-step=5910.ckpt\n"
     ]
    },
    {
     "name": "stderr",
     "output_type": "stream",
     "text": [
      "\u001b[34m\u001b[1mwandb\u001b[0m: Downloading large artifact human_state_dict:latest, 939.29MB. 1 files... \n",
      "\u001b[34m\u001b[1mwandb\u001b[0m:   1 of 1 files downloaded.  \n",
      "Done. 0:0:1.4 (680.4MB/s)\n",
      "/opt/conda/lib/python3.11/site-packages/grelu/model/models.py:772: FutureWarning: You are using `torch.load` with `weights_only=False` (the current default value), which uses the default pickle module implicitly. It is possible to construct malicious pickle data which will execute arbitrary code during unpickling (See https://github.com/pytorch/pytorch/blob/main/SECURITY.md#untrusted-models for more details). In a future release, the default value for `weights_only` will be flipped to `True`. This limits the functions that could be executed during unpickling. Arbitrary objects will no longer be allowed to be loaded via this mode unless they are explicitly allowlisted by the user via `torch.serialization.add_safe_globals`. We recommend you start setting `weights_only=True` for any use case where you don't have full control of the loaded file. Please open an issue on GitHub for any issues related to this experimental feature.\n"
     ]
    }
   ],
   "source": [
    "best_checkpoint = trainer.checkpoint_callback.best_model_path\n",
    "print(best_checkpoint)\n",
    "model = grelu.lightning.LightningModel.load_from_checkpoint(best_checkpoint)"
   ]
  },
  {
   "cell_type": "markdown",
   "id": "cf55294c-4ca3-4764-a4cd-fb790a14345d",
   "metadata": {
    "tags": []
   },
   "source": [
    "## Calculate performance metrics on the test set"
   ]
  },
  {
   "cell_type": "markdown",
   "id": "e76b6dd4-c508-4dd8-839e-c2dd952e0d22",
   "metadata": {},
   "source": [
    "We calculate global performance metrics using the `test_on_dataset` method."
   ]
  },
  {
   "cell_type": "code",
   "execution_count": 23,
   "id": "983732d5-d03b-40f6-9706-1edaa08e72f3",
   "metadata": {
    "scrolled": true
   },
   "outputs": [
    {
     "name": "stderr",
     "output_type": "stream",
     "text": [
      "Using default `ModelCheckpoint`. Consider installing `litmodels` package to enable `LitModelCheckpoint` for automatic upload to the Lightning model registry.\n",
      "GPU available: True (cuda), used: True\n",
      "TPU available: False, using: 0 TPU cores\n",
      "HPU available: False, using: 0 HPUs\n",
      "LOCAL_RANK: 0 - CUDA_VISIBLE_DEVICES: [0,1,2,3,4,5,6,7]\n"
     ]
    },
    {
     "name": "stdout",
     "output_type": "stream",
     "text": [
      "Testing DataLoader 0: 100%|████████████████████████████████████████████████████████████| 56/56 [00:07<00:00,  7.87it/s]\n",
      "────────────────────────────────────────────────────────────────────────────────────────────────────────────────────────\n",
      "       Test metric             DataLoader 0\n",
      "────────────────────────────────────────────────────────────────────────────────────────────────────────────────────────\n",
      "      test_accuracy         0.9459002614021301\n",
      "       test_auroc            0.904414713382721\n",
      "      test_avgprec          0.6068623065948486\n",
      "      test_best_f1          0.5674447417259216\n",
      "        test_loss           0.15458029508590698\n",
      "────────────────────────────────────────────────────────────────────────────────────────────────────────────────────────\n"
     ]
    }
   ],
   "source": [
    "test_metrics = model.test_on_dataset(\n",
    "    test_dataset,\n",
    "    devices=0,\n",
    "    num_workers=8,\n",
    "    batch_size=1024,\n",
    ")"
   ]
  },
  {
   "cell_type": "markdown",
   "id": "0301376d-51c1-417a-97d7-444224cf7433",
   "metadata": {},
   "source": [
    "`test_metrics` is a dataframe containing metrics for each model task."
   ]
  },
  {
   "cell_type": "code",
   "execution_count": 24,
   "id": "8fa2dfc9-b04a-47a2-8f5d-8cdb16e88c70",
   "metadata": {},
   "outputs": [
    {
     "data": {
      "text/html": [
       "<div>\n",
       "<style scoped>\n",
       "    .dataframe tbody tr th:only-of-type {\n",
       "        vertical-align: middle;\n",
       "    }\n",
       "\n",
       "    .dataframe tbody tr th {\n",
       "        vertical-align: top;\n",
       "    }\n",
       "\n",
       "    .dataframe thead th {\n",
       "        text-align: right;\n",
       "    }\n",
       "</style>\n",
       "<table border=\"1\" class=\"dataframe\">\n",
       "  <thead>\n",
       "    <tr style=\"text-align: right;\">\n",
       "      <th></th>\n",
       "      <th>test_accuracy</th>\n",
       "      <th>test_auroc</th>\n",
       "      <th>test_avgprec</th>\n",
       "      <th>test_best_f1</th>\n",
       "    </tr>\n",
       "  </thead>\n",
       "  <tbody>\n",
       "    <tr>\n",
       "      <th>Follicular</th>\n",
       "      <td>0.908600</td>\n",
       "      <td>0.878398</td>\n",
       "      <td>0.625711</td>\n",
       "      <td>0.575974</td>\n",
       "    </tr>\n",
       "    <tr>\n",
       "      <th>Fibro General</th>\n",
       "      <td>0.916007</td>\n",
       "      <td>0.882430</td>\n",
       "      <td>0.625063</td>\n",
       "      <td>0.576255</td>\n",
       "    </tr>\n",
       "    <tr>\n",
       "      <th>Acinar</th>\n",
       "      <td>0.943827</td>\n",
       "      <td>0.914129</td>\n",
       "      <td>0.649796</td>\n",
       "      <td>0.602879</td>\n",
       "    </tr>\n",
       "    <tr>\n",
       "      <th>T Lymphocyte 1 (CD8+)</th>\n",
       "      <td>0.961600</td>\n",
       "      <td>0.930767</td>\n",
       "      <td>0.634021</td>\n",
       "      <td>0.594059</td>\n",
       "    </tr>\n",
       "    <tr>\n",
       "      <th>T lymphocyte 2 (CD4+)</th>\n",
       "      <td>0.967608</td>\n",
       "      <td>0.939440</td>\n",
       "      <td>0.620591</td>\n",
       "      <td>0.571721</td>\n",
       "    </tr>\n",
       "  </tbody>\n",
       "</table>\n",
       "</div>"
      ],
      "text/plain": [
       "                       test_accuracy  test_auroc  test_avgprec  test_best_f1\n",
       "Follicular                  0.908600    0.878398      0.625711      0.575974\n",
       "Fibro General               0.916007    0.882430      0.625063      0.576255\n",
       "Acinar                      0.943827    0.914129      0.649796      0.602879\n",
       "T Lymphocyte 1 (CD8+)       0.961600    0.930767      0.634021      0.594059\n",
       "T lymphocyte 2 (CD4+)       0.967608    0.939440      0.620591      0.571721"
      ]
     },
     "execution_count": 24,
     "metadata": {},
     "output_type": "execute_result"
    }
   ],
   "source": [
    "test_metrics.head()"
   ]
  },
  {
   "cell_type": "markdown",
   "id": "010822f3-570b-4a32-8f72-66b943a03b9b",
   "metadata": {},
   "source": [
    "## Visualize performance metrics"
   ]
  },
  {
   "cell_type": "markdown",
   "id": "cc7e7810-26ea-4c61-8ad3-de45bf404694",
   "metadata": {},
   "source": [
    "We can plot the distribution of each metric across all cell types:"
   ]
  },
  {
   "cell_type": "code",
   "execution_count": 25,
   "id": "ac5e8e0c-34c5-41c2-8bed-d1ec814b9813",
   "metadata": {},
   "outputs": [
    {
     "data": {
      "image/png": "[encoded data removed]"
     },
     "metadata": {
      "image/png": {
       "height": 200,
       "width": 300
      }
     },
     "output_type": "display_data"
    }
   ],
   "source": [
    "grelu.visualize.plot_distribution(\n",
    "    test_metrics.test_best_f1,\n",
    "    method='histogram',\n",
    "    title='Best F1 Score per task',\n",
    "    binwidth=0.005,\n",
    "    figsize=(3,2),\n",
    ")"
   ]
  },
  {
   "cell_type": "code",
   "execution_count": 26,
   "id": "91c0c54b-38cd-43d2-8f31-37036f50016a",
   "metadata": {},
   "outputs": [
    {
     "data": {
      "image/png": "[encoded data removed]"
     },
     "metadata": {
      "image/png": {
       "height": 200,
       "width": 300
      }
     },
     "output_type": "display_data"
    }
   ],
   "source": [
    "grelu.visualize.plot_distribution(\n",
    "    test_metrics.test_avgprec,\n",
    "    method='histogram',\n",
    "    title='Average Precision per task',\n",
    "    binwidth=0.005,\n",
    "    figsize=(3,2),\n",
    ")"
   ]
  },
  {
   "cell_type": "code",
   "execution_count": 27,
   "id": "b0e8b1b8-d579-45c6-b341-4823ffe71382",
   "metadata": {},
   "outputs": [
    {
     "data": {
      "image/png": "[encoded data removed]"
     },
     "metadata": {
      "image/png": {
       "height": 200,
       "width": 300
      }
     },
     "output_type": "display_data"
    }
   ],
   "source": [
    "grelu.visualize.plot_distribution(\n",
    "    test_metrics.test_auroc,\n",
    "    method='histogram',\n",
    "    title='AUROC per task',\n",
    "    binwidth=0.005,\n",
    "    figsize=(3,2),\n",
    ")"
   ]
  },
  {
   "cell_type": "markdown",
   "id": "c6652987-4305-4ee7-8f89-680e5790cbce",
   "metadata": {},
   "source": [
    "## Run inference on the test set"
   ]
  },
  {
   "cell_type": "markdown",
   "id": "6fe28b91-ebd8-4391-9096-42e61cb6ba2c",
   "metadata": {},
   "source": [
    "Instead of overall metrics, we can also get the individual predictions for each test set example."
   ]
  },
  {
   "cell_type": "code",
   "execution_count": 28,
   "id": "0ed35a77-d328-48c1-9380-cb2597c5788c",
   "metadata": {
    "tags": []
   },
   "outputs": [
    {
     "name": "stderr",
     "output_type": "stream",
     "text": [
      "Using default `ModelCheckpoint`. Consider installing `litmodels` package to enable `LitModelCheckpoint` for automatic upload to the Lightning model registry.\n",
      "GPU available: True (cuda), used: True\n",
      "TPU available: False, using: 0 TPU cores\n",
      "HPU available: False, using: 0 HPUs\n",
      "LOCAL_RANK: 0 - CUDA_VISIBLE_DEVICES: [0,1,2,3,4,5,6,7]\n"
     ]
    },
    {
     "name": "stdout",
     "output_type": "stream",
     "text": [
      "Predicting DataLoader 0: 100%|█████████████████████████████████████████████████████████| 56/56 [00:04<00:00, 13.54it/s]\n"
     ]
    },
    {
     "data": {
      "text/html": [
       "<div>\n",
       "<style scoped>\n",
       "    .dataframe tbody tr th:only-of-type {\n",
       "        vertical-align: middle;\n",
       "    }\n",
       "\n",
       "    .dataframe tbody tr th {\n",
       "        vertical-align: top;\n",
       "    }\n",
       "\n",
       "    .dataframe thead th {\n",
       "        text-align: right;\n",
       "    }\n",
       "</style>\n",
       "<table border=\"1\" class=\"dataframe\">\n",
       "  <thead>\n",
       "    <tr style=\"text-align: right;\">\n",
       "      <th></th>\n",
       "      <th>Follicular</th>\n",
       "      <th>Fibro General</th>\n",
       "      <th>Acinar</th>\n",
       "      <th>T Lymphocyte 1 (CD8+)</th>\n",
       "      <th>T lymphocyte 2 (CD4+)</th>\n",
       "      <th>Natural Killer T</th>\n",
       "      <th>Naive T</th>\n",
       "      <th>Fibro Epithelial</th>\n",
       "      <th>Cardiac Pericyte 1</th>\n",
       "      <th>Pericyte General 1</th>\n",
       "      <th>...</th>\n",
       "      <th>Fetal Cardiac Fibroblast</th>\n",
       "      <th>Fetal Fibro General 2</th>\n",
       "      <th>Fetal Fibro Muscle 1</th>\n",
       "      <th>Fetal Fibro General 3</th>\n",
       "      <th>Fetal Mesangial 2</th>\n",
       "      <th>Fetal Stellate</th>\n",
       "      <th>Fetal Alveolar Epithelial 1</th>\n",
       "      <th>Fetal Cilliated</th>\n",
       "      <th>Fetal Excitatory Neuron 1</th>\n",
       "      <th>Fetal Excitatory Neuron 2</th>\n",
       "    </tr>\n",
       "  </thead>\n",
       "  <tbody>\n",
       "    <tr>\n",
       "      <th>0</th>\n",
       "      <td>0.230080</td>\n",
       "      <td>0.591992</td>\n",
       "      <td>0.492062</td>\n",
       "      <td>0.697363</td>\n",
       "      <td>0.508488</td>\n",
       "      <td>0.369328</td>\n",
       "      <td>0.420965</td>\n",
       "      <td>0.506157</td>\n",
       "      <td>0.229413</td>\n",
       "      <td>0.489153</td>\n",
       "      <td>...</td>\n",
       "      <td>0.089576</td>\n",
       "      <td>0.124292</td>\n",
       "      <td>0.150675</td>\n",
       "      <td>0.090953</td>\n",
       "      <td>0.169165</td>\n",
       "      <td>0.044458</td>\n",
       "      <td>0.148930</td>\n",
       "      <td>0.072570</td>\n",
       "      <td>0.208383</td>\n",
       "      <td>0.100587</td>\n",
       "    </tr>\n",
       "    <tr>\n",
       "      <th>1</th>\n",
       "      <td>0.008526</td>\n",
       "      <td>0.022809</td>\n",
       "      <td>0.002871</td>\n",
       "      <td>0.127353</td>\n",
       "      <td>0.131398</td>\n",
       "      <td>0.065934</td>\n",
       "      <td>0.028794</td>\n",
       "      <td>0.008234</td>\n",
       "      <td>0.041837</td>\n",
       "      <td>0.006650</td>\n",
       "      <td>...</td>\n",
       "      <td>0.056569</td>\n",
       "      <td>0.021688</td>\n",
       "      <td>0.017987</td>\n",
       "      <td>0.023158</td>\n",
       "      <td>0.012967</td>\n",
       "      <td>0.019287</td>\n",
       "      <td>0.026589</td>\n",
       "      <td>0.010198</td>\n",
       "      <td>0.025456</td>\n",
       "      <td>0.011112</td>\n",
       "    </tr>\n",
       "    <tr>\n",
       "      <th>2</th>\n",
       "      <td>0.020385</td>\n",
       "      <td>0.036729</td>\n",
       "      <td>0.009580</td>\n",
       "      <td>0.039437</td>\n",
       "      <td>0.035436</td>\n",
       "      <td>0.045875</td>\n",
       "      <td>0.014780</td>\n",
       "      <td>0.032106</td>\n",
       "      <td>0.097334</td>\n",
       "      <td>0.018628</td>\n",
       "      <td>...</td>\n",
       "      <td>0.049113</td>\n",
       "      <td>0.015711</td>\n",
       "      <td>0.021911</td>\n",
       "      <td>0.039252</td>\n",
       "      <td>0.045578</td>\n",
       "      <td>0.011801</td>\n",
       "      <td>0.023559</td>\n",
       "      <td>0.018715</td>\n",
       "      <td>0.337213</td>\n",
       "      <td>0.042859</td>\n",
       "    </tr>\n",
       "    <tr>\n",
       "      <th>3</th>\n",
       "      <td>0.719664</td>\n",
       "      <td>0.622319</td>\n",
       "      <td>0.738209</td>\n",
       "      <td>0.624915</td>\n",
       "      <td>0.616651</td>\n",
       "      <td>0.547626</td>\n",
       "      <td>0.534035</td>\n",
       "      <td>0.481625</td>\n",
       "      <td>0.551496</td>\n",
       "      <td>0.485769</td>\n",
       "      <td>...</td>\n",
       "      <td>0.557678</td>\n",
       "      <td>0.587080</td>\n",
       "      <td>0.558002</td>\n",
       "      <td>0.620467</td>\n",
       "      <td>0.601074</td>\n",
       "      <td>0.496795</td>\n",
       "      <td>0.696331</td>\n",
       "      <td>0.632168</td>\n",
       "      <td>0.545163</td>\n",
       "      <td>0.326265</td>\n",
       "    </tr>\n",
       "    <tr>\n",
       "      <th>4</th>\n",
       "      <td>0.157607</td>\n",
       "      <td>0.182263</td>\n",
       "      <td>0.284100</td>\n",
       "      <td>0.374280</td>\n",
       "      <td>0.326662</td>\n",
       "      <td>0.242493</td>\n",
       "      <td>0.179217</td>\n",
       "      <td>0.100694</td>\n",
       "      <td>0.184066</td>\n",
       "      <td>0.135651</td>\n",
       "      <td>...</td>\n",
       "      <td>0.092023</td>\n",
       "      <td>0.117115</td>\n",
       "      <td>0.129737</td>\n",
       "      <td>0.168154</td>\n",
       "      <td>0.091076</td>\n",
       "      <td>0.095183</td>\n",
       "      <td>0.131451</td>\n",
       "      <td>0.162386</td>\n",
       "      <td>0.089618</td>\n",
       "      <td>0.045371</td>\n",
       "    </tr>\n",
       "  </tbody>\n",
       "</table>\n",
       "<p>5 rows × 203 columns</p>\n",
       "</div>"
      ],
      "text/plain": [
       "   Follicular  Fibro General    Acinar  T Lymphocyte 1 (CD8+)  \\\n",
       "0    0.230080       0.591992  0.492062               0.697363   \n",
       "1    0.008526       0.022809  0.002871               0.127353   \n",
       "2    0.020385       0.036729  0.009580               0.039437   \n",
       "3    0.719664       0.622319  0.738209               0.624915   \n",
       "4    0.157607       0.182263  0.284100               0.374280   \n",
       "\n",
       "   T lymphocyte 2 (CD4+)  Natural Killer T   Naive T  Fibro Epithelial  \\\n",
       "0               0.508488          0.369328  0.420965          0.506157   \n",
       "1               0.131398          0.065934  0.028794          0.008234   \n",
       "2               0.035436          0.045875  0.014780          0.032106   \n",
       "3               0.616651          0.547626  0.534035          0.481625   \n",
       "4               0.326662          0.242493  0.179217          0.100694   \n",
       "\n",
       "   Cardiac Pericyte 1  Pericyte General 1  ...  Fetal Cardiac Fibroblast  \\\n",
       "0            0.229413            0.489153  ...                  0.089576   \n",
       "1            0.041837            0.006650  ...                  0.056569   \n",
       "2            0.097334            0.018628  ...                  0.049113   \n",
       "3            0.551496            0.485769  ...                  0.557678   \n",
       "4            0.184066            0.135651  ...                  0.092023   \n",
       "\n",
       "   Fetal Fibro General 2  Fetal Fibro Muscle 1  Fetal Fibro General 3  \\\n",
       "0               0.124292              0.150675               0.090953   \n",
       "1               0.021688              0.017987               0.023158   \n",
       "2               0.015711              0.021911               0.039252   \n",
       "3               0.587080              0.558002               0.620467   \n",
       "4               0.117115              0.129737               0.168154   \n",
       "\n",
       "   Fetal Mesangial 2  Fetal Stellate  Fetal Alveolar Epithelial 1  \\\n",
       "0           0.169165        0.044458                     0.148930   \n",
       "1           0.012967        0.019287                     0.026589   \n",
       "2           0.045578        0.011801                     0.023559   \n",
       "3           0.601074        0.496795                     0.696331   \n",
       "4           0.091076        0.095183                     0.131451   \n",
       "\n",
       "   Fetal Cilliated  Fetal Excitatory Neuron 1  Fetal Excitatory Neuron 2  \n",
       "0         0.072570                   0.208383                   0.100587  \n",
       "1         0.010198                   0.025456                   0.011112  \n",
       "2         0.018715                   0.337213                   0.042859  \n",
       "3         0.632168                   0.545163                   0.326265  \n",
       "4         0.162386                   0.089618                   0.045371  \n",
       "\n",
       "[5 rows x 203 columns]"
      ]
     },
     "execution_count": 28,
     "metadata": {},
     "output_type": "execute_result"
    }
   ],
   "source": [
    "probs = model.predict_on_dataset(\n",
    "    test_dataset,\n",
    "    devices=0,\n",
    "    num_workers=8,\n",
    "    batch_size=1024,\n",
    "    return_df=True # Return the output as a pandas dataframe\n",
    ")\n",
    "\n",
    "probs.head()"
   ]
  },
  {
   "cell_type": "markdown",
   "id": "4ee46c4c-771c-4ba1-95bc-a44e5ee24563",
   "metadata": {},
   "source": [
    "Since this is a binary classification model, the output takes the form of probabilities ranging from 0 to 1. We interpret these as the predicted probabilities of the element being accessible in each cell type."
   ]
  },
  {
   "cell_type": "markdown",
   "id": "1f11bb30-9471-4a33-a1fc-80e0a9fbd87d",
   "metadata": {},
   "source": [
    "## Plot additional visualizations of the test set predictions"
   ]
  },
  {
   "cell_type": "markdown",
   "id": "2906a8a3-9ae9-4437-ad7e-ba4ce4ba7c59",
   "metadata": {},
   "source": [
    "We can plot a calibration curve for all the tasks. This shows us the fraction of true positive examples, for different levels of model-predicted probability. "
   ]
  },
  {
   "cell_type": "code",
   "execution_count": 29,
   "id": "e1bde958-9815-4160-a9f3-0fcca6522a0f",
   "metadata": {
    "tags": []
   },
   "outputs": [
    {
     "data": {
      "image/png": "[encoded data removed]"
     },
     "metadata": {
      "image/png": {
       "height": 300,
       "width": 400
      }
     },
     "output_type": "display_data"
    }
   ],
   "source": [
    "grelu.visualize.plot_calibration_curve(\n",
    "    probs, labels=test_dataset.labels, aggregate=False, show_legend=False\n",
    ")"
   ]
  },
  {
   "cell_type": "markdown",
   "id": "32ac543f-b96c-4bdb-b7f2-3eb799550564",
   "metadata": {},
   "source": [
    "We can also pick any cell type and compare the predictions on accessible and non-accessible elements."
   ]
  },
  {
   "cell_type": "code",
   "execution_count": 32,
   "id": "51d89c73-4926-43e8-ae38-92ef7103da99",
   "metadata": {
    "tags": []
   },
   "outputs": [
    {
     "data": {
      "image/png": "[encoded data removed]"
     },
     "metadata": {
      "image/png": {
       "height": 300,
       "width": 400
      }
     },
     "output_type": "display_data"
    }
   ],
   "source": [
    "grelu.visualize.plot_binary_preds(\n",
    "    probs,\n",
    "    labels=test_dataset.labels,\n",
    "    tasks='Microglia',\n",
    "    figure_size=(3, 2) # Width, height\n",
    ")"
   ]
  },
  {
   "cell_type": "markdown",
   "id": "d4c9d21e-c1b6-4a79-a47f-76b47e26b3a4",
   "metadata": {
    "tags": []
   },
   "source": [
    "## Interpret model predictions (for microglia) using TF-modisco"
   ]
  },
  {
   "cell_type": "markdown",
   "id": "47c011bb-8560-477a-bc4e-37266af877f4",
   "metadata": {},
   "source": [
    "Suppose we want to focus specifically on Microglia. We can create a transform - a class that takes in the model's prediction and returns a function of the prediction, e.g. the prediction for only a subset of cell types that we are interested in. Then, all subsquent analyses that we do will be based only on this subset of the full prediction matrix.\n",
    "\n",
    "Here, we use the `Aggregate` class to create a transform that will take in the full set of predictions produced by the model and subset only the predictions in Microglia."
   ]
  },
  {
   "cell_type": "code",
   "execution_count": 53,
   "id": "84e55bad-0a5b-483e-8654-e2e0fc86da60",
   "metadata": {},
   "outputs": [],
   "source": [
    "from grelu.transforms.prediction_transforms import Specificity\n",
    "\n",
    "microglia_score = Aggregate(\n",
    "    tasks = [\"Microglia\"],\n",
    "    model = model,\n",
    ")"
   ]
  },
  {
   "cell_type": "markdown",
   "id": "6ff90c8a-3529-48d0-8e39-f322d89e6940",
   "metadata": {},
   "source": [
    "Let us now identify all peaks in the test set that are accessible in microglia."
   ]
  },
  {
   "cell_type": "code",
   "execution_count": 54,
   "id": "b83ec1c2-687b-4caf-949d-8fa9028054f6",
   "metadata": {},
   "outputs": [
    {
     "data": {
      "text/plain": [
       "2273"
      ]
     },
     "execution_count": 54,
     "metadata": {},
     "output_type": "execute_result"
    }
   ],
   "source": [
    "is_accessible_in_mcg = np.array(ad_test[\"Microglia\", :].X.todense()==1).squeeze()\n",
    "mcg_peaks = ad_test.var[is_accessible_in_mcg]\n",
    "len(mcg_peaks)"
   ]
  },
  {
   "cell_type": "markdown",
   "id": "fd59b192-2004-40e5-81a2-853262d249b4",
   "metadata": {},
   "source": [
    "We now run TF-Modisco on these peaks. TF-modisco identifies motifs that consistently contribute to the model's output. Since we are using the `microglia_score` filter to limit the model's prediction to microglia, we will only get motifs relevant to this cell type. We also use TOMTOM to match the TF-Modisco motifs to a set of reference motifs. Here, we use the HOCOMOCO v12 motif set (https://hocomoco12.autosome.org/)."
   ]
  },
  {
   "cell_type": "code",
   "execution_count": 55,
   "id": "aa79adc4-68b4-4b9c-b8e5-441c1cec0be5",
   "metadata": {
    "scrolled": true,
    "tags": []
   },
   "outputs": [
    {
     "name": "stdout",
     "output_type": "stream",
     "text": [
      "Getting attributions\n"
     ]
    },
    {
     "name": "stderr",
     "output_type": "stream",
     "text": [
      "/opt/conda/lib/python3.11/site-packages/grelu/interpret/score.py:172: UserWarning: hypothetical = True will be ignored as method is not deepshap.\n",
      "/opt/conda/lib/python3.11/site-packages/captum/_utils/gradient.py:57: UserWarning: Input Tensor 0 did not already require gradients, required_grads has been set automatically.\n"
     ]
    },
    {
     "name": "stdout",
     "output_type": "stream",
     "text": [
      "Running modisco\n",
      "No patterns were found.\n",
      "CPU times: user 3h 7min 2s, sys: 17 s, total: 3h 7min 19s\n",
      "Wall time: 4min 23s\n"
     ]
    }
   ],
   "source": [
    "%%time\n",
    "import grelu.interpret.modisco\n",
    "grelu.interpret.modisco.run_modisco(\n",
    "    model,\n",
    "    seqs=mcg_peaks, \n",
    "    genome=\"hg38\",\n",
    "    prediction_transform=microglia_score, # Base importance scores will be calculated with respect to this output\n",
    "    meme_file=\"hocomoco_v12\", # We will compare the Modisco CWMs to HOCOMOCO motifs\n",
    "    method=\"saliency\", # Base-level attribution scores will be calculated using ISM. You can also use \"saliency\".\n",
    "    window=100, # Consider only 100 bp around center of each region\n",
    "    correct_grad=True,\n",
    "    out_dir=experiment,\n",
    "    batch_size=1024,\n",
    "    devices=0,\n",
    "    num_workers=32,\n",
    "    seed=0,\n",
    ")"
   ]
  },
  {
   "cell_type": "markdown",
   "id": "de6e5701-8de9-4a9f-adf9-3075e0eddb72",
   "metadata": {
    "tags": []
   },
   "source": [
    "## Load TOMTOM output for modisco motifs"
   ]
  },
  {
   "cell_type": "markdown",
   "id": "2bd6cbcf-f894-4a2f-a995-37c6377212dd",
   "metadata": {},
   "source": [
    "The full output of TF-Modisco and TOMTOM can be found in the experiment folder. Here, we read the output of TOMTOM and list the significant TOMTOM matches, i.e. known TF motifs that are similar to those found by TF-MoDISco."
   ]
  },
  {
   "cell_type": "code",
   "execution_count": 56,
   "id": "0c49b64c-2adb-4850-a726-c2887071ef41",
   "metadata": {},
   "outputs": [
    {
     "data": {
      "text/html": [
       "<div>\n",
       "<style scoped>\n",
       "    .dataframe tbody tr th:only-of-type {\n",
       "        vertical-align: middle;\n",
       "    }\n",
       "\n",
       "    .dataframe tbody tr th {\n",
       "        vertical-align: top;\n",
       "    }\n",
       "\n",
       "    .dataframe thead th {\n",
       "        text-align: right;\n",
       "    }\n",
       "</style>\n",
       "<table border=\"1\" class=\"dataframe\">\n",
       "  <thead>\n",
       "    <tr style=\"text-align: right;\">\n",
       "      <th></th>\n",
       "      <th>Query_ID</th>\n",
       "      <th>Target_ID</th>\n",
       "      <th>Optimal_offset</th>\n",
       "      <th>p-value</th>\n",
       "      <th>E-value</th>\n",
       "      <th>q-value</th>\n",
       "      <th>Overlap</th>\n",
       "      <th>Query_consensus</th>\n",
       "      <th>Target_consensus</th>\n",
       "      <th>Orientation</th>\n",
       "    </tr>\n",
       "  </thead>\n",
       "  <tbody>\n",
       "    <tr>\n",
       "      <th>3300</th>\n",
       "      <td>pos_pattern_2</td>\n",
       "      <td>IRF1.H12CORE.0.P.B</td>\n",
       "      <td>4.0</td>\n",
       "      <td>2.605084e-08</td>\n",
       "      <td>3.759137e-05</td>\n",
       "      <td>7.894187e-05</td>\n",
       "      <td>15.0</td>\n",
       "      <td>CTTTCACTTCCTCTT</td>\n",
       "      <td>AAGTGAAAGTGAAAGTAAA</td>\n",
       "      <td>-</td>\n",
       "    </tr>\n",
       "    <tr>\n",
       "      <th>3304</th>\n",
       "      <td>pos_pattern_2</td>\n",
       "      <td>IRF4.H12CORE.0.P.B</td>\n",
       "      <td>1.0</td>\n",
       "      <td>1.229461e-12</td>\n",
       "      <td>1.774112e-09</td>\n",
       "      <td>2.001427e-08</td>\n",
       "      <td>15.0</td>\n",
       "      <td>CTTTCACTTCCTCTT</td>\n",
       "      <td>AAAGAGGAACTGAAACT</td>\n",
       "      <td>-</td>\n",
       "    </tr>\n",
       "    <tr>\n",
       "      <th>3313</th>\n",
       "      <td>pos_pattern_2</td>\n",
       "      <td>IRF8.H12CORE.0.P.B</td>\n",
       "      <td>4.0</td>\n",
       "      <td>2.986278e-12</td>\n",
       "      <td>4.309199e-09</td>\n",
       "      <td>3.016439e-08</td>\n",
       "      <td>15.0</td>\n",
       "      <td>CTTTCACTTCCTCTT</td>\n",
       "      <td>AAGAGGAAGTGAAAGTAAA</td>\n",
       "      <td>-</td>\n",
       "    </tr>\n",
       "    <tr>\n",
       "      <th>3838</th>\n",
       "      <td>pos_pattern_2</td>\n",
       "      <td>SPIB.H12CORE.0.P.B</td>\n",
       "      <td>0.0</td>\n",
       "      <td>1.798198e-08</td>\n",
       "      <td>2.594800e-05</td>\n",
       "      <td>6.054533e-05</td>\n",
       "      <td>15.0</td>\n",
       "      <td>CTTTCACTTCCTCTT</td>\n",
       "      <td>AAAGAGGAAGTGAAAG</td>\n",
       "      <td>-</td>\n",
       "    </tr>\n",
       "    <tr>\n",
       "      <th>7383</th>\n",
       "      <td>pos_pattern_5</td>\n",
       "      <td>ELF5.H12CORE.0.PSM.A</td>\n",
       "      <td>-12.0</td>\n",
       "      <td>1.862960e-09</td>\n",
       "      <td>2.688252e-06</td>\n",
       "      <td>1.129066e-05</td>\n",
       "      <td>16.0</td>\n",
       "      <td>CAAGTCAGTGTGGGGAAAGAGGAAGAAACGGCTTTTTAGTTCCATA</td>\n",
       "      <td>AGGAAGGAGGAAGTAA</td>\n",
       "      <td>+</td>\n",
       "    </tr>\n",
       "    <tr>\n",
       "      <th>7418</th>\n",
       "      <td>pos_pattern_5</td>\n",
       "      <td>ETV6.H12CORE.1.P.B</td>\n",
       "      <td>-16.0</td>\n",
       "      <td>5.375039e-09</td>\n",
       "      <td>7.756182e-06</td>\n",
       "      <td>2.326855e-05</td>\n",
       "      <td>12.0</td>\n",
       "      <td>CAAGTCAGTGTGGGGAAAGAGGAAGAAACGGCTTTTTAGTTCCATA</td>\n",
       "      <td>AAGAGGAAGTGG</td>\n",
       "      <td>+</td>\n",
       "    </tr>\n",
       "    <tr>\n",
       "      <th>7429</th>\n",
       "      <td>pos_pattern_5</td>\n",
       "      <td>FLI1.H12CORE.1.P.B</td>\n",
       "      <td>-15.0</td>\n",
       "      <td>1.481297e-08</td>\n",
       "      <td>2.137511e-05</td>\n",
       "      <td>5.610967e-05</td>\n",
       "      <td>18.0</td>\n",
       "      <td>CAAGTCAGTGTGGGGAAAGAGGAAGAAACGGCTTTTTAGTTCCATA</td>\n",
       "      <td>GGGCAGGAAGTGGGGGGG</td>\n",
       "      <td>+</td>\n",
       "    </tr>\n",
       "    <tr>\n",
       "      <th>8166</th>\n",
       "      <td>pos_pattern_5</td>\n",
       "      <td>SPI1.H12CORE.1.S.B</td>\n",
       "      <td>-16.0</td>\n",
       "      <td>2.957569e-09</td>\n",
       "      <td>4.267773e-06</td>\n",
       "      <td>1.493720e-05</td>\n",
       "      <td>12.0</td>\n",
       "      <td>CAAGTCAGTGTGGGGAAAGAGGAAGAAACGGCTTTTTAGTTCCATA</td>\n",
       "      <td>AAGGGGAAGTAG</td>\n",
       "      <td>+</td>\n",
       "    </tr>\n",
       "    <tr>\n",
       "      <th>22063</th>\n",
       "      <td>neg_pattern_4</td>\n",
       "      <td>IRF4.H12CORE.0.P.B</td>\n",
       "      <td>2.0</td>\n",
       "      <td>1.320943e-12</td>\n",
       "      <td>1.906121e-09</td>\n",
       "      <td>2.001427e-08</td>\n",
       "      <td>14.0</td>\n",
       "      <td>TTTCACTTCCTCTT</td>\n",
       "      <td>AAAGAGGAACTGAAACT</td>\n",
       "      <td>-</td>\n",
       "    </tr>\n",
       "    <tr>\n",
       "      <th>22072</th>\n",
       "      <td>neg_pattern_4</td>\n",
       "      <td>IRF8.H12CORE.0.P.B</td>\n",
       "      <td>5.0</td>\n",
       "      <td>1.529035e-10</td>\n",
       "      <td>2.206397e-07</td>\n",
       "      <td>1.158358e-06</td>\n",
       "      <td>14.0</td>\n",
       "      <td>TTTCACTTCCTCTT</td>\n",
       "      <td>AAGAGGAAGTGAAAGTAAA</td>\n",
       "      <td>-</td>\n",
       "    </tr>\n",
       "  </tbody>\n",
       "</table>\n",
       "</div>"
      ],
      "text/plain": [
       "            Query_ID             Target_ID  Optimal_offset       p-value  \\\n",
       "3300   pos_pattern_2    IRF1.H12CORE.0.P.B             4.0  2.605084e-08   \n",
       "3304   pos_pattern_2    IRF4.H12CORE.0.P.B             1.0  1.229461e-12   \n",
       "3313   pos_pattern_2    IRF8.H12CORE.0.P.B             4.0  2.986278e-12   \n",
       "3838   pos_pattern_2    SPIB.H12CORE.0.P.B             0.0  1.798198e-08   \n",
       "7383   pos_pattern_5  ELF5.H12CORE.0.PSM.A           -12.0  1.862960e-09   \n",
       "7418   pos_pattern_5    ETV6.H12CORE.1.P.B           -16.0  5.375039e-09   \n",
       "7429   pos_pattern_5    FLI1.H12CORE.1.P.B           -15.0  1.481297e-08   \n",
       "8166   pos_pattern_5    SPI1.H12CORE.1.S.B           -16.0  2.957569e-09   \n",
       "22063  neg_pattern_4    IRF4.H12CORE.0.P.B             2.0  1.320943e-12   \n",
       "22072  neg_pattern_4    IRF8.H12CORE.0.P.B             5.0  1.529035e-10   \n",
       "\n",
       "            E-value       q-value  Overlap  \\\n",
       "3300   3.759137e-05  7.894187e-05     15.0   \n",
       "3304   1.774112e-09  2.001427e-08     15.0   \n",
       "3313   4.309199e-09  3.016439e-08     15.0   \n",
       "3838   2.594800e-05  6.054533e-05     15.0   \n",
       "7383   2.688252e-06  1.129066e-05     16.0   \n",
       "7418   7.756182e-06  2.326855e-05     12.0   \n",
       "7429   2.137511e-05  5.610967e-05     18.0   \n",
       "8166   4.267773e-06  1.493720e-05     12.0   \n",
       "22063  1.906121e-09  2.001427e-08     14.0   \n",
       "22072  2.206397e-07  1.158358e-06     14.0   \n",
       "\n",
       "                                      Query_consensus     Target_consensus  \\\n",
       "3300                                  CTTTCACTTCCTCTT  AAGTGAAAGTGAAAGTAAA   \n",
       "3304                                  CTTTCACTTCCTCTT    AAAGAGGAACTGAAACT   \n",
       "3313                                  CTTTCACTTCCTCTT  AAGAGGAAGTGAAAGTAAA   \n",
       "3838                                  CTTTCACTTCCTCTT     AAAGAGGAAGTGAAAG   \n",
       "7383   CAAGTCAGTGTGGGGAAAGAGGAAGAAACGGCTTTTTAGTTCCATA     AGGAAGGAGGAAGTAA   \n",
       "7418   CAAGTCAGTGTGGGGAAAGAGGAAGAAACGGCTTTTTAGTTCCATA         AAGAGGAAGTGG   \n",
       "7429   CAAGTCAGTGTGGGGAAAGAGGAAGAAACGGCTTTTTAGTTCCATA   GGGCAGGAAGTGGGGGGG   \n",
       "8166   CAAGTCAGTGTGGGGAAAGAGGAAGAAACGGCTTTTTAGTTCCATA         AAGGGGAAGTAG   \n",
       "22063                                  TTTCACTTCCTCTT    AAAGAGGAACTGAAACT   \n",
       "22072                                  TTTCACTTCCTCTT  AAGAGGAAGTGAAAGTAAA   \n",
       "\n",
       "      Orientation  \n",
       "3300            -  \n",
       "3304            -  \n",
       "3313            -  \n",
       "3838            -  \n",
       "7383            +  \n",
       "7418            +  \n",
       "7429            +  \n",
       "8166            +  \n",
       "22063           -  \n",
       "22072           -  "
      ]
     },
     "execution_count": 56,
     "metadata": {},
     "output_type": "execute_result"
    }
   ],
   "source": [
    "tomtom_file = os.path.join(experiment, 'tomtom.csv')\n",
    "tomtom = pd.read_csv(tomtom_file, index_col=0)\n",
    "\n",
    "tomtom[tomtom['q-value'] < 1e-4] # Display most significant matches"
   ]
  },
  {
   "cell_type": "code",
   "execution_count": null,
   "id": "442ebf41-1864-4ab3-b2da-267d40160521",
   "metadata": {},
   "outputs": [],
   "source": []
  },
  {
   "cell_type": "code",
   "execution_count": null,
   "id": "b4e4d32d-2eb9-477d-b927-0c14cb7c2d22",
   "metadata": {},
   "outputs": [],
   "source": []
  }
 ],
 "metadata": {
  "kernelspec": {
   "display_name": "Python 3 (ipykernel)",
   "language": "python",
   "name": "python3"
  },
  "language_info": {
   "codemirror_mode": {
    "name": "ipython",
    "version": 3
   },
   "file_extension": ".py",
   "mimetype": "text/x-python",
   "name": "python",
   "nbconvert_exporter": "python",
   "pygments_lexer": "ipython3",
   "version": "3.11.10"
  }
 },
 "nbformat": 4,
 "nbformat_minor": 5
}
