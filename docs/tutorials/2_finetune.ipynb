{
 "cells": [
  {
   "cell_type": "markdown",
   "id": "7c8027c6-9237-4175-91a9-280f04ff94ed",
   "metadata": {},
   "source": [
    "# Fine-tune Enformer to perform binary classification on human snATAC-seq data"
   ]
  },
  {
   "cell_type": "markdown",
   "id": "d9a30dbd-7857-40f4-9397-986924b92c97",
   "metadata": {},
   "source": [
    "In this tutorial, we learn how to fine-tune the Enformer model (https://www.nature.com/articles/s41592-021-01252-x) on the CATLAS single-nucleus ATAC-seq dataset from human tissues (http://catlas.org/humanenhancer/). \n",
    "\n",
    "We will perform binary classification, in which the model learns to predict the probability that a given sequence is accessible in the different cell types of the dataset. For an example of regression modeling, see the next tutorial."
   ]
  },
  {
   "cell_type": "code",
   "execution_count": 1,
   "id": "afeac1a1-acaa-4bcb-9cd0-0d1fbec126b3",
   "metadata": {
    "tags": []
   },
   "outputs": [],
   "source": [
    "import anndata\n",
    "import os\n",
    "import importlib\n",
    "import pandas as pd\n",
    "import numpy as np\n",
    "\n",
    "%matplotlib inline"
   ]
  },
  {
   "cell_type": "markdown",
   "id": "f657f2a3-af79-4aa6-aa9c-32754b345563",
   "metadata": {},
   "source": [
    "## Set experiment parameters"
   ]
  },
  {
   "cell_type": "code",
   "execution_count": 2,
   "id": "c00eda6b-13c7-4ff6-b879-c6d66e048172",
   "metadata": {
    "tags": []
   },
   "outputs": [],
   "source": [
    "experiment='tutorial_2'\n",
    "if not os.path.exists(experiment):\n",
    "    os.makedirs(experiment)"
   ]
  },
  {
   "cell_type": "markdown",
   "id": "44ca3c03-b538-4a38-8b4e-c8e42d8da539",
   "metadata": {},
   "source": [
    "## Load data"
   ]
  },
  {
   "cell_type": "markdown",
   "id": "2ed3d293-be8c-4aeb-8f78-e56f52efcf6f",
   "metadata": {},
   "source": [
    "We download the CATlas ATAC-seq binary cell type x peak matrix from http://catlas.org/catlas_downloads/humantissues/cCRE_by_cell_type/ and load it as an AnnData object."
   ]
  },
  {
   "cell_type": "code",
   "execution_count": 3,
   "id": "d1837755-2fb6-4657-aa99-1647ab8e1f57",
   "metadata": {
    "tags": []
   },
   "outputs": [
    {
     "name": "stdout",
     "output_type": "stream",
     "text": [
      "--2025-03-10 17:47:40--  http://catlas.org/catlas_downloads/humantissues/cCRE_by_cell_type/matrix.tsv.gz\n",
      "Resolving catlas.org (catlas.org)... 132.239.162.129\n",
      "Connecting to catlas.org (catlas.org)|132.239.162.129|:80... connected.\n",
      "HTTP request sent, awaiting response... 200 OK\n",
      "Length: 38772708 (37M) [application/x-gzip]\n",
      "Saving to: ‘matrix.tsv.gz’\n",
      "\n",
      "matrix.tsv.gz       100%[===================>]  36.98M  87.6MB/s    in 0.4s    \n",
      "\n",
      "2025-03-10 17:47:40 (87.6 MB/s) - ‘matrix.tsv.gz’ saved [38772708/38772708]\n",
      "\n",
      "(222, 1154611)\n"
     ]
    }
   ],
   "source": [
    "!wget http://catlas.org/catlas_downloads/humantissues/cCRE_by_cell_type/matrix.tsv.gz\n",
    "ad = anndata.read_mtx('matrix.tsv.gz').T\n",
    "\n",
    "# Prepare ad.obs\n",
    "ad.obs = pd.read_table('http://catlas.org/catlas_downloads/humantissues/cCRE_by_cell_type/celltypes.txt.gz', header=None, names=['cell type'])\n",
    "ad.obs_names = ad.obs['cell type']\n",
    "\n",
    "# Prepare ad.var\n",
    "var = pd.read_table('http://catlas.org/catlas_downloads/humantissues/cCRE_hg38.tsv.gz')\n",
    "var.columns = ['chrom', 'start', 'end', 'cre_class', 'in_fetal', 'in_adult', 'cre_module']\n",
    "var.index = var.index.astype(str)\n",
    "ad.var = var\n",
    "\n",
    "print(ad.shape)"
   ]
  },
  {
   "cell_type": "markdown",
   "id": "978bb4ae-78e2-44e0-93fc-858e466e5cf7",
   "metadata": {},
   "source": [
    "This contains a binary matrix representing the accessibility of 1154611 CREs measured in 222 cell types. Let us look at the components of this object:"
   ]
  },
  {
   "cell_type": "code",
   "execution_count": 4,
   "id": "7f6d0fff-0422-4df5-951c-29626a6d68b2",
   "metadata": {},
   "outputs": [
    {
     "data": {
      "text/html": [
       "<div>\n",
       "<style scoped>\n",
       "    .dataframe tbody tr th:only-of-type {\n",
       "        vertical-align: middle;\n",
       "    }\n",
       "\n",
       "    .dataframe tbody tr th {\n",
       "        vertical-align: top;\n",
       "    }\n",
       "\n",
       "    .dataframe thead th {\n",
       "        text-align: right;\n",
       "    }\n",
       "</style>\n",
       "<table border=\"1\" class=\"dataframe\">\n",
       "  <thead>\n",
       "    <tr style=\"text-align: right;\">\n",
       "      <th></th>\n",
       "      <th>chrom</th>\n",
       "      <th>start</th>\n",
       "      <th>end</th>\n",
       "      <th>cre_class</th>\n",
       "      <th>in_fetal</th>\n",
       "      <th>in_adult</th>\n",
       "      <th>cre_module</th>\n",
       "    </tr>\n",
       "  </thead>\n",
       "  <tbody>\n",
       "    <tr>\n",
       "      <th>0</th>\n",
       "      <td>chr1</td>\n",
       "      <td>9955</td>\n",
       "      <td>10355</td>\n",
       "      <td>Promoter Proximal</td>\n",
       "      <td>yes</td>\n",
       "      <td>yes</td>\n",
       "      <td>146</td>\n",
       "    </tr>\n",
       "    <tr>\n",
       "      <th>1</th>\n",
       "      <td>chr1</td>\n",
       "      <td>29163</td>\n",
       "      <td>29563</td>\n",
       "      <td>Promoter</td>\n",
       "      <td>yes</td>\n",
       "      <td>yes</td>\n",
       "      <td>37</td>\n",
       "    </tr>\n",
       "    <tr>\n",
       "      <th>2</th>\n",
       "      <td>chr1</td>\n",
       "      <td>79215</td>\n",
       "      <td>79615</td>\n",
       "      <td>Distal</td>\n",
       "      <td>no</td>\n",
       "      <td>yes</td>\n",
       "      <td>75</td>\n",
       "    </tr>\n",
       "    <tr>\n",
       "      <th>3</th>\n",
       "      <td>chr1</td>\n",
       "      <td>102755</td>\n",
       "      <td>103155</td>\n",
       "      <td>Distal</td>\n",
       "      <td>no</td>\n",
       "      <td>yes</td>\n",
       "      <td>51</td>\n",
       "    </tr>\n",
       "    <tr>\n",
       "      <th>4</th>\n",
       "      <td>chr1</td>\n",
       "      <td>115530</td>\n",
       "      <td>115930</td>\n",
       "      <td>Distal</td>\n",
       "      <td>yes</td>\n",
       "      <td>no</td>\n",
       "      <td>36</td>\n",
       "    </tr>\n",
       "  </tbody>\n",
       "</table>\n",
       "</div>"
      ],
      "text/plain": [
       "  chrom   start     end          cre_class in_fetal in_adult  cre_module\n",
       "0  chr1    9955   10355  Promoter Proximal      yes      yes         146\n",
       "1  chr1   29163   29563           Promoter      yes      yes          37\n",
       "2  chr1   79215   79615             Distal       no      yes          75\n",
       "3  chr1  102755  103155             Distal       no      yes          51\n",
       "4  chr1  115530  115930             Distal      yes       no          36"
      ]
     },
     "execution_count": 4,
     "metadata": {},
     "output_type": "execute_result"
    }
   ],
   "source": [
    "ad.var.head()"
   ]
  },
  {
   "cell_type": "code",
   "execution_count": 5,
   "id": "ed3ad337-477d-4f5b-9c6d-4acb554f6cd3",
   "metadata": {},
   "outputs": [
    {
     "data": {
      "text/html": [
       "<div>\n",
       "<style scoped>\n",
       "    .dataframe tbody tr th:only-of-type {\n",
       "        vertical-align: middle;\n",
       "    }\n",
       "\n",
       "    .dataframe tbody tr th {\n",
       "        vertical-align: top;\n",
       "    }\n",
       "\n",
       "    .dataframe thead th {\n",
       "        text-align: right;\n",
       "    }\n",
       "</style>\n",
       "<table border=\"1\" class=\"dataframe\">\n",
       "  <thead>\n",
       "    <tr style=\"text-align: right;\">\n",
       "      <th></th>\n",
       "      <th>cell type</th>\n",
       "    </tr>\n",
       "    <tr>\n",
       "      <th>cell type</th>\n",
       "      <th></th>\n",
       "    </tr>\n",
       "  </thead>\n",
       "  <tbody>\n",
       "    <tr>\n",
       "      <th>Follicular</th>\n",
       "      <td>Follicular</td>\n",
       "    </tr>\n",
       "    <tr>\n",
       "      <th>Fibro General</th>\n",
       "      <td>Fibro General</td>\n",
       "    </tr>\n",
       "    <tr>\n",
       "      <th>Acinar</th>\n",
       "      <td>Acinar</td>\n",
       "    </tr>\n",
       "    <tr>\n",
       "      <th>T Lymphocyte 1 (CD8+)</th>\n",
       "      <td>T Lymphocyte 1 (CD8+)</td>\n",
       "    </tr>\n",
       "    <tr>\n",
       "      <th>T lymphocyte 2 (CD4+)</th>\n",
       "      <td>T lymphocyte 2 (CD4+)</td>\n",
       "    </tr>\n",
       "  </tbody>\n",
       "</table>\n",
       "</div>"
      ],
      "text/plain": [
       "                                   cell type\n",
       "cell type                                   \n",
       "Follicular                        Follicular\n",
       "Fibro General                  Fibro General\n",
       "Acinar                                Acinar\n",
       "T Lymphocyte 1 (CD8+)  T Lymphocyte 1 (CD8+)\n",
       "T lymphocyte 2 (CD4+)  T lymphocyte 2 (CD4+)"
      ]
     },
     "execution_count": 5,
     "metadata": {},
     "output_type": "execute_result"
    }
   ],
   "source": [
    "ad.obs.head()"
   ]
  },
  {
   "cell_type": "markdown",
   "id": "da4bafb4-1284-4bbc-8786-6badb57495f4",
   "metadata": {},
   "source": [
    "The contents of this anndata object are binary values (0 or 1). 1 indicates accessibility of the peak in the cell type."
   ]
  },
  {
   "cell_type": "code",
   "execution_count": 6,
   "id": "09433609-4f30-4316-a2e2-453ce72efdb8",
   "metadata": {},
   "outputs": [
    {
     "data": {
      "text/plain": [
       "matrix([[1., 0., 0., 0., 0.],\n",
       "        [1., 0., 0., 0., 0.],\n",
       "        [1., 0., 0., 0., 0.],\n",
       "        [1., 0., 0., 0., 0.],\n",
       "        [1., 0., 0., 0., 0.]], dtype=float32)"
      ]
     },
     "execution_count": 6,
     "metadata": {},
     "output_type": "execute_result"
    }
   ],
   "source": [
    "ad.X[:5, :5].todense()"
   ]
  },
  {
   "cell_type": "markdown",
   "id": "b6d8ae4e-6c31-4044-a546-8814bedbde6c",
   "metadata": {},
   "source": [
    "## Filter peaks"
   ]
  },
  {
   "cell_type": "markdown",
   "id": "06af7256-35ad-4299-bd48-d48daddc0ade",
   "metadata": {},
   "source": [
    "We will perform filtering of this dataset using the `grelu.data.preprocess` module."
   ]
  },
  {
   "cell_type": "markdown",
   "id": "aaa8c2bb-20ad-4a99-aedf-8e4bb0daaa80",
   "metadata": {},
   "source": [
    "First, we filter peaks within autosomes (chromosomes 1-22) or chromsomes X/Y. You can also supply `autosomes` or `autosomesX` to further restrict the chromosomes."
   ]
  },
  {
   "cell_type": "code",
   "execution_count": 7,
   "id": "d8d52a31-61ce-4bc4-ba35-f6d23410e2eb",
   "metadata": {
    "tags": []
   },
   "outputs": [
    {
     "name": "stdout",
     "output_type": "stream",
     "text": [
      "Keeping 1154464 intervals\n"
     ]
    }
   ],
   "source": [
    "import grelu.data.preprocess\n",
    "\n",
    "ad = grelu.data.preprocess.filter_chromosomes(ad, 'autosomesXY')"
   ]
  },
  {
   "cell_type": "markdown",
   "id": "1f75ad2f-0bd7-4b0e-a50e-31b1524aeb75",
   "metadata": {},
   "source": [
    "Next, we drop peaks overlapping with the ENCODE blacklist regions for the hg38 genome."
   ]
  },
  {
   "cell_type": "code",
   "execution_count": 8,
   "id": "92c7e1ba-d2f6-49f2-b5e4-f468567739f0",
   "metadata": {
    "tags": []
   },
   "outputs": [
    {
     "name": "stderr",
     "output_type": "stream",
     "text": [
      "/usr/local/lib/python3.11/dist-packages/tqdm/auto.py:21: TqdmWarning: IProgress not found. Please update jupyter and ipywidgets. See https://ipywidgets.readthedocs.io/en/stable/user_install.html\n",
      "  from .autonotebook import tqdm as notebook_tqdm\n"
     ]
    },
    {
     "name": "stdout",
     "output_type": "stream",
     "text": [
      "Keeping 1154464 intervals\n"
     ]
    }
   ],
   "source": [
    "ad = grelu.data.preprocess.filter_blacklist(ad, genome='hg38')"
   ]
  },
  {
   "cell_type": "markdown",
   "id": "fa558158-7f60-4046-9aff-3dac019fd9b7",
   "metadata": {},
   "source": [
    "## Visualize data"
   ]
  },
  {
   "cell_type": "markdown",
   "id": "89330dcf-4daa-4c6c-8f0c-ba1a2609de40",
   "metadata": {},
   "source": [
    "Next, we can plot the distribution of the data in various ways."
   ]
  },
  {
   "cell_type": "code",
   "execution_count": 9,
   "id": "a19a4814-a42d-4b53-ac99-5f1d5e0b3c76",
   "metadata": {},
   "outputs": [],
   "source": [
    "import grelu.visualize\n",
    "%matplotlib inline"
   ]
  },
  {
   "cell_type": "markdown",
   "id": "e3a205e1-5448-46f7-804a-1484bb9e1ebb",
   "metadata": {},
   "source": [
    "In how many accessible cell types is each peak accessible?"
   ]
  },
  {
   "cell_type": "code",
   "execution_count": 10,
   "id": "6c29623b-2cee-4a53-911b-4741a7f81911",
   "metadata": {},
   "outputs": [
    {
     "data": {
      "image/png": "[encoded data removed]"
     },
     "metadata": {
      "image/png": {
       "height": 200,
       "width": 360
      }
     },
     "output_type": "display_data"
    }
   ],
   "source": [
    "cell_types_per_peak = np.array(np.sum(ad.X > 0, axis=0))\n",
    "\n",
    "grelu.visualize.plot_distribution(\n",
    "    cell_types_per_peak,\n",
    "    title='number of cell types per peak',\n",
    "    method='density', # Alternative: histogram\n",
    "    figsize=(3.6, 2), # width, height\n",
    ")"
   ]
  },
  {
   "cell_type": "markdown",
   "id": "2cc5055c-1f71-4de7-996b-588435e2b5d4",
   "metadata": {},
   "source": [
    "How many peaks are accessible in each cell type?"
   ]
  },
  {
   "cell_type": "code",
   "execution_count": 11,
   "id": "06fb8de1-107f-4cfe-8243-6f46e4a65c4e",
   "metadata": {},
   "outputs": [
    {
     "data": {
      "image/png": "[encoded data removed]"
     },
     "metadata": {
      "image/png": {
       "height": 200,
       "width": 360
      }
     },
     "output_type": "display_data"
    }
   ],
   "source": [
    "fraction_accessible_per_cell_type = np.array(np.mean(ad.X > 0, axis=1))\n",
    "\n",
    "grelu.visualize.plot_distribution(\n",
    "    fraction_accessible_per_cell_type,\n",
    "    title='Fraction of peaks accessible per cell type',\n",
    "    method='histogram', # alternative: density\n",
    "    binwidth=0.005,\n",
    "    figsize=(3.6, 2), # width, height\n",
    ")"
   ]
  },
  {
   "cell_type": "markdown",
   "id": "ec6aeb54-c846-4425-afd1-6d2fce4215ec",
   "metadata": {},
   "source": [
    "It seems that some cell types have very few accessible peaks. We will drop these cell types from the dataset."
   ]
  },
  {
   "cell_type": "code",
   "execution_count": 12,
   "id": "b17c85f8-a2d5-47d7-bb2e-4e4bf8337e46",
   "metadata": {},
   "outputs": [
    {
     "name": "stdout",
     "output_type": "stream",
     "text": [
      "(222, 1154464)\n",
      "(203, 1154464)\n"
     ]
    }
   ],
   "source": [
    "print(ad.shape)\n",
    "ad = ad[ad.X.mean(axis=1) > .03, :]\n",
    "print(ad.shape)"
   ]
  },
  {
   "cell_type": "markdown",
   "id": "01fb8d15-abea-4f32-bbbd-3f567ff6b841",
   "metadata": {},
   "source": [
    "We can plot the distribution once again to see the effect of this filtering:"
   ]
  },
  {
   "cell_type": "code",
   "execution_count": 13,
   "id": "8f84cbda-d1fb-47c9-a303-14d534f9764c",
   "metadata": {},
   "outputs": [
    {
     "data": {
      "image/png": "[encoded data removed]"
     },
     "metadata": {
      "image/png": {
       "height": 200,
       "width": 360
      }
     },
     "output_type": "display_data"
    }
   ],
   "source": [
    "fraction_accessible_per_cell_type = np.array(np.mean(ad.X > 0, axis=1))\n",
    "\n",
    "grelu.visualize.plot_distribution(\n",
    "    fraction_accessible_per_cell_type,\n",
    "    title='Fraction of peaks accessible per cell type',\n",
    "    method='histogram', # alternative: density\n",
    "    binwidth=0.005,\n",
    "    figsize=(3.6, 2), # width, height\n",
    ")"
   ]
  },
  {
   "cell_type": "markdown",
   "id": "a095924f-e1bc-454e-9193-18674bb2c90e",
   "metadata": {},
   "source": [
    "## Resize peaks"
   ]
  },
  {
   "cell_type": "markdown",
   "id": "0dcf39fe-fef0-454b-99a1-a4ac4a087133",
   "metadata": {},
   "source": [
    "Finally, since the ATAC-seq peaks can have different lengths, we resize all of them to a constant length in order to train the model. Here, we take 200 bp. We can use the `resize` function in `grelu.sequence.utils`, which contains functions to manipulate DNA sequences."
   ]
  },
  {
   "cell_type": "code",
   "execution_count": 14,
   "id": "42e218fa-c6ee-457a-ac84-f3c15741ae70",
   "metadata": {
    "tags": []
   },
   "outputs": [
    {
     "data": {
      "text/html": [
       "<div>\n",
       "<style scoped>\n",
       "    .dataframe tbody tr th:only-of-type {\n",
       "        vertical-align: middle;\n",
       "    }\n",
       "\n",
       "    .dataframe tbody tr th {\n",
       "        vertical-align: top;\n",
       "    }\n",
       "\n",
       "    .dataframe thead th {\n",
       "        text-align: right;\n",
       "    }\n",
       "</style>\n",
       "<table border=\"1\" class=\"dataframe\">\n",
       "  <thead>\n",
       "    <tr style=\"text-align: right;\">\n",
       "      <th></th>\n",
       "      <th>chrom</th>\n",
       "      <th>start</th>\n",
       "      <th>end</th>\n",
       "      <th>cre_class</th>\n",
       "      <th>in_fetal</th>\n",
       "      <th>in_adult</th>\n",
       "      <th>cre_module</th>\n",
       "    </tr>\n",
       "  </thead>\n",
       "  <tbody>\n",
       "    <tr>\n",
       "      <th>0</th>\n",
       "      <td>chr1</td>\n",
       "      <td>10055</td>\n",
       "      <td>10255</td>\n",
       "      <td>Promoter Proximal</td>\n",
       "      <td>yes</td>\n",
       "      <td>yes</td>\n",
       "      <td>146</td>\n",
       "    </tr>\n",
       "    <tr>\n",
       "      <th>1</th>\n",
       "      <td>chr1</td>\n",
       "      <td>29263</td>\n",
       "      <td>29463</td>\n",
       "      <td>Promoter</td>\n",
       "      <td>yes</td>\n",
       "      <td>yes</td>\n",
       "      <td>37</td>\n",
       "    </tr>\n",
       "    <tr>\n",
       "      <th>2</th>\n",
       "      <td>chr1</td>\n",
       "      <td>79315</td>\n",
       "      <td>79515</td>\n",
       "      <td>Distal</td>\n",
       "      <td>no</td>\n",
       "      <td>yes</td>\n",
       "      <td>75</td>\n",
       "    </tr>\n",
       "  </tbody>\n",
       "</table>\n",
       "</div>"
      ],
      "text/plain": [
       "  chrom  start    end          cre_class in_fetal in_adult  cre_module\n",
       "0  chr1  10055  10255  Promoter Proximal      yes      yes         146\n",
       "1  chr1  29263  29463           Promoter      yes      yes          37\n",
       "2  chr1  79315  79515             Distal       no      yes          75"
      ]
     },
     "execution_count": 14,
     "metadata": {},
     "output_type": "execute_result"
    }
   ],
   "source": [
    "import grelu.sequence.utils\n",
    "seq_len = 200\n",
    "\n",
    "ad.var = grelu.sequence.utils.resize(ad.var, seq_len)\n",
    "ad.var.head(3)"
   ]
  },
  {
   "cell_type": "markdown",
   "id": "3940acf0-7946-43cf-a8f7-674f7a641a5f",
   "metadata": {},
   "source": [
    "## Split data"
   ]
  },
  {
   "cell_type": "markdown",
   "id": "fe4a4d06-8de3-43c9-acc9-d73f8a568095",
   "metadata": {},
   "source": [
    "We will split the peaks by chromosome to create separate sets for training, validation and testing."
   ]
  },
  {
   "cell_type": "code",
   "execution_count": 15,
   "id": "9da14097-1613-44b8-bb73-8fd90d0e3c33",
   "metadata": {
    "tags": []
   },
   "outputs": [
    {
     "name": "stdout",
     "output_type": "stream",
     "text": [
      "Selecting training samples\n",
      "Keeping 1007912 intervals\n",
      "\n",
      "\n",
      "Selecting validation samples\n",
      "Keeping 56974 intervals\n",
      "\n",
      "\n",
      "Selecting test samples\n",
      "Keeping 56433 intervals\n",
      "Final sizes: train: (203, 1007912), val: (203, 56974), test: (203, 56433)\n"
     ]
    }
   ],
   "source": [
    "train_chroms='autosomes'\n",
    "val_chroms=['chr10']\n",
    "test_chroms=['chr11']\n",
    "\n",
    "ad_train, ad_val, ad_test = grelu.data.preprocess.split(\n",
    "    ad,\n",
    "    train_chroms=train_chroms, val_chroms=val_chroms, test_chroms=test_chroms,\n",
    ")"
   ]
  },
  {
   "cell_type": "markdown",
   "id": "529595fc-83cd-4565-9bd4-4b06341c6026",
   "metadata": {},
   "source": [
    "## Make labeled sequence datasets"
   ]
  },
  {
   "cell_type": "markdown",
   "id": "a925bc3c-7a64-48f2-862b-50c060819cc6",
   "metadata": {},
   "source": [
    "`grelu.data.dataset` contains PyTorch Dataset classes that can load and process genomic data for training a deep learning model. Here, we use the `AnnDataSeqDataset` class which loads data from an AnnData object. Other available dataset classes include `DFSeqDataset` and `BigWigSeqDataset`."
   ]
  },
  {
   "cell_type": "markdown",
   "id": "056918bc-8c28-4722-b14e-b00a50af1ad3",
   "metadata": {},
   "source": [
    "We first make the training dataset. To increase model robustness we use several forms of data augmentation here: `rc=True` (reverse complementing the input sequence), and `max_seq_shift=1` (shifting the coordinates of the input sequence by upto 1 bp in either direction; also known as jitter). We use `augmentation_mode=\"random\"` which means that at each iteration, the model sees a randomly selected augmented version for each sequence."
   ]
  },
  {
   "cell_type": "code",
   "execution_count": 16,
   "id": "fb7f2391-9643-42d9-9011-1d820c03c02d",
   "metadata": {},
   "outputs": [],
   "source": [
    "import grelu.data.dataset"
   ]
  },
  {
   "cell_type": "code",
   "execution_count": 17,
   "id": "9768643e-30e3-4d45-9fb6-877bf77e660e",
   "metadata": {},
   "outputs": [],
   "source": [
    "train_dataset = grelu.data.dataset.AnnDataSeqDataset(\n",
    "    ad_train.copy(),\n",
    "    genome='hg38',\n",
    "    rc=True, # reverse complement\n",
    "    max_seq_shift=1, # Shift the sequence\n",
    "    augment_mode=\"random\", # Randomly select which augmentations to apply\n",
    ")"
   ]
  },
  {
   "cell_type": "markdown",
   "id": "26030a1f-309d-4334-bf38-452219a3200c",
   "metadata": {},
   "source": [
    "We do not apply any augmentations to the validation and test datasets (although it is possible to do so)."
   ]
  },
  {
   "cell_type": "code",
   "execution_count": 18,
   "id": "85220261-3de4-4693-9e96-513f0687ce98",
   "metadata": {},
   "outputs": [],
   "source": [
    "val_dataset = grelu.data.dataset.AnnDataSeqDataset(ad_val.copy(), genome='hg38')\n",
    "test_dataset = grelu.data.dataset.AnnDataSeqDataset(ad_test.copy(), genome='hg38')"
   ]
  },
  {
   "cell_type": "markdown",
   "id": "b4af1e79-2a84-4356-bf16-577376960914",
   "metadata": {},
   "source": [
    "## Build the enformer model"
   ]
  },
  {
   "cell_type": "markdown",
   "id": "3e9a9eba-9727-42ed-8212-9643fd77ea5d",
   "metadata": {},
   "source": [
    "gReLU contains many model architectures. One of these is a class called `EnformerPretrainedModel`. This class creates a model identical to the published Enformer model and initialized with the trained weights, but where you can change the number of transformer layers and the output head.\n",
    "\n",
    "Models are created using the `grelu.lightning` module. In order to instantiate a model, we need to specify `model_params` (parameters for the model architecture) and `train_params` (parameters for training)."
   ]
  },
  {
   "cell_type": "code",
   "execution_count": 19,
   "id": "ffdf67f9-305e-47cc-bba1-ca140b402aed",
   "metadata": {
    "scrolled": true
   },
   "outputs": [
    {
     "name": "stderr",
     "output_type": "stream",
     "text": [
      "\u001b[34m\u001b[1mwandb\u001b[0m: Currently logged in as: \u001b[33manony-mouse-945272810042178709\u001b[0m. Use \u001b[1m`wandb login --relogin`\u001b[0m to force relogin\n",
      "\u001b[34m\u001b[1mwandb\u001b[0m: Downloading large artifact human_state_dict:latest, 939.29MB. 1 files... \n",
      "\u001b[34m\u001b[1mwandb\u001b[0m:   1 of 1 files downloaded.  \n",
      "Done. 0:0:19.2\n"
     ]
    }
   ],
   "source": [
    "model_params = {\n",
    "    'model_type':'EnformerPretrainedModel', # Type of model\n",
    "    'n_tasks': ad.shape[0], # Number of cell types to predict\n",
    "    'crop_len':0, # No cropping of the model output\n",
    "    'n_transformers': 1, # Number of transformer layers; the published Enformer model has 11\n",
    "}\n",
    "\n",
    "train_params = {\n",
    "    'task':'binary', # binary classification\n",
    "    'lr':1e-4, # learning rate\n",
    "    'logger': 'csv', # Logs will be written to a CSV file\n",
    "    'batch_size': 1024,\n",
    "    'num_workers': 8,\n",
    "    'devices': 0, # GPU index\n",
    "    'save_dir': experiment,\n",
    "    'optimizer': 'adam',\n",
    "    'max_epochs': 10,\n",
    "    'checkpoint': True, # Save checkpoints\n",
    "}\n",
    "\n",
    "import grelu.lightning\n",
    "model = grelu.lightning.LightningModel(model_params=model_params, train_params=train_params)"
   ]
  },
  {
   "cell_type": "markdown",
   "id": "563d739e-ec56-4909-902c-49365034ecbf",
   "metadata": {},
   "source": [
    "## Train the model"
   ]
  },
  {
   "cell_type": "markdown",
   "id": "d6bfc201-a86b-4dd1-83d1-1686c834fe65",
   "metadata": {},
   "source": [
    "We train the model on the new training dataset using the `train_on_dataset` method. Note that here, we update the weights of the entire model during training. If you want to hold the enformer weights fixed and only learn a linear layer from the enformer embedding to the outputs, see the `tune_on_dataset` method."
   ]
  },
  {
   "cell_type": "code",
   "execution_count": 20,
   "id": "c9e926e3-008c-45a0-9290-8e5ddfff031a",
   "metadata": {
    "scrolled": true,
    "tags": []
   },
   "outputs": [
    {
     "name": "stderr",
     "output_type": "stream",
     "text": [
      "GPU available: True (cuda), used: True\n",
      "TPU available: False, using: 0 TPU cores\n",
      "HPU available: False, using: 0 HPUs\n",
      "LOCAL_RANK: 0 - CUDA_VISIBLE_DEVICES: [0,1,2,3,4,5,6,7]\n"
     ]
    },
    {
     "name": "stdout",
     "output_type": "stream",
     "text": [
      "Validation DataLoader 0: 100%|███████████████████████████████████████████████| 56/56 [00:07<00:00,  7.65it/s]\n"
     ]
    },
    {
     "data": {
      "text/html": [
       "<pre style=\"white-space:pre;overflow-x:auto;line-height:normal;font-family:Menlo,'DejaVu Sans Mono',consolas,'Courier New',monospace\">┏━━━━━━━━━━━━━━━━━━━━━━━━━━━┳━━━━━━━━━━━━━━━━━━━━━━━━━━━┓\n",
       "┃<span style=\"font-weight: bold\">      Validate metric      </span>┃<span style=\"font-weight: bold\">       DataLoader 0        </span>┃\n",
       "┡━━━━━━━━━━━━━━━━━━━━━━━━━━━╇━━━━━━━━━━━━━━━━━━━━━━━━━━━┩\n",
       "│<span style=\"color: #008080; text-decoration-color: #008080\">       val_accuracy        </span>│<span style=\"color: #800080; text-decoration-color: #800080\">    0.5403909087181091     </span>│\n",
       "│<span style=\"color: #008080; text-decoration-color: #008080\">         val_auroc         </span>│<span style=\"color: #800080; text-decoration-color: #800080\">    0.49658727645874023    </span>│\n",
       "│<span style=\"color: #008080; text-decoration-color: #008080\">        val_avgprec        </span>│<span style=\"color: #800080; text-decoration-color: #800080\">    0.10710577666759491    </span>│\n",
       "│<span style=\"color: #008080; text-decoration-color: #008080\">        val_best_f1        </span>│<span style=\"color: #800080; text-decoration-color: #800080\">    0.17067663371562958    </span>│\n",
       "│<span style=\"color: #008080; text-decoration-color: #008080\">         val_loss          </span>│<span style=\"color: #800080; text-decoration-color: #800080\">    0.6907404065132141     </span>│\n",
       "└───────────────────────────┴───────────────────────────┘\n",
       "</pre>\n"
      ],
      "text/plain": [
       "┏━━━━━━━━━━━━━━━━━━━━━━━━━━━┳━━━━━━━━━━━━━━━━━━━━━━━━━━━┓\n",
       "┃\u001b[1m \u001b[0m\u001b[1m     Validate metric     \u001b[0m\u001b[1m \u001b[0m┃\u001b[1m \u001b[0m\u001b[1m      DataLoader 0       \u001b[0m\u001b[1m \u001b[0m┃\n",
       "┡━━━━━━━━━━━━━━━━━━━━━━━━━━━╇━━━━━━━━━━━━━━━━━━━━━━━━━━━┩\n",
       "│\u001b[36m \u001b[0m\u001b[36m      val_accuracy       \u001b[0m\u001b[36m \u001b[0m│\u001b[35m \u001b[0m\u001b[35m   0.5403909087181091    \u001b[0m\u001b[35m \u001b[0m│\n",
       "│\u001b[36m \u001b[0m\u001b[36m        val_auroc        \u001b[0m\u001b[36m \u001b[0m│\u001b[35m \u001b[0m\u001b[35m   0.49658727645874023   \u001b[0m\u001b[35m \u001b[0m│\n",
       "│\u001b[36m \u001b[0m\u001b[36m       val_avgprec       \u001b[0m\u001b[36m \u001b[0m│\u001b[35m \u001b[0m\u001b[35m   0.10710577666759491   \u001b[0m\u001b[35m \u001b[0m│\n",
       "│\u001b[36m \u001b[0m\u001b[36m       val_best_f1       \u001b[0m\u001b[36m \u001b[0m│\u001b[35m \u001b[0m\u001b[35m   0.17067663371562958   \u001b[0m\u001b[35m \u001b[0m│\n",
       "│\u001b[36m \u001b[0m\u001b[36m        val_loss         \u001b[0m\u001b[36m \u001b[0m│\u001b[35m \u001b[0m\u001b[35m   0.6907404065132141    \u001b[0m\u001b[35m \u001b[0m│\n",
       "└───────────────────────────┴───────────────────────────┘\n"
      ]
     },
     "metadata": {},
     "output_type": "display_data"
    },
    {
     "name": "stderr",
     "output_type": "stream",
     "text": [
      "LOCAL_RANK: 0 - CUDA_VISIBLE_DEVICES: [0,1,2,3,4,5,6,7]\n",
      "\n",
      "  | Name         | Type                    | Params | Mode \n",
      "-----------------------------------------------------------------\n",
      "0 | model        | EnformerPretrainedModel | 72.1 M | train\n",
      "1 | loss         | BCEWithLogitsLoss       | 0      | train\n",
      "2 | val_metrics  | MetricCollection        | 0      | train\n",
      "3 | test_metrics | MetricCollection        | 0      | train\n",
      "4 | transform    | Identity                | 0      | train\n",
      "-----------------------------------------------------------------\n",
      "72.1 M    Trainable params\n",
      "0         Non-trainable params\n",
      "72.1 M    Total params\n",
      "288.267   Total estimated model params size (MB)\n",
      "240       Modules in train mode\n",
      "0         Modules in eval mode\n"
     ]
    },
    {
     "name": "stdout",
     "output_type": "stream",
     "text": [
      "Epoch 0: 100%|█████████████████████████████| 985/985 [05:32<00:00,  2.97it/s, v_num=0, train_loss_step=0.156]\n",
      "Validation: |                                                                          | 0/? [00:00<?, ?it/s]\u001b[A\n",
      "Validation:   0%|                                                                     | 0/56 [00:00<?, ?it/s]\u001b[A\n",
      "Validation DataLoader 0:   0%|                                                        | 0/56 [00:00<?, ?it/s]\u001b[A\n",
      "Validation DataLoader 0:   2%|▊                                               | 1/56 [00:00<00:04, 13.40it/s]\u001b[A\n",
      "Validation DataLoader 0:   4%|█▋                                              | 2/56 [00:00<00:04, 13.29it/s]\u001b[A\n",
      "Validation DataLoader 0:   5%|██▌                                             | 3/56 [00:00<00:04, 12.80it/s]\u001b[A\n",
      "Validation DataLoader 0:   7%|███▍                                            | 4/56 [00:00<00:04, 12.89it/s]\u001b[A\n",
      "Validation DataLoader 0:   9%|████▎                                           | 5/56 [00:00<00:03, 12.97it/s]\u001b[A\n",
      "Validation DataLoader 0:  11%|█████▏                                          | 6/56 [00:00<00:03, 13.02it/s]\u001b[A\n",
      "Validation DataLoader 0:  12%|██████                                          | 7/56 [00:00<00:03, 13.03it/s]\u001b[A\n",
      "Validation DataLoader 0:  14%|██████▊                                         | 8/56 [00:00<00:03, 13.04it/s]\u001b[A\n",
      "Validation DataLoader 0:  16%|███████▋                                        | 9/56 [00:00<00:03, 12.99it/s]\u001b[A\n",
      "Validation DataLoader 0:  18%|████████▍                                      | 10/56 [00:00<00:03, 13.02it/s]\u001b[A\n",
      "Validation DataLoader 0:  20%|█████████▏                                     | 11/56 [00:00<00:03, 13.04it/s]\u001b[A\n",
      "Validation DataLoader 0:  21%|██████████                                     | 12/56 [00:00<00:03, 13.06it/s]\u001b[A\n",
      "Validation DataLoader 0:  23%|██████████▉                                    | 13/56 [00:00<00:03, 13.08it/s]\u001b[A\n",
      "Validation DataLoader 0:  25%|███████████▊                                   | 14/56 [00:01<00:03, 13.10it/s]\u001b[A\n",
      "Validation DataLoader 0:  27%|████████████▌                                  | 15/56 [00:01<00:03, 13.10it/s]\u001b[A\n",
      "Validation DataLoader 0:  29%|█████████████▍                                 | 16/56 [00:01<00:03, 13.10it/s]\u001b[A\n",
      "Validation DataLoader 0:  30%|██████████████▎                                | 17/56 [00:01<00:02, 13.10it/s]\u001b[A\n",
      "Validation DataLoader 0:  32%|███████████████                                | 18/56 [00:01<00:02, 13.11it/s]\u001b[A\n",
      "Validation DataLoader 0:  34%|███████████████▉                               | 19/56 [00:01<00:02, 13.11it/s]\u001b[A\n",
      "Validation DataLoader 0:  36%|████████████████▊                              | 20/56 [00:01<00:02, 13.11it/s]\u001b[A\n",
      "Validation DataLoader 0:  38%|█████████████████▋                             | 21/56 [00:01<00:02, 13.11it/s]\u001b[A\n",
      "Validation DataLoader 0:  39%|██████████████████▍                            | 22/56 [00:01<00:02, 13.11it/s]\u001b[A\n",
      "Validation DataLoader 0:  41%|███████████████████▎                           | 23/56 [00:01<00:02, 13.11it/s]\u001b[A\n",
      "Validation DataLoader 0:  43%|████████████████████▏                          | 24/56 [00:01<00:02, 13.11it/s]\u001b[A\n",
      "Validation DataLoader 0:  45%|████████████████████▉                          | 25/56 [00:01<00:02, 13.11it/s]\u001b[A\n",
      "Validation DataLoader 0:  46%|█████████████████████▊                         | 26/56 [00:01<00:02, 13.11it/s]\u001b[A\n",
      "Validation DataLoader 0:  48%|██████████████████████▋                        | 27/56 [00:02<00:02, 13.11it/s]\u001b[A\n",
      "Validation DataLoader 0:  50%|███████████████████████▌                       | 28/56 [00:02<00:02, 13.11it/s]\u001b[A\n",
      "Validation DataLoader 0:  52%|████████████████████████▎                      | 29/56 [00:02<00:02, 13.12it/s]\u001b[A\n",
      "Validation DataLoader 0:  54%|█████████████████████████▏                     | 30/56 [00:02<00:01, 13.12it/s]\u001b[A\n",
      "Validation DataLoader 0:  55%|██████████████████████████                     | 31/56 [00:02<00:01, 13.12it/s]\u001b[A\n",
      "Validation DataLoader 0:  57%|██████████████████████████▊                    | 32/56 [00:02<00:01, 13.12it/s]\u001b[A\n",
      "Validation DataLoader 0:  59%|███████████████████████████▋                   | 33/56 [00:02<00:01, 13.12it/s]\u001b[A\n",
      "Validation DataLoader 0:  61%|████████████████████████████▌                  | 34/56 [00:02<00:01, 13.13it/s]\u001b[A\n",
      "Validation DataLoader 0:  62%|█████████████████████████████▍                 | 35/56 [00:02<00:01, 13.13it/s]\u001b[A\n",
      "Validation DataLoader 0:  64%|██████████████████████████████▏                | 36/56 [00:02<00:01, 13.13it/s]\u001b[A\n",
      "Validation DataLoader 0:  66%|███████████████████████████████                | 37/56 [00:02<00:01, 13.13it/s]\u001b[A\n",
      "Validation DataLoader 0:  68%|███████████████████████████████▉               | 38/56 [00:02<00:01, 13.13it/s]\u001b[A\n",
      "Validation DataLoader 0:  70%|████████████████████████████████▋              | 39/56 [00:02<00:01, 13.14it/s]\u001b[A\n",
      "Validation DataLoader 0:  71%|█████████████████████████████████▌             | 40/56 [00:03<00:01, 13.14it/s]\u001b[A\n",
      "Validation DataLoader 0:  73%|██████████████████████████████████▍            | 41/56 [00:03<00:01, 13.14it/s]\u001b[A\n",
      "Validation DataLoader 0:  75%|███████████████████████████████████▎           | 42/56 [00:03<00:01, 13.14it/s]\u001b[A\n",
      "Validation DataLoader 0:  77%|████████████████████████████████████           | 43/56 [00:03<00:00, 13.14it/s]\u001b[A\n",
      "Validation DataLoader 0:  79%|████████████████████████████████████▉          | 44/56 [00:03<00:00, 13.14it/s]\u001b[A\n",
      "Validation DataLoader 0:  80%|█████████████████████████████████████▊         | 45/56 [00:03<00:00, 13.15it/s]\u001b[A\n",
      "Validation DataLoader 0:  82%|██████████████████████████████████████▌        | 46/56 [00:03<00:00, 13.15it/s]\u001b[A\n",
      "Validation DataLoader 0:  84%|███████████████████████████████████████▍       | 47/56 [00:03<00:00, 13.15it/s]\u001b[A\n",
      "Validation DataLoader 0:  86%|████████████████████████████████████████▎      | 48/56 [00:03<00:00, 13.16it/s]\u001b[A\n",
      "Validation DataLoader 0:  88%|█████████████████████████████████████████▏     | 49/56 [00:03<00:00, 13.16it/s]\u001b[A\n",
      "Validation DataLoader 0:  89%|█████████████████████████████████████████▉     | 50/56 [00:03<00:00, 13.16it/s]\u001b[A\n",
      "Validation DataLoader 0:  91%|██████████████████████████████████████████▊    | 51/56 [00:03<00:00, 13.16it/s]\u001b[A\n",
      "Validation DataLoader 0:  93%|███████████████████████████████████████████▋   | 52/56 [00:03<00:00, 13.16it/s]\u001b[A\n",
      "Validation DataLoader 0:  95%|████████████████████████████████████████████▍  | 53/56 [00:04<00:00, 13.17it/s]\u001b[A\n",
      "Validation DataLoader 0:  96%|█████████████████████████████████████████████▎ | 54/56 [00:04<00:00, 13.17it/s]\u001b[A\n",
      "Validation DataLoader 0:  98%|██████████████████████████████████████████████▏| 55/56 [00:04<00:00, 13.17it/s]\u001b[A\n",
      "Validation DataLoader 0: 100%|███████████████████████████████████████████████| 56/56 [00:04<00:00, 13.25it/s]\u001b[A\n",
      "Epoch 1: 100%|█████| 985/985 [03:29<00:00,  4.70it/s, v_num=0, train_loss_step=0.169, train_loss_epoch=0.171]\u001b[A\n",
      "Validation: |                                                                          | 0/? [00:00<?, ?it/s]\u001b[A\n",
      "Validation:   0%|                                                                     | 0/56 [00:00<?, ?it/s]\u001b[A\n",
      "Validation DataLoader 0:   0%|                                                        | 0/56 [00:00<?, ?it/s]\u001b[A\n",
      "Validation DataLoader 0:   2%|▊                                               | 1/56 [00:00<00:04, 13.22it/s]\u001b[A\n",
      "Validation DataLoader 0:   4%|█▋                                              | 2/56 [00:00<00:04, 13.12it/s]\u001b[A\n",
      "Validation DataLoader 0:   5%|██▌                                             | 3/56 [00:00<00:04, 13.08it/s]\u001b[A\n",
      "Validation DataLoader 0:   7%|███▍                                            | 4/56 [00:00<00:03, 13.12it/s]\u001b[A\n",
      "Validation DataLoader 0:   9%|████▎                                           | 5/56 [00:00<00:03, 13.08it/s]\u001b[A\n",
      "Validation DataLoader 0:  11%|█████▏                                          | 6/56 [00:00<00:03, 13.09it/s]\u001b[A\n",
      "Validation DataLoader 0:  12%|██████                                          | 7/56 [00:00<00:03, 13.12it/s]\u001b[A\n",
      "Validation DataLoader 0:  14%|██████▊                                         | 8/56 [00:00<00:03, 13.15it/s]\u001b[A\n",
      "Validation DataLoader 0:  16%|███████▋                                        | 9/56 [00:00<00:03, 13.15it/s]\u001b[A\n",
      "Validation DataLoader 0:  18%|████████▍                                      | 10/56 [00:00<00:03, 13.15it/s]\u001b[A\n",
      "Validation DataLoader 0:  20%|█████████▏                                     | 11/56 [00:00<00:03, 13.15it/s]\u001b[A\n",
      "Validation DataLoader 0:  21%|██████████                                     | 12/56 [00:00<00:03, 13.14it/s]\u001b[A\n",
      "Validation DataLoader 0:  23%|██████████▉                                    | 13/56 [00:00<00:03, 13.13it/s]\u001b[A\n",
      "Validation DataLoader 0:  25%|███████████▊                                   | 14/56 [00:01<00:03, 13.13it/s]\u001b[A\n",
      "Validation DataLoader 0:  27%|████████████▌                                  | 15/56 [00:01<00:03, 13.15it/s]\u001b[A\n",
      "Validation DataLoader 0:  29%|█████████████▍                                 | 16/56 [00:01<00:03, 13.16it/s]\u001b[A\n",
      "Validation DataLoader 0:  30%|██████████████▎                                | 17/56 [00:01<00:02, 13.15it/s]\u001b[A\n",
      "Validation DataLoader 0:  32%|███████████████                                | 18/56 [00:01<00:02, 13.16it/s]\u001b[A\n",
      "Validation DataLoader 0:  34%|███████████████▉                               | 19/56 [00:01<00:02, 13.16it/s]\u001b[A\n",
      "Validation DataLoader 0:  36%|████████████████▊                              | 20/56 [00:01<00:02, 13.15it/s]\u001b[A\n",
      "Validation DataLoader 0:  38%|█████████████████▋                             | 21/56 [00:01<00:02, 13.15it/s]\u001b[A\n",
      "Validation DataLoader 0:  39%|██████████████████▍                            | 22/56 [00:01<00:02, 13.15it/s]\u001b[A\n",
      "Validation DataLoader 0:  41%|███████████████████▎                           | 23/56 [00:01<00:02, 13.15it/s]\u001b[A\n",
      "Validation DataLoader 0:  43%|████████████████████▏                          | 24/56 [00:01<00:02, 13.14it/s]\u001b[A\n",
      "Validation DataLoader 0:  45%|████████████████████▉                          | 25/56 [00:01<00:02, 13.14it/s]\u001b[A\n",
      "Validation DataLoader 0:  46%|█████████████████████▊                         | 26/56 [00:01<00:02, 13.14it/s]\u001b[A\n",
      "Validation DataLoader 0:  48%|██████████████████████▋                        | 27/56 [00:02<00:02, 13.14it/s]\u001b[A\n",
      "Validation DataLoader 0:  50%|███████████████████████▌                       | 28/56 [00:02<00:02, 13.14it/s]\u001b[A\n",
      "Validation DataLoader 0:  52%|████████████████████████▎                      | 29/56 [00:02<00:02, 13.13it/s]\u001b[A\n",
      "Validation DataLoader 0:  54%|█████████████████████████▏                     | 30/56 [00:02<00:01, 13.13it/s]\u001b[A\n",
      "Validation DataLoader 0:  55%|██████████████████████████                     | 31/56 [00:02<00:01, 13.13it/s]\u001b[A\n",
      "Validation DataLoader 0:  57%|██████████████████████████▊                    | 32/56 [00:02<00:01, 13.14it/s]\u001b[A\n",
      "Validation DataLoader 0:  59%|███████████████████████████▋                   | 33/56 [00:02<00:01, 13.14it/s]\u001b[A\n",
      "Validation DataLoader 0:  61%|████████████████████████████▌                  | 34/56 [00:02<00:01, 13.14it/s]\u001b[A\n",
      "Validation DataLoader 0:  62%|█████████████████████████████▍                 | 35/56 [00:02<00:01, 13.14it/s]\u001b[A\n",
      "Validation DataLoader 0:  64%|██████████████████████████████▏                | 36/56 [00:02<00:01, 13.14it/s]\u001b[A\n",
      "Validation DataLoader 0:  66%|███████████████████████████████                | 37/56 [00:02<00:01, 13.14it/s]\u001b[A\n",
      "Validation DataLoader 0:  68%|███████████████████████████████▉               | 38/56 [00:02<00:01, 13.14it/s]\u001b[A\n",
      "Validation DataLoader 0:  70%|████████████████████████████████▋              | 39/56 [00:02<00:01, 13.14it/s]\u001b[A\n",
      "Validation DataLoader 0:  71%|█████████████████████████████████▌             | 40/56 [00:03<00:01, 13.15it/s]\u001b[A\n",
      "Validation DataLoader 0:  73%|██████████████████████████████████▍            | 41/56 [00:03<00:01, 13.15it/s]\u001b[A\n",
      "Validation DataLoader 0:  75%|███████████████████████████████████▎           | 42/56 [00:03<00:01, 13.15it/s]\u001b[A\n",
      "Validation DataLoader 0:  77%|████████████████████████████████████           | 43/56 [00:03<00:00, 13.15it/s]\u001b[A\n",
      "Validation DataLoader 0:  79%|████████████████████████████████████▉          | 44/56 [00:03<00:00, 13.15it/s]\u001b[A\n",
      "Validation DataLoader 0:  80%|█████████████████████████████████████▊         | 45/56 [00:03<00:00, 13.16it/s]\u001b[A\n",
      "Validation DataLoader 0:  82%|██████████████████████████████████████▌        | 46/56 [00:03<00:00, 13.16it/s]\u001b[A\n",
      "Validation DataLoader 0:  84%|███████████████████████████████████████▍       | 47/56 [00:03<00:00, 13.16it/s]\u001b[A\n",
      "Validation DataLoader 0:  86%|████████████████████████████████████████▎      | 48/56 [00:03<00:00, 13.16it/s]\u001b[A\n",
      "Validation DataLoader 0:  88%|█████████████████████████████████████████▏     | 49/56 [00:03<00:00, 13.16it/s]\u001b[A\n",
      "Validation DataLoader 0:  89%|█████████████████████████████████████████▉     | 50/56 [00:03<00:00, 13.16it/s]\u001b[A\n",
      "Validation DataLoader 0:  91%|██████████████████████████████████████████▊    | 51/56 [00:03<00:00, 13.17it/s]\u001b[A\n",
      "Validation DataLoader 0:  93%|███████████████████████████████████████████▋   | 52/56 [00:03<00:00, 13.17it/s]\u001b[A\n",
      "Validation DataLoader 0:  95%|████████████████████████████████████████████▍  | 53/56 [00:04<00:00, 13.17it/s]\u001b[A\n",
      "Validation DataLoader 0:  96%|█████████████████████████████████████████████▎ | 54/56 [00:04<00:00, 13.17it/s]\u001b[A\n",
      "Validation DataLoader 0:  98%|██████████████████████████████████████████████▏| 55/56 [00:04<00:00, 13.17it/s]\u001b[A\n",
      "Validation DataLoader 0: 100%|███████████████████████████████████████████████| 56/56 [00:04<00:00, 13.25it/s]\u001b[A\n",
      "Epoch 2: 100%|█████| 985/985 [03:33<00:00,  4.61it/s, v_num=0, train_loss_step=0.145, train_loss_epoch=0.151]\u001b[A\n",
      "Validation: |                                                                          | 0/? [00:00<?, ?it/s]\u001b[A\n",
      "Validation:   0%|                                                                     | 0/56 [00:00<?, ?it/s]\u001b[A\n",
      "Validation DataLoader 0:   0%|                                                        | 0/56 [00:00<?, ?it/s]\u001b[A\n",
      "Validation DataLoader 0:   2%|▊                                               | 1/56 [00:00<00:04, 13.38it/s]\u001b[A\n",
      "Validation DataLoader 0:   4%|█▋                                              | 2/56 [00:00<00:04, 13.33it/s]\u001b[A\n",
      "Validation DataLoader 0:   5%|██▌                                             | 3/56 [00:00<00:03, 13.31it/s]\u001b[A\n",
      "Validation DataLoader 0:   7%|███▍                                            | 4/56 [00:00<00:03, 13.29it/s]\u001b[A\n",
      "Validation DataLoader 0:   9%|████▎                                           | 5/56 [00:00<00:03, 13.30it/s]\u001b[A\n",
      "Validation DataLoader 0:  11%|█████▏                                          | 6/56 [00:00<00:03, 13.31it/s]\u001b[A\n",
      "Validation DataLoader 0:  12%|██████                                          | 7/56 [00:00<00:03, 13.29it/s]\u001b[A\n",
      "Validation DataLoader 0:  14%|██████▊                                         | 8/56 [00:00<00:03, 13.29it/s]\u001b[A\n",
      "Validation DataLoader 0:  16%|███████▋                                        | 9/56 [00:00<00:03, 13.20it/s]\u001b[A\n",
      "Validation DataLoader 0:  18%|████████▍                                      | 10/56 [00:00<00:03, 13.21it/s]\u001b[A\n",
      "Validation DataLoader 0:  20%|█████████▏                                     | 11/56 [00:00<00:03, 13.22it/s]\u001b[A\n",
      "Validation DataLoader 0:  21%|██████████                                     | 12/56 [00:00<00:03, 13.21it/s]\u001b[A\n",
      "Validation DataLoader 0:  23%|██████████▉                                    | 13/56 [00:00<00:03, 13.22it/s]\u001b[A\n",
      "Validation DataLoader 0:  25%|███████████▊                                   | 14/56 [00:01<00:03, 13.23it/s]\u001b[A\n",
      "Validation DataLoader 0:  27%|████████████▌                                  | 15/56 [00:01<00:03, 13.23it/s]\u001b[A\n",
      "Validation DataLoader 0:  29%|█████████████▍                                 | 16/56 [00:01<00:03, 13.23it/s]\u001b[A\n",
      "Validation DataLoader 0:  30%|██████████████▎                                | 17/56 [00:01<00:02, 13.22it/s]\u001b[A\n",
      "Validation DataLoader 0:  32%|███████████████                                | 18/56 [00:01<00:02, 13.21it/s]\u001b[A\n",
      "Validation DataLoader 0:  34%|███████████████▉                               | 19/56 [00:01<00:02, 13.20it/s]\u001b[A\n",
      "Validation DataLoader 0:  36%|████████████████▊                              | 20/56 [00:01<00:02, 13.19it/s]\u001b[A\n",
      "Validation DataLoader 0:  38%|█████████████████▋                             | 21/56 [00:01<00:02, 13.19it/s]\u001b[A\n",
      "Validation DataLoader 0:  39%|██████████████████▍                            | 22/56 [00:01<00:02, 13.19it/s]\u001b[A\n",
      "Validation DataLoader 0:  41%|███████████████████▎                           | 23/56 [00:01<00:02, 13.19it/s]\u001b[A\n",
      "Validation DataLoader 0:  43%|████████████████████▏                          | 24/56 [00:01<00:02, 13.19it/s]\u001b[A\n",
      "Validation DataLoader 0:  45%|████████████████████▉                          | 25/56 [00:01<00:02, 13.18it/s]\u001b[A\n",
      "Validation DataLoader 0:  46%|█████████████████████▊                         | 26/56 [00:01<00:02, 13.17it/s]\u001b[A\n",
      "Validation DataLoader 0:  48%|██████████████████████▋                        | 27/56 [00:02<00:02, 13.17it/s]\u001b[A\n",
      "Validation DataLoader 0:  50%|███████████████████████▌                       | 28/56 [00:02<00:02, 13.17it/s]\u001b[A\n",
      "Validation DataLoader 0:  52%|████████████████████████▎                      | 29/56 [00:02<00:02, 13.17it/s]\u001b[A\n",
      "Validation DataLoader 0:  54%|█████████████████████████▏                     | 30/56 [00:02<00:01, 13.17it/s]\u001b[A\n",
      "Validation DataLoader 0:  55%|██████████████████████████                     | 31/56 [00:02<00:01, 13.17it/s]\u001b[A\n",
      "Validation DataLoader 0:  57%|██████████████████████████▊                    | 32/56 [00:02<00:01, 13.16it/s]\u001b[A\n",
      "Validation DataLoader 0:  59%|███████████████████████████▋                   | 33/56 [00:02<00:01, 13.16it/s]\u001b[A\n",
      "Validation DataLoader 0:  61%|████████████████████████████▌                  | 34/56 [00:02<00:01, 13.16it/s]\u001b[A\n",
      "Validation DataLoader 0:  62%|█████████████████████████████▍                 | 35/56 [00:02<00:01, 13.16it/s]\u001b[A\n",
      "Validation DataLoader 0:  64%|██████████████████████████████▏                | 36/56 [00:02<00:01, 13.16it/s]\u001b[A\n",
      "Validation DataLoader 0:  66%|███████████████████████████████                | 37/56 [00:02<00:01, 13.16it/s]\u001b[A\n",
      "Validation DataLoader 0:  68%|███████████████████████████████▉               | 38/56 [00:02<00:01, 13.16it/s]\u001b[A\n",
      "Validation DataLoader 0:  70%|████████████████████████████████▋              | 39/56 [00:02<00:01, 13.16it/s]\u001b[A\n",
      "Validation DataLoader 0:  71%|█████████████████████████████████▌             | 40/56 [00:03<00:01, 13.16it/s]\u001b[A\n",
      "Validation DataLoader 0:  73%|██████████████████████████████████▍            | 41/56 [00:03<00:01, 13.16it/s]\u001b[A\n",
      "Validation DataLoader 0:  75%|███████████████████████████████████▎           | 42/56 [00:03<00:01, 13.16it/s]\u001b[A\n",
      "Validation DataLoader 0:  77%|████████████████████████████████████           | 43/56 [00:03<00:00, 13.16it/s]\u001b[A\n",
      "Validation DataLoader 0:  79%|████████████████████████████████████▉          | 44/56 [00:03<00:00, 13.16it/s]\u001b[A\n",
      "Validation DataLoader 0:  80%|█████████████████████████████████████▊         | 45/56 [00:03<00:00, 13.16it/s]\u001b[A\n",
      "Validation DataLoader 0:  82%|██████████████████████████████████████▌        | 46/56 [00:03<00:00, 13.16it/s]\u001b[A\n",
      "Validation DataLoader 0:  84%|███████████████████████████████████████▍       | 47/56 [00:03<00:00, 13.16it/s]\u001b[A\n",
      "Validation DataLoader 0:  86%|████████████████████████████████████████▎      | 48/56 [00:03<00:00, 13.16it/s]\u001b[A\n",
      "Validation DataLoader 0:  88%|█████████████████████████████████████████▏     | 49/56 [00:03<00:00, 13.16it/s]\u001b[A\n",
      "Validation DataLoader 0:  89%|█████████████████████████████████████████▉     | 50/56 [00:03<00:00, 13.17it/s]\u001b[A\n",
      "Validation DataLoader 0:  91%|██████████████████████████████████████████▊    | 51/56 [00:03<00:00, 13.17it/s]\u001b[A\n",
      "Validation DataLoader 0:  93%|███████████████████████████████████████████▋   | 52/56 [00:03<00:00, 13.17it/s]\u001b[A\n",
      "Validation DataLoader 0:  95%|████████████████████████████████████████████▍  | 53/56 [00:04<00:00, 13.17it/s]\u001b[A\n",
      "Validation DataLoader 0:  96%|█████████████████████████████████████████████▎ | 54/56 [00:04<00:00, 13.17it/s]\u001b[A\n",
      "Validation DataLoader 0:  98%|██████████████████████████████████████████████▏| 55/56 [00:04<00:00, 13.17it/s]\u001b[A\n",
      "Validation DataLoader 0: 100%|███████████████████████████████████████████████| 56/56 [00:04<00:00, 13.24it/s]\u001b[A\n",
      "Epoch 3: 100%|█████| 985/985 [03:31<00:00,  4.65it/s, v_num=0, train_loss_step=0.154, train_loss_epoch=0.148]\u001b[A\n",
      "Validation: |                                                                          | 0/? [00:00<?, ?it/s]\u001b[A\n",
      "Validation:   0%|                                                                     | 0/56 [00:00<?, ?it/s]\u001b[A\n",
      "Validation DataLoader 0:   0%|                                                        | 0/56 [00:00<?, ?it/s]\u001b[A\n",
      "Validation DataLoader 0:   2%|▊                                               | 1/56 [00:00<00:04, 13.52it/s]\u001b[A\n",
      "Validation DataLoader 0:   4%|█▋                                              | 2/56 [00:00<00:04, 13.32it/s]\u001b[A\n",
      "Validation DataLoader 0:   5%|██▌                                             | 3/56 [00:00<00:03, 13.32it/s]\u001b[A\n",
      "Validation DataLoader 0:   7%|███▍                                            | 4/56 [00:00<00:03, 13.34it/s]\u001b[A\n",
      "Validation DataLoader 0:   9%|████▎                                           | 5/56 [00:00<00:03, 13.34it/s]\u001b[A\n",
      "Validation DataLoader 0:  11%|█████▏                                          | 6/56 [00:00<00:03, 13.34it/s]\u001b[A\n",
      "Validation DataLoader 0:  12%|██████                                          | 7/56 [00:00<00:03, 13.34it/s]\u001b[A\n",
      "Validation DataLoader 0:  14%|██████▊                                         | 8/56 [00:00<00:03, 13.34it/s]\u001b[A\n",
      "Validation DataLoader 0:  16%|███████▋                                        | 9/56 [00:00<00:03, 13.24it/s]\u001b[A\n",
      "Validation DataLoader 0:  18%|████████▍                                      | 10/56 [00:00<00:03, 13.25it/s]\u001b[A\n",
      "Validation DataLoader 0:  20%|█████████▏                                     | 11/56 [00:00<00:03, 13.25it/s]\u001b[A\n",
      "Validation DataLoader 0:  21%|██████████                                     | 12/56 [00:00<00:03, 13.26it/s]\u001b[A\n",
      "Validation DataLoader 0:  23%|██████████▉                                    | 13/56 [00:00<00:03, 13.27it/s]\u001b[A\n",
      "Validation DataLoader 0:  25%|███████████▊                                   | 14/56 [00:01<00:03, 13.27it/s]\u001b[A\n",
      "Validation DataLoader 0:  27%|████████████▌                                  | 15/56 [00:01<00:03, 13.27it/s]\u001b[A\n",
      "Validation DataLoader 0:  29%|█████████████▍                                 | 16/56 [00:01<00:03, 13.27it/s]\u001b[A\n",
      "Validation DataLoader 0:  30%|██████████████▎                                | 17/56 [00:01<00:02, 13.26it/s]\u001b[A\n",
      "Validation DataLoader 0:  32%|███████████████                                | 18/56 [00:01<00:02, 13.25it/s]\u001b[A\n",
      "Validation DataLoader 0:  34%|███████████████▉                               | 19/56 [00:01<00:02, 13.25it/s]\u001b[A\n",
      "Validation DataLoader 0:  36%|████████████████▊                              | 20/56 [00:01<00:02, 13.25it/s]\u001b[A\n",
      "Validation DataLoader 0:  38%|█████████████████▋                             | 21/56 [00:01<00:02, 13.25it/s]\u001b[A\n",
      "Validation DataLoader 0:  39%|██████████████████▍                            | 22/56 [00:01<00:02, 13.25it/s]\u001b[A\n",
      "Validation DataLoader 0:  41%|███████████████████▎                           | 23/56 [00:01<00:02, 13.25it/s]\u001b[A\n",
      "Validation DataLoader 0:  43%|████████████████████▏                          | 24/56 [00:01<00:02, 13.24it/s]\u001b[A\n",
      "Validation DataLoader 0:  45%|████████████████████▉                          | 25/56 [00:01<00:02, 13.24it/s]\u001b[A\n",
      "Validation DataLoader 0:  46%|█████████████████████▊                         | 26/56 [00:01<00:02, 13.24it/s]\u001b[A\n",
      "Validation DataLoader 0:  48%|██████████████████████▋                        | 27/56 [00:02<00:02, 13.23it/s]\u001b[A\n",
      "Validation DataLoader 0:  50%|███████████████████████▌                       | 28/56 [00:02<00:02, 13.23it/s]\u001b[A\n",
      "Validation DataLoader 0:  52%|████████████████████████▎                      | 29/56 [00:02<00:02, 13.23it/s]\u001b[A\n",
      "Validation DataLoader 0:  54%|█████████████████████████▏                     | 30/56 [00:02<00:01, 13.23it/s]\u001b[A\n",
      "Validation DataLoader 0:  55%|██████████████████████████                     | 31/56 [00:02<00:01, 13.22it/s]\u001b[A\n",
      "Validation DataLoader 0:  57%|██████████████████████████▊                    | 32/56 [00:02<00:01, 13.22it/s]\u001b[A\n",
      "Validation DataLoader 0:  59%|███████████████████████████▋                   | 33/56 [00:02<00:01, 13.22it/s]\u001b[A\n",
      "Validation DataLoader 0:  61%|████████████████████████████▌                  | 34/56 [00:02<00:01, 13.22it/s]\u001b[A\n",
      "Validation DataLoader 0:  62%|█████████████████████████████▍                 | 35/56 [00:02<00:01, 13.22it/s]\u001b[A\n",
      "Validation DataLoader 0:  64%|██████████████████████████████▏                | 36/56 [00:02<00:01, 13.21it/s]\u001b[A\n",
      "Validation DataLoader 0:  66%|███████████████████████████████                | 37/56 [00:02<00:01, 13.21it/s]\u001b[A\n",
      "Validation DataLoader 0:  68%|███████████████████████████████▉               | 38/56 [00:02<00:01, 13.21it/s]\u001b[A\n",
      "Validation DataLoader 0:  70%|████████████████████████████████▋              | 39/56 [00:02<00:01, 13.21it/s]\u001b[A\n",
      "Validation DataLoader 0:  71%|█████████████████████████████████▌             | 40/56 [00:03<00:01, 13.21it/s]\u001b[A\n",
      "Validation DataLoader 0:  73%|██████████████████████████████████▍            | 41/56 [00:03<00:01, 13.21it/s]\u001b[A\n",
      "Validation DataLoader 0:  75%|███████████████████████████████████▎           | 42/56 [00:03<00:01, 13.21it/s]\u001b[A\n",
      "Validation DataLoader 0:  77%|████████████████████████████████████           | 43/56 [00:03<00:00, 13.21it/s]\u001b[A\n",
      "Validation DataLoader 0:  79%|████████████████████████████████████▉          | 44/56 [00:03<00:00, 13.21it/s]\u001b[A\n",
      "Validation DataLoader 0:  80%|█████████████████████████████████████▊         | 45/56 [00:03<00:00, 13.21it/s]\u001b[A\n",
      "Validation DataLoader 0:  82%|██████████████████████████████████████▌        | 46/56 [00:03<00:00, 13.21it/s]\u001b[A\n",
      "Validation DataLoader 0:  84%|███████████████████████████████████████▍       | 47/56 [00:03<00:00, 13.21it/s]\u001b[A\n",
      "Validation DataLoader 0:  86%|████████████████████████████████████████▎      | 48/56 [00:03<00:00, 13.20it/s]\u001b[A\n",
      "Validation DataLoader 0:  88%|█████████████████████████████████████████▏     | 49/56 [00:03<00:00, 13.20it/s]\u001b[A\n",
      "Validation DataLoader 0:  89%|█████████████████████████████████████████▉     | 50/56 [00:03<00:00, 13.20it/s]\u001b[A\n",
      "Validation DataLoader 0:  91%|██████████████████████████████████████████▊    | 51/56 [00:03<00:00, 13.20it/s]\u001b[A\n",
      "Validation DataLoader 0:  93%|███████████████████████████████████████████▋   | 52/56 [00:03<00:00, 13.20it/s]\u001b[A\n",
      "Validation DataLoader 0:  95%|████████████████████████████████████████████▍  | 53/56 [00:04<00:00, 13.20it/s]\u001b[A\n",
      "Validation DataLoader 0:  96%|█████████████████████████████████████████████▎ | 54/56 [00:04<00:00, 13.20it/s]\u001b[A\n",
      "Validation DataLoader 0:  98%|██████████████████████████████████████████████▏| 55/56 [00:04<00:00, 13.21it/s]\u001b[A\n",
      "Validation DataLoader 0: 100%|███████████████████████████████████████████████| 56/56 [00:04<00:00, 13.28it/s]\u001b[A\n",
      "Epoch 4: 100%|█████| 985/985 [07:07<00:00,  2.30it/s, v_num=0, train_loss_step=0.160, train_loss_epoch=0.146]\u001b[A\n",
      "Validation: |                                                                          | 0/? [00:00<?, ?it/s]\u001b[A\n",
      "Validation:   0%|                                                                     | 0/56 [00:00<?, ?it/s]\u001b[A\n",
      "Validation DataLoader 0:   0%|                                                        | 0/56 [00:00<?, ?it/s]\u001b[A\n",
      "Validation DataLoader 0:   2%|▊                                               | 1/56 [00:00<00:04, 13.36it/s]\u001b[A\n",
      "Validation DataLoader 0:   4%|█▋                                              | 2/56 [00:00<00:04, 13.24it/s]\u001b[A\n",
      "Validation DataLoader 0:   5%|██▌                                             | 3/56 [00:00<00:04, 13.19it/s]\u001b[A\n",
      "Validation DataLoader 0:   7%|███▍                                            | 4/56 [00:00<00:03, 13.11it/s]\u001b[A\n",
      "Validation DataLoader 0:   9%|████▎                                           | 5/56 [00:00<00:03, 13.06it/s]\u001b[A\n",
      "Validation DataLoader 0:  11%|█████▏                                          | 6/56 [00:00<00:03, 13.07it/s]\u001b[A\n",
      "Validation DataLoader 0:  12%|██████                                          | 7/56 [00:00<00:03, 13.08it/s]\u001b[A\n",
      "Validation DataLoader 0:  14%|██████▊                                         | 8/56 [00:00<00:03, 13.09it/s]\u001b[A\n",
      "Validation DataLoader 0:  16%|███████▋                                        | 9/56 [00:00<00:03, 13.08it/s]\u001b[A\n",
      "Validation DataLoader 0:  18%|████████▍                                      | 10/56 [00:00<00:03, 13.10it/s]\u001b[A\n",
      "Validation DataLoader 0:  20%|█████████▏                                     | 11/56 [00:00<00:03, 13.11it/s]\u001b[A\n",
      "Validation DataLoader 0:  21%|██████████                                     | 12/56 [00:00<00:03, 13.09it/s]\u001b[A\n",
      "Validation DataLoader 0:  23%|██████████▉                                    | 13/56 [00:00<00:03, 13.10it/s]\u001b[A\n",
      "Validation DataLoader 0:  25%|███████████▊                                   | 14/56 [00:01<00:03, 13.11it/s]\u001b[A\n",
      "Validation DataLoader 0:  27%|████████████▌                                  | 15/56 [00:01<00:03, 13.11it/s]\u001b[A\n",
      "Validation DataLoader 0:  29%|█████████████▍                                 | 16/56 [00:01<00:03, 13.12it/s]\u001b[A\n",
      "Validation DataLoader 0:  30%|██████████████▎                                | 17/56 [00:01<00:02, 13.12it/s]\u001b[A\n",
      "Validation DataLoader 0:  32%|███████████████                                | 18/56 [00:01<00:02, 13.13it/s]\u001b[A\n",
      "Validation DataLoader 0:  34%|███████████████▉                               | 19/56 [00:01<00:02, 13.12it/s]\u001b[A\n",
      "Validation DataLoader 0:  36%|████████████████▊                              | 20/56 [00:01<00:02, 13.13it/s]\u001b[A\n",
      "Validation DataLoader 0:  38%|█████████████████▋                             | 21/56 [00:01<00:02, 13.13it/s]\u001b[A\n",
      "Validation DataLoader 0:  39%|██████████████████▍                            | 22/56 [00:01<00:02, 13.14it/s]\u001b[A\n",
      "Validation DataLoader 0:  41%|███████████████████▎                           | 23/56 [00:01<00:02, 13.14it/s]\u001b[A\n",
      "Validation DataLoader 0:  43%|████████████████████▏                          | 24/56 [00:01<00:02, 13.12it/s]\u001b[A\n",
      "Validation DataLoader 0:  45%|████████████████████▉                          | 25/56 [00:01<00:02, 13.12it/s]\u001b[A\n",
      "Validation DataLoader 0:  46%|█████████████████████▊                         | 26/56 [00:01<00:02, 13.12it/s]\u001b[A\n",
      "Validation DataLoader 0:  48%|██████████████████████▋                        | 27/56 [00:02<00:02, 13.12it/s]\u001b[A\n",
      "Validation DataLoader 0:  50%|███████████████████████▌                       | 28/56 [00:02<00:02, 13.13it/s]\u001b[A\n",
      "Validation DataLoader 0:  52%|████████████████████████▎                      | 29/56 [00:02<00:02, 13.13it/s]\u001b[A\n",
      "Validation DataLoader 0:  54%|█████████████████████████▏                     | 30/56 [00:02<00:01, 13.13it/s]\u001b[A\n",
      "Validation DataLoader 0:  55%|██████████████████████████                     | 31/56 [00:02<00:01, 13.13it/s]\u001b[A\n",
      "Validation DataLoader 0:  57%|██████████████████████████▊                    | 32/56 [00:02<00:01, 13.14it/s]\u001b[A\n",
      "Validation DataLoader 0:  59%|███████████████████████████▋                   | 33/56 [00:02<00:01, 13.14it/s]\u001b[A\n",
      "Validation DataLoader 0:  61%|████████████████████████████▌                  | 34/56 [00:02<00:01, 13.14it/s]\u001b[A\n",
      "Validation DataLoader 0:  62%|█████████████████████████████▍                 | 35/56 [00:02<00:01, 13.15it/s]\u001b[A\n",
      "Validation DataLoader 0:  64%|██████████████████████████████▏                | 36/56 [00:02<00:01, 13.15it/s]\u001b[A\n",
      "Validation DataLoader 0:  66%|███████████████████████████████                | 37/56 [00:02<00:01, 13.15it/s]\u001b[A\n",
      "Validation DataLoader 0:  68%|███████████████████████████████▉               | 38/56 [00:02<00:01, 13.15it/s]\u001b[A\n",
      "Validation DataLoader 0:  70%|████████████████████████████████▋              | 39/56 [00:02<00:01, 13.15it/s]\u001b[A\n",
      "Validation DataLoader 0:  71%|█████████████████████████████████▌             | 40/56 [00:03<00:01, 13.15it/s]\u001b[A\n",
      "Validation DataLoader 0:  73%|██████████████████████████████████▍            | 41/56 [00:03<00:01, 13.15it/s]\u001b[A\n",
      "Validation DataLoader 0:  75%|███████████████████████████████████▎           | 42/56 [00:03<00:01, 13.15it/s]\u001b[A\n",
      "Validation DataLoader 0:  77%|████████████████████████████████████           | 43/56 [00:03<00:00, 13.16it/s]\u001b[A\n",
      "Validation DataLoader 0:  79%|████████████████████████████████████▉          | 44/56 [00:03<00:00, 13.16it/s]\u001b[A\n",
      "Validation DataLoader 0:  80%|█████████████████████████████████████▊         | 45/56 [00:03<00:00, 13.16it/s]\u001b[A\n",
      "Validation DataLoader 0:  82%|██████████████████████████████████████▌        | 46/56 [00:03<00:00, 13.16it/s]\u001b[A\n",
      "Validation DataLoader 0:  84%|███████████████████████████████████████▍       | 47/56 [00:03<00:00, 13.17it/s]\u001b[A\n",
      "Validation DataLoader 0:  86%|████████████████████████████████████████▎      | 48/56 [00:03<00:00, 13.16it/s]\u001b[A\n",
      "Validation DataLoader 0:  88%|█████████████████████████████████████████▏     | 49/56 [00:03<00:00, 13.17it/s]\u001b[A\n",
      "Validation DataLoader 0:  89%|█████████████████████████████████████████▉     | 50/56 [00:03<00:00, 13.17it/s]\u001b[A\n",
      "Validation DataLoader 0:  91%|██████████████████████████████████████████▊    | 51/56 [00:03<00:00, 13.17it/s]\u001b[A\n",
      "Validation DataLoader 0:  93%|███████████████████████████████████████████▋   | 52/56 [00:03<00:00, 13.17it/s]\u001b[A\n",
      "Validation DataLoader 0:  95%|████████████████████████████████████████████▍  | 53/56 [00:04<00:00, 13.17it/s]\u001b[A\n",
      "Validation DataLoader 0:  96%|█████████████████████████████████████████████▎ | 54/56 [00:04<00:00, 13.17it/s]\u001b[A\n",
      "Validation DataLoader 0:  98%|██████████████████████████████████████████████▏| 55/56 [00:04<00:00, 13.18it/s]\u001b[A\n",
      "Validation DataLoader 0: 100%|███████████████████████████████████████████████| 56/56 [00:04<00:00, 13.25it/s]\u001b[A\n",
      "Epoch 5: 100%|█████| 985/985 [03:29<00:00,  4.69it/s, v_num=0, train_loss_step=0.150, train_loss_epoch=0.145]\u001b[A\n",
      "Validation: |                                                                          | 0/? [00:00<?, ?it/s]\u001b[A\n",
      "Validation:   0%|                                                                     | 0/56 [00:00<?, ?it/s]\u001b[A\n",
      "Validation DataLoader 0:   0%|                                                        | 0/56 [00:00<?, ?it/s]\u001b[A\n",
      "Validation DataLoader 0:   2%|▊                                               | 1/56 [00:00<00:04, 13.37it/s]\u001b[A\n",
      "Validation DataLoader 0:   4%|█▋                                              | 2/56 [00:00<00:04, 12.92it/s]\u001b[A\n",
      "Validation DataLoader 0:   5%|██▌                                             | 3/56 [00:00<00:04, 12.99it/s]\u001b[A\n",
      "Validation DataLoader 0:   7%|███▍                                            | 4/56 [00:00<00:03, 13.05it/s]\u001b[A\n",
      "Validation DataLoader 0:   9%|████▎                                           | 5/56 [00:00<00:03, 13.04it/s]\u001b[A\n",
      "Validation DataLoader 0:  11%|█████▏                                          | 6/56 [00:00<00:03, 13.07it/s]\u001b[A\n",
      "Validation DataLoader 0:  12%|██████                                          | 7/56 [00:00<00:03, 13.09it/s]\u001b[A\n",
      "Validation DataLoader 0:  14%|██████▊                                         | 8/56 [00:00<00:03, 13.12it/s]\u001b[A\n",
      "Validation DataLoader 0:  16%|███████▋                                        | 9/56 [00:00<00:03, 13.12it/s]\u001b[A\n",
      "Validation DataLoader 0:  18%|████████▍                                      | 10/56 [00:00<00:03, 13.09it/s]\u001b[A\n",
      "Validation DataLoader 0:  20%|█████████▏                                     | 11/56 [00:00<00:03, 13.11it/s]\u001b[A\n",
      "Validation DataLoader 0:  21%|██████████                                     | 12/56 [00:00<00:03, 13.12it/s]\u001b[A\n",
      "Validation DataLoader 0:  23%|██████████▉                                    | 13/56 [00:00<00:03, 13.09it/s]\u001b[A\n",
      "Validation DataLoader 0:  25%|███████████▊                                   | 14/56 [00:01<00:03, 13.11it/s]\u001b[A\n",
      "Validation DataLoader 0:  27%|████████████▌                                  | 15/56 [00:01<00:03, 13.12it/s]\u001b[A\n",
      "Validation DataLoader 0:  29%|█████████████▍                                 | 16/56 [00:01<00:03, 13.13it/s]\u001b[A\n",
      "Validation DataLoader 0:  30%|██████████████▎                                | 17/56 [00:01<00:02, 13.12it/s]\u001b[A\n",
      "Validation DataLoader 0:  32%|███████████████                                | 18/56 [00:01<00:02, 13.12it/s]\u001b[A\n",
      "Validation DataLoader 0:  34%|███████████████▉                               | 19/56 [00:01<00:02, 13.11it/s]\u001b[A\n",
      "Validation DataLoader 0:  36%|████████████████▊                              | 20/56 [00:01<00:02, 13.11it/s]\u001b[A\n",
      "Validation DataLoader 0:  38%|█████████████████▋                             | 21/56 [00:01<00:02, 13.11it/s]\u001b[A\n",
      "Validation DataLoader 0:  39%|██████████████████▍                            | 22/56 [00:01<00:02, 13.11it/s]\u001b[A\n",
      "Validation DataLoader 0:  41%|███████████████████▎                           | 23/56 [00:01<00:02, 13.10it/s]\u001b[A\n",
      "Validation DataLoader 0:  43%|████████████████████▏                          | 24/56 [00:01<00:02, 13.10it/s]\u001b[A\n",
      "Validation DataLoader 0:  45%|████████████████████▉                          | 25/56 [00:01<00:02, 13.10it/s]\u001b[A\n",
      "Validation DataLoader 0:  46%|█████████████████████▊                         | 26/56 [00:01<00:02, 13.10it/s]\u001b[A\n",
      "Validation DataLoader 0:  48%|██████████████████████▋                        | 27/56 [00:02<00:02, 13.10it/s]\u001b[A\n",
      "Validation DataLoader 0:  50%|███████████████████████▌                       | 28/56 [00:02<00:02, 13.10it/s]\u001b[A\n",
      "Validation DataLoader 0:  52%|████████████████████████▎                      | 29/56 [00:02<00:02, 13.10it/s]\u001b[A\n",
      "Validation DataLoader 0:  54%|█████████████████████████▏                     | 30/56 [00:02<00:01, 13.10it/s]\u001b[A\n",
      "Validation DataLoader 0:  55%|██████████████████████████                     | 31/56 [00:02<00:01, 13.10it/s]\u001b[A\n",
      "Validation DataLoader 0:  57%|██████████████████████████▊                    | 32/56 [00:02<00:01, 13.11it/s]\u001b[A\n",
      "Validation DataLoader 0:  59%|███████████████████████████▋                   | 33/56 [00:02<00:01, 13.11it/s]\u001b[A\n",
      "Validation DataLoader 0:  61%|████████████████████████████▌                  | 34/56 [00:02<00:01, 13.11it/s]\u001b[A\n",
      "Validation DataLoader 0:  62%|█████████████████████████████▍                 | 35/56 [00:02<00:01, 13.10it/s]\u001b[A\n",
      "Validation DataLoader 0:  64%|██████████████████████████████▏                | 36/56 [00:02<00:01, 13.10it/s]\u001b[A\n",
      "Validation DataLoader 0:  66%|███████████████████████████████                | 37/56 [00:02<00:01, 13.10it/s]\u001b[A\n",
      "Validation DataLoader 0:  68%|███████████████████████████████▉               | 38/56 [00:02<00:01, 13.10it/s]\u001b[A\n",
      "Validation DataLoader 0:  70%|████████████████████████████████▋              | 39/56 [00:02<00:01, 13.10it/s]\u001b[A\n",
      "Validation DataLoader 0:  71%|█████████████████████████████████▌             | 40/56 [00:03<00:01, 13.10it/s]\u001b[A\n",
      "Validation DataLoader 0:  73%|██████████████████████████████████▍            | 41/56 [00:03<00:01, 13.10it/s]\u001b[A\n",
      "Validation DataLoader 0:  75%|███████████████████████████████████▎           | 42/56 [00:03<00:01, 13.10it/s]\u001b[A\n",
      "Validation DataLoader 0:  77%|████████████████████████████████████           | 43/56 [00:03<00:00, 13.10it/s]\u001b[A\n",
      "Validation DataLoader 0:  79%|████████████████████████████████████▉          | 44/56 [00:03<00:00, 13.11it/s]\u001b[A\n",
      "Validation DataLoader 0:  80%|█████████████████████████████████████▊         | 45/56 [00:03<00:00, 13.11it/s]\u001b[A\n",
      "Validation DataLoader 0:  82%|██████████████████████████████████████▌        | 46/56 [00:03<00:00, 13.11it/s]\u001b[A\n",
      "Validation DataLoader 0:  84%|███████████████████████████████████████▍       | 47/56 [00:03<00:00, 13.12it/s]\u001b[A\n",
      "Validation DataLoader 0:  86%|████████████████████████████████████████▎      | 48/56 [00:03<00:00, 13.12it/s]\u001b[A\n",
      "Validation DataLoader 0:  88%|█████████████████████████████████████████▏     | 49/56 [00:03<00:00, 13.12it/s]\u001b[A\n",
      "Validation DataLoader 0:  89%|█████████████████████████████████████████▉     | 50/56 [00:03<00:00, 13.12it/s]\u001b[A\n",
      "Validation DataLoader 0:  91%|██████████████████████████████████████████▊    | 51/56 [00:03<00:00, 13.12it/s]\u001b[A\n",
      "Validation DataLoader 0:  93%|███████████████████████████████████████████▋   | 52/56 [00:03<00:00, 13.12it/s]\u001b[A\n",
      "Validation DataLoader 0:  95%|████████████████████████████████████████████▍  | 53/56 [00:04<00:00, 13.12it/s]\u001b[A\n",
      "Validation DataLoader 0:  96%|█████████████████████████████████████████████▎ | 54/56 [00:04<00:00, 13.12it/s]\u001b[A\n",
      "Validation DataLoader 0:  98%|██████████████████████████████████████████████▏| 55/56 [00:04<00:00, 13.12it/s]\u001b[A\n",
      "Validation DataLoader 0: 100%|███████████████████████████████████████████████| 56/56 [00:04<00:00, 13.20it/s]\u001b[A\n",
      "Epoch 6: 100%|█████| 985/985 [03:29<00:00,  4.70it/s, v_num=0, train_loss_step=0.167, train_loss_epoch=0.144]\u001b[A\n",
      "Validation: |                                                                          | 0/? [00:00<?, ?it/s]\u001b[A\n",
      "Validation:   0%|                                                                     | 0/56 [00:00<?, ?it/s]\u001b[A\n",
      "Validation DataLoader 0:   0%|                                                        | 0/56 [00:00<?, ?it/s]\u001b[A\n",
      "Validation DataLoader 0:   2%|▊                                               | 1/56 [00:00<00:04, 13.36it/s]\u001b[A\n",
      "Validation DataLoader 0:   4%|█▋                                              | 2/56 [00:00<00:04, 13.14it/s]\u001b[A\n",
      "Validation DataLoader 0:   5%|██▌                                             | 3/56 [00:00<00:04, 13.19it/s]\u001b[A\n",
      "Validation DataLoader 0:   7%|███▍                                            | 4/56 [00:00<00:03, 13.23it/s]\u001b[A\n",
      "Validation DataLoader 0:   9%|████▎                                           | 5/56 [00:00<00:03, 13.23it/s]\u001b[A\n",
      "Validation DataLoader 0:  11%|█████▏                                          | 6/56 [00:00<00:03, 13.19it/s]\u001b[A\n",
      "Validation DataLoader 0:  12%|██████                                          | 7/56 [00:00<00:03, 13.21it/s]\u001b[A\n",
      "Validation DataLoader 0:  14%|██████▊                                         | 8/56 [00:00<00:03, 13.21it/s]\u001b[A\n",
      "Validation DataLoader 0:  16%|███████▋                                        | 9/56 [00:00<00:03, 13.19it/s]\u001b[A\n",
      "Validation DataLoader 0:  18%|████████▍                                      | 10/56 [00:00<00:03, 13.21it/s]\u001b[A\n",
      "Validation DataLoader 0:  20%|█████████▏                                     | 11/56 [00:00<00:03, 13.18it/s]\u001b[A\n",
      "Validation DataLoader 0:  21%|██████████                                     | 12/56 [00:00<00:03, 13.08it/s]\u001b[A\n",
      "Validation DataLoader 0:  23%|██████████▉                                    | 13/56 [00:00<00:03, 13.09it/s]\u001b[A\n",
      "Validation DataLoader 0:  25%|███████████▊                                   | 14/56 [00:01<00:03, 13.07it/s]\u001b[A\n",
      "Validation DataLoader 0:  27%|████████████▌                                  | 15/56 [00:01<00:03, 13.06it/s]\u001b[A\n",
      "Validation DataLoader 0:  29%|█████████████▍                                 | 16/56 [00:01<00:03, 12.95it/s]\u001b[A\n",
      "Validation DataLoader 0:  30%|██████████████▎                                | 17/56 [00:01<00:03, 12.88it/s]\u001b[A\n",
      "Validation DataLoader 0:  32%|███████████████                                | 18/56 [00:01<00:02, 12.89it/s]\u001b[A\n",
      "Validation DataLoader 0:  34%|███████████████▉                               | 19/56 [00:01<00:02, 12.90it/s]\u001b[A\n",
      "Validation DataLoader 0:  36%|████████████████▊                              | 20/56 [00:01<00:02, 12.90it/s]\u001b[A\n",
      "Validation DataLoader 0:  38%|█████████████████▋                             | 21/56 [00:01<00:02, 12.90it/s]\u001b[A\n",
      "Validation DataLoader 0:  39%|██████████████████▍                            | 22/56 [00:01<00:02, 12.85it/s]\u001b[A\n",
      "Validation DataLoader 0:  41%|███████████████████▎                           | 23/56 [00:01<00:02, 12.87it/s]\u001b[A\n",
      "Validation DataLoader 0:  43%|████████████████████▏                          | 24/56 [00:01<00:02, 12.88it/s]\u001b[A\n",
      "Validation DataLoader 0:  45%|████████████████████▉                          | 25/56 [00:01<00:02, 12.88it/s]\u001b[A\n",
      "Validation DataLoader 0:  46%|█████████████████████▊                         | 26/56 [00:02<00:02, 12.89it/s]\u001b[A\n",
      "Validation DataLoader 0:  48%|██████████████████████▋                        | 27/56 [00:02<00:02, 12.90it/s]\u001b[A\n",
      "Validation DataLoader 0:  50%|███████████████████████▌                       | 28/56 [00:02<00:02, 12.90it/s]\u001b[A\n",
      "Validation DataLoader 0:  52%|████████████████████████▎                      | 29/56 [00:02<00:02, 12.90it/s]\u001b[A\n",
      "Validation DataLoader 0:  54%|█████████████████████████▏                     | 30/56 [00:02<00:02, 12.91it/s]\u001b[A\n",
      "Validation DataLoader 0:  55%|██████████████████████████                     | 31/56 [00:02<00:01, 12.92it/s]\u001b[A\n",
      "Validation DataLoader 0:  57%|██████████████████████████▊                    | 32/56 [00:02<00:01, 12.92it/s]\u001b[A\n",
      "Validation DataLoader 0:  59%|███████████████████████████▋                   | 33/56 [00:02<00:01, 12.93it/s]\u001b[A\n",
      "Validation DataLoader 0:  61%|████████████████████████████▌                  | 34/56 [00:02<00:01, 12.94it/s]\u001b[A\n",
      "Validation DataLoader 0:  62%|█████████████████████████████▍                 | 35/56 [00:02<00:01, 12.94it/s]\u001b[A\n",
      "Validation DataLoader 0:  64%|██████████████████████████████▏                | 36/56 [00:02<00:01, 12.94it/s]\u001b[A\n",
      "Validation DataLoader 0:  66%|███████████████████████████████                | 37/56 [00:02<00:01, 12.94it/s]\u001b[A\n",
      "Validation DataLoader 0:  68%|███████████████████████████████▉               | 38/56 [00:02<00:01, 12.95it/s]\u001b[A\n",
      "Validation DataLoader 0:  70%|████████████████████████████████▋              | 39/56 [00:03<00:01, 12.96it/s]\u001b[A\n",
      "Validation DataLoader 0:  71%|█████████████████████████████████▌             | 40/56 [00:03<00:01, 12.96it/s]\u001b[A\n",
      "Validation DataLoader 0:  73%|██████████████████████████████████▍            | 41/56 [00:03<00:01, 12.97it/s]\u001b[A\n",
      "Validation DataLoader 0:  75%|███████████████████████████████████▎           | 42/56 [00:03<00:01, 12.97it/s]\u001b[A\n",
      "Validation DataLoader 0:  77%|████████████████████████████████████           | 43/56 [00:03<00:01, 12.97it/s]\u001b[A\n",
      "Validation DataLoader 0:  79%|████████████████████████████████████▉          | 44/56 [00:03<00:00, 12.98it/s]\u001b[A\n",
      "Validation DataLoader 0:  80%|█████████████████████████████████████▊         | 45/56 [00:03<00:00, 12.99it/s]\u001b[A\n",
      "Validation DataLoader 0:  82%|██████████████████████████████████████▌        | 46/56 [00:03<00:00, 12.99it/s]\u001b[A\n",
      "Validation DataLoader 0:  84%|███████████████████████████████████████▍       | 47/56 [00:03<00:00, 12.99it/s]\u001b[A\n",
      "Validation DataLoader 0:  86%|████████████████████████████████████████▎      | 48/56 [00:03<00:00, 13.00it/s]\u001b[A\n",
      "Validation DataLoader 0:  88%|█████████████████████████████████████████▏     | 49/56 [00:03<00:00, 13.00it/s]\u001b[A\n",
      "Validation DataLoader 0:  89%|█████████████████████████████████████████▉     | 50/56 [00:03<00:00, 13.01it/s]\u001b[A\n",
      "Validation DataLoader 0:  91%|██████████████████████████████████████████▊    | 51/56 [00:03<00:00, 13.01it/s]\u001b[A\n",
      "Validation DataLoader 0:  93%|███████████████████████████████████████████▋   | 52/56 [00:03<00:00, 13.01it/s]\u001b[A\n",
      "Validation DataLoader 0:  95%|████████████████████████████████████████████▍  | 53/56 [00:04<00:00, 13.02it/s]\u001b[A\n",
      "Validation DataLoader 0:  96%|█████████████████████████████████████████████▎ | 54/56 [00:04<00:00, 13.02it/s]\u001b[A\n",
      "Validation DataLoader 0:  98%|██████████████████████████████████████████████▏| 55/56 [00:04<00:00, 13.03it/s]\u001b[A\n",
      "Validation DataLoader 0: 100%|███████████████████████████████████████████████| 56/56 [00:04<00:00, 13.10it/s]\u001b[A\n",
      "Epoch 7: 100%|█████| 985/985 [03:29<00:00,  4.69it/s, v_num=0, train_loss_step=0.151, train_loss_epoch=0.143]\u001b[A\n",
      "Validation: |                                                                          | 0/? [00:00<?, ?it/s]\u001b[A\n",
      "Validation:   0%|                                                                     | 0/56 [00:00<?, ?it/s]\u001b[A\n",
      "Validation DataLoader 0:   0%|                                                        | 0/56 [00:00<?, ?it/s]\u001b[A\n",
      "Validation DataLoader 0:   2%|▊                                               | 1/56 [00:00<00:04, 13.51it/s]\u001b[A\n",
      "Validation DataLoader 0:   4%|█▋                                              | 2/56 [00:00<00:04, 13.42it/s]\u001b[A\n",
      "Validation DataLoader 0:   5%|██▌                                             | 3/56 [00:00<00:03, 13.40it/s]\u001b[A\n",
      "Validation DataLoader 0:   7%|███▍                                            | 4/56 [00:00<00:03, 13.38it/s]\u001b[A\n",
      "Validation DataLoader 0:   9%|████▎                                           | 5/56 [00:00<00:03, 13.30it/s]\u001b[A\n",
      "Validation DataLoader 0:  11%|█████▏                                          | 6/56 [00:00<00:03, 13.24it/s]\u001b[A\n",
      "Validation DataLoader 0:  12%|██████                                          | 7/56 [00:00<00:03, 13.26it/s]\u001b[A\n",
      "Validation DataLoader 0:  14%|██████▊                                         | 8/56 [00:00<00:03, 13.22it/s]\u001b[A\n",
      "Validation DataLoader 0:  16%|███████▋                                        | 9/56 [00:00<00:03, 13.18it/s]\u001b[A\n",
      "Validation DataLoader 0:  18%|████████▍                                      | 10/56 [00:00<00:03, 13.19it/s]\u001b[A\n",
      "Validation DataLoader 0:  20%|█████████▏                                     | 11/56 [00:00<00:03, 13.17it/s]\u001b[A\n",
      "Validation DataLoader 0:  21%|██████████                                     | 12/56 [00:00<00:03, 13.17it/s]\u001b[A\n",
      "Validation DataLoader 0:  23%|██████████▉                                    | 13/56 [00:00<00:03, 13.18it/s]\u001b[A\n",
      "Validation DataLoader 0:  25%|███████████▊                                   | 14/56 [00:01<00:03, 13.19it/s]\u001b[A\n",
      "Validation DataLoader 0:  27%|████████████▌                                  | 15/56 [00:01<00:03, 13.20it/s]\u001b[A\n",
      "Validation DataLoader 0:  29%|█████████████▍                                 | 16/56 [00:01<00:03, 13.17it/s]\u001b[A\n",
      "Validation DataLoader 0:  30%|██████████████▎                                | 17/56 [00:01<00:02, 13.17it/s]\u001b[A\n",
      "Validation DataLoader 0:  32%|███████████████                                | 18/56 [00:01<00:02, 13.16it/s]\u001b[A\n",
      "Validation DataLoader 0:  34%|███████████████▉                               | 19/56 [00:01<00:02, 13.16it/s]\u001b[A\n",
      "Validation DataLoader 0:  36%|████████████████▊                              | 20/56 [00:01<00:02, 13.17it/s]\u001b[A\n",
      "Validation DataLoader 0:  38%|█████████████████▋                             | 21/56 [00:01<00:02, 13.17it/s]\u001b[A\n",
      "Validation DataLoader 0:  39%|██████████████████▍                            | 22/56 [00:01<00:02, 13.17it/s]\u001b[A\n",
      "Validation DataLoader 0:  41%|███████████████████▎                           | 23/56 [00:01<00:02, 13.17it/s]\u001b[A\n",
      "Validation DataLoader 0:  43%|████████████████████▏                          | 24/56 [00:01<00:02, 13.17it/s]\u001b[A\n",
      "Validation DataLoader 0:  45%|████████████████████▉                          | 25/56 [00:01<00:02, 13.16it/s]\u001b[A\n",
      "Validation DataLoader 0:  46%|█████████████████████▊                         | 26/56 [00:01<00:02, 13.16it/s]\u001b[A\n",
      "Validation DataLoader 0:  48%|██████████████████████▋                        | 27/56 [00:02<00:02, 13.16it/s]\u001b[A\n",
      "Validation DataLoader 0:  50%|███████████████████████▌                       | 28/56 [00:02<00:02, 13.16it/s]\u001b[A\n",
      "Validation DataLoader 0:  52%|████████████████████████▎                      | 29/56 [00:02<00:02, 13.16it/s]\u001b[A\n",
      "Validation DataLoader 0:  54%|█████████████████████████▏                     | 30/56 [00:02<00:01, 13.16it/s]\u001b[A\n",
      "Validation DataLoader 0:  55%|██████████████████████████                     | 31/56 [00:02<00:01, 13.16it/s]\u001b[A\n",
      "Validation DataLoader 0:  57%|██████████████████████████▊                    | 32/56 [00:02<00:01, 13.16it/s]\u001b[A\n",
      "Validation DataLoader 0:  59%|███████████████████████████▋                   | 33/56 [00:02<00:01, 13.16it/s]\u001b[A\n",
      "Validation DataLoader 0:  61%|████████████████████████████▌                  | 34/56 [00:02<00:01, 13.16it/s]\u001b[A\n",
      "Validation DataLoader 0:  62%|█████████████████████████████▍                 | 35/56 [00:02<00:01, 13.16it/s]\u001b[A\n",
      "Validation DataLoader 0:  64%|██████████████████████████████▏                | 36/56 [00:02<00:01, 13.16it/s]\u001b[A\n",
      "Validation DataLoader 0:  66%|███████████████████████████████                | 37/56 [00:02<00:01, 13.16it/s]\u001b[A\n",
      "Validation DataLoader 0:  68%|███████████████████████████████▉               | 38/56 [00:02<00:01, 13.15it/s]\u001b[A\n",
      "Validation DataLoader 0:  70%|████████████████████████████████▋              | 39/56 [00:02<00:01, 13.16it/s]\u001b[A\n",
      "Validation DataLoader 0:  71%|█████████████████████████████████▌             | 40/56 [00:03<00:01, 13.16it/s]\u001b[A\n",
      "Validation DataLoader 0:  73%|██████████████████████████████████▍            | 41/56 [00:03<00:01, 13.16it/s]\u001b[A\n",
      "Validation DataLoader 0:  75%|███████████████████████████████████▎           | 42/56 [00:03<00:01, 13.16it/s]\u001b[A\n",
      "Validation DataLoader 0:  77%|████████████████████████████████████           | 43/56 [00:03<00:00, 13.16it/s]\u001b[A\n",
      "Validation DataLoader 0:  79%|████████████████████████████████████▉          | 44/56 [00:03<00:00, 13.16it/s]\u001b[A\n",
      "Validation DataLoader 0:  80%|█████████████████████████████████████▊         | 45/56 [00:03<00:00, 13.16it/s]\u001b[A\n",
      "Validation DataLoader 0:  82%|██████████████████████████████████████▌        | 46/56 [00:03<00:00, 13.16it/s]\u001b[A\n",
      "Validation DataLoader 0:  84%|███████████████████████████████████████▍       | 47/56 [00:03<00:00, 13.16it/s]\u001b[A\n",
      "Validation DataLoader 0:  86%|████████████████████████████████████████▎      | 48/56 [00:03<00:00, 13.16it/s]\u001b[A\n",
      "Validation DataLoader 0:  88%|█████████████████████████████████████████▏     | 49/56 [00:03<00:00, 13.16it/s]\u001b[A\n",
      "Validation DataLoader 0:  89%|█████████████████████████████████████████▉     | 50/56 [00:03<00:00, 13.16it/s]\u001b[A\n",
      "Validation DataLoader 0:  91%|██████████████████████████████████████████▊    | 51/56 [00:03<00:00, 13.17it/s]\u001b[A\n",
      "Validation DataLoader 0:  93%|███████████████████████████████████████████▋   | 52/56 [00:03<00:00, 13.17it/s]\u001b[A\n",
      "Validation DataLoader 0:  95%|████████████████████████████████████████████▍  | 53/56 [00:04<00:00, 13.17it/s]\u001b[A\n",
      "Validation DataLoader 0:  96%|█████████████████████████████████████████████▎ | 54/56 [00:04<00:00, 13.16it/s]\u001b[A\n",
      "Validation DataLoader 0:  98%|██████████████████████████████████████████████▏| 55/56 [00:04<00:00, 13.16it/s]\u001b[A\n",
      "Validation DataLoader 0: 100%|███████████████████████████████████████████████| 56/56 [00:04<00:00, 13.24it/s]\u001b[A\n",
      "Epoch 8: 100%|█████| 985/985 [03:30<00:00,  4.68it/s, v_num=0, train_loss_step=0.134, train_loss_epoch=0.142]\u001b[A\n",
      "Validation: |                                                                          | 0/? [00:00<?, ?it/s]\u001b[A\n",
      "Validation:   0%|                                                                     | 0/56 [00:00<?, ?it/s]\u001b[A\n",
      "Validation DataLoader 0:   0%|                                                        | 0/56 [00:00<?, ?it/s]\u001b[A\n",
      "Validation DataLoader 0:   2%|▊                                               | 1/56 [00:00<00:04, 13.19it/s]\u001b[A\n",
      "Validation DataLoader 0:   4%|█▋                                              | 2/56 [00:00<00:04, 13.08it/s]\u001b[A\n",
      "Validation DataLoader 0:   5%|██▌                                             | 3/56 [00:00<00:04, 13.10it/s]\u001b[A\n",
      "Validation DataLoader 0:   7%|███▍                                            | 4/56 [00:00<00:03, 13.13it/s]\u001b[A\n",
      "Validation DataLoader 0:   9%|████▎                                           | 5/56 [00:00<00:03, 13.10it/s]\u001b[A\n",
      "Validation DataLoader 0:  11%|█████▏                                          | 6/56 [00:00<00:03, 13.13it/s]\u001b[A\n",
      "Validation DataLoader 0:  12%|██████                                          | 7/56 [00:00<00:03, 13.07it/s]\u001b[A\n",
      "Validation DataLoader 0:  14%|██████▊                                         | 8/56 [00:00<00:03, 13.08it/s]\u001b[A\n",
      "Validation DataLoader 0:  16%|███████▋                                        | 9/56 [00:00<00:03, 13.07it/s]\u001b[A\n",
      "Validation DataLoader 0:  18%|████████▍                                      | 10/56 [00:00<00:03, 13.08it/s]\u001b[A\n",
      "Validation DataLoader 0:  20%|█████████▏                                     | 11/56 [00:00<00:03, 13.08it/s]\u001b[A\n",
      "Validation DataLoader 0:  21%|██████████                                     | 12/56 [00:00<00:03, 13.09it/s]\u001b[A\n",
      "Validation DataLoader 0:  23%|██████████▉                                    | 13/56 [00:00<00:03, 13.10it/s]\u001b[A\n",
      "Validation DataLoader 0:  25%|███████████▊                                   | 14/56 [00:01<00:03, 13.11it/s]\u001b[A\n",
      "Validation DataLoader 0:  27%|████████████▌                                  | 15/56 [00:01<00:03, 13.11it/s]\u001b[A\n",
      "Validation DataLoader 0:  29%|█████████████▍                                 | 16/56 [00:01<00:03, 13.12it/s]\u001b[A\n",
      "Validation DataLoader 0:  30%|██████████████▎                                | 17/56 [00:01<00:02, 13.12it/s]\u001b[A\n",
      "Validation DataLoader 0:  32%|███████████████                                | 18/56 [00:01<00:02, 13.12it/s]\u001b[A\n",
      "Validation DataLoader 0:  34%|███████████████▉                               | 19/56 [00:01<00:02, 13.13it/s]\u001b[A\n",
      "Validation DataLoader 0:  36%|████████████████▊                              | 20/56 [00:01<00:02, 13.12it/s]\u001b[A\n",
      "Validation DataLoader 0:  38%|█████████████████▋                             | 21/56 [00:01<00:02, 13.13it/s]\u001b[A\n",
      "Validation DataLoader 0:  39%|██████████████████▍                            | 22/56 [00:01<00:02, 13.13it/s]\u001b[A\n",
      "Validation DataLoader 0:  41%|███████████████████▎                           | 23/56 [00:01<00:02, 13.12it/s]\u001b[A\n",
      "Validation DataLoader 0:  43%|████████████████████▏                          | 24/56 [00:01<00:02, 13.12it/s]\u001b[A\n",
      "Validation DataLoader 0:  45%|████████████████████▉                          | 25/56 [00:01<00:02, 13.13it/s]\u001b[A\n",
      "Validation DataLoader 0:  46%|█████████████████████▊                         | 26/56 [00:01<00:02, 13.13it/s]\u001b[A\n",
      "Validation DataLoader 0:  48%|██████████████████████▋                        | 27/56 [00:02<00:02, 13.13it/s]\u001b[A\n",
      "Validation DataLoader 0:  50%|███████████████████████▌                       | 28/56 [00:02<00:02, 13.13it/s]\u001b[A\n",
      "Validation DataLoader 0:  52%|████████████████████████▎                      | 29/56 [00:02<00:02, 13.13it/s]\u001b[A\n",
      "Validation DataLoader 0:  54%|█████████████████████████▏                     | 30/56 [00:02<00:01, 13.13it/s]\u001b[A\n",
      "Validation DataLoader 0:  55%|██████████████████████████                     | 31/56 [00:02<00:01, 13.14it/s]\u001b[A\n",
      "Validation DataLoader 0:  57%|██████████████████████████▊                    | 32/56 [00:02<00:01, 13.14it/s]\u001b[A\n",
      "Validation DataLoader 0:  59%|███████████████████████████▋                   | 33/56 [00:02<00:01, 13.14it/s]\u001b[A\n",
      "Validation DataLoader 0:  61%|████████████████████████████▌                  | 34/56 [00:02<00:01, 13.14it/s]\u001b[A\n",
      "Validation DataLoader 0:  62%|█████████████████████████████▍                 | 35/56 [00:02<00:01, 13.15it/s]\u001b[A\n",
      "Validation DataLoader 0:  64%|██████████████████████████████▏                | 36/56 [00:02<00:01, 13.15it/s]\u001b[A\n",
      "Validation DataLoader 0:  66%|███████████████████████████████                | 37/56 [00:02<00:01, 13.15it/s]\u001b[A\n",
      "Validation DataLoader 0:  68%|███████████████████████████████▉               | 38/56 [00:02<00:01, 13.15it/s]\u001b[A\n",
      "Validation DataLoader 0:  70%|████████████████████████████████▋              | 39/56 [00:02<00:01, 13.15it/s]\u001b[A\n",
      "Validation DataLoader 0:  71%|█████████████████████████████████▌             | 40/56 [00:03<00:01, 13.16it/s]\u001b[A\n",
      "Validation DataLoader 0:  73%|██████████████████████████████████▍            | 41/56 [00:03<00:01, 13.16it/s]\u001b[A\n",
      "Validation DataLoader 0:  75%|███████████████████████████████████▎           | 42/56 [00:03<00:01, 13.16it/s]\u001b[A\n",
      "Validation DataLoader 0:  77%|████████████████████████████████████           | 43/56 [00:03<00:00, 13.16it/s]\u001b[A\n",
      "Validation DataLoader 0:  79%|████████████████████████████████████▉          | 44/56 [00:03<00:00, 13.17it/s]\u001b[A\n",
      "Validation DataLoader 0:  80%|█████████████████████████████████████▊         | 45/56 [00:03<00:00, 13.17it/s]\u001b[A\n",
      "Validation DataLoader 0:  82%|██████████████████████████████████████▌        | 46/56 [00:03<00:00, 13.17it/s]\u001b[A\n",
      "Validation DataLoader 0:  84%|███████████████████████████████████████▍       | 47/56 [00:03<00:00, 13.17it/s]\u001b[A\n",
      "Validation DataLoader 0:  86%|████████████████████████████████████████▎      | 48/56 [00:03<00:00, 13.17it/s]\u001b[A\n",
      "Validation DataLoader 0:  88%|█████████████████████████████████████████▏     | 49/56 [00:03<00:00, 13.17it/s]\u001b[A\n",
      "Validation DataLoader 0:  89%|█████████████████████████████████████████▉     | 50/56 [00:03<00:00, 13.17it/s]\u001b[A\n",
      "Validation DataLoader 0:  91%|██████████████████████████████████████████▊    | 51/56 [00:03<00:00, 13.18it/s]\u001b[A\n",
      "Validation DataLoader 0:  93%|███████████████████████████████████████████▋   | 52/56 [00:03<00:00, 13.18it/s]\u001b[A\n",
      "Validation DataLoader 0:  95%|████████████████████████████████████████████▍  | 53/56 [00:04<00:00, 13.18it/s]\u001b[A\n",
      "Validation DataLoader 0:  96%|█████████████████████████████████████████████▎ | 54/56 [00:04<00:00, 13.18it/s]\u001b[A\n",
      "Validation DataLoader 0:  98%|██████████████████████████████████████████████▏| 55/56 [00:04<00:00, 13.18it/s]\u001b[A\n",
      "Validation DataLoader 0: 100%|███████████████████████████████████████████████| 56/56 [00:04<00:00, 13.26it/s]\u001b[A\n",
      "Epoch 9: 100%|█████| 985/985 [03:30<00:00,  4.68it/s, v_num=0, train_loss_step=0.127, train_loss_epoch=0.141]\u001b[A\n",
      "Validation: |                                                                          | 0/? [00:00<?, ?it/s]\u001b[A\n",
      "Validation:   0%|                                                                     | 0/56 [00:00<?, ?it/s]\u001b[A\n",
      "Validation DataLoader 0:   0%|                                                        | 0/56 [00:00<?, ?it/s]\u001b[A\n",
      "Validation DataLoader 0:   2%|▊                                               | 1/56 [00:00<00:04, 13.36it/s]\u001b[A\n",
      "Validation DataLoader 0:   4%|█▋                                              | 2/56 [00:00<00:04, 12.62it/s]\u001b[A\n",
      "Validation DataLoader 0:   5%|██▌                                             | 3/56 [00:00<00:04, 12.75it/s]\u001b[A\n",
      "Validation DataLoader 0:   7%|███▍                                            | 4/56 [00:00<00:04, 12.87it/s]\u001b[A\n",
      "Validation DataLoader 0:   9%|████▎                                           | 5/56 [00:00<00:03, 12.90it/s]\u001b[A\n",
      "Validation DataLoader 0:  11%|█████▏                                          | 6/56 [00:00<00:03, 12.95it/s]\u001b[A\n",
      "Validation DataLoader 0:  12%|██████                                          | 7/56 [00:00<00:03, 13.00it/s]\u001b[A\n",
      "Validation DataLoader 0:  14%|██████▊                                         | 8/56 [00:00<00:03, 13.05it/s]\u001b[A\n",
      "Validation DataLoader 0:  16%|███████▋                                        | 9/56 [00:00<00:03, 13.06it/s]\u001b[A\n",
      "Validation DataLoader 0:  18%|████████▍                                      | 10/56 [00:00<00:03, 13.01it/s]\u001b[A\n",
      "Validation DataLoader 0:  20%|█████████▏                                     | 11/56 [00:00<00:03, 13.03it/s]\u001b[A\n",
      "Validation DataLoader 0:  21%|██████████                                     | 12/56 [00:00<00:03, 13.05it/s]\u001b[A\n",
      "Validation DataLoader 0:  23%|██████████▉                                    | 13/56 [00:00<00:03, 13.05it/s]\u001b[A\n",
      "Validation DataLoader 0:  25%|███████████▊                                   | 14/56 [00:01<00:03, 13.07it/s]\u001b[A\n",
      "Validation DataLoader 0:  27%|████████████▌                                  | 15/56 [00:01<00:03, 13.09it/s]\u001b[A\n",
      "Validation DataLoader 0:  29%|█████████████▍                                 | 16/56 [00:01<00:03, 13.10it/s]\u001b[A\n",
      "Validation DataLoader 0:  30%|██████████████▎                                | 17/56 [00:01<00:02, 13.10it/s]\u001b[A\n",
      "Validation DataLoader 0:  32%|███████████████                                | 18/56 [00:01<00:02, 13.10it/s]\u001b[A\n",
      "Validation DataLoader 0:  34%|███████████████▉                               | 19/56 [00:01<00:02, 13.09it/s]\u001b[A\n",
      "Validation DataLoader 0:  36%|████████████████▊                              | 20/56 [00:01<00:02, 13.09it/s]\u001b[A\n",
      "Validation DataLoader 0:  38%|█████████████████▋                             | 21/56 [00:01<00:02, 13.07it/s]\u001b[A\n",
      "Validation DataLoader 0:  39%|██████████████████▍                            | 22/56 [00:01<00:02, 13.07it/s]\u001b[A\n",
      "Validation DataLoader 0:  41%|███████████████████▎                           | 23/56 [00:01<00:02, 13.08it/s]\u001b[A\n",
      "Validation DataLoader 0:  43%|████████████████████▏                          | 24/56 [00:01<00:02, 13.09it/s]\u001b[A\n",
      "Validation DataLoader 0:  45%|████████████████████▉                          | 25/56 [00:01<00:02, 13.09it/s]\u001b[A\n",
      "Validation DataLoader 0:  46%|█████████████████████▊                         | 26/56 [00:01<00:02, 13.08it/s]\u001b[A\n",
      "Validation DataLoader 0:  48%|██████████████████████▋                        | 27/56 [00:02<00:02, 13.08it/s]\u001b[A\n",
      "Validation DataLoader 0:  50%|███████████████████████▌                       | 28/56 [00:02<00:02, 13.08it/s]\u001b[A\n",
      "Validation DataLoader 0:  52%|████████████████████████▎                      | 29/56 [00:02<00:02, 13.07it/s]\u001b[A\n",
      "Validation DataLoader 0:  54%|█████████████████████████▏                     | 30/56 [00:02<00:01, 13.07it/s]\u001b[A\n",
      "Validation DataLoader 0:  55%|██████████████████████████                     | 31/56 [00:02<00:01, 13.08it/s]\u001b[A\n",
      "Validation DataLoader 0:  57%|██████████████████████████▊                    | 32/56 [00:02<00:01, 13.08it/s]\u001b[A\n",
      "Validation DataLoader 0:  59%|███████████████████████████▋                   | 33/56 [00:02<00:01, 13.07it/s]\u001b[A\n",
      "Validation DataLoader 0:  61%|████████████████████████████▌                  | 34/56 [00:02<00:01, 13.07it/s]\u001b[A\n",
      "Validation DataLoader 0:  62%|█████████████████████████████▍                 | 35/56 [00:02<00:01, 13.07it/s]\u001b[A\n",
      "Validation DataLoader 0:  64%|██████████████████████████████▏                | 36/56 [00:02<00:01, 13.07it/s]\u001b[A\n",
      "Validation DataLoader 0:  66%|███████████████████████████████                | 37/56 [00:02<00:01, 13.07it/s]\u001b[A\n",
      "Validation DataLoader 0:  68%|███████████████████████████████▉               | 38/56 [00:02<00:01, 13.06it/s]\u001b[A\n",
      "Validation DataLoader 0:  70%|████████████████████████████████▋              | 39/56 [00:02<00:01, 13.07it/s]\u001b[A\n",
      "Validation DataLoader 0:  71%|█████████████████████████████████▌             | 40/56 [00:03<00:01, 13.07it/s]\u001b[A\n",
      "Validation DataLoader 0:  73%|██████████████████████████████████▍            | 41/56 [00:03<00:01, 13.07it/s]\u001b[A\n",
      "Validation DataLoader 0:  75%|███████████████████████████████████▎           | 42/56 [00:03<00:01, 13.07it/s]\u001b[A\n",
      "Validation DataLoader 0:  77%|████████████████████████████████████           | 43/56 [00:03<00:00, 13.06it/s]\u001b[A\n",
      "Validation DataLoader 0:  79%|████████████████████████████████████▉          | 44/56 [00:03<00:00, 13.06it/s]\u001b[A\n",
      "Validation DataLoader 0:  80%|█████████████████████████████████████▊         | 45/56 [00:03<00:00, 13.07it/s]\u001b[A\n",
      "Validation DataLoader 0:  82%|██████████████████████████████████████▌        | 46/56 [00:03<00:00, 13.07it/s]\u001b[A\n",
      "Validation DataLoader 0:  84%|███████████████████████████████████████▍       | 47/56 [00:03<00:00, 13.07it/s]\u001b[A\n",
      "Validation DataLoader 0:  86%|████████████████████████████████████████▎      | 48/56 [00:03<00:00, 13.08it/s]\u001b[A\n",
      "Validation DataLoader 0:  88%|█████████████████████████████████████████▏     | 49/56 [00:03<00:00, 13.08it/s]\u001b[A\n",
      "Validation DataLoader 0:  89%|█████████████████████████████████████████▉     | 50/56 [00:03<00:00, 13.08it/s]\u001b[A\n",
      "Validation DataLoader 0:  91%|██████████████████████████████████████████▊    | 51/56 [00:03<00:00, 13.09it/s]\u001b[A\n",
      "Validation DataLoader 0:  93%|███████████████████████████████████████████▋   | 52/56 [00:03<00:00, 13.09it/s]\u001b[A\n",
      "Validation DataLoader 0:  95%|████████████████████████████████████████████▍  | 53/56 [00:04<00:00, 13.09it/s]\u001b[A\n",
      "Validation DataLoader 0:  96%|█████████████████████████████████████████████▎ | 54/56 [00:04<00:00, 13.09it/s]\u001b[A\n",
      "Validation DataLoader 0:  98%|██████████████████████████████████████████████▏| 55/56 [00:04<00:00, 13.10it/s]\u001b[A\n",
      "Validation DataLoader 0: 100%|███████████████████████████████████████████████| 56/56 [00:04<00:00, 13.17it/s]\u001b[A\n",
      "Epoch 9: 100%|█████| 985/985 [03:37<00:00,  4.53it/s, v_num=0, train_loss_step=0.127, train_loss_epoch=0.140]\u001b[A"
     ]
    },
    {
     "name": "stderr",
     "output_type": "stream",
     "text": [
      "`Trainer.fit` stopped: `max_epochs=10` reached.\n"
     ]
    },
    {
     "name": "stdout",
     "output_type": "stream",
     "text": [
      "Epoch 9: 100%|█████| 985/985 [03:42<00:00,  4.42it/s, v_num=0, train_loss_step=0.127, train_loss_epoch=0.140]\n"
     ]
    }
   ],
   "source": [
    "# See the 'tutorial_2' folder for logs\n",
    "trainer = model.train_on_dataset(\n",
    "    train_dataset=train_dataset,\n",
    "    val_dataset=val_dataset,\n",
    ")"
   ]
  },
  {
   "cell_type": "markdown",
   "id": "b639ec73-0715-44d8-b1b3-5957882e88f3",
   "metadata": {},
   "source": [
    "## Load best model from checkpoint"
   ]
  },
  {
   "cell_type": "markdown",
   "id": "27057163-354f-409a-91a5-76cba662c1e5",
   "metadata": {},
   "source": [
    "During training, the performance of the model on the validation set is checked after each epoch. We will load the version of the model that had the best validation set performance."
   ]
  },
  {
   "cell_type": "code",
   "execution_count": 21,
   "id": "ae44103e-63ec-4f9f-83e5-24a3b89ebcee",
   "metadata": {
    "tags": []
   },
   "outputs": [
    {
     "name": "stdout",
     "output_type": "stream",
     "text": [
      "tutorial_2/2025_10_03_17_49/version_0/checkpoints/epoch=5-step=5910.ckpt\n"
     ]
    },
    {
     "name": "stderr",
     "output_type": "stream",
     "text": [
      "\u001b[34m\u001b[1mwandb\u001b[0m: Downloading large artifact human_state_dict:latest, 939.29MB. 1 files... \n",
      "\u001b[34m\u001b[1mwandb\u001b[0m:   1 of 1 files downloaded.  \n",
      "Done. 0:0:1.6\n"
     ]
    }
   ],
   "source": [
    "best_checkpoint = trainer.checkpoint_callback.best_model_path\n",
    "print(best_checkpoint)\n",
    "model = grelu.lightning.LightningModel.load_from_checkpoint(best_checkpoint)"
   ]
  },
  {
   "cell_type": "markdown",
   "id": "cf55294c-4ca3-4764-a4cd-fb790a14345d",
   "metadata": {
    "tags": []
   },
   "source": [
    "## Calculate performance metrics on the test set"
   ]
  },
  {
   "cell_type": "markdown",
   "id": "e76b6dd4-c508-4dd8-839e-c2dd952e0d22",
   "metadata": {},
   "source": [
    "We calculate global performance metrics using the `test_on_dataset` method."
   ]
  },
  {
   "cell_type": "code",
   "execution_count": 22,
   "id": "983732d5-d03b-40f6-9706-1edaa08e72f3",
   "metadata": {
    "scrolled": true
   },
   "outputs": [
    {
     "name": "stderr",
     "output_type": "stream",
     "text": [
      "GPU available: True (cuda), used: True\n",
      "TPU available: False, using: 0 TPU cores\n",
      "HPU available: False, using: 0 HPUs\n",
      "LOCAL_RANK: 0 - CUDA_VISIBLE_DEVICES: [0,1,2,3,4,5,6,7]\n"
     ]
    },
    {
     "name": "stdout",
     "output_type": "stream",
     "text": [
      "Testing DataLoader 0: 100%|██████████████████████████████████████████████████| 56/56 [00:08<00:00,  6.60it/s]\n"
     ]
    },
    {
     "data": {
      "text/html": [
       "<pre style=\"white-space:pre;overflow-x:auto;line-height:normal;font-family:Menlo,'DejaVu Sans Mono',consolas,'Courier New',monospace\">┏━━━━━━━━━━━━━━━━━━━━━━━━━━━┳━━━━━━━━━━━━━━━━━━━━━━━━━━━┓\n",
       "┃<span style=\"font-weight: bold\">        Test metric        </span>┃<span style=\"font-weight: bold\">       DataLoader 0        </span>┃\n",
       "┡━━━━━━━━━━━━━━━━━━━━━━━━━━━╇━━━━━━━━━━━━━━━━━━━━━━━━━━━┩\n",
       "│<span style=\"color: #008080; text-decoration-color: #008080\">       test_accuracy       </span>│<span style=\"color: #800080; text-decoration-color: #800080\">     0.945804238319397     </span>│\n",
       "│<span style=\"color: #008080; text-decoration-color: #008080\">        test_auroc         </span>│<span style=\"color: #800080; text-decoration-color: #800080\">    0.9041470289230347     </span>│\n",
       "│<span style=\"color: #008080; text-decoration-color: #008080\">       test_avgprec        </span>│<span style=\"color: #800080; text-decoration-color: #800080\">    0.6055856943130493     </span>│\n",
       "│<span style=\"color: #008080; text-decoration-color: #008080\">       test_best_f1        </span>│<span style=\"color: #800080; text-decoration-color: #800080\">    0.5670822262763977     </span>│\n",
       "│<span style=\"color: #008080; text-decoration-color: #008080\">         test_loss         </span>│<span style=\"color: #800080; text-decoration-color: #800080\">    0.15506847202777863    </span>│\n",
       "└───────────────────────────┴───────────────────────────┘\n",
       "</pre>\n"
      ],
      "text/plain": [
       "┏━━━━━━━━━━━━━━━━━━━━━━━━━━━┳━━━━━━━━━━━━━━━━━━━━━━━━━━━┓\n",
       "┃\u001b[1m \u001b[0m\u001b[1m       Test metric       \u001b[0m\u001b[1m \u001b[0m┃\u001b[1m \u001b[0m\u001b[1m      DataLoader 0       \u001b[0m\u001b[1m \u001b[0m┃\n",
       "┡━━━━━━━━━━━━━━━━━━━━━━━━━━━╇━━━━━━━━━━━━━━━━━━━━━━━━━━━┩\n",
       "│\u001b[36m \u001b[0m\u001b[36m      test_accuracy      \u001b[0m\u001b[36m \u001b[0m│\u001b[35m \u001b[0m\u001b[35m    0.945804238319397    \u001b[0m\u001b[35m \u001b[0m│\n",
       "│\u001b[36m \u001b[0m\u001b[36m       test_auroc        \u001b[0m\u001b[36m \u001b[0m│\u001b[35m \u001b[0m\u001b[35m   0.9041470289230347    \u001b[0m\u001b[35m \u001b[0m│\n",
       "│\u001b[36m \u001b[0m\u001b[36m      test_avgprec       \u001b[0m\u001b[36m \u001b[0m│\u001b[35m \u001b[0m\u001b[35m   0.6055856943130493    \u001b[0m\u001b[35m \u001b[0m│\n",
       "│\u001b[36m \u001b[0m\u001b[36m      test_best_f1       \u001b[0m\u001b[36m \u001b[0m│\u001b[35m \u001b[0m\u001b[35m   0.5670822262763977    \u001b[0m\u001b[35m \u001b[0m│\n",
       "│\u001b[36m \u001b[0m\u001b[36m        test_loss        \u001b[0m\u001b[36m \u001b[0m│\u001b[35m \u001b[0m\u001b[35m   0.15506847202777863   \u001b[0m\u001b[35m \u001b[0m│\n",
       "└───────────────────────────┴───────────────────────────┘\n"
      ]
     },
     "metadata": {},
     "output_type": "display_data"
    }
   ],
   "source": [
    "test_metrics = model.test_on_dataset(\n",
    "    test_dataset,\n",
    "    devices=0,\n",
    "    num_workers=8,\n",
    "    batch_size=1024,\n",
    ")"
   ]
  },
  {
   "cell_type": "markdown",
   "id": "0301376d-51c1-417a-97d7-444224cf7433",
   "metadata": {},
   "source": [
    "`test_metrics` is a dataframe containing metrics for each model task."
   ]
  },
  {
   "cell_type": "code",
   "execution_count": 23,
   "id": "8fa2dfc9-b04a-47a2-8f5d-8cdb16e88c70",
   "metadata": {},
   "outputs": [
    {
     "data": {
      "text/html": [
       "<div>\n",
       "<style scoped>\n",
       "    .dataframe tbody tr th:only-of-type {\n",
       "        vertical-align: middle;\n",
       "    }\n",
       "\n",
       "    .dataframe tbody tr th {\n",
       "        vertical-align: top;\n",
       "    }\n",
       "\n",
       "    .dataframe thead th {\n",
       "        text-align: right;\n",
       "    }\n",
       "</style>\n",
       "<table border=\"1\" class=\"dataframe\">\n",
       "  <thead>\n",
       "    <tr style=\"text-align: right;\">\n",
       "      <th></th>\n",
       "      <th>test_accuracy</th>\n",
       "      <th>test_auroc</th>\n",
       "      <th>test_avgprec</th>\n",
       "      <th>test_best_f1</th>\n",
       "    </tr>\n",
       "  </thead>\n",
       "  <tbody>\n",
       "    <tr>\n",
       "      <th>Follicular</th>\n",
       "      <td>0.908582</td>\n",
       "      <td>0.878644</td>\n",
       "      <td>0.625833</td>\n",
       "      <td>0.579764</td>\n",
       "    </tr>\n",
       "    <tr>\n",
       "      <th>Fibro General</th>\n",
       "      <td>0.915440</td>\n",
       "      <td>0.882260</td>\n",
       "      <td>0.624358</td>\n",
       "      <td>0.576104</td>\n",
       "    </tr>\n",
       "    <tr>\n",
       "      <th>Acinar</th>\n",
       "      <td>0.943809</td>\n",
       "      <td>0.913334</td>\n",
       "      <td>0.649064</td>\n",
       "      <td>0.601570</td>\n",
       "    </tr>\n",
       "    <tr>\n",
       "      <th>T Lymphocyte 1 (CD8+)</th>\n",
       "      <td>0.961583</td>\n",
       "      <td>0.930609</td>\n",
       "      <td>0.633020</td>\n",
       "      <td>0.591118</td>\n",
       "    </tr>\n",
       "    <tr>\n",
       "      <th>T lymphocyte 2 (CD4+)</th>\n",
       "      <td>0.967484</td>\n",
       "      <td>0.940214</td>\n",
       "      <td>0.619009</td>\n",
       "      <td>0.568158</td>\n",
       "    </tr>\n",
       "  </tbody>\n",
       "</table>\n",
       "</div>"
      ],
      "text/plain": [
       "                       test_accuracy  test_auroc  test_avgprec  test_best_f1\n",
       "Follicular                  0.908582    0.878644      0.625833      0.579764\n",
       "Fibro General               0.915440    0.882260      0.624358      0.576104\n",
       "Acinar                      0.943809    0.913334      0.649064      0.601570\n",
       "T Lymphocyte 1 (CD8+)       0.961583    0.930609      0.633020      0.591118\n",
       "T lymphocyte 2 (CD4+)       0.967484    0.940214      0.619009      0.568158"
      ]
     },
     "execution_count": 23,
     "metadata": {},
     "output_type": "execute_result"
    }
   ],
   "source": [
    "test_metrics.head()"
   ]
  },
  {
   "cell_type": "markdown",
   "id": "010822f3-570b-4a32-8f72-66b943a03b9b",
   "metadata": {},
   "source": [
    "## Visualize performance metrics"
   ]
  },
  {
   "cell_type": "markdown",
   "id": "cc7e7810-26ea-4c61-8ad3-de45bf404694",
   "metadata": {},
   "source": [
    "We can plot the distribution of each metric across all cell types:"
   ]
  },
  {
   "cell_type": "code",
   "execution_count": 24,
   "id": "ac5e8e0c-34c5-41c2-8bed-d1ec814b9813",
   "metadata": {},
   "outputs": [
    {
     "data": {
      "image/png": "[encoded data removed]"
     },
     "metadata": {
      "image/png": {
       "height": 200,
       "width": 300
      }
     },
     "output_type": "display_data"
    }
   ],
   "source": [
    "grelu.visualize.plot_distribution(\n",
    "    test_metrics.test_best_f1,\n",
    "    method='histogram',\n",
    "    title='Best F1 Score per task',\n",
    "    binwidth=0.005,\n",
    "    figsize=(3,2),\n",
    ")"
   ]
  },
  {
   "cell_type": "code",
   "execution_count": 25,
   "id": "91c0c54b-38cd-43d2-8f31-37036f50016a",
   "metadata": {},
   "outputs": [
    {
     "data": {
      "image/png": "[encoded data removed]"
     },
     "metadata": {
      "image/png": {
       "height": 200,
       "width": 300
      }
     },
     "output_type": "display_data"
    }
   ],
   "source": [
    "grelu.visualize.plot_distribution(\n",
    "    test_metrics.test_avgprec,\n",
    "    method='histogram',\n",
    "    title='Average Precision per task',\n",
    "    binwidth=0.005,\n",
    "    figsize=(3,2),\n",
    ")"
   ]
  },
  {
   "cell_type": "code",
   "execution_count": 26,
   "id": "b0e8b1b8-d579-45c6-b341-4823ffe71382",
   "metadata": {},
   "outputs": [
    {
     "data": {
      "image/png": "[encoded data removed]"
     },
     "metadata": {
      "image/png": {
       "height": 200,
       "width": 300
      }
     },
     "output_type": "display_data"
    }
   ],
   "source": [
    "grelu.visualize.plot_distribution(\n",
    "    test_metrics.test_auroc,\n",
    "    method='histogram',\n",
    "    title='AUROC per task',\n",
    "    binwidth=0.005,\n",
    "    figsize=(3,2),\n",
    ")"
   ]
  },
  {
   "cell_type": "markdown",
   "id": "c6652987-4305-4ee7-8f89-680e5790cbce",
   "metadata": {},
   "source": [
    "## Run inference on the test set"
   ]
  },
  {
   "cell_type": "markdown",
   "id": "6fe28b91-ebd8-4391-9096-42e61cb6ba2c",
   "metadata": {},
   "source": [
    "Instead of overall metrics, we can also get the individual predictions for each test set example."
   ]
  },
  {
   "cell_type": "code",
   "execution_count": 27,
   "id": "0ed35a77-d328-48c1-9380-cb2597c5788c",
   "metadata": {
    "tags": []
   },
   "outputs": [
    {
     "name": "stderr",
     "output_type": "stream",
     "text": [
      "GPU available: True (cuda), used: True\n",
      "TPU available: False, using: 0 TPU cores\n",
      "HPU available: False, using: 0 HPUs\n",
      "LOCAL_RANK: 0 - CUDA_VISIBLE_DEVICES: [0,1,2,3,4,5,6,7]\n"
     ]
    },
    {
     "name": "stdout",
     "output_type": "stream",
     "text": [
      "Predicting DataLoader 0: 100%|███████████████████████████████████████████████| 56/56 [00:04<00:00, 13.60it/s]\n"
     ]
    },
    {
     "data": {
      "text/html": [
       "<div>\n",
       "<style scoped>\n",
       "    .dataframe tbody tr th:only-of-type {\n",
       "        vertical-align: middle;\n",
       "    }\n",
       "\n",
       "    .dataframe tbody tr th {\n",
       "        vertical-align: top;\n",
       "    }\n",
       "\n",
       "    .dataframe thead th {\n",
       "        text-align: right;\n",
       "    }\n",
       "</style>\n",
       "<table border=\"1\" class=\"dataframe\">\n",
       "  <thead>\n",
       "    <tr style=\"text-align: right;\">\n",
       "      <th></th>\n",
       "      <th>Follicular</th>\n",
       "      <th>Fibro General</th>\n",
       "      <th>Acinar</th>\n",
       "      <th>T Lymphocyte 1 (CD8+)</th>\n",
       "      <th>T lymphocyte 2 (CD4+)</th>\n",
       "      <th>Natural Killer T</th>\n",
       "      <th>Naive T</th>\n",
       "      <th>Fibro Epithelial</th>\n",
       "      <th>Cardiac Pericyte 1</th>\n",
       "      <th>Pericyte General 1</th>\n",
       "      <th>...</th>\n",
       "      <th>Fetal Cardiac Fibroblast</th>\n",
       "      <th>Fetal Fibro General 2</th>\n",
       "      <th>Fetal Fibro Muscle 1</th>\n",
       "      <th>Fetal Fibro General 3</th>\n",
       "      <th>Fetal Mesangial 2</th>\n",
       "      <th>Fetal Stellate</th>\n",
       "      <th>Fetal Alveolar Epithelial 1</th>\n",
       "      <th>Fetal Cilliated</th>\n",
       "      <th>Fetal Excitatory Neuron 1</th>\n",
       "      <th>Fetal Excitatory Neuron 2</th>\n",
       "    </tr>\n",
       "  </thead>\n",
       "  <tbody>\n",
       "    <tr>\n",
       "      <th>0</th>\n",
       "      <td>0.246584</td>\n",
       "      <td>0.631227</td>\n",
       "      <td>0.401028</td>\n",
       "      <td>0.737432</td>\n",
       "      <td>0.446210</td>\n",
       "      <td>0.359249</td>\n",
       "      <td>0.362619</td>\n",
       "      <td>0.503613</td>\n",
       "      <td>0.325819</td>\n",
       "      <td>0.600575</td>\n",
       "      <td>...</td>\n",
       "      <td>0.096280</td>\n",
       "      <td>0.113305</td>\n",
       "      <td>0.142196</td>\n",
       "      <td>0.120180</td>\n",
       "      <td>0.180818</td>\n",
       "      <td>0.062197</td>\n",
       "      <td>0.115317</td>\n",
       "      <td>0.075760</td>\n",
       "      <td>0.146371</td>\n",
       "      <td>0.066766</td>\n",
       "    </tr>\n",
       "    <tr>\n",
       "      <th>1</th>\n",
       "      <td>0.012661</td>\n",
       "      <td>0.030349</td>\n",
       "      <td>0.003691</td>\n",
       "      <td>0.120318</td>\n",
       "      <td>0.134325</td>\n",
       "      <td>0.088101</td>\n",
       "      <td>0.032150</td>\n",
       "      <td>0.007142</td>\n",
       "      <td>0.066219</td>\n",
       "      <td>0.007032</td>\n",
       "      <td>...</td>\n",
       "      <td>0.071350</td>\n",
       "      <td>0.032026</td>\n",
       "      <td>0.019897</td>\n",
       "      <td>0.028728</td>\n",
       "      <td>0.009674</td>\n",
       "      <td>0.024987</td>\n",
       "      <td>0.039601</td>\n",
       "      <td>0.020358</td>\n",
       "      <td>0.037166</td>\n",
       "      <td>0.019341</td>\n",
       "    </tr>\n",
       "    <tr>\n",
       "      <th>2</th>\n",
       "      <td>0.022788</td>\n",
       "      <td>0.036146</td>\n",
       "      <td>0.012045</td>\n",
       "      <td>0.033261</td>\n",
       "      <td>0.033194</td>\n",
       "      <td>0.057675</td>\n",
       "      <td>0.014275</td>\n",
       "      <td>0.035036</td>\n",
       "      <td>0.170055</td>\n",
       "      <td>0.020254</td>\n",
       "      <td>...</td>\n",
       "      <td>0.050655</td>\n",
       "      <td>0.016251</td>\n",
       "      <td>0.026099</td>\n",
       "      <td>0.054175</td>\n",
       "      <td>0.031049</td>\n",
       "      <td>0.012836</td>\n",
       "      <td>0.026930</td>\n",
       "      <td>0.024365</td>\n",
       "      <td>0.295303</td>\n",
       "      <td>0.029504</td>\n",
       "    </tr>\n",
       "    <tr>\n",
       "      <th>3</th>\n",
       "      <td>0.543615</td>\n",
       "      <td>0.563422</td>\n",
       "      <td>0.638997</td>\n",
       "      <td>0.593161</td>\n",
       "      <td>0.540665</td>\n",
       "      <td>0.434793</td>\n",
       "      <td>0.449609</td>\n",
       "      <td>0.421495</td>\n",
       "      <td>0.479576</td>\n",
       "      <td>0.392053</td>\n",
       "      <td>...</td>\n",
       "      <td>0.460450</td>\n",
       "      <td>0.484270</td>\n",
       "      <td>0.436842</td>\n",
       "      <td>0.566088</td>\n",
       "      <td>0.443496</td>\n",
       "      <td>0.427716</td>\n",
       "      <td>0.626493</td>\n",
       "      <td>0.537759</td>\n",
       "      <td>0.388494</td>\n",
       "      <td>0.227976</td>\n",
       "    </tr>\n",
       "    <tr>\n",
       "      <th>4</th>\n",
       "      <td>0.249463</td>\n",
       "      <td>0.270736</td>\n",
       "      <td>0.376773</td>\n",
       "      <td>0.491053</td>\n",
       "      <td>0.299808</td>\n",
       "      <td>0.248376</td>\n",
       "      <td>0.287306</td>\n",
       "      <td>0.160203</td>\n",
       "      <td>0.168654</td>\n",
       "      <td>0.144926</td>\n",
       "      <td>...</td>\n",
       "      <td>0.128210</td>\n",
       "      <td>0.158565</td>\n",
       "      <td>0.145321</td>\n",
       "      <td>0.228435</td>\n",
       "      <td>0.140189</td>\n",
       "      <td>0.127122</td>\n",
       "      <td>0.315865</td>\n",
       "      <td>0.236325</td>\n",
       "      <td>0.153972</td>\n",
       "      <td>0.076631</td>\n",
       "    </tr>\n",
       "  </tbody>\n",
       "</table>\n",
       "<p>5 rows × 203 columns</p>\n",
       "</div>"
      ],
      "text/plain": [
       "   Follicular  Fibro General    Acinar  T Lymphocyte 1 (CD8+)  \\\n",
       "0    0.246584       0.631227  0.401028               0.737432   \n",
       "1    0.012661       0.030349  0.003691               0.120318   \n",
       "2    0.022788       0.036146  0.012045               0.033261   \n",
       "3    0.543615       0.563422  0.638997               0.593161   \n",
       "4    0.249463       0.270736  0.376773               0.491053   \n",
       "\n",
       "   T lymphocyte 2 (CD4+)  Natural Killer T   Naive T  Fibro Epithelial  \\\n",
       "0               0.446210          0.359249  0.362619          0.503613   \n",
       "1               0.134325          0.088101  0.032150          0.007142   \n",
       "2               0.033194          0.057675  0.014275          0.035036   \n",
       "3               0.540665          0.434793  0.449609          0.421495   \n",
       "4               0.299808          0.248376  0.287306          0.160203   \n",
       "\n",
       "   Cardiac Pericyte 1  Pericyte General 1  ...  Fetal Cardiac Fibroblast  \\\n",
       "0            0.325819            0.600575  ...                  0.096280   \n",
       "1            0.066219            0.007032  ...                  0.071350   \n",
       "2            0.170055            0.020254  ...                  0.050655   \n",
       "3            0.479576            0.392053  ...                  0.460450   \n",
       "4            0.168654            0.144926  ...                  0.128210   \n",
       "\n",
       "   Fetal Fibro General 2  Fetal Fibro Muscle 1  Fetal Fibro General 3  \\\n",
       "0               0.113305              0.142196               0.120180   \n",
       "1               0.032026              0.019897               0.028728   \n",
       "2               0.016251              0.026099               0.054175   \n",
       "3               0.484270              0.436842               0.566088   \n",
       "4               0.158565              0.145321               0.228435   \n",
       "\n",
       "   Fetal Mesangial 2  Fetal Stellate  Fetal Alveolar Epithelial 1  \\\n",
       "0           0.180818        0.062197                     0.115317   \n",
       "1           0.009674        0.024987                     0.039601   \n",
       "2           0.031049        0.012836                     0.026930   \n",
       "3           0.443496        0.427716                     0.626493   \n",
       "4           0.140189        0.127122                     0.315865   \n",
       "\n",
       "   Fetal Cilliated  Fetal Excitatory Neuron 1  Fetal Excitatory Neuron 2  \n",
       "0         0.075760                   0.146371                   0.066766  \n",
       "1         0.020358                   0.037166                   0.019341  \n",
       "2         0.024365                   0.295303                   0.029504  \n",
       "3         0.537759                   0.388494                   0.227976  \n",
       "4         0.236325                   0.153972                   0.076631  \n",
       "\n",
       "[5 rows x 203 columns]"
      ]
     },
     "execution_count": 27,
     "metadata": {},
     "output_type": "execute_result"
    }
   ],
   "source": [
    "probs = model.predict_on_dataset(\n",
    "    test_dataset,\n",
    "    devices=0,\n",
    "    num_workers=8,\n",
    "    batch_size=1024,\n",
    "    return_df=True # Return the output as a pandas dataframe\n",
    ")\n",
    "\n",
    "probs.head()"
   ]
  },
  {
   "cell_type": "markdown",
   "id": "4ee46c4c-771c-4ba1-95bc-a44e5ee24563",
   "metadata": {},
   "source": [
    "Since this is a binary classification model, the output takes the form of probabilities ranging from 0 to 1. We interpret these as the predicted probabilities of the element being accessible in each cell type."
   ]
  },
  {
   "cell_type": "markdown",
   "id": "1f11bb30-9471-4a33-a1fc-80e0a9fbd87d",
   "metadata": {},
   "source": [
    "## Plot additional visualizations of the test set predictions"
   ]
  },
  {
   "cell_type": "markdown",
   "id": "2906a8a3-9ae9-4437-ad7e-ba4ce4ba7c59",
   "metadata": {},
   "source": [
    "We can plot a calibration curve for all the tasks. This shows us the fraction of true positive examples, for different levels of model-predicted probability. "
   ]
  },
  {
   "cell_type": "code",
   "execution_count": 28,
   "id": "e1bde958-9815-4160-a9f3-0fcca6522a0f",
   "metadata": {
    "tags": []
   },
   "outputs": [
    {
     "data": {
      "image/png": "[encoded data removed]"
     },
     "metadata": {
      "image/png": {
       "height": 300,
       "width": 400
      }
     },
     "output_type": "display_data"
    }
   ],
   "source": [
    "grelu.visualize.plot_calibration_curve(\n",
    "    probs, labels=test_dataset.labels, aggregate=False, show_legend=False\n",
    ")"
   ]
  },
  {
   "cell_type": "markdown",
   "id": "32ac543f-b96c-4bdb-b7f2-3eb799550564",
   "metadata": {},
   "source": [
    "We can also pick any cell type and compare the predictions on accessible and non-accessible elements."
   ]
  },
  {
   "cell_type": "code",
   "execution_count": 29,
   "id": "51d89c73-4926-43e8-ae38-92ef7103da99",
   "metadata": {
    "tags": []
   },
   "outputs": [
    {
     "data": {
      "image/png": "[encoded data removed]"
     },
     "metadata": {
      "image/png": {
       "height": 300,
       "width": 400
      }
     },
     "output_type": "display_data"
    }
   ],
   "source": [
    "grelu.visualize.plot_binary_preds(\n",
    "    probs,\n",
    "    labels=test_dataset.labels,\n",
    "    tasks='Microglia',\n",
    "    figure_size=(3, 2) # Width, height\n",
    ")"
   ]
  },
  {
   "cell_type": "markdown",
   "id": "d4c9d21e-c1b6-4a79-a47f-76b47e26b3a4",
   "metadata": {
    "tags": []
   },
   "source": [
    "## Interpret model predictions (for microglia) using TF-modisco"
   ]
  },
  {
   "cell_type": "markdown",
   "id": "47c011bb-8560-477a-bc4e-37266af877f4",
   "metadata": {},
   "source": [
    "Suppose we want to focus specifically on Microglia. We can create a transform - a class that takes in the model's prediction and returns a function of the prediction, e.g. the prediction for only a subset of cell types that we are interested in. Then, all subsquent analyses that we do will be based only on this subset of the full prediction matrix.\n",
    "\n",
    "Here, we use the `Aggregate` class to create a transform that will take in the full set of predictions produced by the model and subset only the predictions in Microglia."
   ]
  },
  {
   "cell_type": "code",
   "execution_count": 30,
   "id": "84e55bad-0a5b-483e-8654-e2e0fc86da60",
   "metadata": {},
   "outputs": [],
   "source": [
    "from grelu.transforms.prediction_transforms import Aggregate\n",
    "\n",
    "microglia_score = Aggregate(\n",
    "    tasks = [\"Microglia\"],\n",
    "    model = model,\n",
    ")"
   ]
  },
  {
   "cell_type": "markdown",
   "id": "6ff90c8a-3529-48d0-8e39-f322d89e6940",
   "metadata": {},
   "source": [
    "Let us now identify all peaks in the test set that are accessible in microglia."
   ]
  },
  {
   "cell_type": "code",
   "execution_count": 31,
   "id": "b83ec1c2-687b-4caf-949d-8fa9028054f6",
   "metadata": {},
   "outputs": [
    {
     "data": {
      "text/plain": [
       "2273"
      ]
     },
     "execution_count": 31,
     "metadata": {},
     "output_type": "execute_result"
    }
   ],
   "source": [
    "is_accessible_in_mcg = np.array(ad_test[\"Microglia\", :].X.todense()==1).squeeze()\n",
    "mcg_peaks = ad_test.var[is_accessible_in_mcg]\n",
    "len(mcg_peaks)"
   ]
  },
  {
   "cell_type": "markdown",
   "id": "fd59b192-2004-40e5-81a2-853262d249b4",
   "metadata": {},
   "source": [
    "We now run TF-Modisco on these peaks. TF-modisco identifies motifs that consistently contribute to the model's output. Since we are using the `microglia_score` filter to limit the model's prediction to microglia, we will only get motifs relevant to this cell type. We also use TOMTOM to match the TF-Modisco motifs to a set of reference motifs. Here, we use a reference set of non-redundant motifs (https://www.vierstra.org/resources/motif_clustering) that are provided with gReLU as `consensus`."
   ]
  },
  {
   "cell_type": "code",
   "execution_count": 32,
   "id": "aa79adc4-68b4-4b9c-b8e5-441c1cec0be5",
   "metadata": {
    "scrolled": true,
    "tags": []
   },
   "outputs": [
    {
     "name": "stdout",
     "output_type": "stream",
     "text": [
      "Performing ISM\n"
     ]
    },
    {
     "name": "stderr",
     "output_type": "stream",
     "text": [
      "GPU available: True (cuda), used: True\n",
      "TPU available: False, using: 0 TPU cores\n",
      "HPU available: False, using: 0 HPUs\n",
      "LOCAL_RANK: 0 - CUDA_VISIBLE_DEVICES: [0,1,2,3,4,5,6,7]\n"
     ]
    },
    {
     "name": "stdout",
     "output_type": "stream",
     "text": [
      "Predicting DataLoader 0: 100%|█████████████████████████████████████████████████| 3/3 [00:00<00:00, 13.47it/s]\n"
     ]
    },
    {
     "name": "stderr",
     "output_type": "stream",
     "text": [
      "GPU available: True (cuda), used: True\n",
      "TPU available: False, using: 0 TPU cores\n",
      "HPU available: False, using: 0 HPUs\n",
      "LOCAL_RANK: 0 - CUDA_VISIBLE_DEVICES: [0,1,2,3,4,5,6,7]\n"
     ]
    },
    {
     "name": "stdout",
     "output_type": "stream",
     "text": [
      "Predicting DataLoader 0: 100%|█████████████████████████████████████████████| 666/666 [00:48<00:00, 13.71it/s]\n",
      "Running modisco\n"
     ]
    },
    {
     "name": "stderr",
     "output_type": "stream",
     "text": [
      "/usr/local/lib/python3.11/dist-packages/modiscolite/tfmodisco.py:128: ConstantInputWarning: An input array is constant; the correlation coefficient is not defined.\n"
     ]
    },
    {
     "name": "stdout",
     "output_type": "stream",
     "text": [
      "Writing modisco output\n",
      "Creating sequence logos\n",
      "Creating html report\n",
      "Running TOMTOM\n",
      "CPU times: user 2h 48min 40s, sys: 1min 20s, total: 2h 50min 1s\n",
      "Wall time: 7min 29s\n"
     ]
    }
   ],
   "source": [
    "%%time\n",
    "import grelu.interpret.modisco\n",
    "grelu.interpret.modisco.run_modisco(\n",
    "    model,\n",
    "    seqs=mcg_peaks, \n",
    "    genome=\"hg38\",\n",
    "    prediction_transform=microglia_score, # Base importance scores will be calculated with respect to this output\n",
    "    meme_file=\"hocomoco_v12\", # We will compare the Modisco CWMs to HOCOMOCO motifs\n",
    "    method=\"ism\", # Base-level attribution scores will be calculated using ISM. You can also use \"saliency\".\n",
    "    out_dir=experiment,\n",
    "    batch_size=1024,\n",
    "    devices=0,\n",
    "    num_workers=16,\n",
    "    window=100, # ISM scores will be calculated over the central 100 bp of each peak\n",
    "    seed=0,\n",
    ")"
   ]
  },
  {
   "cell_type": "markdown",
   "id": "de6e5701-8de9-4a9f-adf9-3075e0eddb72",
   "metadata": {
    "tags": []
   },
   "source": [
    "## Load TOMTOM output for modisco motifs"
   ]
  },
  {
   "cell_type": "markdown",
   "id": "2bd6cbcf-f894-4a2f-a995-37c6377212dd",
   "metadata": {},
   "source": [
    "The full output of TF-Modisco and TOMTOM can be found in the experiment folder. Here, we read the output of TOMTOM and list the significant TOMTOM matches, i.e. known TF motifs that are similar to those found by TF-MoDISco."
   ]
  },
  {
   "cell_type": "code",
   "execution_count": 34,
   "id": "0c49b64c-2adb-4850-a726-c2887071ef41",
   "metadata": {},
   "outputs": [
    {
     "data": {
      "text/html": [
       "<div>\n",
       "<style scoped>\n",
       "    .dataframe tbody tr th:only-of-type {\n",
       "        vertical-align: middle;\n",
       "    }\n",
       "\n",
       "    .dataframe tbody tr th {\n",
       "        vertical-align: top;\n",
       "    }\n",
       "\n",
       "    .dataframe thead th {\n",
       "        text-align: right;\n",
       "    }\n",
       "</style>\n",
       "<table border=\"1\" class=\"dataframe\">\n",
       "  <thead>\n",
       "    <tr style=\"text-align: right;\">\n",
       "      <th></th>\n",
       "      <th>Query_ID</th>\n",
       "      <th>Target_ID</th>\n",
       "      <th>Optimal_offset</th>\n",
       "      <th>p-value</th>\n",
       "      <th>E-value</th>\n",
       "      <th>q-value</th>\n",
       "      <th>Overlap</th>\n",
       "      <th>Query_consensus</th>\n",
       "      <th>Target_consensus</th>\n",
       "      <th>Orientation</th>\n",
       "    </tr>\n",
       "  </thead>\n",
       "  <tbody>\n",
       "    <tr>\n",
       "      <th>168</th>\n",
       "      <td>pos_pattern_0</td>\n",
       "      <td>ELF5.H12CORE.0.PSM.A</td>\n",
       "      <td>2.0</td>\n",
       "      <td>3.914810e-08</td>\n",
       "      <td>5.649071e-05</td>\n",
       "      <td>4.236803e-05</td>\n",
       "      <td>10.0</td>\n",
       "      <td>ACTTCCTCTT</td>\n",
       "      <td>AGGAAGGAGGAAGTAA</td>\n",
       "      <td>-</td>\n",
       "    </tr>\n",
       "    <tr>\n",
       "      <th>177</th>\n",
       "      <td>pos_pattern_0</td>\n",
       "      <td>ERF.H12CORE.0.PS.A</td>\n",
       "      <td>1.0</td>\n",
       "      <td>2.769070e-08</td>\n",
       "      <td>3.995768e-05</td>\n",
       "      <td>3.424944e-05</td>\n",
       "      <td>10.0</td>\n",
       "      <td>ACTTCCTCTT</td>\n",
       "      <td>AACAGGAAGTG</td>\n",
       "      <td>-</td>\n",
       "    </tr>\n",
       "    <tr>\n",
       "      <th>203</th>\n",
       "      <td>pos_pattern_0</td>\n",
       "      <td>ETV6.H12CORE.1.P.B</td>\n",
       "      <td>2.0</td>\n",
       "      <td>5.419583e-10</td>\n",
       "      <td>7.820458e-07</td>\n",
       "      <td>1.564092e-06</td>\n",
       "      <td>10.0</td>\n",
       "      <td>ACTTCCTCTT</td>\n",
       "      <td>AAGAGGAAGTGG</td>\n",
       "      <td>-</td>\n",
       "    </tr>\n",
       "    <tr>\n",
       "      <th>950</th>\n",
       "      <td>pos_pattern_0</td>\n",
       "      <td>SPI1.H12CORE.0.P.B</td>\n",
       "      <td>2.0</td>\n",
       "      <td>1.424794e-11</td>\n",
       "      <td>2.055977e-08</td>\n",
       "      <td>1.233586e-07</td>\n",
       "      <td>10.0</td>\n",
       "      <td>ACTTCCTCTT</td>\n",
       "      <td>AAAAGAGGAAGTGA</td>\n",
       "      <td>-</td>\n",
       "    </tr>\n",
       "    <tr>\n",
       "      <th>951</th>\n",
       "      <td>pos_pattern_0</td>\n",
       "      <td>SPI1.H12CORE.1.S.B</td>\n",
       "      <td>2.0</td>\n",
       "      <td>2.030075e-08</td>\n",
       "      <td>2.929399e-05</td>\n",
       "      <td>2.929399e-05</td>\n",
       "      <td>10.0</td>\n",
       "      <td>ACTTCCTCTT</td>\n",
       "      <td>AAGGGGAAGTAG</td>\n",
       "      <td>-</td>\n",
       "    </tr>\n",
       "    <tr>\n",
       "      <th>952</th>\n",
       "      <td>pos_pattern_0</td>\n",
       "      <td>SPIB.H12CORE.0.P.B</td>\n",
       "      <td>5.0</td>\n",
       "      <td>1.870986e-10</td>\n",
       "      <td>2.699832e-07</td>\n",
       "      <td>8.099497e-07</td>\n",
       "      <td>10.0</td>\n",
       "      <td>ACTTCCTCTT</td>\n",
       "      <td>AAAGAGGAAGTGAAAG</td>\n",
       "      <td>-</td>\n",
       "    </tr>\n",
       "    <tr>\n",
       "      <th>1551</th>\n",
       "      <td>pos_pattern_1</td>\n",
       "      <td>CTCF.H12CORE.0.P.B</td>\n",
       "      <td>4.0</td>\n",
       "      <td>2.482863e-09</td>\n",
       "      <td>3.582771e-06</td>\n",
       "      <td>5.374157e-06</td>\n",
       "      <td>13.0</td>\n",
       "      <td>TGCCACCTAGTGG</td>\n",
       "      <td>TGGCCACTAGGGGGCGCTAG</td>\n",
       "      <td>-</td>\n",
       "    </tr>\n",
       "    <tr>\n",
       "      <th>3304</th>\n",
       "      <td>pos_pattern_2</td>\n",
       "      <td>IRF4.H12CORE.0.P.B</td>\n",
       "      <td>2.0</td>\n",
       "      <td>7.689133e-08</td>\n",
       "      <td>1.109542e-04</td>\n",
       "      <td>7.396946e-05</td>\n",
       "      <td>10.0</td>\n",
       "      <td>TTTCACTTCC</td>\n",
       "      <td>AAAGAGGAACTGAAACT</td>\n",
       "      <td>-</td>\n",
       "    </tr>\n",
       "    <tr>\n",
       "      <th>3313</th>\n",
       "      <td>pos_pattern_2</td>\n",
       "      <td>IRF8.H12CORE.0.P.B</td>\n",
       "      <td>5.0</td>\n",
       "      <td>6.406269e-09</td>\n",
       "      <td>9.244246e-06</td>\n",
       "      <td>1.109310e-05</td>\n",
       "      <td>10.0</td>\n",
       "      <td>TTTCACTTCC</td>\n",
       "      <td>AAGAGGAAGTGAAAGTAAA</td>\n",
       "      <td>-</td>\n",
       "    </tr>\n",
       "  </tbody>\n",
       "</table>\n",
       "</div>"
      ],
      "text/plain": [
       "           Query_ID             Target_ID  Optimal_offset       p-value  \\\n",
       "168   pos_pattern_0  ELF5.H12CORE.0.PSM.A             2.0  3.914810e-08   \n",
       "177   pos_pattern_0    ERF.H12CORE.0.PS.A             1.0  2.769070e-08   \n",
       "203   pos_pattern_0    ETV6.H12CORE.1.P.B             2.0  5.419583e-10   \n",
       "950   pos_pattern_0    SPI1.H12CORE.0.P.B             2.0  1.424794e-11   \n",
       "951   pos_pattern_0    SPI1.H12CORE.1.S.B             2.0  2.030075e-08   \n",
       "952   pos_pattern_0    SPIB.H12CORE.0.P.B             5.0  1.870986e-10   \n",
       "1551  pos_pattern_1    CTCF.H12CORE.0.P.B             4.0  2.482863e-09   \n",
       "3304  pos_pattern_2    IRF4.H12CORE.0.P.B             2.0  7.689133e-08   \n",
       "3313  pos_pattern_2    IRF8.H12CORE.0.P.B             5.0  6.406269e-09   \n",
       "\n",
       "           E-value       q-value  Overlap Query_consensus  \\\n",
       "168   5.649071e-05  4.236803e-05     10.0      ACTTCCTCTT   \n",
       "177   3.995768e-05  3.424944e-05     10.0      ACTTCCTCTT   \n",
       "203   7.820458e-07  1.564092e-06     10.0      ACTTCCTCTT   \n",
       "950   2.055977e-08  1.233586e-07     10.0      ACTTCCTCTT   \n",
       "951   2.929399e-05  2.929399e-05     10.0      ACTTCCTCTT   \n",
       "952   2.699832e-07  8.099497e-07     10.0      ACTTCCTCTT   \n",
       "1551  3.582771e-06  5.374157e-06     13.0   TGCCACCTAGTGG   \n",
       "3304  1.109542e-04  7.396946e-05     10.0      TTTCACTTCC   \n",
       "3313  9.244246e-06  1.109310e-05     10.0      TTTCACTTCC   \n",
       "\n",
       "          Target_consensus Orientation  \n",
       "168       AGGAAGGAGGAAGTAA           -  \n",
       "177            AACAGGAAGTG           -  \n",
       "203           AAGAGGAAGTGG           -  \n",
       "950         AAAAGAGGAAGTGA           -  \n",
       "951           AAGGGGAAGTAG           -  \n",
       "952       AAAGAGGAAGTGAAAG           -  \n",
       "1551  TGGCCACTAGGGGGCGCTAG           -  \n",
       "3304     AAAGAGGAACTGAAACT           -  \n",
       "3313   AAGAGGAAGTGAAAGTAAA           -  "
      ]
     },
     "execution_count": 34,
     "metadata": {},
     "output_type": "execute_result"
    }
   ],
   "source": [
    "tomtom_file = os.path.join(experiment, 'tomtom.csv')\n",
    "tomtom = pd.read_csv(tomtom_file, index_col=0)\n",
    "\n",
    "tomtom[tomtom['q-value'] < 1e-4] # Display most significant matches"
   ]
  },
  {
   "cell_type": "code",
   "execution_count": null,
   "id": "442ebf41-1864-4ab3-b2da-267d40160521",
   "metadata": {},
   "outputs": [],
   "source": []
  }
 ],
 "metadata": {
  "kernelspec": {
   "display_name": "Python 3 (ipykernel)",
   "language": "python",
   "name": "python3"
  },
  "language_info": {
   "codemirror_mode": {
    "name": "ipython",
    "version": 3
   },
   "file_extension": ".py",
   "mimetype": "text/x-python",
   "name": "python",
   "nbconvert_exporter": "python",
   "pygments_lexer": "ipython3",
   "version": "3.11.9"
  }
 },
 "nbformat": 4,
 "nbformat_minor": 5
}
